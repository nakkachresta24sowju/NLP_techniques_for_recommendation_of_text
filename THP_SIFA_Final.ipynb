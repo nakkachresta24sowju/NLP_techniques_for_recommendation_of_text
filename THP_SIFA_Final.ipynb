{
  "nbformat": 4,
  "nbformat_minor": 0,
  "metadata": {
    "colab": {
      "provenance": []
    },
    "kernelspec": {
      "name": "python3",
      "display_name": "Python 3"
    },
    "language_info": {
      "name": "python"
    },
    "widgets": {
      "application/vnd.jupyter.widget-state+json": {
        "c4463affc7044096a0a3ed603f29a071": {
          "model_module": "@jupyter-widgets/controls",
          "model_name": "HBoxModel",
          "model_module_version": "1.5.0",
          "state": {
            "_dom_classes": [],
            "_model_module": "@jupyter-widgets/controls",
            "_model_module_version": "1.5.0",
            "_model_name": "HBoxModel",
            "_view_count": null,
            "_view_module": "@jupyter-widgets/controls",
            "_view_module_version": "1.5.0",
            "_view_name": "HBoxView",
            "box_style": "",
            "children": [
              "IPY_MODEL_7e14ea1512224d4d975d5abf0f03a3fa",
              "IPY_MODEL_3a230c3924df4e47a96a38bde0a3f0a4",
              "IPY_MODEL_1d795c10fe6e4da58c215a5683cdfde4"
            ],
            "layout": "IPY_MODEL_d7e7454919614e689170aa817672f799"
          }
        },
        "7e14ea1512224d4d975d5abf0f03a3fa": {
          "model_module": "@jupyter-widgets/controls",
          "model_name": "HTMLModel",
          "model_module_version": "1.5.0",
          "state": {
            "_dom_classes": [],
            "_model_module": "@jupyter-widgets/controls",
            "_model_module_version": "1.5.0",
            "_model_name": "HTMLModel",
            "_view_count": null,
            "_view_module": "@jupyter-widgets/controls",
            "_view_module_version": "1.5.0",
            "_view_name": "HTMLView",
            "description": "",
            "description_tooltip": null,
            "layout": "IPY_MODEL_97e5bb472f274acabb015ad9fc6b4c73",
            "placeholder": "​",
            "style": "IPY_MODEL_a106d3a3820d48feb11cbcd259f423d5",
            "value": "Downloading (…)okenizer_config.json: 100%"
          }
        },
        "3a230c3924df4e47a96a38bde0a3f0a4": {
          "model_module": "@jupyter-widgets/controls",
          "model_name": "FloatProgressModel",
          "model_module_version": "1.5.0",
          "state": {
            "_dom_classes": [],
            "_model_module": "@jupyter-widgets/controls",
            "_model_module_version": "1.5.0",
            "_model_name": "FloatProgressModel",
            "_view_count": null,
            "_view_module": "@jupyter-widgets/controls",
            "_view_module_version": "1.5.0",
            "_view_name": "ProgressView",
            "bar_style": "success",
            "description": "",
            "description_tooltip": null,
            "layout": "IPY_MODEL_452a2dbacb9541fb9ee0ef896e46a1b2",
            "max": 59,
            "min": 0,
            "orientation": "horizontal",
            "style": "IPY_MODEL_ce0b3c36f81740cc993458760953ce82",
            "value": 59
          }
        },
        "1d795c10fe6e4da58c215a5683cdfde4": {
          "model_module": "@jupyter-widgets/controls",
          "model_name": "HTMLModel",
          "model_module_version": "1.5.0",
          "state": {
            "_dom_classes": [],
            "_model_module": "@jupyter-widgets/controls",
            "_model_module_version": "1.5.0",
            "_model_name": "HTMLModel",
            "_view_count": null,
            "_view_module": "@jupyter-widgets/controls",
            "_view_module_version": "1.5.0",
            "_view_name": "HTMLView",
            "description": "",
            "description_tooltip": null,
            "layout": "IPY_MODEL_3067a391f69245afa43a1e32e1292f2e",
            "placeholder": "​",
            "style": "IPY_MODEL_5814719b367f47e9a4730bbe17d251ba",
            "value": " 59.0/59.0 [00:00&lt;00:00, 544B/s]"
          }
        },
        "d7e7454919614e689170aa817672f799": {
          "model_module": "@jupyter-widgets/base",
          "model_name": "LayoutModel",
          "model_module_version": "1.2.0",
          "state": {
            "_model_module": "@jupyter-widgets/base",
            "_model_module_version": "1.2.0",
            "_model_name": "LayoutModel",
            "_view_count": null,
            "_view_module": "@jupyter-widgets/base",
            "_view_module_version": "1.2.0",
            "_view_name": "LayoutView",
            "align_content": null,
            "align_items": null,
            "align_self": null,
            "border": null,
            "bottom": null,
            "display": null,
            "flex": null,
            "flex_flow": null,
            "grid_area": null,
            "grid_auto_columns": null,
            "grid_auto_flow": null,
            "grid_auto_rows": null,
            "grid_column": null,
            "grid_gap": null,
            "grid_row": null,
            "grid_template_areas": null,
            "grid_template_columns": null,
            "grid_template_rows": null,
            "height": null,
            "justify_content": null,
            "justify_items": null,
            "left": null,
            "margin": null,
            "max_height": null,
            "max_width": null,
            "min_height": null,
            "min_width": null,
            "object_fit": null,
            "object_position": null,
            "order": null,
            "overflow": null,
            "overflow_x": null,
            "overflow_y": null,
            "padding": null,
            "right": null,
            "top": null,
            "visibility": null,
            "width": null
          }
        },
        "97e5bb472f274acabb015ad9fc6b4c73": {
          "model_module": "@jupyter-widgets/base",
          "model_name": "LayoutModel",
          "model_module_version": "1.2.0",
          "state": {
            "_model_module": "@jupyter-widgets/base",
            "_model_module_version": "1.2.0",
            "_model_name": "LayoutModel",
            "_view_count": null,
            "_view_module": "@jupyter-widgets/base",
            "_view_module_version": "1.2.0",
            "_view_name": "LayoutView",
            "align_content": null,
            "align_items": null,
            "align_self": null,
            "border": null,
            "bottom": null,
            "display": null,
            "flex": null,
            "flex_flow": null,
            "grid_area": null,
            "grid_auto_columns": null,
            "grid_auto_flow": null,
            "grid_auto_rows": null,
            "grid_column": null,
            "grid_gap": null,
            "grid_row": null,
            "grid_template_areas": null,
            "grid_template_columns": null,
            "grid_template_rows": null,
            "height": null,
            "justify_content": null,
            "justify_items": null,
            "left": null,
            "margin": null,
            "max_height": null,
            "max_width": null,
            "min_height": null,
            "min_width": null,
            "object_fit": null,
            "object_position": null,
            "order": null,
            "overflow": null,
            "overflow_x": null,
            "overflow_y": null,
            "padding": null,
            "right": null,
            "top": null,
            "visibility": null,
            "width": null
          }
        },
        "a106d3a3820d48feb11cbcd259f423d5": {
          "model_module": "@jupyter-widgets/controls",
          "model_name": "DescriptionStyleModel",
          "model_module_version": "1.5.0",
          "state": {
            "_model_module": "@jupyter-widgets/controls",
            "_model_module_version": "1.5.0",
            "_model_name": "DescriptionStyleModel",
            "_view_count": null,
            "_view_module": "@jupyter-widgets/base",
            "_view_module_version": "1.2.0",
            "_view_name": "StyleView",
            "description_width": ""
          }
        },
        "452a2dbacb9541fb9ee0ef896e46a1b2": {
          "model_module": "@jupyter-widgets/base",
          "model_name": "LayoutModel",
          "model_module_version": "1.2.0",
          "state": {
            "_model_module": "@jupyter-widgets/base",
            "_model_module_version": "1.2.0",
            "_model_name": "LayoutModel",
            "_view_count": null,
            "_view_module": "@jupyter-widgets/base",
            "_view_module_version": "1.2.0",
            "_view_name": "LayoutView",
            "align_content": null,
            "align_items": null,
            "align_self": null,
            "border": null,
            "bottom": null,
            "display": null,
            "flex": null,
            "flex_flow": null,
            "grid_area": null,
            "grid_auto_columns": null,
            "grid_auto_flow": null,
            "grid_auto_rows": null,
            "grid_column": null,
            "grid_gap": null,
            "grid_row": null,
            "grid_template_areas": null,
            "grid_template_columns": null,
            "grid_template_rows": null,
            "height": null,
            "justify_content": null,
            "justify_items": null,
            "left": null,
            "margin": null,
            "max_height": null,
            "max_width": null,
            "min_height": null,
            "min_width": null,
            "object_fit": null,
            "object_position": null,
            "order": null,
            "overflow": null,
            "overflow_x": null,
            "overflow_y": null,
            "padding": null,
            "right": null,
            "top": null,
            "visibility": null,
            "width": null
          }
        },
        "ce0b3c36f81740cc993458760953ce82": {
          "model_module": "@jupyter-widgets/controls",
          "model_name": "ProgressStyleModel",
          "model_module_version": "1.5.0",
          "state": {
            "_model_module": "@jupyter-widgets/controls",
            "_model_module_version": "1.5.0",
            "_model_name": "ProgressStyleModel",
            "_view_count": null,
            "_view_module": "@jupyter-widgets/base",
            "_view_module_version": "1.2.0",
            "_view_name": "StyleView",
            "bar_color": null,
            "description_width": ""
          }
        },
        "3067a391f69245afa43a1e32e1292f2e": {
          "model_module": "@jupyter-widgets/base",
          "model_name": "LayoutModel",
          "model_module_version": "1.2.0",
          "state": {
            "_model_module": "@jupyter-widgets/base",
            "_model_module_version": "1.2.0",
            "_model_name": "LayoutModel",
            "_view_count": null,
            "_view_module": "@jupyter-widgets/base",
            "_view_module_version": "1.2.0",
            "_view_name": "LayoutView",
            "align_content": null,
            "align_items": null,
            "align_self": null,
            "border": null,
            "bottom": null,
            "display": null,
            "flex": null,
            "flex_flow": null,
            "grid_area": null,
            "grid_auto_columns": null,
            "grid_auto_flow": null,
            "grid_auto_rows": null,
            "grid_column": null,
            "grid_gap": null,
            "grid_row": null,
            "grid_template_areas": null,
            "grid_template_columns": null,
            "grid_template_rows": null,
            "height": null,
            "justify_content": null,
            "justify_items": null,
            "left": null,
            "margin": null,
            "max_height": null,
            "max_width": null,
            "min_height": null,
            "min_width": null,
            "object_fit": null,
            "object_position": null,
            "order": null,
            "overflow": null,
            "overflow_x": null,
            "overflow_y": null,
            "padding": null,
            "right": null,
            "top": null,
            "visibility": null,
            "width": null
          }
        },
        "5814719b367f47e9a4730bbe17d251ba": {
          "model_module": "@jupyter-widgets/controls",
          "model_name": "DescriptionStyleModel",
          "model_module_version": "1.5.0",
          "state": {
            "_model_module": "@jupyter-widgets/controls",
            "_model_module_version": "1.5.0",
            "_model_name": "DescriptionStyleModel",
            "_view_count": null,
            "_view_module": "@jupyter-widgets/base",
            "_view_module_version": "1.2.0",
            "_view_name": "StyleView",
            "description_width": ""
          }
        },
        "9bfaee8f3b8044e7b04f97124b555687": {
          "model_module": "@jupyter-widgets/controls",
          "model_name": "HBoxModel",
          "model_module_version": "1.5.0",
          "state": {
            "_dom_classes": [],
            "_model_module": "@jupyter-widgets/controls",
            "_model_module_version": "1.5.0",
            "_model_name": "HBoxModel",
            "_view_count": null,
            "_view_module": "@jupyter-widgets/controls",
            "_view_module_version": "1.5.0",
            "_view_name": "HBoxView",
            "box_style": "",
            "children": [
              "IPY_MODEL_0b4836428ed8405ab9d1d7ddb67ff76a",
              "IPY_MODEL_477328fdd1d14f35895d41b02474880c",
              "IPY_MODEL_2b31553993dd492481c9335adf7750e3"
            ],
            "layout": "IPY_MODEL_14b7713ffd1a4ab58087158ad4c9ba49"
          }
        },
        "0b4836428ed8405ab9d1d7ddb67ff76a": {
          "model_module": "@jupyter-widgets/controls",
          "model_name": "HTMLModel",
          "model_module_version": "1.5.0",
          "state": {
            "_dom_classes": [],
            "_model_module": "@jupyter-widgets/controls",
            "_model_module_version": "1.5.0",
            "_model_name": "HTMLModel",
            "_view_count": null,
            "_view_module": "@jupyter-widgets/controls",
            "_view_module_version": "1.5.0",
            "_view_name": "HTMLView",
            "description": "",
            "description_tooltip": null,
            "layout": "IPY_MODEL_c114277a73904594a8706dd6f4f02410",
            "placeholder": "​",
            "style": "IPY_MODEL_be4a9e6edd8a47bba5eea43e65815ade",
            "value": "Downloading (…)lve/main/config.json: 100%"
          }
        },
        "477328fdd1d14f35895d41b02474880c": {
          "model_module": "@jupyter-widgets/controls",
          "model_name": "FloatProgressModel",
          "model_module_version": "1.5.0",
          "state": {
            "_dom_classes": [],
            "_model_module": "@jupyter-widgets/controls",
            "_model_module_version": "1.5.0",
            "_model_name": "FloatProgressModel",
            "_view_count": null,
            "_view_module": "@jupyter-widgets/controls",
            "_view_module_version": "1.5.0",
            "_view_name": "ProgressView",
            "bar_style": "success",
            "description": "",
            "description_tooltip": null,
            "layout": "IPY_MODEL_49621344385f4907867e5f6828f665cf",
            "max": 829,
            "min": 0,
            "orientation": "horizontal",
            "style": "IPY_MODEL_bf970f39e76e48f5aa0d1d4a887fa5c0",
            "value": 829
          }
        },
        "2b31553993dd492481c9335adf7750e3": {
          "model_module": "@jupyter-widgets/controls",
          "model_name": "HTMLModel",
          "model_module_version": "1.5.0",
          "state": {
            "_dom_classes": [],
            "_model_module": "@jupyter-widgets/controls",
            "_model_module_version": "1.5.0",
            "_model_name": "HTMLModel",
            "_view_count": null,
            "_view_module": "@jupyter-widgets/controls",
            "_view_module_version": "1.5.0",
            "_view_name": "HTMLView",
            "description": "",
            "description_tooltip": null,
            "layout": "IPY_MODEL_58e885cd26a943e0b1fa8add11579677",
            "placeholder": "​",
            "style": "IPY_MODEL_2ff00850357343c2b23b193189e61619",
            "value": " 829/829 [00:00&lt;00:00, 13.7kB/s]"
          }
        },
        "14b7713ffd1a4ab58087158ad4c9ba49": {
          "model_module": "@jupyter-widgets/base",
          "model_name": "LayoutModel",
          "model_module_version": "1.2.0",
          "state": {
            "_model_module": "@jupyter-widgets/base",
            "_model_module_version": "1.2.0",
            "_model_name": "LayoutModel",
            "_view_count": null,
            "_view_module": "@jupyter-widgets/base",
            "_view_module_version": "1.2.0",
            "_view_name": "LayoutView",
            "align_content": null,
            "align_items": null,
            "align_self": null,
            "border": null,
            "bottom": null,
            "display": null,
            "flex": null,
            "flex_flow": null,
            "grid_area": null,
            "grid_auto_columns": null,
            "grid_auto_flow": null,
            "grid_auto_rows": null,
            "grid_column": null,
            "grid_gap": null,
            "grid_row": null,
            "grid_template_areas": null,
            "grid_template_columns": null,
            "grid_template_rows": null,
            "height": null,
            "justify_content": null,
            "justify_items": null,
            "left": null,
            "margin": null,
            "max_height": null,
            "max_width": null,
            "min_height": null,
            "min_width": null,
            "object_fit": null,
            "object_position": null,
            "order": null,
            "overflow": null,
            "overflow_x": null,
            "overflow_y": null,
            "padding": null,
            "right": null,
            "top": null,
            "visibility": null,
            "width": null
          }
        },
        "c114277a73904594a8706dd6f4f02410": {
          "model_module": "@jupyter-widgets/base",
          "model_name": "LayoutModel",
          "model_module_version": "1.2.0",
          "state": {
            "_model_module": "@jupyter-widgets/base",
            "_model_module_version": "1.2.0",
            "_model_name": "LayoutModel",
            "_view_count": null,
            "_view_module": "@jupyter-widgets/base",
            "_view_module_version": "1.2.0",
            "_view_name": "LayoutView",
            "align_content": null,
            "align_items": null,
            "align_self": null,
            "border": null,
            "bottom": null,
            "display": null,
            "flex": null,
            "flex_flow": null,
            "grid_area": null,
            "grid_auto_columns": null,
            "grid_auto_flow": null,
            "grid_auto_rows": null,
            "grid_column": null,
            "grid_gap": null,
            "grid_row": null,
            "grid_template_areas": null,
            "grid_template_columns": null,
            "grid_template_rows": null,
            "height": null,
            "justify_content": null,
            "justify_items": null,
            "left": null,
            "margin": null,
            "max_height": null,
            "max_width": null,
            "min_height": null,
            "min_width": null,
            "object_fit": null,
            "object_position": null,
            "order": null,
            "overflow": null,
            "overflow_x": null,
            "overflow_y": null,
            "padding": null,
            "right": null,
            "top": null,
            "visibility": null,
            "width": null
          }
        },
        "be4a9e6edd8a47bba5eea43e65815ade": {
          "model_module": "@jupyter-widgets/controls",
          "model_name": "DescriptionStyleModel",
          "model_module_version": "1.5.0",
          "state": {
            "_model_module": "@jupyter-widgets/controls",
            "_model_module_version": "1.5.0",
            "_model_name": "DescriptionStyleModel",
            "_view_count": null,
            "_view_module": "@jupyter-widgets/base",
            "_view_module_version": "1.2.0",
            "_view_name": "StyleView",
            "description_width": ""
          }
        },
        "49621344385f4907867e5f6828f665cf": {
          "model_module": "@jupyter-widgets/base",
          "model_name": "LayoutModel",
          "model_module_version": "1.2.0",
          "state": {
            "_model_module": "@jupyter-widgets/base",
            "_model_module_version": "1.2.0",
            "_model_name": "LayoutModel",
            "_view_count": null,
            "_view_module": "@jupyter-widgets/base",
            "_view_module_version": "1.2.0",
            "_view_name": "LayoutView",
            "align_content": null,
            "align_items": null,
            "align_self": null,
            "border": null,
            "bottom": null,
            "display": null,
            "flex": null,
            "flex_flow": null,
            "grid_area": null,
            "grid_auto_columns": null,
            "grid_auto_flow": null,
            "grid_auto_rows": null,
            "grid_column": null,
            "grid_gap": null,
            "grid_row": null,
            "grid_template_areas": null,
            "grid_template_columns": null,
            "grid_template_rows": null,
            "height": null,
            "justify_content": null,
            "justify_items": null,
            "left": null,
            "margin": null,
            "max_height": null,
            "max_width": null,
            "min_height": null,
            "min_width": null,
            "object_fit": null,
            "object_position": null,
            "order": null,
            "overflow": null,
            "overflow_x": null,
            "overflow_y": null,
            "padding": null,
            "right": null,
            "top": null,
            "visibility": null,
            "width": null
          }
        },
        "bf970f39e76e48f5aa0d1d4a887fa5c0": {
          "model_module": "@jupyter-widgets/controls",
          "model_name": "ProgressStyleModel",
          "model_module_version": "1.5.0",
          "state": {
            "_model_module": "@jupyter-widgets/controls",
            "_model_module_version": "1.5.0",
            "_model_name": "ProgressStyleModel",
            "_view_count": null,
            "_view_module": "@jupyter-widgets/base",
            "_view_module_version": "1.2.0",
            "_view_name": "StyleView",
            "bar_color": null,
            "description_width": ""
          }
        },
        "58e885cd26a943e0b1fa8add11579677": {
          "model_module": "@jupyter-widgets/base",
          "model_name": "LayoutModel",
          "model_module_version": "1.2.0",
          "state": {
            "_model_module": "@jupyter-widgets/base",
            "_model_module_version": "1.2.0",
            "_model_name": "LayoutModel",
            "_view_count": null,
            "_view_module": "@jupyter-widgets/base",
            "_view_module_version": "1.2.0",
            "_view_name": "LayoutView",
            "align_content": null,
            "align_items": null,
            "align_self": null,
            "border": null,
            "bottom": null,
            "display": null,
            "flex": null,
            "flex_flow": null,
            "grid_area": null,
            "grid_auto_columns": null,
            "grid_auto_flow": null,
            "grid_auto_rows": null,
            "grid_column": null,
            "grid_gap": null,
            "grid_row": null,
            "grid_template_areas": null,
            "grid_template_columns": null,
            "grid_template_rows": null,
            "height": null,
            "justify_content": null,
            "justify_items": null,
            "left": null,
            "margin": null,
            "max_height": null,
            "max_width": null,
            "min_height": null,
            "min_width": null,
            "object_fit": null,
            "object_position": null,
            "order": null,
            "overflow": null,
            "overflow_x": null,
            "overflow_y": null,
            "padding": null,
            "right": null,
            "top": null,
            "visibility": null,
            "width": null
          }
        },
        "2ff00850357343c2b23b193189e61619": {
          "model_module": "@jupyter-widgets/controls",
          "model_name": "DescriptionStyleModel",
          "model_module_version": "1.5.0",
          "state": {
            "_model_module": "@jupyter-widgets/controls",
            "_model_module_version": "1.5.0",
            "_model_name": "DescriptionStyleModel",
            "_view_count": null,
            "_view_module": "@jupyter-widgets/base",
            "_view_module_version": "1.2.0",
            "_view_name": "StyleView",
            "description_width": ""
          }
        },
        "c7c21aaa00994b10805b922a609dc2d9": {
          "model_module": "@jupyter-widgets/controls",
          "model_name": "HBoxModel",
          "model_module_version": "1.5.0",
          "state": {
            "_dom_classes": [],
            "_model_module": "@jupyter-widgets/controls",
            "_model_module_version": "1.5.0",
            "_model_name": "HBoxModel",
            "_view_count": null,
            "_view_module": "@jupyter-widgets/controls",
            "_view_module_version": "1.5.0",
            "_view_name": "HBoxView",
            "box_style": "",
            "children": [
              "IPY_MODEL_2b54977328a846269cd0ea495f4f9b1c",
              "IPY_MODEL_26a5a01cf70a4913b0dd9b1c5a068c6c",
              "IPY_MODEL_854d70ed70c74c2b85e564a02b5ee310"
            ],
            "layout": "IPY_MODEL_4c0ac5c9c95441a587c3dd5c871815e5"
          }
        },
        "2b54977328a846269cd0ea495f4f9b1c": {
          "model_module": "@jupyter-widgets/controls",
          "model_name": "HTMLModel",
          "model_module_version": "1.5.0",
          "state": {
            "_dom_classes": [],
            "_model_module": "@jupyter-widgets/controls",
            "_model_module_version": "1.5.0",
            "_model_name": "HTMLModel",
            "_view_count": null,
            "_view_module": "@jupyter-widgets/controls",
            "_view_module_version": "1.5.0",
            "_view_name": "HTMLView",
            "description": "",
            "description_tooltip": null,
            "layout": "IPY_MODEL_6c651b70f3ce4332acaa732eee3cce42",
            "placeholder": "​",
            "style": "IPY_MODEL_e95ef6e0e35749e687a92025f9601604",
            "value": "Downloading (…)solve/main/vocab.txt: 100%"
          }
        },
        "26a5a01cf70a4913b0dd9b1c5a068c6c": {
          "model_module": "@jupyter-widgets/controls",
          "model_name": "FloatProgressModel",
          "model_module_version": "1.5.0",
          "state": {
            "_dom_classes": [],
            "_model_module": "@jupyter-widgets/controls",
            "_model_module_version": "1.5.0",
            "_model_name": "FloatProgressModel",
            "_view_count": null,
            "_view_module": "@jupyter-widgets/controls",
            "_view_module_version": "1.5.0",
            "_view_name": "ProgressView",
            "bar_style": "success",
            "description": "",
            "description_tooltip": null,
            "layout": "IPY_MODEL_74f50edd47f742e883e7cdb2525fec84",
            "max": 213450,
            "min": 0,
            "orientation": "horizontal",
            "style": "IPY_MODEL_811aa02687c841308e638e92f2cdd59c",
            "value": 213450
          }
        },
        "854d70ed70c74c2b85e564a02b5ee310": {
          "model_module": "@jupyter-widgets/controls",
          "model_name": "HTMLModel",
          "model_module_version": "1.5.0",
          "state": {
            "_dom_classes": [],
            "_model_module": "@jupyter-widgets/controls",
            "_model_module_version": "1.5.0",
            "_model_name": "HTMLModel",
            "_view_count": null,
            "_view_module": "@jupyter-widgets/controls",
            "_view_module_version": "1.5.0",
            "_view_name": "HTMLView",
            "description": "",
            "description_tooltip": null,
            "layout": "IPY_MODEL_d07bb40db5f946019e40740673f864b2",
            "placeholder": "​",
            "style": "IPY_MODEL_cddfaded9e304ee8b504bb15f860e657",
            "value": " 213k/213k [00:00&lt;00:00, 1.72MB/s]"
          }
        },
        "4c0ac5c9c95441a587c3dd5c871815e5": {
          "model_module": "@jupyter-widgets/base",
          "model_name": "LayoutModel",
          "model_module_version": "1.2.0",
          "state": {
            "_model_module": "@jupyter-widgets/base",
            "_model_module_version": "1.2.0",
            "_model_name": "LayoutModel",
            "_view_count": null,
            "_view_module": "@jupyter-widgets/base",
            "_view_module_version": "1.2.0",
            "_view_name": "LayoutView",
            "align_content": null,
            "align_items": null,
            "align_self": null,
            "border": null,
            "bottom": null,
            "display": null,
            "flex": null,
            "flex_flow": null,
            "grid_area": null,
            "grid_auto_columns": null,
            "grid_auto_flow": null,
            "grid_auto_rows": null,
            "grid_column": null,
            "grid_gap": null,
            "grid_row": null,
            "grid_template_areas": null,
            "grid_template_columns": null,
            "grid_template_rows": null,
            "height": null,
            "justify_content": null,
            "justify_items": null,
            "left": null,
            "margin": null,
            "max_height": null,
            "max_width": null,
            "min_height": null,
            "min_width": null,
            "object_fit": null,
            "object_position": null,
            "order": null,
            "overflow": null,
            "overflow_x": null,
            "overflow_y": null,
            "padding": null,
            "right": null,
            "top": null,
            "visibility": null,
            "width": null
          }
        },
        "6c651b70f3ce4332acaa732eee3cce42": {
          "model_module": "@jupyter-widgets/base",
          "model_name": "LayoutModel",
          "model_module_version": "1.2.0",
          "state": {
            "_model_module": "@jupyter-widgets/base",
            "_model_module_version": "1.2.0",
            "_model_name": "LayoutModel",
            "_view_count": null,
            "_view_module": "@jupyter-widgets/base",
            "_view_module_version": "1.2.0",
            "_view_name": "LayoutView",
            "align_content": null,
            "align_items": null,
            "align_self": null,
            "border": null,
            "bottom": null,
            "display": null,
            "flex": null,
            "flex_flow": null,
            "grid_area": null,
            "grid_auto_columns": null,
            "grid_auto_flow": null,
            "grid_auto_rows": null,
            "grid_column": null,
            "grid_gap": null,
            "grid_row": null,
            "grid_template_areas": null,
            "grid_template_columns": null,
            "grid_template_rows": null,
            "height": null,
            "justify_content": null,
            "justify_items": null,
            "left": null,
            "margin": null,
            "max_height": null,
            "max_width": null,
            "min_height": null,
            "min_width": null,
            "object_fit": null,
            "object_position": null,
            "order": null,
            "overflow": null,
            "overflow_x": null,
            "overflow_y": null,
            "padding": null,
            "right": null,
            "top": null,
            "visibility": null,
            "width": null
          }
        },
        "e95ef6e0e35749e687a92025f9601604": {
          "model_module": "@jupyter-widgets/controls",
          "model_name": "DescriptionStyleModel",
          "model_module_version": "1.5.0",
          "state": {
            "_model_module": "@jupyter-widgets/controls",
            "_model_module_version": "1.5.0",
            "_model_name": "DescriptionStyleModel",
            "_view_count": null,
            "_view_module": "@jupyter-widgets/base",
            "_view_module_version": "1.2.0",
            "_view_name": "StyleView",
            "description_width": ""
          }
        },
        "74f50edd47f742e883e7cdb2525fec84": {
          "model_module": "@jupyter-widgets/base",
          "model_name": "LayoutModel",
          "model_module_version": "1.2.0",
          "state": {
            "_model_module": "@jupyter-widgets/base",
            "_model_module_version": "1.2.0",
            "_model_name": "LayoutModel",
            "_view_count": null,
            "_view_module": "@jupyter-widgets/base",
            "_view_module_version": "1.2.0",
            "_view_name": "LayoutView",
            "align_content": null,
            "align_items": null,
            "align_self": null,
            "border": null,
            "bottom": null,
            "display": null,
            "flex": null,
            "flex_flow": null,
            "grid_area": null,
            "grid_auto_columns": null,
            "grid_auto_flow": null,
            "grid_auto_rows": null,
            "grid_column": null,
            "grid_gap": null,
            "grid_row": null,
            "grid_template_areas": null,
            "grid_template_columns": null,
            "grid_template_rows": null,
            "height": null,
            "justify_content": null,
            "justify_items": null,
            "left": null,
            "margin": null,
            "max_height": null,
            "max_width": null,
            "min_height": null,
            "min_width": null,
            "object_fit": null,
            "object_position": null,
            "order": null,
            "overflow": null,
            "overflow_x": null,
            "overflow_y": null,
            "padding": null,
            "right": null,
            "top": null,
            "visibility": null,
            "width": null
          }
        },
        "811aa02687c841308e638e92f2cdd59c": {
          "model_module": "@jupyter-widgets/controls",
          "model_name": "ProgressStyleModel",
          "model_module_version": "1.5.0",
          "state": {
            "_model_module": "@jupyter-widgets/controls",
            "_model_module_version": "1.5.0",
            "_model_name": "ProgressStyleModel",
            "_view_count": null,
            "_view_module": "@jupyter-widgets/base",
            "_view_module_version": "1.2.0",
            "_view_name": "StyleView",
            "bar_color": null,
            "description_width": ""
          }
        },
        "d07bb40db5f946019e40740673f864b2": {
          "model_module": "@jupyter-widgets/base",
          "model_name": "LayoutModel",
          "model_module_version": "1.2.0",
          "state": {
            "_model_module": "@jupyter-widgets/base",
            "_model_module_version": "1.2.0",
            "_model_name": "LayoutModel",
            "_view_count": null,
            "_view_module": "@jupyter-widgets/base",
            "_view_module_version": "1.2.0",
            "_view_name": "LayoutView",
            "align_content": null,
            "align_items": null,
            "align_self": null,
            "border": null,
            "bottom": null,
            "display": null,
            "flex": null,
            "flex_flow": null,
            "grid_area": null,
            "grid_auto_columns": null,
            "grid_auto_flow": null,
            "grid_auto_rows": null,
            "grid_column": null,
            "grid_gap": null,
            "grid_row": null,
            "grid_template_areas": null,
            "grid_template_columns": null,
            "grid_template_rows": null,
            "height": null,
            "justify_content": null,
            "justify_items": null,
            "left": null,
            "margin": null,
            "max_height": null,
            "max_width": null,
            "min_height": null,
            "min_width": null,
            "object_fit": null,
            "object_position": null,
            "order": null,
            "overflow": null,
            "overflow_x": null,
            "overflow_y": null,
            "padding": null,
            "right": null,
            "top": null,
            "visibility": null,
            "width": null
          }
        },
        "cddfaded9e304ee8b504bb15f860e657": {
          "model_module": "@jupyter-widgets/controls",
          "model_name": "DescriptionStyleModel",
          "model_module_version": "1.5.0",
          "state": {
            "_model_module": "@jupyter-widgets/controls",
            "_model_module_version": "1.5.0",
            "_model_name": "DescriptionStyleModel",
            "_view_count": null,
            "_view_module": "@jupyter-widgets/base",
            "_view_module_version": "1.2.0",
            "_view_name": "StyleView",
            "description_width": ""
          }
        },
        "34609e5a7a4e4aa9a186aa8eef80ce60": {
          "model_module": "@jupyter-widgets/controls",
          "model_name": "HBoxModel",
          "model_module_version": "1.5.0",
          "state": {
            "_dom_classes": [],
            "_model_module": "@jupyter-widgets/controls",
            "_model_module_version": "1.5.0",
            "_model_name": "HBoxModel",
            "_view_count": null,
            "_view_module": "@jupyter-widgets/controls",
            "_view_module_version": "1.5.0",
            "_view_name": "HBoxView",
            "box_style": "",
            "children": [
              "IPY_MODEL_7801a5f5d6a74ecab70c7e7f4fc43d39",
              "IPY_MODEL_a602cfdac6894d32a6e666ae11fac982",
              "IPY_MODEL_2beed2be75a44f35bcc7642a6d406f2d"
            ],
            "layout": "IPY_MODEL_38c233258c7846139821d3af0f1fbadf"
          }
        },
        "7801a5f5d6a74ecab70c7e7f4fc43d39": {
          "model_module": "@jupyter-widgets/controls",
          "model_name": "HTMLModel",
          "model_module_version": "1.5.0",
          "state": {
            "_dom_classes": [],
            "_model_module": "@jupyter-widgets/controls",
            "_model_module_version": "1.5.0",
            "_model_name": "HTMLModel",
            "_view_count": null,
            "_view_module": "@jupyter-widgets/controls",
            "_view_module_version": "1.5.0",
            "_view_name": "HTMLView",
            "description": "",
            "description_tooltip": null,
            "layout": "IPY_MODEL_3b9dd85507294a82ac0384b4f18714ff",
            "placeholder": "​",
            "style": "IPY_MODEL_bf28ed6f2e964ba29a78bdd7a5b02acf",
            "value": "Downloading (…)in/added_tokens.json: 100%"
          }
        },
        "a602cfdac6894d32a6e666ae11fac982": {
          "model_module": "@jupyter-widgets/controls",
          "model_name": "FloatProgressModel",
          "model_module_version": "1.5.0",
          "state": {
            "_dom_classes": [],
            "_model_module": "@jupyter-widgets/controls",
            "_model_module_version": "1.5.0",
            "_model_name": "FloatProgressModel",
            "_view_count": null,
            "_view_module": "@jupyter-widgets/controls",
            "_view_module_version": "1.5.0",
            "_view_name": "ProgressView",
            "bar_style": "success",
            "description": "",
            "description_tooltip": null,
            "layout": "IPY_MODEL_fff7e58d58c04d4685e5c2b56b6c78f1",
            "max": 2,
            "min": 0,
            "orientation": "horizontal",
            "style": "IPY_MODEL_5868d202c1fc42e4ba0d230c35adb505",
            "value": 2
          }
        },
        "2beed2be75a44f35bcc7642a6d406f2d": {
          "model_module": "@jupyter-widgets/controls",
          "model_name": "HTMLModel",
          "model_module_version": "1.5.0",
          "state": {
            "_dom_classes": [],
            "_model_module": "@jupyter-widgets/controls",
            "_model_module_version": "1.5.0",
            "_model_name": "HTMLModel",
            "_view_count": null,
            "_view_module": "@jupyter-widgets/controls",
            "_view_module_version": "1.5.0",
            "_view_name": "HTMLView",
            "description": "",
            "description_tooltip": null,
            "layout": "IPY_MODEL_33d1ec5c26474003ae22c2f1a4fe5c10",
            "placeholder": "​",
            "style": "IPY_MODEL_8251d8212584461dbb893490db41a284",
            "value": " 2.00/2.00 [00:00&lt;00:00, 42.3B/s]"
          }
        },
        "38c233258c7846139821d3af0f1fbadf": {
          "model_module": "@jupyter-widgets/base",
          "model_name": "LayoutModel",
          "model_module_version": "1.2.0",
          "state": {
            "_model_module": "@jupyter-widgets/base",
            "_model_module_version": "1.2.0",
            "_model_name": "LayoutModel",
            "_view_count": null,
            "_view_module": "@jupyter-widgets/base",
            "_view_module_version": "1.2.0",
            "_view_name": "LayoutView",
            "align_content": null,
            "align_items": null,
            "align_self": null,
            "border": null,
            "bottom": null,
            "display": null,
            "flex": null,
            "flex_flow": null,
            "grid_area": null,
            "grid_auto_columns": null,
            "grid_auto_flow": null,
            "grid_auto_rows": null,
            "grid_column": null,
            "grid_gap": null,
            "grid_row": null,
            "grid_template_areas": null,
            "grid_template_columns": null,
            "grid_template_rows": null,
            "height": null,
            "justify_content": null,
            "justify_items": null,
            "left": null,
            "margin": null,
            "max_height": null,
            "max_width": null,
            "min_height": null,
            "min_width": null,
            "object_fit": null,
            "object_position": null,
            "order": null,
            "overflow": null,
            "overflow_x": null,
            "overflow_y": null,
            "padding": null,
            "right": null,
            "top": null,
            "visibility": null,
            "width": null
          }
        },
        "3b9dd85507294a82ac0384b4f18714ff": {
          "model_module": "@jupyter-widgets/base",
          "model_name": "LayoutModel",
          "model_module_version": "1.2.0",
          "state": {
            "_model_module": "@jupyter-widgets/base",
            "_model_module_version": "1.2.0",
            "_model_name": "LayoutModel",
            "_view_count": null,
            "_view_module": "@jupyter-widgets/base",
            "_view_module_version": "1.2.0",
            "_view_name": "LayoutView",
            "align_content": null,
            "align_items": null,
            "align_self": null,
            "border": null,
            "bottom": null,
            "display": null,
            "flex": null,
            "flex_flow": null,
            "grid_area": null,
            "grid_auto_columns": null,
            "grid_auto_flow": null,
            "grid_auto_rows": null,
            "grid_column": null,
            "grid_gap": null,
            "grid_row": null,
            "grid_template_areas": null,
            "grid_template_columns": null,
            "grid_template_rows": null,
            "height": null,
            "justify_content": null,
            "justify_items": null,
            "left": null,
            "margin": null,
            "max_height": null,
            "max_width": null,
            "min_height": null,
            "min_width": null,
            "object_fit": null,
            "object_position": null,
            "order": null,
            "overflow": null,
            "overflow_x": null,
            "overflow_y": null,
            "padding": null,
            "right": null,
            "top": null,
            "visibility": null,
            "width": null
          }
        },
        "bf28ed6f2e964ba29a78bdd7a5b02acf": {
          "model_module": "@jupyter-widgets/controls",
          "model_name": "DescriptionStyleModel",
          "model_module_version": "1.5.0",
          "state": {
            "_model_module": "@jupyter-widgets/controls",
            "_model_module_version": "1.5.0",
            "_model_name": "DescriptionStyleModel",
            "_view_count": null,
            "_view_module": "@jupyter-widgets/base",
            "_view_module_version": "1.2.0",
            "_view_name": "StyleView",
            "description_width": ""
          }
        },
        "fff7e58d58c04d4685e5c2b56b6c78f1": {
          "model_module": "@jupyter-widgets/base",
          "model_name": "LayoutModel",
          "model_module_version": "1.2.0",
          "state": {
            "_model_module": "@jupyter-widgets/base",
            "_model_module_version": "1.2.0",
            "_model_name": "LayoutModel",
            "_view_count": null,
            "_view_module": "@jupyter-widgets/base",
            "_view_module_version": "1.2.0",
            "_view_name": "LayoutView",
            "align_content": null,
            "align_items": null,
            "align_self": null,
            "border": null,
            "bottom": null,
            "display": null,
            "flex": null,
            "flex_flow": null,
            "grid_area": null,
            "grid_auto_columns": null,
            "grid_auto_flow": null,
            "grid_auto_rows": null,
            "grid_column": null,
            "grid_gap": null,
            "grid_row": null,
            "grid_template_areas": null,
            "grid_template_columns": null,
            "grid_template_rows": null,
            "height": null,
            "justify_content": null,
            "justify_items": null,
            "left": null,
            "margin": null,
            "max_height": null,
            "max_width": null,
            "min_height": null,
            "min_width": null,
            "object_fit": null,
            "object_position": null,
            "order": null,
            "overflow": null,
            "overflow_x": null,
            "overflow_y": null,
            "padding": null,
            "right": null,
            "top": null,
            "visibility": null,
            "width": null
          }
        },
        "5868d202c1fc42e4ba0d230c35adb505": {
          "model_module": "@jupyter-widgets/controls",
          "model_name": "ProgressStyleModel",
          "model_module_version": "1.5.0",
          "state": {
            "_model_module": "@jupyter-widgets/controls",
            "_model_module_version": "1.5.0",
            "_model_name": "ProgressStyleModel",
            "_view_count": null,
            "_view_module": "@jupyter-widgets/base",
            "_view_module_version": "1.2.0",
            "_view_name": "StyleView",
            "bar_color": null,
            "description_width": ""
          }
        },
        "33d1ec5c26474003ae22c2f1a4fe5c10": {
          "model_module": "@jupyter-widgets/base",
          "model_name": "LayoutModel",
          "model_module_version": "1.2.0",
          "state": {
            "_model_module": "@jupyter-widgets/base",
            "_model_module_version": "1.2.0",
            "_model_name": "LayoutModel",
            "_view_count": null,
            "_view_module": "@jupyter-widgets/base",
            "_view_module_version": "1.2.0",
            "_view_name": "LayoutView",
            "align_content": null,
            "align_items": null,
            "align_self": null,
            "border": null,
            "bottom": null,
            "display": null,
            "flex": null,
            "flex_flow": null,
            "grid_area": null,
            "grid_auto_columns": null,
            "grid_auto_flow": null,
            "grid_auto_rows": null,
            "grid_column": null,
            "grid_gap": null,
            "grid_row": null,
            "grid_template_areas": null,
            "grid_template_columns": null,
            "grid_template_rows": null,
            "height": null,
            "justify_content": null,
            "justify_items": null,
            "left": null,
            "margin": null,
            "max_height": null,
            "max_width": null,
            "min_height": null,
            "min_width": null,
            "object_fit": null,
            "object_position": null,
            "order": null,
            "overflow": null,
            "overflow_x": null,
            "overflow_y": null,
            "padding": null,
            "right": null,
            "top": null,
            "visibility": null,
            "width": null
          }
        },
        "8251d8212584461dbb893490db41a284": {
          "model_module": "@jupyter-widgets/controls",
          "model_name": "DescriptionStyleModel",
          "model_module_version": "1.5.0",
          "state": {
            "_model_module": "@jupyter-widgets/controls",
            "_model_module_version": "1.5.0",
            "_model_name": "DescriptionStyleModel",
            "_view_count": null,
            "_view_module": "@jupyter-widgets/base",
            "_view_module_version": "1.2.0",
            "_view_name": "StyleView",
            "description_width": ""
          }
        },
        "5d8615e0107d40e1bff9541fb9661351": {
          "model_module": "@jupyter-widgets/controls",
          "model_name": "HBoxModel",
          "model_module_version": "1.5.0",
          "state": {
            "_dom_classes": [],
            "_model_module": "@jupyter-widgets/controls",
            "_model_module_version": "1.5.0",
            "_model_name": "HBoxModel",
            "_view_count": null,
            "_view_module": "@jupyter-widgets/controls",
            "_view_module_version": "1.5.0",
            "_view_name": "HBoxView",
            "box_style": "",
            "children": [
              "IPY_MODEL_a7fd162f99fb42a49bcf67bcfe80f572",
              "IPY_MODEL_cf6e99cfc44b4f5b8e8c6ed123c3c1bf",
              "IPY_MODEL_e2389e24c6b3470898698f8d44feb3aa"
            ],
            "layout": "IPY_MODEL_f529557b15aa4e3ebae246ef4e1a010e"
          }
        },
        "a7fd162f99fb42a49bcf67bcfe80f572": {
          "model_module": "@jupyter-widgets/controls",
          "model_name": "HTMLModel",
          "model_module_version": "1.5.0",
          "state": {
            "_dom_classes": [],
            "_model_module": "@jupyter-widgets/controls",
            "_model_module_version": "1.5.0",
            "_model_name": "HTMLModel",
            "_view_count": null,
            "_view_module": "@jupyter-widgets/controls",
            "_view_module_version": "1.5.0",
            "_view_name": "HTMLView",
            "description": "",
            "description_tooltip": null,
            "layout": "IPY_MODEL_1d43969c3a954368b910762ae3ab967a",
            "placeholder": "​",
            "style": "IPY_MODEL_6e72a4dac6d84ae0b4add3283e9bb570",
            "value": "Downloading (…)cial_tokens_map.json: 100%"
          }
        },
        "cf6e99cfc44b4f5b8e8c6ed123c3c1bf": {
          "model_module": "@jupyter-widgets/controls",
          "model_name": "FloatProgressModel",
          "model_module_version": "1.5.0",
          "state": {
            "_dom_classes": [],
            "_model_module": "@jupyter-widgets/controls",
            "_model_module_version": "1.5.0",
            "_model_name": "FloatProgressModel",
            "_view_count": null,
            "_view_module": "@jupyter-widgets/controls",
            "_view_module_version": "1.5.0",
            "_view_name": "ProgressView",
            "bar_style": "success",
            "description": "",
            "description_tooltip": null,
            "layout": "IPY_MODEL_e78acf1dde104ed59f17f01f8f5f6b45",
            "max": 112,
            "min": 0,
            "orientation": "horizontal",
            "style": "IPY_MODEL_d62a4c4e12a34129aae96532b5a2d6fd",
            "value": 112
          }
        },
        "e2389e24c6b3470898698f8d44feb3aa": {
          "model_module": "@jupyter-widgets/controls",
          "model_name": "HTMLModel",
          "model_module_version": "1.5.0",
          "state": {
            "_dom_classes": [],
            "_model_module": "@jupyter-widgets/controls",
            "_model_module_version": "1.5.0",
            "_model_name": "HTMLModel",
            "_view_count": null,
            "_view_module": "@jupyter-widgets/controls",
            "_view_module_version": "1.5.0",
            "_view_name": "HTMLView",
            "description": "",
            "description_tooltip": null,
            "layout": "IPY_MODEL_2add7d087678400fa80cc12a255b0cb9",
            "placeholder": "​",
            "style": "IPY_MODEL_541febc8bb104a21a40c8118f837c7db",
            "value": " 112/112 [00:00&lt;00:00, 2.68kB/s]"
          }
        },
        "f529557b15aa4e3ebae246ef4e1a010e": {
          "model_module": "@jupyter-widgets/base",
          "model_name": "LayoutModel",
          "model_module_version": "1.2.0",
          "state": {
            "_model_module": "@jupyter-widgets/base",
            "_model_module_version": "1.2.0",
            "_model_name": "LayoutModel",
            "_view_count": null,
            "_view_module": "@jupyter-widgets/base",
            "_view_module_version": "1.2.0",
            "_view_name": "LayoutView",
            "align_content": null,
            "align_items": null,
            "align_self": null,
            "border": null,
            "bottom": null,
            "display": null,
            "flex": null,
            "flex_flow": null,
            "grid_area": null,
            "grid_auto_columns": null,
            "grid_auto_flow": null,
            "grid_auto_rows": null,
            "grid_column": null,
            "grid_gap": null,
            "grid_row": null,
            "grid_template_areas": null,
            "grid_template_columns": null,
            "grid_template_rows": null,
            "height": null,
            "justify_content": null,
            "justify_items": null,
            "left": null,
            "margin": null,
            "max_height": null,
            "max_width": null,
            "min_height": null,
            "min_width": null,
            "object_fit": null,
            "object_position": null,
            "order": null,
            "overflow": null,
            "overflow_x": null,
            "overflow_y": null,
            "padding": null,
            "right": null,
            "top": null,
            "visibility": null,
            "width": null
          }
        },
        "1d43969c3a954368b910762ae3ab967a": {
          "model_module": "@jupyter-widgets/base",
          "model_name": "LayoutModel",
          "model_module_version": "1.2.0",
          "state": {
            "_model_module": "@jupyter-widgets/base",
            "_model_module_version": "1.2.0",
            "_model_name": "LayoutModel",
            "_view_count": null,
            "_view_module": "@jupyter-widgets/base",
            "_view_module_version": "1.2.0",
            "_view_name": "LayoutView",
            "align_content": null,
            "align_items": null,
            "align_self": null,
            "border": null,
            "bottom": null,
            "display": null,
            "flex": null,
            "flex_flow": null,
            "grid_area": null,
            "grid_auto_columns": null,
            "grid_auto_flow": null,
            "grid_auto_rows": null,
            "grid_column": null,
            "grid_gap": null,
            "grid_row": null,
            "grid_template_areas": null,
            "grid_template_columns": null,
            "grid_template_rows": null,
            "height": null,
            "justify_content": null,
            "justify_items": null,
            "left": null,
            "margin": null,
            "max_height": null,
            "max_width": null,
            "min_height": null,
            "min_width": null,
            "object_fit": null,
            "object_position": null,
            "order": null,
            "overflow": null,
            "overflow_x": null,
            "overflow_y": null,
            "padding": null,
            "right": null,
            "top": null,
            "visibility": null,
            "width": null
          }
        },
        "6e72a4dac6d84ae0b4add3283e9bb570": {
          "model_module": "@jupyter-widgets/controls",
          "model_name": "DescriptionStyleModel",
          "model_module_version": "1.5.0",
          "state": {
            "_model_module": "@jupyter-widgets/controls",
            "_model_module_version": "1.5.0",
            "_model_name": "DescriptionStyleModel",
            "_view_count": null,
            "_view_module": "@jupyter-widgets/base",
            "_view_module_version": "1.2.0",
            "_view_name": "StyleView",
            "description_width": ""
          }
        },
        "e78acf1dde104ed59f17f01f8f5f6b45": {
          "model_module": "@jupyter-widgets/base",
          "model_name": "LayoutModel",
          "model_module_version": "1.2.0",
          "state": {
            "_model_module": "@jupyter-widgets/base",
            "_model_module_version": "1.2.0",
            "_model_name": "LayoutModel",
            "_view_count": null,
            "_view_module": "@jupyter-widgets/base",
            "_view_module_version": "1.2.0",
            "_view_name": "LayoutView",
            "align_content": null,
            "align_items": null,
            "align_self": null,
            "border": null,
            "bottom": null,
            "display": null,
            "flex": null,
            "flex_flow": null,
            "grid_area": null,
            "grid_auto_columns": null,
            "grid_auto_flow": null,
            "grid_auto_rows": null,
            "grid_column": null,
            "grid_gap": null,
            "grid_row": null,
            "grid_template_areas": null,
            "grid_template_columns": null,
            "grid_template_rows": null,
            "height": null,
            "justify_content": null,
            "justify_items": null,
            "left": null,
            "margin": null,
            "max_height": null,
            "max_width": null,
            "min_height": null,
            "min_width": null,
            "object_fit": null,
            "object_position": null,
            "order": null,
            "overflow": null,
            "overflow_x": null,
            "overflow_y": null,
            "padding": null,
            "right": null,
            "top": null,
            "visibility": null,
            "width": null
          }
        },
        "d62a4c4e12a34129aae96532b5a2d6fd": {
          "model_module": "@jupyter-widgets/controls",
          "model_name": "ProgressStyleModel",
          "model_module_version": "1.5.0",
          "state": {
            "_model_module": "@jupyter-widgets/controls",
            "_model_module_version": "1.5.0",
            "_model_name": "ProgressStyleModel",
            "_view_count": null,
            "_view_module": "@jupyter-widgets/base",
            "_view_module_version": "1.2.0",
            "_view_name": "StyleView",
            "bar_color": null,
            "description_width": ""
          }
        },
        "2add7d087678400fa80cc12a255b0cb9": {
          "model_module": "@jupyter-widgets/base",
          "model_name": "LayoutModel",
          "model_module_version": "1.2.0",
          "state": {
            "_model_module": "@jupyter-widgets/base",
            "_model_module_version": "1.2.0",
            "_model_name": "LayoutModel",
            "_view_count": null,
            "_view_module": "@jupyter-widgets/base",
            "_view_module_version": "1.2.0",
            "_view_name": "LayoutView",
            "align_content": null,
            "align_items": null,
            "align_self": null,
            "border": null,
            "bottom": null,
            "display": null,
            "flex": null,
            "flex_flow": null,
            "grid_area": null,
            "grid_auto_columns": null,
            "grid_auto_flow": null,
            "grid_auto_rows": null,
            "grid_column": null,
            "grid_gap": null,
            "grid_row": null,
            "grid_template_areas": null,
            "grid_template_columns": null,
            "grid_template_rows": null,
            "height": null,
            "justify_content": null,
            "justify_items": null,
            "left": null,
            "margin": null,
            "max_height": null,
            "max_width": null,
            "min_height": null,
            "min_width": null,
            "object_fit": null,
            "object_position": null,
            "order": null,
            "overflow": null,
            "overflow_x": null,
            "overflow_y": null,
            "padding": null,
            "right": null,
            "top": null,
            "visibility": null,
            "width": null
          }
        },
        "541febc8bb104a21a40c8118f837c7db": {
          "model_module": "@jupyter-widgets/controls",
          "model_name": "DescriptionStyleModel",
          "model_module_version": "1.5.0",
          "state": {
            "_model_module": "@jupyter-widgets/controls",
            "_model_module_version": "1.5.0",
            "_model_name": "DescriptionStyleModel",
            "_view_count": null,
            "_view_module": "@jupyter-widgets/base",
            "_view_module_version": "1.2.0",
            "_view_name": "StyleView",
            "description_width": ""
          }
        },
        "29f3f25bdd9f4950a18b7548634bdeee": {
          "model_module": "@jupyter-widgets/controls",
          "model_name": "HBoxModel",
          "model_module_version": "1.5.0",
          "state": {
            "_dom_classes": [],
            "_model_module": "@jupyter-widgets/controls",
            "_model_module_version": "1.5.0",
            "_model_name": "HBoxModel",
            "_view_count": null,
            "_view_module": "@jupyter-widgets/controls",
            "_view_module_version": "1.5.0",
            "_view_name": "HBoxView",
            "box_style": "",
            "children": [
              "IPY_MODEL_616778b3e53646adb0888ee097a7f35a",
              "IPY_MODEL_ce682d415d2a4e3c8645129833628a05",
              "IPY_MODEL_690991ee1bd14eb6b6f6a3253bd90b7f"
            ],
            "layout": "IPY_MODEL_1de36f67109f4bcdac7c8ef871fc884e"
          }
        },
        "616778b3e53646adb0888ee097a7f35a": {
          "model_module": "@jupyter-widgets/controls",
          "model_name": "HTMLModel",
          "model_module_version": "1.5.0",
          "state": {
            "_dom_classes": [],
            "_model_module": "@jupyter-widgets/controls",
            "_model_module_version": "1.5.0",
            "_model_name": "HTMLModel",
            "_view_count": null,
            "_view_module": "@jupyter-widgets/controls",
            "_view_module_version": "1.5.0",
            "_view_name": "HTMLView",
            "description": "",
            "description_tooltip": null,
            "layout": "IPY_MODEL_36b2319dfa6040be81876436a6b78d71",
            "placeholder": "​",
            "style": "IPY_MODEL_113b4e1d3e984a7c8ee167376206d191",
            "value": "Downloading (…)&quot;pytorch_model.bin&quot;;: 100%"
          }
        },
        "ce682d415d2a4e3c8645129833628a05": {
          "model_module": "@jupyter-widgets/controls",
          "model_name": "FloatProgressModel",
          "model_module_version": "1.5.0",
          "state": {
            "_dom_classes": [],
            "_model_module": "@jupyter-widgets/controls",
            "_model_module_version": "1.5.0",
            "_model_name": "FloatProgressModel",
            "_view_count": null,
            "_view_module": "@jupyter-widgets/controls",
            "_view_module_version": "1.5.0",
            "_view_name": "ProgressView",
            "bar_style": "success",
            "description": "",
            "description_tooltip": null,
            "layout": "IPY_MODEL_6a4636c22c5d4bc198c740e92f0cb51b",
            "max": 433316646,
            "min": 0,
            "orientation": "horizontal",
            "style": "IPY_MODEL_f5e29e80487647ec89dd6771b91bbf88",
            "value": 433316646
          }
        },
        "690991ee1bd14eb6b6f6a3253bd90b7f": {
          "model_module": "@jupyter-widgets/controls",
          "model_name": "HTMLModel",
          "model_module_version": "1.5.0",
          "state": {
            "_dom_classes": [],
            "_model_module": "@jupyter-widgets/controls",
            "_model_module_version": "1.5.0",
            "_model_name": "HTMLModel",
            "_view_count": null,
            "_view_module": "@jupyter-widgets/controls",
            "_view_module_version": "1.5.0",
            "_view_name": "HTMLView",
            "description": "",
            "description_tooltip": null,
            "layout": "IPY_MODEL_353ffc5112d7493ebd2e759d3dd6ecc7",
            "placeholder": "​",
            "style": "IPY_MODEL_b42b4ea975ac4eafad0b1078fd50eee3",
            "value": " 433M/433M [00:09&lt;00:00, 42.9MB/s]"
          }
        },
        "1de36f67109f4bcdac7c8ef871fc884e": {
          "model_module": "@jupyter-widgets/base",
          "model_name": "LayoutModel",
          "model_module_version": "1.2.0",
          "state": {
            "_model_module": "@jupyter-widgets/base",
            "_model_module_version": "1.2.0",
            "_model_name": "LayoutModel",
            "_view_count": null,
            "_view_module": "@jupyter-widgets/base",
            "_view_module_version": "1.2.0",
            "_view_name": "LayoutView",
            "align_content": null,
            "align_items": null,
            "align_self": null,
            "border": null,
            "bottom": null,
            "display": null,
            "flex": null,
            "flex_flow": null,
            "grid_area": null,
            "grid_auto_columns": null,
            "grid_auto_flow": null,
            "grid_auto_rows": null,
            "grid_column": null,
            "grid_gap": null,
            "grid_row": null,
            "grid_template_areas": null,
            "grid_template_columns": null,
            "grid_template_rows": null,
            "height": null,
            "justify_content": null,
            "justify_items": null,
            "left": null,
            "margin": null,
            "max_height": null,
            "max_width": null,
            "min_height": null,
            "min_width": null,
            "object_fit": null,
            "object_position": null,
            "order": null,
            "overflow": null,
            "overflow_x": null,
            "overflow_y": null,
            "padding": null,
            "right": null,
            "top": null,
            "visibility": null,
            "width": null
          }
        },
        "36b2319dfa6040be81876436a6b78d71": {
          "model_module": "@jupyter-widgets/base",
          "model_name": "LayoutModel",
          "model_module_version": "1.2.0",
          "state": {
            "_model_module": "@jupyter-widgets/base",
            "_model_module_version": "1.2.0",
            "_model_name": "LayoutModel",
            "_view_count": null,
            "_view_module": "@jupyter-widgets/base",
            "_view_module_version": "1.2.0",
            "_view_name": "LayoutView",
            "align_content": null,
            "align_items": null,
            "align_self": null,
            "border": null,
            "bottom": null,
            "display": null,
            "flex": null,
            "flex_flow": null,
            "grid_area": null,
            "grid_auto_columns": null,
            "grid_auto_flow": null,
            "grid_auto_rows": null,
            "grid_column": null,
            "grid_gap": null,
            "grid_row": null,
            "grid_template_areas": null,
            "grid_template_columns": null,
            "grid_template_rows": null,
            "height": null,
            "justify_content": null,
            "justify_items": null,
            "left": null,
            "margin": null,
            "max_height": null,
            "max_width": null,
            "min_height": null,
            "min_width": null,
            "object_fit": null,
            "object_position": null,
            "order": null,
            "overflow": null,
            "overflow_x": null,
            "overflow_y": null,
            "padding": null,
            "right": null,
            "top": null,
            "visibility": null,
            "width": null
          }
        },
        "113b4e1d3e984a7c8ee167376206d191": {
          "model_module": "@jupyter-widgets/controls",
          "model_name": "DescriptionStyleModel",
          "model_module_version": "1.5.0",
          "state": {
            "_model_module": "@jupyter-widgets/controls",
            "_model_module_version": "1.5.0",
            "_model_name": "DescriptionStyleModel",
            "_view_count": null,
            "_view_module": "@jupyter-widgets/base",
            "_view_module_version": "1.2.0",
            "_view_name": "StyleView",
            "description_width": ""
          }
        },
        "6a4636c22c5d4bc198c740e92f0cb51b": {
          "model_module": "@jupyter-widgets/base",
          "model_name": "LayoutModel",
          "model_module_version": "1.2.0",
          "state": {
            "_model_module": "@jupyter-widgets/base",
            "_model_module_version": "1.2.0",
            "_model_name": "LayoutModel",
            "_view_count": null,
            "_view_module": "@jupyter-widgets/base",
            "_view_module_version": "1.2.0",
            "_view_name": "LayoutView",
            "align_content": null,
            "align_items": null,
            "align_self": null,
            "border": null,
            "bottom": null,
            "display": null,
            "flex": null,
            "flex_flow": null,
            "grid_area": null,
            "grid_auto_columns": null,
            "grid_auto_flow": null,
            "grid_auto_rows": null,
            "grid_column": null,
            "grid_gap": null,
            "grid_row": null,
            "grid_template_areas": null,
            "grid_template_columns": null,
            "grid_template_rows": null,
            "height": null,
            "justify_content": null,
            "justify_items": null,
            "left": null,
            "margin": null,
            "max_height": null,
            "max_width": null,
            "min_height": null,
            "min_width": null,
            "object_fit": null,
            "object_position": null,
            "order": null,
            "overflow": null,
            "overflow_x": null,
            "overflow_y": null,
            "padding": null,
            "right": null,
            "top": null,
            "visibility": null,
            "width": null
          }
        },
        "f5e29e80487647ec89dd6771b91bbf88": {
          "model_module": "@jupyter-widgets/controls",
          "model_name": "ProgressStyleModel",
          "model_module_version": "1.5.0",
          "state": {
            "_model_module": "@jupyter-widgets/controls",
            "_model_module_version": "1.5.0",
            "_model_name": "ProgressStyleModel",
            "_view_count": null,
            "_view_module": "@jupyter-widgets/base",
            "_view_module_version": "1.2.0",
            "_view_name": "StyleView",
            "bar_color": null,
            "description_width": ""
          }
        },
        "353ffc5112d7493ebd2e759d3dd6ecc7": {
          "model_module": "@jupyter-widgets/base",
          "model_name": "LayoutModel",
          "model_module_version": "1.2.0",
          "state": {
            "_model_module": "@jupyter-widgets/base",
            "_model_module_version": "1.2.0",
            "_model_name": "LayoutModel",
            "_view_count": null,
            "_view_module": "@jupyter-widgets/base",
            "_view_module_version": "1.2.0",
            "_view_name": "LayoutView",
            "align_content": null,
            "align_items": null,
            "align_self": null,
            "border": null,
            "bottom": null,
            "display": null,
            "flex": null,
            "flex_flow": null,
            "grid_area": null,
            "grid_auto_columns": null,
            "grid_auto_flow": null,
            "grid_auto_rows": null,
            "grid_column": null,
            "grid_gap": null,
            "grid_row": null,
            "grid_template_areas": null,
            "grid_template_columns": null,
            "grid_template_rows": null,
            "height": null,
            "justify_content": null,
            "justify_items": null,
            "left": null,
            "margin": null,
            "max_height": null,
            "max_width": null,
            "min_height": null,
            "min_width": null,
            "object_fit": null,
            "object_position": null,
            "order": null,
            "overflow": null,
            "overflow_x": null,
            "overflow_y": null,
            "padding": null,
            "right": null,
            "top": null,
            "visibility": null,
            "width": null
          }
        },
        "b42b4ea975ac4eafad0b1078fd50eee3": {
          "model_module": "@jupyter-widgets/controls",
          "model_name": "DescriptionStyleModel",
          "model_module_version": "1.5.0",
          "state": {
            "_model_module": "@jupyter-widgets/controls",
            "_model_module_version": "1.5.0",
            "_model_name": "DescriptionStyleModel",
            "_view_count": null,
            "_view_module": "@jupyter-widgets/base",
            "_view_module_version": "1.2.0",
            "_view_name": "StyleView",
            "description_width": ""
          }
        }
      }
    }
  },
  "cells": [
    {
      "cell_type": "markdown",
      "source": [
        "Based on the dataset provided below, you’re required to develop a model to generate a short summary that accurately summarizes the main points and key insights (in negative and positive content). The summary should be concise, yet still, retain the essence of the original text. The summarization model should generate personalized summaries based on a set of user-specific keywords. Then, extend the summarization model to provide additional suggestions or recommendations based on the contents. \n"
      ],
      "metadata": {
        "id": "Sp_-z1i3uLni"
      }
    },
    {
      "cell_type": "markdown",
      "source": [
        "Import the Neccessary Libraries"
      ],
      "metadata": {
        "id": "plMLRmriVone"
      }
    },
    {
      "cell_type": "code",
      "source": [
        "!pip install streamlit\n",
        "!pip install ipython==7.9.0"
      ],
      "metadata": {
        "colab": {
          "base_uri": "https://localhost:8080/"
        },
        "id": "I5Jl-hrPrXw0",
        "outputId": "7cebb814-887b-43ef-e788-9afc0f518ea8"
      },
      "execution_count": 6,
      "outputs": [
        {
          "output_type": "stream",
          "name": "stdout",
          "text": [
            "Looking in indexes: https://pypi.org/simple, https://us-python.pkg.dev/colab-wheels/public/simple/\n",
            "Requirement already satisfied: streamlit in /usr/local/lib/python3.8/dist-packages (1.17.0)\n",
            "Requirement already satisfied: typing-extensions>=3.10.0.0 in /usr/local/lib/python3.8/dist-packages (from streamlit) (4.4.0)\n",
            "Requirement already satisfied: blinker>=1.0.0 in /usr/local/lib/python3.8/dist-packages (from streamlit) (1.5)\n",
            "Requirement already satisfied: pandas>=0.21.0 in /usr/local/lib/python3.8/dist-packages (from streamlit) (1.3.5)\n",
            "Requirement already satisfied: rich>=10.11.0 in /usr/local/lib/python3.8/dist-packages (from streamlit) (13.3.1)\n",
            "Requirement already satisfied: pydeck>=0.1.dev5 in /usr/local/lib/python3.8/dist-packages (from streamlit) (0.8.0)\n",
            "Requirement already satisfied: pillow>=6.2.0 in /usr/local/lib/python3.8/dist-packages (from streamlit) (7.1.2)\n",
            "Requirement already satisfied: importlib-metadata>=1.4 in /usr/local/lib/python3.8/dist-packages (from streamlit) (6.0.0)\n",
            "Requirement already satisfied: packaging>=14.1 in /usr/local/lib/python3.8/dist-packages (from streamlit) (23.0)\n",
            "Requirement already satisfied: tzlocal>=1.1 in /usr/local/lib/python3.8/dist-packages (from streamlit) (1.5.1)\n",
            "Requirement already satisfied: cachetools>=4.0 in /usr/local/lib/python3.8/dist-packages (from streamlit) (5.3.0)\n",
            "Requirement already satisfied: validators>=0.2 in /usr/local/lib/python3.8/dist-packages (from streamlit) (0.20.0)\n",
            "Requirement already satisfied: protobuf<4,>=3.12 in /usr/local/lib/python3.8/dist-packages (from streamlit) (3.19.6)\n",
            "Requirement already satisfied: numpy in /usr/local/lib/python3.8/dist-packages (from streamlit) (1.21.6)\n",
            "Requirement already satisfied: watchdog in /usr/local/lib/python3.8/dist-packages (from streamlit) (2.2.1)\n",
            "Requirement already satisfied: semver in /usr/local/lib/python3.8/dist-packages (from streamlit) (2.13.0)\n",
            "Requirement already satisfied: gitpython!=3.1.19 in /usr/local/lib/python3.8/dist-packages (from streamlit) (3.1.30)\n",
            "Requirement already satisfied: click>=7.0 in /usr/local/lib/python3.8/dist-packages (from streamlit) (7.1.2)\n",
            "Requirement already satisfied: tornado>=5.0 in /usr/local/lib/python3.8/dist-packages (from streamlit) (6.0.4)\n",
            "Requirement already satisfied: python-dateutil in /usr/local/lib/python3.8/dist-packages (from streamlit) (2.8.2)\n",
            "Requirement already satisfied: toml in /usr/local/lib/python3.8/dist-packages (from streamlit) (0.10.2)\n",
            "Requirement already satisfied: requests>=2.4 in /usr/local/lib/python3.8/dist-packages (from streamlit) (2.25.1)\n",
            "Requirement already satisfied: altair>=3.2.0 in /usr/local/lib/python3.8/dist-packages (from streamlit) (4.2.2)\n",
            "Requirement already satisfied: pympler>=0.9 in /usr/local/lib/python3.8/dist-packages (from streamlit) (1.0.1)\n",
            "Requirement already satisfied: pyarrow>=4.0 in /usr/local/lib/python3.8/dist-packages (from streamlit) (9.0.0)\n",
            "Requirement already satisfied: toolz in /usr/local/lib/python3.8/dist-packages (from altair>=3.2.0->streamlit) (0.12.0)\n",
            "Requirement already satisfied: jsonschema>=3.0 in /usr/local/lib/python3.8/dist-packages (from altair>=3.2.0->streamlit) (4.3.3)\n",
            "Requirement already satisfied: entrypoints in /usr/local/lib/python3.8/dist-packages (from altair>=3.2.0->streamlit) (0.4)\n",
            "Requirement already satisfied: jinja2 in /usr/local/lib/python3.8/dist-packages (from altair>=3.2.0->streamlit) (2.11.3)\n",
            "Requirement already satisfied: gitdb<5,>=4.0.1 in /usr/local/lib/python3.8/dist-packages (from gitpython!=3.1.19->streamlit) (4.0.10)\n",
            "Requirement already satisfied: zipp>=0.5 in /usr/local/lib/python3.8/dist-packages (from importlib-metadata>=1.4->streamlit) (3.12.0)\n",
            "Requirement already satisfied: pytz>=2017.3 in /usr/local/lib/python3.8/dist-packages (from pandas>=0.21.0->streamlit) (2022.7.1)\n",
            "Requirement already satisfied: six>=1.5 in /usr/local/lib/python3.8/dist-packages (from python-dateutil->streamlit) (1.15.0)\n",
            "Requirement already satisfied: chardet<5,>=3.0.2 in /usr/local/lib/python3.8/dist-packages (from requests>=2.4->streamlit) (4.0.0)\n",
            "Requirement already satisfied: idna<3,>=2.5 in /usr/local/lib/python3.8/dist-packages (from requests>=2.4->streamlit) (2.10)\n",
            "Requirement already satisfied: urllib3<1.27,>=1.21.1 in /usr/local/lib/python3.8/dist-packages (from requests>=2.4->streamlit) (1.24.3)\n",
            "Requirement already satisfied: certifi>=2017.4.17 in /usr/local/lib/python3.8/dist-packages (from requests>=2.4->streamlit) (2022.12.7)\n",
            "Requirement already satisfied: pygments<3.0.0,>=2.14.0 in /usr/local/lib/python3.8/dist-packages (from rich>=10.11.0->streamlit) (2.14.0)\n",
            "Requirement already satisfied: markdown-it-py<3.0.0,>=2.1.0 in /usr/local/lib/python3.8/dist-packages (from rich>=10.11.0->streamlit) (2.1.0)\n",
            "Requirement already satisfied: decorator>=3.4.0 in /usr/local/lib/python3.8/dist-packages (from validators>=0.2->streamlit) (4.4.2)\n",
            "Requirement already satisfied: smmap<6,>=3.0.1 in /usr/local/lib/python3.8/dist-packages (from gitdb<5,>=4.0.1->gitpython!=3.1.19->streamlit) (5.0.0)\n",
            "Requirement already satisfied: MarkupSafe>=0.23 in /usr/local/lib/python3.8/dist-packages (from jinja2->altair>=3.2.0->streamlit) (2.0.1)\n",
            "Requirement already satisfied: pyrsistent!=0.17.0,!=0.17.1,!=0.17.2,>=0.14.0 in /usr/local/lib/python3.8/dist-packages (from jsonschema>=3.0->altair>=3.2.0->streamlit) (0.19.3)\n",
            "Requirement already satisfied: attrs>=17.4.0 in /usr/local/lib/python3.8/dist-packages (from jsonschema>=3.0->altair>=3.2.0->streamlit) (22.2.0)\n",
            "Requirement already satisfied: importlib-resources>=1.4.0 in /usr/local/lib/python3.8/dist-packages (from jsonschema>=3.0->altair>=3.2.0->streamlit) (5.10.2)\n",
            "Requirement already satisfied: mdurl~=0.1 in /usr/local/lib/python3.8/dist-packages (from markdown-it-py<3.0.0,>=2.1.0->rich>=10.11.0->streamlit) (0.1.2)\n",
            "Looking in indexes: https://pypi.org/simple, https://us-python.pkg.dev/colab-wheels/public/simple/\n",
            "Requirement already satisfied: ipython==7.9.0 in /usr/local/lib/python3.8/dist-packages (7.9.0)\n",
            "Requirement already satisfied: setuptools>=18.5 in /usr/local/lib/python3.8/dist-packages (from ipython==7.9.0) (57.4.0)\n",
            "Requirement already satisfied: backcall in /usr/local/lib/python3.8/dist-packages (from ipython==7.9.0) (0.2.0)\n",
            "Requirement already satisfied: pexpect in /usr/local/lib/python3.8/dist-packages (from ipython==7.9.0) (4.8.0)\n",
            "Collecting jedi>=0.10\n",
            "  Downloading jedi-0.18.2-py2.py3-none-any.whl (1.6 MB)\n",
            "\u001b[2K     \u001b[90m━━━━━━━━━━━━━━━━━━━━━━━━━━━━━━━━━━━━━━━━\u001b[0m \u001b[32m1.6/1.6 MB\u001b[0m \u001b[31m66.2 MB/s\u001b[0m eta \u001b[36m0:00:00\u001b[0m\n",
            "\u001b[?25hRequirement already satisfied: decorator in /usr/local/lib/python3.8/dist-packages (from ipython==7.9.0) (4.4.2)\n",
            "Requirement already satisfied: traitlets>=4.2 in /usr/local/lib/python3.8/dist-packages (from ipython==7.9.0) (5.7.1)\n",
            "Requirement already satisfied: pygments in /usr/local/lib/python3.8/dist-packages (from ipython==7.9.0) (2.14.0)\n",
            "Requirement already satisfied: pickleshare in /usr/local/lib/python3.8/dist-packages (from ipython==7.9.0) (0.7.5)\n",
            "Requirement already satisfied: prompt-toolkit<2.1.0,>=2.0.0 in /usr/local/lib/python3.8/dist-packages (from ipython==7.9.0) (2.0.10)\n",
            "Requirement already satisfied: parso<0.9.0,>=0.8.0 in /usr/local/lib/python3.8/dist-packages (from jedi>=0.10->ipython==7.9.0) (0.8.3)\n",
            "Requirement already satisfied: wcwidth in /usr/local/lib/python3.8/dist-packages (from prompt-toolkit<2.1.0,>=2.0.0->ipython==7.9.0) (0.2.6)\n",
            "Requirement already satisfied: six>=1.9.0 in /usr/local/lib/python3.8/dist-packages (from prompt-toolkit<2.1.0,>=2.0.0->ipython==7.9.0) (1.15.0)\n",
            "Requirement already satisfied: ptyprocess>=0.5 in /usr/local/lib/python3.8/dist-packages (from pexpect->ipython==7.9.0) (0.7.0)\n",
            "Installing collected packages: jedi\n",
            "Successfully installed jedi-0.18.2\n"
          ]
        }
      ]
    },
    {
      "cell_type": "code",
      "execution_count": 7,
      "metadata": {
        "id": "7ETd-92Et-gX"
      },
      "outputs": [],
      "source": [
        "import streamlit as st\n",
        "import numpy as np\n",
        "import pandas as pd\n",
        "from tqdm import tqdm\n",
        "import re\n",
        "\n",
        "import warnings\n",
        "warnings.filterwarnings(\"ignore\")\n",
        "import pickle\n",
        "\n",
        "from nltk.stem.wordnet import WordNetLemmatizer\n",
        "from nltk.tokenize import sent_tokenize\n",
        "from nltk.tokenize import word_tokenize\n",
        "from nltk.probability import FreqDist\n",
        "import matplotlib.pyplot as plt\n",
        "from nltk.corpus import stopwords\n",
        "from nltk.stem import PorterStemmer\n",
        "from nltk.stem.porter import PorterStemmer\n",
        "from nltk import pos_tag\n",
        "from nltk import ne_chunk\n",
        "\n",
        "from sklearn.feature_extraction.text import CountVectorizer\n",
        "from sklearn.model_selection import train_test_split\n",
        "from sklearn.naive_bayes import MultinomialNB\n",
        "from sklearn import metrics \n",
        "from sklearn.feature_extraction.text import TfidfVectorizer\n",
        "from sklearn.linear_model import LogisticRegression"
      ]
    },
    {
      "cell_type": "code",
      "source": [
        "import nltk\n",
        "nltk.download('punkt') \n",
        "nltk.download('stopwords')\n",
        "nltk.download('wordnet')\n",
        "nltk.download('omw-1.4')\n",
        "nltk.download('averaged_perceptron_tagger')\n",
        "nltk.download('maxent_ne_chunker')\n",
        "nltk.download('words')\n",
        "nltk.download('vader_lexicon')"
      ],
      "metadata": {
        "colab": {
          "base_uri": "https://localhost:8080/"
        },
        "id": "5qZXyX25uKqx",
        "outputId": "5e29d610-4b75-4e1f-95d0-4f7048231d1d"
      },
      "execution_count": 8,
      "outputs": [
        {
          "output_type": "stream",
          "name": "stderr",
          "text": [
            "[nltk_data] Downloading package punkt to /root/nltk_data...\n",
            "[nltk_data]   Unzipping tokenizers/punkt.zip.\n",
            "[nltk_data] Downloading package stopwords to /root/nltk_data...\n",
            "[nltk_data]   Unzipping corpora/stopwords.zip.\n",
            "[nltk_data] Downloading package wordnet to /root/nltk_data...\n",
            "[nltk_data] Downloading package omw-1.4 to /root/nltk_data...\n",
            "[nltk_data] Downloading package averaged_perceptron_tagger to\n",
            "[nltk_data]     /root/nltk_data...\n",
            "[nltk_data]   Unzipping taggers/averaged_perceptron_tagger.zip.\n",
            "[nltk_data] Downloading package maxent_ne_chunker to\n",
            "[nltk_data]     /root/nltk_data...\n",
            "[nltk_data]   Unzipping chunkers/maxent_ne_chunker.zip.\n",
            "[nltk_data] Downloading package words to /root/nltk_data...\n",
            "[nltk_data]   Unzipping corpora/words.zip.\n",
            "[nltk_data] Downloading package vader_lexicon to /root/nltk_data...\n"
          ]
        },
        {
          "output_type": "execute_result",
          "data": {
            "text/plain": [
              "True"
            ]
          },
          "metadata": {},
          "execution_count": 8
        }
      ]
    },
    {
      "cell_type": "code",
      "source": [
        "!pip install -q streamlit"
      ],
      "metadata": {
        "id": "8bPlcS7KtHtA"
      },
      "execution_count": 10,
      "outputs": []
    },
    {
      "cell_type": "code",
      "source": [
        "!./ngrok authtokens 2LDN5hELqBDDgDO9GKeMrVCaxOf_7tdMSxkVENkwfN8CM5zAp"
      ],
      "metadata": {
        "colab": {
          "base_uri": "https://localhost:8080/"
        },
        "id": "_zxYHFnntXnC",
        "outputId": "8dd0424c-a8ad-44ef-ebe6-2adcf73006b8"
      },
      "execution_count": 11,
      "outputs": [
        {
          "output_type": "stream",
          "name": "stdout",
          "text": [
            "/bin/bash: ./ngrok: No such file or directory\n"
          ]
        }
      ]
    },
    {
      "cell_type": "code",
      "source": [
        "!pip install pyngrok"
      ],
      "metadata": {
        "colab": {
          "base_uri": "https://localhost:8080/"
        },
        "id": "PoSrGkkmtuKU",
        "outputId": "d75cae16-1929-483d-b887-c851a67c8df2"
      },
      "execution_count": 12,
      "outputs": [
        {
          "output_type": "stream",
          "name": "stdout",
          "text": [
            "Looking in indexes: https://pypi.org/simple, https://us-python.pkg.dev/colab-wheels/public/simple/\n",
            "Collecting pyngrok\n",
            "  Downloading pyngrok-5.2.1.tar.gz (761 kB)\n",
            "\u001b[?25l     \u001b[90m━━━━━━━━━━━━━━━━━━━━━━━━━━━━━━━━━━━━━━━━\u001b[0m \u001b[32m0.0/761.3 KB\u001b[0m \u001b[31m?\u001b[0m eta \u001b[36m-:--:--\u001b[0m\r\u001b[2K     \u001b[90m━━━━━━━━━━━━━━━━━━━━━━━━━━━━━━━━━━━━━━\u001b[0m \u001b[32m761.3/761.3 KB\u001b[0m \u001b[31m43.1 MB/s\u001b[0m eta \u001b[36m0:00:00\u001b[0m\n",
            "\u001b[?25h  Preparing metadata (setup.py) ... \u001b[?25l\u001b[?25hdone\n",
            "Requirement already satisfied: PyYAML in /usr/local/lib/python3.8/dist-packages (from pyngrok) (6.0)\n",
            "Building wheels for collected packages: pyngrok\n",
            "  Building wheel for pyngrok (setup.py) ... \u001b[?25l\u001b[?25hdone\n",
            "  Created wheel for pyngrok: filename=pyngrok-5.2.1-py3-none-any.whl size=19792 sha256=58422c1307a49eece6cf73dca793e512433c4b34c9b34f29e6340a17f7f18d6c\n",
            "  Stored in directory: /root/.cache/pip/wheels/5d/f2/70/526da675d32f17577ec47ac4c663084efe39d47c826b6c3bb1\n",
            "Successfully built pyngrok\n",
            "Installing collected packages: pyngrok\n",
            "Successfully installed pyngrok-5.2.1\n"
          ]
        }
      ]
    },
    {
      "cell_type": "code",
      "source": [
        "from pyngrok import ngrok \n",
        "public_url = ngrok.connect(port='8501')\n",
        "public_url"
      ],
      "metadata": {
        "colab": {
          "base_uri": "https://localhost:8080/"
        },
        "id": "qcolqcCpt4TG",
        "outputId": "dbc09c50-78b6-4168-ecdd-939588413494"
      },
      "execution_count": 14,
      "outputs": [
        {
          "output_type": "stream",
          "name": "stderr",
          "text": [
            "INFO:pyngrok.ngrok:Opening tunnel named: http-80-ba5c0453-5d50-4ec7-ae7a-853fa379aceb\n",
            "2023-02-03 05:20:08.117 Opening tunnel named: http-80-ba5c0453-5d50-4ec7-ae7a-853fa379aceb\n"
          ]
        },
        {
          "output_type": "stream",
          "name": "stdout",
          "text": []
        },
        {
          "output_type": "stream",
          "name": "stderr",
          "text": [
            "INFO:pyngrok.process.ngrok:t=2023-02-03T05:20:08+0000 lvl=info msg=\"no configuration paths supplied\"\n",
            "2023-02-03 05:20:08.762 t=2023-02-03T05:20:08+0000 lvl=info msg=\"no configuration paths supplied\"\n",
            "INFO:pyngrok.process.ngrok:t=2023-02-03T05:20:08+0000 lvl=info msg=\"using configuration at default config path\" path=/root/.ngrok2/ngrok.yml\n",
            "2023-02-03 05:20:08.767 t=2023-02-03T05:20:08+0000 lvl=info msg=\"using configuration at default config path\" path=/root/.ngrok2/ngrok.yml\n",
            "INFO:pyngrok.process.ngrok:t=2023-02-03T05:20:08+0000 lvl=info msg=\"open config file\" path=/root/.ngrok2/ngrok.yml err=nil\n",
            "2023-02-03 05:20:08.771 t=2023-02-03T05:20:08+0000 lvl=info msg=\"open config file\" path=/root/.ngrok2/ngrok.yml err=nil\n",
            "INFO:pyngrok.process.ngrok:t=2023-02-03T05:20:08+0000 lvl=info msg=\"starting web service\" obj=web addr=127.0.0.1:4040\n",
            "2023-02-03 05:20:08.773 t=2023-02-03T05:20:08+0000 lvl=info msg=\"starting web service\" obj=web addr=127.0.0.1:4040\n",
            "INFO:pyngrok.process.ngrok:t=2023-02-03T05:20:08+0000 lvl=info msg=\"tunnel session started\" obj=tunnels.session\n",
            "2023-02-03 05:20:08.853 t=2023-02-03T05:20:08+0000 lvl=info msg=\"tunnel session started\" obj=tunnels.session\n",
            "INFO:pyngrok.process.ngrok:t=2023-02-03T05:20:08+0000 lvl=info msg=\"client session established\" obj=csess id=5a86f38bab94\n",
            "2023-02-03 05:20:08.863 t=2023-02-03T05:20:08+0000 lvl=info msg=\"client session established\" obj=csess id=5a86f38bab94\n",
            "INFO:pyngrok.process.ngrok:t=2023-02-03T05:20:08+0000 lvl=info msg=start pg=/api/tunnels id=752fcb84d4fffe7d\n",
            "2023-02-03 05:20:08.873 t=2023-02-03T05:20:08+0000 lvl=info msg=start pg=/api/tunnels id=752fcb84d4fffe7d\n",
            "INFO:pyngrok.process.ngrok:t=2023-02-03T05:20:08+0000 lvl=info msg=end pg=/api/tunnels id=752fcb84d4fffe7d status=200 dur=344.8µs\n",
            "2023-02-03 05:20:08.881 t=2023-02-03T05:20:08+0000 lvl=info msg=end pg=/api/tunnels id=752fcb84d4fffe7d status=200 dur=344.8µs\n",
            "INFO:pyngrok.process.ngrok:t=2023-02-03T05:20:08+0000 lvl=info msg=start pg=/api/tunnels id=f3230fdd19c3bb30\n",
            "2023-02-03 05:20:08.887 t=2023-02-03T05:20:08+0000 lvl=info msg=start pg=/api/tunnels id=f3230fdd19c3bb30\n",
            "INFO:pyngrok.process.ngrok:t=2023-02-03T05:20:08+0000 lvl=info msg=end pg=/api/tunnels id=f3230fdd19c3bb30 status=200 dur=73.2µs\n",
            "2023-02-03 05:20:08.891 t=2023-02-03T05:20:08+0000 lvl=info msg=end pg=/api/tunnels id=f3230fdd19c3bb30 status=200 dur=73.2µs\n",
            "INFO:pyngrok.process.ngrok:t=2023-02-03T05:20:08+0000 lvl=info msg=start pg=/api/tunnels id=a2a576530ef71991\n",
            "2023-02-03 05:20:08.898 t=2023-02-03T05:20:08+0000 lvl=info msg=start pg=/api/tunnels id=a2a576530ef71991\n",
            "INFO:pyngrok.process.ngrok:t=2023-02-03T05:20:08+0000 lvl=info msg=\"started tunnel\" obj=tunnels name=\"http-80-ba5c0453-5d50-4ec7-ae7a-853fa379aceb (http)\" addr=http://localhost:80 url=http://3ec2-34-86-80-20.ngrok.io\n",
            "2023-02-03 05:20:08.914 t=2023-02-03T05:20:08+0000 lvl=info msg=\"started tunnel\" obj=tunnels name=\"http-80-ba5c0453-5d50-4ec7-ae7a-853fa379aceb (http)\" addr=http://localhost:80 url=http://3ec2-34-86-80-20.ngrok.io\n",
            "INFO:pyngrok.process.ngrok:t=2023-02-03T05:20:08+0000 lvl=info msg=\"started tunnel\" obj=tunnels name=http-80-ba5c0453-5d50-4ec7-ae7a-853fa379aceb addr=http://localhost:80 url=https://3ec2-34-86-80-20.ngrok.io\n"
          ]
        },
        {
          "output_type": "execute_result",
          "data": {
            "text/plain": [
              "<NgrokTunnel: \"http://3ec2-34-86-80-20.ngrok.io\" -> \"http://localhost:80\">"
            ]
          },
          "metadata": {},
          "execution_count": 14
        },
        {
          "output_type": "stream",
          "name": "stderr",
          "text": [
            "2023-02-03 05:20:08.920 t=2023-02-03T05:20:08+0000 lvl=info msg=\"started tunnel\" obj=tunnels name=http-80-ba5c0453-5d50-4ec7-ae7a-853fa379aceb addr=http://localhost:80 url=https://3ec2-34-86-80-20.ngrok.io\n",
            "INFO:pyngrok.process.ngrok:t=2023-02-03T05:20:08+0000 lvl=info msg=end pg=/api/tunnels id=a2a576530ef71991 status=201 dur=39.595156ms\n",
            "2023-02-03 05:20:08.926 t=2023-02-03T05:20:08+0000 lvl=info msg=end pg=/api/tunnels id=a2a576530ef71991 status=201 dur=39.595156ms\n",
            "INFO:pyngrok.process.ngrok:t=2023-02-03T05:20:08+0000 lvl=info msg=start pg=\"/api/tunnels/http-80-ba5c0453-5d50-4ec7-ae7a-853fa379aceb (http)\" id=ba934a4e18bccb3a\n",
            "2023-02-03 05:20:08.934 t=2023-02-03T05:20:08+0000 lvl=info msg=start pg=\"/api/tunnels/http-80-ba5c0453-5d50-4ec7-ae7a-853fa379aceb (http)\" id=ba934a4e18bccb3a\n"
          ]
        }
      ]
    },
    {
      "cell_type": "code",
      "source": [
        "%%writefile text_analytics_app.py \n",
        "#Title of the project\n",
        "st.title(\"Text summarization that will recommend suggestions based on text analytics and sentiment analysis\")"
      ],
      "metadata": {
        "colab": {
          "base_uri": "https://localhost:8080/"
        },
        "id": "ntl6OBjrt_wl",
        "outputId": "13931fe5-405a-48dd-b665-6c39458c2e0c"
      },
      "execution_count": 15,
      "outputs": [
        {
          "output_type": "stream",
          "name": "stdout",
          "text": [
            "Writing text_analytics_app.py\n"
          ]
        }
      ]
    },
    {
      "cell_type": "code",
      "source": [
        "#!streamlit run /content/text_analytics_app.py & npx localtunnel -- port 8501"
      ],
      "metadata": {
        "id": "zjneXTKBq0Rz"
      },
      "execution_count": 18,
      "outputs": []
    },
    {
      "cell_type": "markdown",
      "source": [
        "Read the dataset"
      ],
      "metadata": {
        "id": "JPG0IIcWVk_Q"
      }
    },
    {
      "cell_type": "code",
      "source": [
        "from google.colab import drive\n",
        "drive.mount('/content/drive')"
      ],
      "metadata": {
        "colab": {
          "base_uri": "https://localhost:8080/"
        },
        "id": "Kpu0MX-qvD1p",
        "outputId": "9620a288-7844-4db8-c16a-c3f129baf6a5"
      },
      "execution_count": null,
      "outputs": [
        {
          "output_type": "stream",
          "name": "stdout",
          "text": [
            "Mounted at /content/drive\n"
          ]
        }
      ]
    },
    {
      "cell_type": "code",
      "source": [
        "#Read the data\n",
        "df = pd.read_csv('drive/My Drive/SIFA_DS_Intern/FF_dataset.csv')"
      ],
      "metadata": {
        "id": "8N4-ZRt1vS4b"
      },
      "execution_count": null,
      "outputs": []
    },
    {
      "cell_type": "code",
      "source": [
        "df.head()"
      ],
      "metadata": {
        "colab": {
          "base_uri": "https://localhost:8080/",
          "height": 206
        },
        "id": "Q5mXqy7pu-4S",
        "outputId": "4abcbb0b-27f5-4825-9f38-92667785e1c5"
      },
      "execution_count": null,
      "outputs": [
        {
          "output_type": "execute_result",
          "data": {
            "text/plain": [
              "                                               notes  \\\n",
              "0  36-year-old engineer, been working there for 5...   \n",
              "1  I often tell clients that planning for their r...   \n",
              "2     Name - Scott Snedden Age 45 Employed £100,000    \n",
              "3  Family D.O.B: 47 Married / Single: Kate, 40 D....   \n",
              "4  Name: Joe Young 50 years old Single, no depend...   \n",
              "\n",
              "                                       email summary country  \n",
              "0  Dear [Name], \\n\\nThank you for providing me wi...      UK  \n",
              "1  Dear [Client], \\n\\nThank you for your recent c...      UK  \n",
              "2  Dear Scott, \\n\\nI hope this email finds you we...      UK  \n",
              "3  Dear Name, \\n\\nI wanted to summarize the fact-...      UK  \n",
              "4  Dear [username], \\n\\nI am writing to summarise...      UK  "
            ],
            "text/html": [
              "\n",
              "  <div id=\"df-895dc7c4-db41-43c7-aff5-74b3ee942979\">\n",
              "    <div class=\"colab-df-container\">\n",
              "      <div>\n",
              "<style scoped>\n",
              "    .dataframe tbody tr th:only-of-type {\n",
              "        vertical-align: middle;\n",
              "    }\n",
              "\n",
              "    .dataframe tbody tr th {\n",
              "        vertical-align: top;\n",
              "    }\n",
              "\n",
              "    .dataframe thead th {\n",
              "        text-align: right;\n",
              "    }\n",
              "</style>\n",
              "<table border=\"1\" class=\"dataframe\">\n",
              "  <thead>\n",
              "    <tr style=\"text-align: right;\">\n",
              "      <th></th>\n",
              "      <th>notes</th>\n",
              "      <th>email summary</th>\n",
              "      <th>country</th>\n",
              "    </tr>\n",
              "  </thead>\n",
              "  <tbody>\n",
              "    <tr>\n",
              "      <th>0</th>\n",
              "      <td>36-year-old engineer, been working there for 5...</td>\n",
              "      <td>Dear [Name], \\n\\nThank you for providing me wi...</td>\n",
              "      <td>UK</td>\n",
              "    </tr>\n",
              "    <tr>\n",
              "      <th>1</th>\n",
              "      <td>I often tell clients that planning for their r...</td>\n",
              "      <td>Dear [Client], \\n\\nThank you for your recent c...</td>\n",
              "      <td>UK</td>\n",
              "    </tr>\n",
              "    <tr>\n",
              "      <th>2</th>\n",
              "      <td>Name - Scott Snedden Age 45 Employed £100,000</td>\n",
              "      <td>Dear Scott, \\n\\nI hope this email finds you we...</td>\n",
              "      <td>UK</td>\n",
              "    </tr>\n",
              "    <tr>\n",
              "      <th>3</th>\n",
              "      <td>Family D.O.B: 47 Married / Single: Kate, 40 D....</td>\n",
              "      <td>Dear Name, \\n\\nI wanted to summarize the fact-...</td>\n",
              "      <td>UK</td>\n",
              "    </tr>\n",
              "    <tr>\n",
              "      <th>4</th>\n",
              "      <td>Name: Joe Young 50 years old Single, no depend...</td>\n",
              "      <td>Dear [username], \\n\\nI am writing to summarise...</td>\n",
              "      <td>UK</td>\n",
              "    </tr>\n",
              "  </tbody>\n",
              "</table>\n",
              "</div>\n",
              "      <button class=\"colab-df-convert\" onclick=\"convertToInteractive('df-895dc7c4-db41-43c7-aff5-74b3ee942979')\"\n",
              "              title=\"Convert this dataframe to an interactive table.\"\n",
              "              style=\"display:none;\">\n",
              "        \n",
              "  <svg xmlns=\"http://www.w3.org/2000/svg\" height=\"24px\"viewBox=\"0 0 24 24\"\n",
              "       width=\"24px\">\n",
              "    <path d=\"M0 0h24v24H0V0z\" fill=\"none\"/>\n",
              "    <path d=\"M18.56 5.44l.94 2.06.94-2.06 2.06-.94-2.06-.94-.94-2.06-.94 2.06-2.06.94zm-11 1L8.5 8.5l.94-2.06 2.06-.94-2.06-.94L8.5 2.5l-.94 2.06-2.06.94zm10 10l.94 2.06.94-2.06 2.06-.94-2.06-.94-.94-2.06-.94 2.06-2.06.94z\"/><path d=\"M17.41 7.96l-1.37-1.37c-.4-.4-.92-.59-1.43-.59-.52 0-1.04.2-1.43.59L10.3 9.45l-7.72 7.72c-.78.78-.78 2.05 0 2.83L4 21.41c.39.39.9.59 1.41.59.51 0 1.02-.2 1.41-.59l7.78-7.78 2.81-2.81c.8-.78.8-2.07 0-2.86zM5.41 20L4 18.59l7.72-7.72 1.47 1.35L5.41 20z\"/>\n",
              "  </svg>\n",
              "      </button>\n",
              "      \n",
              "  <style>\n",
              "    .colab-df-container {\n",
              "      display:flex;\n",
              "      flex-wrap:wrap;\n",
              "      gap: 12px;\n",
              "    }\n",
              "\n",
              "    .colab-df-convert {\n",
              "      background-color: #E8F0FE;\n",
              "      border: none;\n",
              "      border-radius: 50%;\n",
              "      cursor: pointer;\n",
              "      display: none;\n",
              "      fill: #1967D2;\n",
              "      height: 32px;\n",
              "      padding: 0 0 0 0;\n",
              "      width: 32px;\n",
              "    }\n",
              "\n",
              "    .colab-df-convert:hover {\n",
              "      background-color: #E2EBFA;\n",
              "      box-shadow: 0px 1px 2px rgba(60, 64, 67, 0.3), 0px 1px 3px 1px rgba(60, 64, 67, 0.15);\n",
              "      fill: #174EA6;\n",
              "    }\n",
              "\n",
              "    [theme=dark] .colab-df-convert {\n",
              "      background-color: #3B4455;\n",
              "      fill: #D2E3FC;\n",
              "    }\n",
              "\n",
              "    [theme=dark] .colab-df-convert:hover {\n",
              "      background-color: #434B5C;\n",
              "      box-shadow: 0px 1px 3px 1px rgba(0, 0, 0, 0.15);\n",
              "      filter: drop-shadow(0px 1px 2px rgba(0, 0, 0, 0.3));\n",
              "      fill: #FFFFFF;\n",
              "    }\n",
              "  </style>\n",
              "\n",
              "      <script>\n",
              "        const buttonEl =\n",
              "          document.querySelector('#df-895dc7c4-db41-43c7-aff5-74b3ee942979 button.colab-df-convert');\n",
              "        buttonEl.style.display =\n",
              "          google.colab.kernel.accessAllowed ? 'block' : 'none';\n",
              "\n",
              "        async function convertToInteractive(key) {\n",
              "          const element = document.querySelector('#df-895dc7c4-db41-43c7-aff5-74b3ee942979');\n",
              "          const dataTable =\n",
              "            await google.colab.kernel.invokeFunction('convertToInteractive',\n",
              "                                                     [key], {});\n",
              "          if (!dataTable) return;\n",
              "\n",
              "          const docLinkHtml = 'Like what you see? Visit the ' +\n",
              "            '<a target=\"_blank\" href=https://colab.research.google.com/notebooks/data_table.ipynb>data table notebook</a>'\n",
              "            + ' to learn more about interactive tables.';\n",
              "          element.innerHTML = '';\n",
              "          dataTable['output_type'] = 'display_data';\n",
              "          await google.colab.output.renderOutput(dataTable, element);\n",
              "          const docLink = document.createElement('div');\n",
              "          docLink.innerHTML = docLinkHtml;\n",
              "          element.appendChild(docLink);\n",
              "        }\n",
              "      </script>\n",
              "    </div>\n",
              "  </div>\n",
              "  "
            ]
          },
          "metadata": {},
          "execution_count": 5
        }
      ]
    },
    {
      "cell_type": "code",
      "source": [
        "df.rename(columns = {'email summary':'email_summary'}, inplace = True)"
      ],
      "metadata": {
        "id": "M7zliW4BwKhY"
      },
      "execution_count": null,
      "outputs": []
    },
    {
      "cell_type": "code",
      "source": [
        "df['notes'][3]"
      ],
      "metadata": {
        "colab": {
          "base_uri": "https://localhost:8080/",
          "height": 139
        },
        "id": "YEZF2h-IwDYE",
        "outputId": "cfe6ed29-a792-41e0-b6fe-800f7c716169"
      },
      "execution_count": null,
      "outputs": [
        {
          "output_type": "execute_result",
          "data": {
            "text/plain": [
              "'Family D.O.B: 47 Married / Single: Kate, 40 D.O.B of Partner: 2 young kids 2 boys Oliver Rowland 5 Alfie 2 Children: Will? - no Residential Own\\u202f/ Rent: y Value: 495k 4 year - 600k now Mortgage: 250k sept 2.19% What type of mortgage: 1670/m Term and rate? How long do you see yourself there? Min 5 years - 10 years Bit more land - price go up 750-800k Other properties? Bought holiday 70k Srvice charge 5k/y Rental Income? Employment Role: director, GT, Manchaster 18 yers tax advice Enjoy it Looking to move up to partner in next year Reasonable Some life insurance, private Fixed profit shares Block of Min 175-200k Earnings: 120k Base: Bonus: disc ( 15k-20) Deferred stock: Are you obliged to hold any level of stock? Partners role: senior ey 8month 15 Private owned 3 days a week 2024 Dirctor 53k Partners remuneration: Pension: Sw - 23% - 9.5% 950 - 2950 £300,000 Stock 25% 18% uk index 15% All defult funds 26% property penison 2010 - too busy EY - 15k - wtw Aviva - 40k What pension pots do you have? · Current: sw - 18k · Stand life - kpmg - 45k · Ey 4k - legal & general · 10% - 6.5% · Dafult · Previous employment: Savings Cash: £80k stati Used to have an investent propety Got an offset account No Too much - offset against mortgage 20k in offset Mortgage up for renewal sept this eyar Save couple 100/m Boys 2.5k Virgin - Cash ISA: Investment\\u202fISA: Income and Expenditure: 8k/m 60% committed 20% disc - holdiays & going out 20% - half of it goes Direct debit Credit card £700- Bonus Xmas How much comes in: How much goes out: Saves Left overs: range Exposure points: 1 2 3 kate Life assruance Cic 75% salary Nothin private All throgh work Cic - Dis - Hopes / Aspirations: Time: Financial independence age: How much is needed in retirement to have the ability to have Choice / flexibility in your life? Other goals: Current overriding financial objective? 3 Main targets: '"
            ],
            "application/vnd.google.colaboratory.intrinsic+json": {
              "type": "string"
            }
          },
          "metadata": {},
          "execution_count": 7
        }
      ]
    },
    {
      "cell_type": "code",
      "source": [
        "df['email_summary'][3]"
      ],
      "metadata": {
        "colab": {
          "base_uri": "https://localhost:8080/",
          "height": 139
        },
        "id": "gfrtx822wlB8",
        "outputId": "ca6f765b-f7b7-49dc-d9a0-9cda199edc39"
      },
      "execution_count": null,
      "outputs": [
        {
          "output_type": "execute_result",
          "data": {
            "text/plain": [
              "\"Dear Name, \\n\\nI wanted to summarize the fact-find that we just conducted and provide you with my expert insights on your financial situation. Here are the key points: \\n\\nPositive Areas: \\n\\nYou are a director at a company in Manchester and have been working there for 18 years. You are looking to move up to a partner role in the near future. \\n\\nYou have a strong earning potential, with a base salary of £120,000, a bonus of £15,000 to £20,000, and deferred stock. \\n\\nYou have a reasonable amount of savings, with £80,000 in cash and a £20,000 offset account against your mortgage. \\n\\nYou have several pension pots, including a workplace pension with a current balance of £18,000, a personal pension with KPMG with a balance of £45,000, and a pension with Legal & General with a balance of £4,000. \\n\\nYou have a relatively low level of debt, with a mortgage balance of £250,000 and a repayment of £1670 per month. \\n\\nNegative Areas: \\n\\nYour mortgage is up for renewal in September and you will need to consider if you want to switch to a different mortgage product. \\n\\nYour savings are not invested, and you currently only have a Virgin Cash ISA. \\n\\nYou have no private life insurance, and your only coverage is through your workplace with a death in service benefit of 75% of your salary. \\n\\nBased on this information, I have the following recommendations: \\n\\nReview your mortgage options: When your mortgage is up for renewal in September, it's important to review your options to ensure you have the best mortgage product for your needs. You should consider switching to a different mortgage if it will save you money in the long term. \\n\\nConsider investing your savings: Your savings are currently not invested, which means they are not growing at a faster rate. You may want to consider investing some of your savings in a tax-efficient investment product, such as a Stocks and Shares ISA, to help your money grow faster. \\n\\nConsider private life insurance: While you have death in service coverage through your workplace, it's important to consider private life insurance to provide extra financial protection for your family in case something unexpected happens. \\n\\nReview your pension options: It's important to review your pension options to ensure you are on track to reach your retirement goals. You may want to consider consolidating your pensions into one pot to make it easier to manage, or increasing your contributions if you are not on track to reach your desired retirement income. \\n\\nI hope this information is helpful and provides you with a good starting point for your financial planning. If you have any further questions or would like to discuss these recommendations in more detail, please don't hesitate to get in touch. \\n\\nBest regards, \\n\\n[Your Name]\""
            ],
            "application/vnd.google.colaboratory.intrinsic+json": {
              "type": "string"
            }
          },
          "metadata": {},
          "execution_count": 8
        }
      ]
    },
    {
      "cell_type": "markdown",
      "source": [
        "Droping Duplicates and NA values"
      ],
      "metadata": {
        "id": "emuB8BS4WTTc"
      }
    },
    {
      "cell_type": "code",
      "source": [
        "df.drop_duplicates(subset=['notes'],inplace=True)  #dropping duplicates\n",
        "df.drop_duplicates(subset=['email_summary'],inplace=True)   #dropping duplicates\n",
        "df.dropna(axis=0,inplace=True)  #dropping nan "
      ],
      "metadata": {
        "id": "SP720-SpV-iq"
      },
      "execution_count": null,
      "outputs": []
    },
    {
      "cell_type": "markdown",
      "source": [
        "Basic information about the dataset"
      ],
      "metadata": {
        "id": "l9U2_i0mWaIs"
      }
    },
    {
      "cell_type": "code",
      "source": [
        "df.info()"
      ],
      "metadata": {
        "colab": {
          "base_uri": "https://localhost:8080/"
        },
        "id": "zLnzw13xw3gm",
        "outputId": "5feb9187-12a2-407c-aefc-a7670ff3d129"
      },
      "execution_count": null,
      "outputs": [
        {
          "output_type": "stream",
          "name": "stdout",
          "text": [
            "<class 'pandas.core.frame.DataFrame'>\n",
            "Int64Index: 25 entries, 0 to 24\n",
            "Data columns (total 3 columns):\n",
            " #   Column         Non-Null Count  Dtype \n",
            "---  ------         --------------  ----- \n",
            " 0   notes          25 non-null     object\n",
            " 1   email_summary  25 non-null     object\n",
            " 2   country        25 non-null     object\n",
            "dtypes: object(3)\n",
            "memory usage: 800.0+ bytes\n"
          ]
        }
      ]
    },
    {
      "cell_type": "code",
      "source": [
        "!wget http://nlp.stanford.edu/data/glove.6B.zip\n",
        "!unzip glove*.zip"
      ],
      "metadata": {
        "colab": {
          "base_uri": "https://localhost:8080/"
        },
        "id": "M1j4WFLW06Qi",
        "outputId": "e01a5de9-71b9-4016-e094-5c649e02cd64"
      },
      "execution_count": null,
      "outputs": [
        {
          "output_type": "stream",
          "name": "stdout",
          "text": [
            "--2023-02-01 03:11:36--  http://nlp.stanford.edu/data/glove.6B.zip\n",
            "Resolving nlp.stanford.edu (nlp.stanford.edu)... 171.64.67.140\n",
            "Connecting to nlp.stanford.edu (nlp.stanford.edu)|171.64.67.140|:80... connected.\n",
            "HTTP request sent, awaiting response... 302 Found\n",
            "Location: https://nlp.stanford.edu/data/glove.6B.zip [following]\n",
            "--2023-02-01 03:11:36--  https://nlp.stanford.edu/data/glove.6B.zip\n",
            "Connecting to nlp.stanford.edu (nlp.stanford.edu)|171.64.67.140|:443... connected.\n",
            "HTTP request sent, awaiting response... 301 Moved Permanently\n",
            "Location: https://downloads.cs.stanford.edu/nlp/data/glove.6B.zip [following]\n",
            "--2023-02-01 03:11:36--  https://downloads.cs.stanford.edu/nlp/data/glove.6B.zip\n",
            "Resolving downloads.cs.stanford.edu (downloads.cs.stanford.edu)... 171.64.64.22\n",
            "Connecting to downloads.cs.stanford.edu (downloads.cs.stanford.edu)|171.64.64.22|:443... connected.\n",
            "HTTP request sent, awaiting response... 200 OK\n",
            "Length: 862182613 (822M) [application/zip]\n",
            "Saving to: ‘glove.6B.zip’\n",
            "\n",
            "glove.6B.zip        100%[===================>] 822.24M  5.02MB/s    in 2m 39s  \n",
            "\n",
            "2023-02-01 03:14:16 (5.16 MB/s) - ‘glove.6B.zip’ saved [862182613/862182613]\n",
            "\n",
            "Archive:  glove.6B.zip\n",
            "  inflating: glove.6B.50d.txt        \n",
            "  inflating: glove.6B.100d.txt       \n",
            "  inflating: glove.6B.200d.txt       \n",
            "  inflating: glove.6B.300d.txt       \n"
          ]
        }
      ]
    },
    {
      "cell_type": "markdown",
      "source": [
        "Word embeddings for glove vector"
      ],
      "metadata": {
        "id": "zmYdg6vBhQFg"
      }
    },
    {
      "cell_type": "code",
      "source": [
        "# Extract word vectors\n",
        "word_embeddings = {}\n",
        "f = open('glove.6B.100d.txt', encoding='utf-8')\n",
        "for line in f:\n",
        "    values = line.split()\n",
        "    word = values[0]\n",
        "    coefs = np.asarray(values[1:], dtype='float32')\n",
        "    word_embeddings[word] = coefs\n",
        "f.close()"
      ],
      "metadata": {
        "id": "YMlvSEK51F-F"
      },
      "execution_count": null,
      "outputs": []
    },
    {
      "cell_type": "code",
      "source": [
        "len(word_embeddings)"
      ],
      "metadata": {
        "colab": {
          "base_uri": "https://localhost:8080/"
        },
        "id": "rS_rKOTF1JFl",
        "outputId": "6e366d4f-b13a-4d6e-a105-658133b5d7fb"
      },
      "execution_count": null,
      "outputs": [
        {
          "output_type": "execute_result",
          "data": {
            "text/plain": [
              "400000"
            ]
          },
          "metadata": {},
          "execution_count": 13
        }
      ]
    },
    {
      "cell_type": "markdown",
      "source": [
        "Pre-processing Text data (Email_Summary)"
      ],
      "metadata": {
        "id": "mNlkSOBYXALx"
      }
    },
    {
      "cell_type": "code",
      "source": [
        "def decontracted(phrase):\n",
        "    # specific\n",
        "    phrase = re.sub(r\"won't\", \"will not\", phrase)\n",
        "    phrase = re.sub(r\"can\\'t\", \"can not\", phrase)\n",
        "\n",
        "    # general\n",
        "    phrase = re.sub(r\"n\\'t\", \" not\", phrase)\n",
        "    phrase = re.sub(r\"\\'re\", \" are\", phrase)\n",
        "    phrase = re.sub(r\"\\'s\", \" is\", phrase)\n",
        "    phrase = re.sub(r\"\\'d\", \" would\", phrase)\n",
        "    phrase = re.sub(r\"\\'ll\", \" will\", phrase)\n",
        "    phrase = re.sub(r\"\\'t\", \" not\", phrase)\n",
        "    phrase = re.sub(r\"\\'ve\", \" have\", phrase)\n",
        "    phrase = re.sub(r\"\\'m\", \" am\", phrase)\n",
        "    return phrase"
      ],
      "metadata": {
        "id": "dG7dRrr41cAF"
      },
      "execution_count": null,
      "outputs": []
    },
    {
      "cell_type": "code",
      "source": [
        "text = df['email_summary'][6]"
      ],
      "metadata": {
        "id": "x-atVw_M2xpU"
      },
      "execution_count": null,
      "outputs": []
    },
    {
      "cell_type": "code",
      "source": [
        "def preprocessed_text(text):\n",
        "  \n",
        "  text = text.lower()\n",
        "  text=re.sub('[\\w\\.-]+@[\\w\\.-]+\\.\\w+', ' ',text)\n",
        "  text= re.sub(\"[\\(\\[].*?[\\)\\]]\", \"\", text)\n",
        "  text=re.sub(\"Subject:.*\\w+\",'',text)\n",
        "\n",
        "  #3. Delete all the sentances where sentence starts with \"Write to:\" or \"From:\".\n",
        "  text=re.sub(\"From:.*?\", ' ',text)\n",
        "  text=re.sub(\"Write to:.*?\",' ',text)\n",
        "\n",
        "  # 4. Delete all the tags like \"< anyword >\"\n",
        "  clean = re.compile('<.*?>')\n",
        "  text=re.sub(clean,' ',text)\n",
        "\n",
        "  # 5. Delete all the data which are present in the brackets. \n",
        "  clean1 = re.compile('\\(.*\\)')\n",
        "  text=re.sub(clean1,'',text)\n",
        "\n",
        "  #6. Remove all the newlines('\\n'), tabs('\\t'), \"-\", \"\\\".\n",
        "  text= re.sub(r\"[\\n\\t-]*\", \"\", text)\n",
        "\n",
        "  #Remove all the words which ends with \":\".\n",
        "  text= re.sub(r'\\w+:\\s?',' ',text)\n",
        "\n",
        "  text= re.sub('[^A-Za-z0-9]+', ' ',text)\n",
        "\n",
        "  text = ' '.join(e.lower() for e in text.split(' '))\n",
        "  text = ' '.join(e for e in text.split(' ')  if len(e)>2 and len(e)<15)\n",
        "\n",
        "  #Decontraction of text\n",
        "  text = decontracted(text)\n",
        "\n",
        "  return text"
      ],
      "metadata": {
        "id": "5it4xB9z2mPO"
      },
      "execution_count": null,
      "outputs": []
    },
    {
      "cell_type": "code",
      "source": [
        "preprocessed_text(text)"
      ],
      "metadata": {
        "colab": {
          "base_uri": "https://localhost:8080/",
          "height": 139
        },
        "id": "_h-PV0K32uz7",
        "outputId": "d2a15d46-f980-4dec-bade-5d9afb2718c8"
      },
      "execution_count": null,
      "outputs": [
        {
          "output_type": "execute_result",
          "data": {
            "text/plain": [
              "'factfind summary for alistair forbes and jackie forbes dear forbes and jackie writing provide summary our recent factfind meeting where discussed your financial situation goals and expectations based the information you provided would like highlight some the positive aspects your financial situation and also identify some areas for improvement positive you have investment portfolio with ubs which includes your own funds and joint portfolio oeic feeding into isas you have keen interest tax planning and have exposure private equity eis both terms your working history and investments made mitigate tax you have clear goal winding down from paid work and using your assets secure income for the future areas for currently not have full understanding your assets and debts which will necessary order provide you with comprehensive financial advice there has been discussion yet about your current income and expenses which will also necessary order make informed decisions will important consider the potential impact tax you decide restructure your portfolio including capital gains tax and any other relevant taxes moving forward would like provide the following further our understanding your financial situation would like provide you with performance analytics including information from voyant and the sjp ima would also like provide you with complete service client due diligence document which will outline the charges for our services and the benefits you can expect from working with finally would like send you three questions help understand your financial goals greater detail may also helpful complete technical link tax questionnaire gain deeper understanding the potential tax implications any portfolio restructuring confident that with this information will able provide you with detailed and accurate financial advice tailored the market taking into consideration the tax and investment options please let know you have any questions concerns regarding the information outlined above look forward continuing our discussions and working with you achieve your financial goals best regards'"
            ],
            "application/vnd.google.colaboratory.intrinsic+json": {
              "type": "string"
            }
          },
          "metadata": {},
          "execution_count": 17
        }
      ]
    },
    {
      "cell_type": "code",
      "source": [
        "preprocessed_email_summary=[]\n",
        "\n",
        "for i in tqdm(range(df.shape[0])):\n",
        "  preprocessed_email_summary.append(preprocessed_text(df['email_summary'].values[i]))\n"
      ],
      "metadata": {
        "colab": {
          "base_uri": "https://localhost:8080/"
        },
        "id": "NwYFKVsj9LAn",
        "outputId": "af92f013-2b0d-4e8b-8a91-c1de9e99df0d"
      },
      "execution_count": null,
      "outputs": [
        {
          "output_type": "stream",
          "name": "stderr",
          "text": [
            "100%|██████████| 25/25 [00:00<00:00, 749.71it/s]\n"
          ]
        }
      ]
    },
    {
      "cell_type": "code",
      "source": [
        "preprocessed_email_summary[6]"
      ],
      "metadata": {
        "colab": {
          "base_uri": "https://localhost:8080/",
          "height": 139
        },
        "id": "OORKKS9_-bXq",
        "outputId": "ae9e79bc-51ce-4ffa-d750-fa1c88be193b"
      },
      "execution_count": null,
      "outputs": [
        {
          "output_type": "execute_result",
          "data": {
            "text/plain": [
              "'factfind summary for alistair forbes and jackie forbes dear forbes and jackie writing provide summary our recent factfind meeting where discussed your financial situation goals and expectations based the information you provided would like highlight some the positive aspects your financial situation and also identify some areas for improvement positive you have investment portfolio with ubs which includes your own funds and joint portfolio oeic feeding into isas you have keen interest tax planning and have exposure private equity eis both terms your working history and investments made mitigate tax you have clear goal winding down from paid work and using your assets secure income for the future areas for currently not have full understanding your assets and debts which will necessary order provide you with comprehensive financial advice there has been discussion yet about your current income and expenses which will also necessary order make informed decisions will important consider the potential impact tax you decide restructure your portfolio including capital gains tax and any other relevant taxes moving forward would like provide the following further our understanding your financial situation would like provide you with performance analytics including information from voyant and the sjp ima would also like provide you with complete service client due diligence document which will outline the charges for our services and the benefits you can expect from working with finally would like send you three questions help understand your financial goals greater detail may also helpful complete technical link tax questionnaire gain deeper understanding the potential tax implications any portfolio restructuring confident that with this information will able provide you with detailed and accurate financial advice tailored the market taking into consideration the tax and investment options please let know you have any questions concerns regarding the information outlined above look forward continuing our discussions and working with you achieve your financial goals best regards'"
            ],
            "application/vnd.google.colaboratory.intrinsic+json": {
              "type": "string"
            }
          },
          "metadata": {},
          "execution_count": 19
        }
      ]
    },
    {
      "cell_type": "markdown",
      "source": [
        "Preprocessing text for notes"
      ],
      "metadata": {
        "id": "kCnfqs6WfBoX"
      }
    },
    {
      "cell_type": "code",
      "source": [
        "def preprocessed_notes_text(text):\n",
        "  \n",
        "  text = text.lower()\n",
        "  text=re.sub('[\\w\\.-]+@[\\w\\.-]+\\.\\w+', ' ',text)\n",
        "  text= re.sub(\"[\\(\\[].*?[\\)\\]]\", \"\", text)\n",
        "  text=re.sub(\"Subject:.*\\w+\",'',text)\n",
        "\n",
        "  #3. Delete all the sentances where sentence starts with \"Write to:\" or \"From:\".\n",
        "  text=re.sub(\"From:.*?\", ' ',text)\n",
        "  text=re.sub(\"Write to:.*?\",' ',text)\n",
        "\n",
        "  # 4. Delete all the tags like \"< anyword >\"\n",
        "  clean = re.compile('<.*?>')\n",
        "  text=re.sub(clean,' ',text)\n",
        "\n",
        "  # 5. Delete all the data which are present in the brackets. \n",
        "  clean1 = re.compile('\\(.*\\)')\n",
        "  text=re.sub(clean1,'',text)\n",
        "\n",
        "  #6. Remove all the newlines('\\n'), tabs('\\t'), \"-\", \"\\\".\n",
        "  text= re.sub(r\"[\\n\\t-]*\", \"\", text)\n",
        "\n",
        "  #Remove all the words which ends with \":\".\n",
        "  text= re.sub(r'\\w+:\\s?',' ',text)\n",
        "\n",
        "  #text= re.sub('[^A-Za-z0-9]+', ' ',text)\n",
        "\n",
        "  #text = ' '.join(e.lower() for e in text.split(' '))\n",
        "  #text = ' '.join(e for e in text.split(' ')  if len(e)>2 and len(e)<15)\n",
        "\n",
        "  #Decontraction of text\n",
        "  text = decontracted(text)\n",
        "\n",
        "  return text"
      ],
      "metadata": {
        "id": "6FwfQZIfSKBi"
      },
      "execution_count": null,
      "outputs": []
    },
    {
      "cell_type": "code",
      "source": [
        "preprocessed_notes = []\n",
        "\n",
        "for i in tqdm(range(df.shape[0])):\n",
        "  preprocessed_notes.append(preprocessed_notes_text(df['notes'].values[i]))"
      ],
      "metadata": {
        "colab": {
          "base_uri": "https://localhost:8080/"
        },
        "id": "MmIzD7JzR_O4",
        "outputId": "9f55a7a4-21a4-4108-9149-0316057db9fa"
      },
      "execution_count": null,
      "outputs": [
        {
          "output_type": "stream",
          "name": "stderr",
          "text": [
            "100%|██████████| 25/25 [00:00<00:00, 1841.51it/s]\n"
          ]
        }
      ]
    },
    {
      "cell_type": "code",
      "source": [
        "preprocessed_notes[6]"
      ],
      "metadata": {
        "colab": {
          "base_uri": "https://localhost:8080/",
          "height": 122
        },
        "id": "4VIxzFRJRyLs",
        "outputId": "bcc09daf-6612-48b1-97f2-d5e39be7133c"
      },
      "execution_count": null,
      "outputs": [
        {
          "output_type": "execute_result",
          "data": {
            "text/plain": [
              "'dr alistair forbes and wife jackie. referred by doug wilson who worked with alistair at houndog home is heriot row also property in strathtay, aberfeldy investment portfolio with ubs. seems to be in 2 of their own funds. joint portfolio/oeic feeding isas. want to review their strategy winding down from paid work  how best to use their assets income for the future. no discussion as yet about current inc v expenses. iht? no numbers on assets as yet. no mention of debt. private equity/eis exposure both in terms of working history and investments made to mitigate tax. asked about; • how i provide advice • sjp role • performance • charges need to send/think about; • performance/analytics • scdd • voyant info • 3 questions • sjp ima info • need to think about tax if they restructure  cgt? techlink tax questionnaire? '"
            ],
            "application/vnd.google.colaboratory.intrinsic+json": {
              "type": "string"
            }
          },
          "metadata": {},
          "execution_count": 22
        }
      ]
    },
    {
      "cell_type": "code",
      "source": [
        "from nltk.corpus import stopwords\n",
        "stop_words = stopwords.words('english')\n",
        "\n",
        "# function to remove stopwords\n",
        "def remove_stopwords(sen):\n",
        "  sen_new = \" \".join([i for i in sen if i not in stop_words])\n",
        "  return sen_new"
      ],
      "metadata": {
        "id": "SPCXDNps48bo"
      },
      "execution_count": null,
      "outputs": []
    },
    {
      "cell_type": "code",
      "source": [
        "# remove stopwords from the sentences\n",
        "clean_sentences_email = [remove_stopwords(r.split()) for r in preprocessed_email_summary]\n",
        "clean_sentences_notes = [remove_stopwords(r.split()) for r in preprocessed_notes]"
      ],
      "metadata": {
        "id": "aacO-erx5Cs8"
      },
      "execution_count": null,
      "outputs": []
    },
    {
      "cell_type": "code",
      "source": [
        "clean_sentences_notes[6]"
      ],
      "metadata": {
        "colab": {
          "base_uri": "https://localhost:8080/",
          "height": 104
        },
        "id": "FWUCtSZWTTHM",
        "outputId": "42710640-5cd2-4261-a8b2-a962be47ea23"
      },
      "execution_count": null,
      "outputs": [
        {
          "output_type": "execute_result",
          "data": {
            "text/plain": [
              "'dr alistair forbes wife jackie. referred doug wilson worked alistair houndog home heriot row also property strathtay, aberfeldy investment portfolio ubs. seems 2 funds. joint portfolio/oeic feeding isas. want review strategy winding paid work best use assets income future. discussion yet current inc v expenses. iht? numbers assets yet. mention debt. private equity/eis exposure terms working history investments made mitigate tax. asked about; • provide advice • sjp role • performance • charges need send/think about; • performance/analytics • scdd • voyant info • 3 questions • sjp ima info • need think tax restructure cgt? techlink tax questionnaire?'"
            ],
            "application/vnd.google.colaboratory.intrinsic+json": {
              "type": "string"
            }
          },
          "metadata": {},
          "execution_count": 25
        }
      ]
    },
    {
      "cell_type": "code",
      "source": [
        "clean_sentences_email[6]"
      ],
      "metadata": {
        "colab": {
          "base_uri": "https://localhost:8080/",
          "height": 139
        },
        "id": "TLEWzPpE82cL",
        "outputId": "6f6166d0-6d0e-414d-9c23-6ef4432f7c29"
      },
      "execution_count": null,
      "outputs": [
        {
          "output_type": "execute_result",
          "data": {
            "text/plain": [
              "'factfind summary alistair forbes jackie forbes dear forbes jackie writing provide summary recent factfind meeting discussed financial situation goals expectations based information provided would like highlight positive aspects financial situation also identify areas improvement positive investment portfolio ubs includes funds joint portfolio oeic feeding isas keen interest tax planning exposure private equity eis terms working history investments made mitigate tax clear goal winding paid work using assets secure income future areas currently full understanding assets debts necessary order provide comprehensive financial advice discussion yet current income expenses also necessary order make informed decisions important consider potential impact tax decide restructure portfolio including capital gains tax relevant taxes moving forward would like provide following understanding financial situation would like provide performance analytics including information voyant sjp ima would also like provide complete service client due diligence document outline charges services benefits expect working finally would like send three questions help understand financial goals greater detail may also helpful complete technical link tax questionnaire gain deeper understanding potential tax implications portfolio restructuring confident information able provide detailed accurate financial advice tailored market taking consideration tax investment options please let know questions concerns regarding information outlined look forward continuing discussions working achieve financial goals best regards'"
            ],
            "application/vnd.google.colaboratory.intrinsic+json": {
              "type": "string"
            }
          },
          "metadata": {},
          "execution_count": 26
        }
      ]
    },
    {
      "cell_type": "code",
      "source": [
        "df['preprocessed_email_summary'] = clean_sentences_email\n",
        "df['preprocessed_notes'] = clean_sentences_notes"
      ],
      "metadata": {
        "id": "CocADD-6nCsc"
      },
      "execution_count": null,
      "outputs": []
    },
    {
      "cell_type": "code",
      "source": [
        "df.head(1)"
      ],
      "metadata": {
        "colab": {
          "base_uri": "https://localhost:8080/",
          "height": 142
        },
        "id": "1HE7sUyunC9n",
        "outputId": "e8ee94f6-771f-4d04-cfeb-6962a53e501d"
      },
      "execution_count": null,
      "outputs": [
        {
          "output_type": "execute_result",
          "data": {
            "text/plain": [
              "                                               notes  \\\n",
              "0  36-year-old engineer, been working there for 5...   \n",
              "\n",
              "                                       email_summary country  \\\n",
              "0  Dear [Name], \\n\\nThank you for providing me wi...      UK   \n",
              "\n",
              "                          preprocessed_email_summary  \\\n",
              "0  dear thank providing details financial situati...   \n",
              "\n",
              "                                  preprocessed_notes  \n",
              "0  36yearold engineer, working 5 years, move back...  "
            ],
            "text/html": [
              "\n",
              "  <div id=\"df-780bb04a-2ff6-40bc-9c4c-6bc7f94b28ed\">\n",
              "    <div class=\"colab-df-container\">\n",
              "      <div>\n",
              "<style scoped>\n",
              "    .dataframe tbody tr th:only-of-type {\n",
              "        vertical-align: middle;\n",
              "    }\n",
              "\n",
              "    .dataframe tbody tr th {\n",
              "        vertical-align: top;\n",
              "    }\n",
              "\n",
              "    .dataframe thead th {\n",
              "        text-align: right;\n",
              "    }\n",
              "</style>\n",
              "<table border=\"1\" class=\"dataframe\">\n",
              "  <thead>\n",
              "    <tr style=\"text-align: right;\">\n",
              "      <th></th>\n",
              "      <th>notes</th>\n",
              "      <th>email_summary</th>\n",
              "      <th>country</th>\n",
              "      <th>preprocessed_email_summary</th>\n",
              "      <th>preprocessed_notes</th>\n",
              "    </tr>\n",
              "  </thead>\n",
              "  <tbody>\n",
              "    <tr>\n",
              "      <th>0</th>\n",
              "      <td>36-year-old engineer, been working there for 5...</td>\n",
              "      <td>Dear [Name], \\n\\nThank you for providing me wi...</td>\n",
              "      <td>UK</td>\n",
              "      <td>dear thank providing details financial situati...</td>\n",
              "      <td>36yearold engineer, working 5 years, move back...</td>\n",
              "    </tr>\n",
              "  </tbody>\n",
              "</table>\n",
              "</div>\n",
              "      <button class=\"colab-df-convert\" onclick=\"convertToInteractive('df-780bb04a-2ff6-40bc-9c4c-6bc7f94b28ed')\"\n",
              "              title=\"Convert this dataframe to an interactive table.\"\n",
              "              style=\"display:none;\">\n",
              "        \n",
              "  <svg xmlns=\"http://www.w3.org/2000/svg\" height=\"24px\"viewBox=\"0 0 24 24\"\n",
              "       width=\"24px\">\n",
              "    <path d=\"M0 0h24v24H0V0z\" fill=\"none\"/>\n",
              "    <path d=\"M18.56 5.44l.94 2.06.94-2.06 2.06-.94-2.06-.94-.94-2.06-.94 2.06-2.06.94zm-11 1L8.5 8.5l.94-2.06 2.06-.94-2.06-.94L8.5 2.5l-.94 2.06-2.06.94zm10 10l.94 2.06.94-2.06 2.06-.94-2.06-.94-.94-2.06-.94 2.06-2.06.94z\"/><path d=\"M17.41 7.96l-1.37-1.37c-.4-.4-.92-.59-1.43-.59-.52 0-1.04.2-1.43.59L10.3 9.45l-7.72 7.72c-.78.78-.78 2.05 0 2.83L4 21.41c.39.39.9.59 1.41.59.51 0 1.02-.2 1.41-.59l7.78-7.78 2.81-2.81c.8-.78.8-2.07 0-2.86zM5.41 20L4 18.59l7.72-7.72 1.47 1.35L5.41 20z\"/>\n",
              "  </svg>\n",
              "      </button>\n",
              "      \n",
              "  <style>\n",
              "    .colab-df-container {\n",
              "      display:flex;\n",
              "      flex-wrap:wrap;\n",
              "      gap: 12px;\n",
              "    }\n",
              "\n",
              "    .colab-df-convert {\n",
              "      background-color: #E8F0FE;\n",
              "      border: none;\n",
              "      border-radius: 50%;\n",
              "      cursor: pointer;\n",
              "      display: none;\n",
              "      fill: #1967D2;\n",
              "      height: 32px;\n",
              "      padding: 0 0 0 0;\n",
              "      width: 32px;\n",
              "    }\n",
              "\n",
              "    .colab-df-convert:hover {\n",
              "      background-color: #E2EBFA;\n",
              "      box-shadow: 0px 1px 2px rgba(60, 64, 67, 0.3), 0px 1px 3px 1px rgba(60, 64, 67, 0.15);\n",
              "      fill: #174EA6;\n",
              "    }\n",
              "\n",
              "    [theme=dark] .colab-df-convert {\n",
              "      background-color: #3B4455;\n",
              "      fill: #D2E3FC;\n",
              "    }\n",
              "\n",
              "    [theme=dark] .colab-df-convert:hover {\n",
              "      background-color: #434B5C;\n",
              "      box-shadow: 0px 1px 3px 1px rgba(0, 0, 0, 0.15);\n",
              "      filter: drop-shadow(0px 1px 2px rgba(0, 0, 0, 0.3));\n",
              "      fill: #FFFFFF;\n",
              "    }\n",
              "  </style>\n",
              "\n",
              "      <script>\n",
              "        const buttonEl =\n",
              "          document.querySelector('#df-780bb04a-2ff6-40bc-9c4c-6bc7f94b28ed button.colab-df-convert');\n",
              "        buttonEl.style.display =\n",
              "          google.colab.kernel.accessAllowed ? 'block' : 'none';\n",
              "\n",
              "        async function convertToInteractive(key) {\n",
              "          const element = document.querySelector('#df-780bb04a-2ff6-40bc-9c4c-6bc7f94b28ed');\n",
              "          const dataTable =\n",
              "            await google.colab.kernel.invokeFunction('convertToInteractive',\n",
              "                                                     [key], {});\n",
              "          if (!dataTable) return;\n",
              "\n",
              "          const docLinkHtml = 'Like what you see? Visit the ' +\n",
              "            '<a target=\"_blank\" href=https://colab.research.google.com/notebooks/data_table.ipynb>data table notebook</a>'\n",
              "            + ' to learn more about interactive tables.';\n",
              "          element.innerHTML = '';\n",
              "          dataTable['output_type'] = 'display_data';\n",
              "          await google.colab.output.renderOutput(dataTable, element);\n",
              "          const docLink = document.createElement('div');\n",
              "          docLink.innerHTML = docLinkHtml;\n",
              "          element.appendChild(docLink);\n",
              "        }\n",
              "      </script>\n",
              "    </div>\n",
              "  </div>\n",
              "  "
            ]
          },
          "metadata": {},
          "execution_count": 28
        }
      ]
    },
    {
      "cell_type": "markdown",
      "source": [
        "**Text** **Analytics**"
      ],
      "metadata": {
        "id": "TJyNbvfQ004K"
      }
    },
    {
      "cell_type": "markdown",
      "source": [
        "Sentence Tokenization"
      ],
      "metadata": {
        "id": "TpXsOFK41R8m"
      }
    },
    {
      "cell_type": "code",
      "source": [
        "from nltk.tokenize import sent_tokenize\n",
        "tokenized_email_text= []\n",
        "tokenized_email_word = []\n",
        "tokenized_notes_text = []\n",
        "tokenized_notes_word = []\n",
        "\n",
        "fdist_email = []\n",
        "fdist_notes = []\n",
        "\n",
        "for i in tqdm(range(df.shape[0])):\n",
        "\n",
        "  #Sentence Tokenization\n",
        "  tokenized_email_text.append(sent_tokenize(df['preprocessed_email_summary'].values[i]))\n",
        "\n",
        "  #Word Tokenization\n",
        "  tokenized_email_word.append(word_tokenize(df['preprocessed_email_summary'].values[i]))\n",
        "\n",
        "\n",
        "  #Sentence Tokenization\n",
        "  tokenized_notes_text.append(sent_tokenize(df['preprocessed_notes'].values[i]))\n",
        "\n",
        "  #Word Tokenization\n",
        "  tokenized_notes_word.append(word_tokenize(df['preprocessed_notes'].values[i]))\n",
        "\n",
        "\n"
      ],
      "metadata": {
        "colab": {
          "base_uri": "https://localhost:8080/"
        },
        "id": "XebLB_RX0rPW",
        "outputId": "bc11bb93-6eeb-41c7-b17b-58b1128aa757"
      },
      "execution_count": null,
      "outputs": [
        {
          "output_type": "stream",
          "name": "stderr",
          "text": [
            "100%|██████████| 25/25 [00:00<00:00, 397.59it/s]\n"
          ]
        }
      ]
    },
    {
      "cell_type": "code",
      "source": [
        "#Frequency distribution table\n",
        "for each_word in tokenized_email_word:\n",
        "  fdist_email = FreqDist(each_word)\n",
        "\n",
        "for each_word in tokenized_notes_word:\n",
        "  fdist_notes = FreqDist(each_word)"
      ],
      "metadata": {
        "id": "Ua8XqwOVBlhE"
      },
      "execution_count": null,
      "outputs": []
    },
    {
      "cell_type": "code",
      "source": [
        "fdist_email\n"
      ],
      "metadata": {
        "colab": {
          "base_uri": "https://localhost:8080/"
        },
        "id": "S97cz2glDY_y",
        "outputId": "e6d8f1dd-ae48-43a2-b314-2ece8ecb3a8f"
      },
      "execution_count": null,
      "outputs": [
        {
          "output_type": "execute_result",
          "data": {
            "text/plain": [
              "FreqDist({'investment': 5, 'lifestyle': 5, 'financial': 4, 'income': 4, 'help': 4, 'may': 4, 'consider': 4, 'review': 3, 'provide': 3, 'passive': 3, ...})"
            ]
          },
          "metadata": {},
          "execution_count": 31
        }
      ]
    },
    {
      "cell_type": "code",
      "source": [
        "fdist_notes"
      ],
      "metadata": {
        "colab": {
          "base_uri": "https://localhost:8080/"
        },
        "id": "xgsFLUpwU2px",
        "outputId": "ddace908-fd52-4f22-ed60-49664824bcde"
      },
      "execution_count": null,
      "outputs": [
        {
          "output_type": "execute_result",
          "data": {
            "text/plain": [
              "FreqDist({'2': 2, 'home': 2, 'rental': 2, 'properties': 2, 'sarah': 1, 'johnson': 1, '60': 1, 'retired': 1, '$': 1, '50,000': 1, ...})"
            ]
          },
          "metadata": {},
          "execution_count": 32
        }
      ]
    },
    {
      "cell_type": "code",
      "source": [
        "# Frequency Distribution Plot\n",
        "import matplotlib.pyplot as plt\n",
        "\n",
        "fdist_email.plot(30,cumulative=False)\n",
        "plt.show()"
      ],
      "metadata": {
        "colab": {
          "base_uri": "https://localhost:8080/",
          "height": 326
        },
        "id": "435j1ksQ1kui",
        "outputId": "b0f7e343-44d2-41f3-e134-94093bc9f5fa"
      },
      "execution_count": null,
      "outputs": [
        {
          "output_type": "display_data",
          "data": {
            "text/plain": [
              "<Figure size 432x288 with 1 Axes>"
            ],
            "image/png": "[encoded data removed]"
          },
          "metadata": {
            "needs_background": "light"
          }
        }
      ]
    },
    {
      "cell_type": "code",
      "source": [
        "# Frequency Distribution Plot\n",
        "import matplotlib.pyplot as plt\n",
        "\n",
        "fdist_notes.plot(30,cumulative=False)\n",
        "plt.show()"
      ],
      "metadata": {
        "colab": {
          "base_uri": "https://localhost:8080/",
          "height": 326
        },
        "id": "c0g0RmlwU9vK",
        "outputId": "e5244d6a-2294-44ca-fd83-2cb993a78ed6"
      },
      "execution_count": null,
      "outputs": [
        {
          "output_type": "display_data",
          "data": {
            "text/plain": [
              "<Figure size 432x288 with 1 Axes>"
            ],
            "image/png": "[encoded data removed]"
          },
          "metadata": {
            "needs_background": "light"
          }
        }
      ]
    },
    {
      "cell_type": "markdown",
      "source": [
        "Removing Stopwords from email_text and notes_text\n"
      ],
      "metadata": {
        "id": "hgaKM6GR1tVz"
      }
    },
    {
      "cell_type": "code",
      "source": [
        "filtered_tokens_email=[]\n",
        "for w in tokenized_email_word:    \n",
        "    if w not in stop_words:\n",
        "         filtered_tokens_email.append(w)\n",
        "\n",
        "print(\"Tokenized Words:\",tokenized_email_word)\n",
        "print(\"Filterd Tokens:\",filtered_tokens_email)"
      ],
      "metadata": {
        "colab": {
          "base_uri": "https://localhost:8080/"
        },
        "id": "9foZgqgz1v7w",
        "outputId": "6f29aaff-23fa-4fff-c763-9bd5a925bf5f"
      },
      "execution_count": null,
      "outputs": [
        {
          "output_type": "stream",
          "name": "stdout",
          "text": [
            "Tokenized Words: [['dear', 'thank', 'providing', 'details', 'financial', 'situation', 'appreciate', 'opportunity', 'offer', 'expert', 'insights', 'based', 'information', 'shared', 'would', 'like', 'summarize', 'key', 'points', 'financial', 'positive', '36yearold', 'engineer', 'working', 'years', 'nonqualified', 'pension', 'efa', 'organization', 'balance', '120k', 'agreement', 'french', 'tax', 'authorities', 'tax', 'income', 'salary', 'capital', 'gains', 'expected', 'make', 'significant', 'gain', 'french', 'property', 'taxfree', 'negative', 'moving', 'back', 'family', 'reasons', 'longer', 'french', 'resident', 'taxed', 'provisionally', 'april', '6th', '2023', 'physically', 'move', 'back', 'around', 'february', '15th', 'pension', 'investment', 'fund', 'rather', 'traditional', 'pension', 'given', 'situation', 'would', 'like', 'offer', 'following', 'since', 'moving', 'back', 'longer', 'french', 'resident', 'important', 'consider', 'impact', 'change', 'financial', 'situation', 'particular', 'consider', 'tax', 'implications', 'pension', 'assets', 'france', 'carefully', 'consider', 'options', 'pension', 'close', 'leave', 'payroll', 'may', 'able', 'access', 'funds', 'taxefficient', 'manner', 'seek', 'advice', 'financial', 'advisor', 'help', 'navigate', 'complexities', 'tax', 'rules', 'finally', 'would', 'recommend', 'consider', 'benefits', 'working', 'financial', 'advisor', 'help', 'navigate', 'transition', 'new', 'home', 'advisor', 'help', 'identify', 'opportunities', 'optimize', 'financial', 'situation', 'minimize', 'tax', 'liabilities', 'ensure', 'track', 'achieve', 'financial', 'goals', 'hope', 'find', 'helpful', 'questions', 'would', 'like', 'discuss', 'situation', 'detail', 'please', 'hesitate', 'reach', 'best', 'regards'], ['dear', 'thank', 'recent', 'conversation', 'retirement', 'planning', 'goals', 'understand', 'would', 'like', 'build', 'life', 'well', 'planned', 'live', 'picture', 'envision', 'retirement', 'like', 'share', 'expert', 'insights', 'financial', 'planning', 'process', 'highlight', 'various', 'steps', 'involved', 'condensed', 'overview', 'understanding', 'step', 'involves', 'getting', 'know', 'unique', 'circumstances', 'provide', 'tailored', 'advice', 'specific', 'needs', 'identifying', 'goals', 'step', 'work', 'together', 'determine', 'retirement', 'income', 'goals', 'well', 'priorities', 'terms', 'lifestyle', 'legacy', 'planning', 'important', 'considerations', 'analyzing', 'step', 'involves', 'looking', 'current', 'financial', 'situation', 'determine', 'true', 'today', 'changes', 'need', 'made', 'reach', 'goals', 'creating', 'plan', 'based', 'analysis', 'create', 'customized', 'retirement', 'income', 'strategy', 'provide', 'investments', 'insurance', 'services', 'help', 'achieve', 'goals', 'presenting', 'present', 'explain', 'align', 'retirement', 'income', 'goals', 'implementing', 'step', 'involves', 'putting', 'plan', 'action', 'making', 'necessary', 'changes', 'ensure', 'track', 'achieve', 'goals', 'monitoring', 'regular', 'monitoring', 'investments', 'insurance', 'coverage', 'important', 'ensure', 'plan', 'remains', 'aligned', 'goals', 'taking', 'advantage', 'opportunities', 'may', 'arise', 'addition', 'steps', 'outlined', 'would', 'also', 'like', 'emphasize', 'importance', 'analyzing', 'tax', 'considerations', 'developing', 'plan', 'understand', 'answer', 'questions', 'arise', 'retirement', 'planning', 'process', 'hope', 'overview', 'financial', 'planning', 'process', 'helpful', 'please', 'let', 'know', 'additional', 'questions', 'concerns', 'anything', 'else', 'support', 'retirement', 'planning', 'journey', 'sincerely'], ['dear', 'scott', 'hope', 'email', 'finds', 'well', 'wanted', 'take', 'moment', 'follow', 'recent', 'financial', 'factfind', 'summarize', 'key', 'points', 'discussed', 'positive', 'age', 'means', 'still', 'several', 'years', 'save', 'plan', 'future', 'giving', 'ample', 'time', 'reach', 'financial', 'goals', 'employment', 'status', 'income', '100', '000', 'provide', 'solid', 'foundation', 'financial', 'planning', 'negative', 'information', 'provided', 'current', 'financial', 'situation', 'investment', 'portfolio', 'could', 'impact', 'ability', 'provide', 'comprehensive', 'financial', 'plan', 'based', 'information', 'provided', 'initial', 'include', 'start', 'creating', 'comprehensive', 'financial', 'plan', 'outlines', 'current', 'financial', 'situation', 'well', 'longterm', 'financial', 'goals', 'help', 'better', 'understand', 'unique', 'needs', 'make', 'informed', 'decisions', 'financial', 'future', 'develop', 'retirement', 'income', 'strategy', 'takes', 'account', 'lifestyle', 'spending', 'habits', 'well', 'sources', 'income', 'may', 'retirement', 'consider', 'tax', 'planning', 'options', 'taxes', 'significantly', 'impact', 'overall', 'retirement', 'savings', 'include', 'looking', 'taxefficient', 'investment', 'options', 'pension', 'contributions', 'may', 'allow', 'reduce', 'tax', 'bill', 'maximize', 'savings', 'evaluate', 'insurance', 'coverage', 'ensure', 'adequately', 'protected', 'event', 'unexpected', 'illness', 'injury', 'death', 'may', 'include', 'life', 'insurance', 'critical', 'illness', 'cover', 'income', 'protection', 'insurance', 'invest', 'diversified', 'portfolio', 'investments', 'aligns', 'risk', 'tolerance', 'investment', 'goals', 'time', 'horizon', 'help', 'grow', 'wealth', 'time', 'prepare', 'retirement', 'please', 'let', 'know', 'questions', 'concerns', 'regarding', 'look', 'forward', 'working', 'help', 'achieve', 'financial', 'goals', 'best', 'regards'], ['dear', 'name', 'wanted', 'summarize', 'factfind', 'conducted', 'provide', 'expert', 'insights', 'financial', 'situation', 'key', 'positive', 'director', 'company', 'manchester', 'working', 'years', 'looking', 'move', 'partner', 'role', 'near', 'future', 'strong', 'earning', 'potential', 'base', 'salary', '120', '000', 'bonus', '000', '000', 'deferred', 'stock', 'reasonable', 'amount', 'savings', '000', 'cash', '000', 'offset', 'account', 'mortgage', 'several', 'pension', 'pots', 'including', 'workplace', 'pension', 'current', 'balance', '000', 'personal', 'pension', 'kpmg', 'balance', '000', 'pension', 'legal', 'general', 'balance', '000', 'relatively', 'low', 'level', 'debt', 'mortgage', 'balance', '250', '000', 'repayment', '1670', 'per', 'month', 'negative', 'mortgage', 'renewal', 'september', 'need', 'consider', 'want', 'switch', 'different', 'mortgage', 'product', 'savings', 'invested', 'currently', 'virgin', 'cash', 'isa', 'private', 'life', 'insurance', 'coverage', 'workplace', 'death', 'service', 'benefit', 'salary', 'based', 'information', 'following', 'review', 'mortgage', 'mortgage', 'renewal', 'september', 'important', 'review', 'options', 'ensure', 'best', 'mortgage', 'product', 'needs', 'consider', 'switching', 'different', 'mortgage', 'save', 'money', 'long', 'term', 'consider', 'investing', 'savings', 'currently', 'invested', 'means', 'growing', 'faster', 'rate', 'may', 'want', 'consider', 'investing', 'savings', 'taxefficient', 'investment', 'product', 'stocks', 'shares', 'isa', 'help', 'money', 'grow', 'faster', 'consider', 'private', 'life', 'death', 'service', 'coverage', 'workplace', 'important', 'consider', 'private', 'life', 'insurance', 'provide', 'extra', 'financial', 'protection', 'family', 'case', 'something', 'unexpected', 'happens', 'review', 'pension', 'important', 'review', 'pension', 'options', 'ensure', 'track', 'reach', 'retirement', 'goals', 'may', 'want', 'consider', 'consolidating', 'pensions', 'one', 'pot', 'make', 'easier', 'manage', 'increasing', 'contributions', 'track', 'reach', 'desired', 'retirement', 'income', 'hope', 'information', 'helpful', 'provides', 'good', 'starting', 'point', 'financial', 'planning', 'questions', 'would', 'like', 'discuss', 'detail', 'please', 'hesitate', 'get', 'touch', 'best', 'regards'], ['dear', 'writing', 'summarise', 'financial', 'factfind', 'recently', 'conducted', 'please', 'find', 'highlights', 'positive', 'negative', 'areas', 'factfind', 'positive', 'joe', 'young', 'years', 'old', 'single', 'dependants', 'owns', 'property', 'worth', '700', '000', 'mortgage', '150', '000', 'joe', 'personal', 'pensions', 'total', 'value', 'around', '500', '000', 'also', 'final', 'salary', 'pension', 'provide', 'income', '000', 'per', 'annum', 'age', 'joe', 'debts', 'besides', 'mortgage', 'negative', 'time', 'specific', 'financial', 'goal', 'objective', 'mentioned', 'value', 'joe', 'personal', 'pensions', 'broken', 'individual', 'funds', 'possible', 'provide', 'full', 'analysis', 'investments', 'based', 'information', 'provided', 'appears', 'joe', 'strong', 'financial', 'foundation', 'significant', 'assets', 'property', 'pensions', 'however', 'without', 'clear', 'financial', 'goal', 'objective', 'difficult', 'provide', 'specific', 'order', 'provide', 'tailored', 'financial', 'plan', 'would', 'helpful', 'learn', 'joe', 'financial', 'goals', 'risk', 'tolerance', 'factors', 'may', 'impact', 'financial', 'situation', 'additionally', 'full', 'analysis', 'individual', 'funds', 'within', 'personal', 'pensions', 'would', 'provide', 'valuable', 'insight', 'investment', 'strategy', 'help', 'ensure', 'portfolio', 'aligned', 'goals', 'please', 'let', 'know', 'questions', 'additional', 'information', 'would', 'like', 'consider', 'best', 'regards'], ['financial', 'factfind', 'summary', 'helen', 'sims', 'dear', 'sharon', 'gordon', 'urquharts', 'hope', 'email', 'finds', 'well', 'writing', 'summarize', 'financial', 'factfind', 'conducted', 'helen', 'sims', 'irene', 'mcgowan', 'requested', 'taken', 'consideration', 'tax', 'investment', 'options', 'giving', 'expert', 'insights', 'advice', 'positive', 'helen', 'sims', 'several', 'sources', 'income', 'including', 'small', 'university', 'pension', 'state', 'pension', 'benefits', 'amounting', 'per', 'day', '856', 'per', 'month', 'helen', 'sims', 'multiple', 'investments', 'main', 'home', 'vacant', 'may', 'worth', '300', '000', 'helen', 'sims', 'cash', 'reserve', 'around', '000', 'cover', 'care', 'costs', 'next', 'years', 'negative', 'helen', 'sims', 'currently', 'living', 'care', 'home', 'cost', '000', 'per', 'year', 'helen', 'sims', 'worried', 'performance', 'investments', 'impact', 'ability', 'cover', 'care', 'costs', 'concern', 'around', 'inheritance', 'tax', 'exemptions', 'nil', 'rate', 'band', 'residential', 'nil', 'rate', 'band', 'per', 'information', 'provided', 'likely', 'helen', 'sims', 'iht', 'issue', 'liquid', 'assets', 'house', 'likely', 'come', 'million', 'assets', 'exempt', 'limit', 'sims', 'use', 'nrb', 'possible', 'helen', 'claim', 'rnrb', 'available', 'ensure', 'helen', 'sims', 'sufficient', 'funds', 'cover', 'care', 'costs', 'explore', 'option', 'immediate', 'care', 'annuity', 'please', 'note', 'information', 'based', 'information', 'provided', 'factfind', 'subject', 'change', 'based', 'research', 'confirmation', 'details', 'questions', 'require', 'additional', 'information', 'please', 'hesitate', 'reach', 'best', 'regards', 'financial', 'advisor'], ['factfind', 'summary', 'alistair', 'forbes', 'jackie', 'forbes', 'dear', 'forbes', 'jackie', 'writing', 'provide', 'summary', 'recent', 'factfind', 'meeting', 'discussed', 'financial', 'situation', 'goals', 'expectations', 'based', 'information', 'provided', 'would', 'like', 'highlight', 'positive', 'aspects', 'financial', 'situation', 'also', 'identify', 'areas', 'improvement', 'positive', 'investment', 'portfolio', 'ubs', 'includes', 'funds', 'joint', 'portfolio', 'oeic', 'feeding', 'isas', 'keen', 'interest', 'tax', 'planning', 'exposure', 'private', 'equity', 'eis', 'terms', 'working', 'history', 'investments', 'made', 'mitigate', 'tax', 'clear', 'goal', 'winding', 'paid', 'work', 'using', 'assets', 'secure', 'income', 'future', 'areas', 'currently', 'full', 'understanding', 'assets', 'debts', 'necessary', 'order', 'provide', 'comprehensive', 'financial', 'advice', 'discussion', 'yet', 'current', 'income', 'expenses', 'also', 'necessary', 'order', 'make', 'informed', 'decisions', 'important', 'consider', 'potential', 'impact', 'tax', 'decide', 'restructure', 'portfolio', 'including', 'capital', 'gains', 'tax', 'relevant', 'taxes', 'moving', 'forward', 'would', 'like', 'provide', 'following', 'understanding', 'financial', 'situation', 'would', 'like', 'provide', 'performance', 'analytics', 'including', 'information', 'voyant', 'sjp', 'ima', 'would', 'also', 'like', 'provide', 'complete', 'service', 'client', 'due', 'diligence', 'document', 'outline', 'charges', 'services', 'benefits', 'expect', 'working', 'finally', 'would', 'like', 'send', 'three', 'questions', 'help', 'understand', 'financial', 'goals', 'greater', 'detail', 'may', 'also', 'helpful', 'complete', 'technical', 'link', 'tax', 'questionnaire', 'gain', 'deeper', 'understanding', 'potential', 'tax', 'implications', 'portfolio', 'restructuring', 'confident', 'information', 'able', 'provide', 'detailed', 'accurate', 'financial', 'advice', 'tailored', 'market', 'taking', 'consideration', 'tax', 'investment', 'options', 'please', 'let', 'know', 'questions', 'concerns', 'regarding', 'information', 'outlined', 'look', 'forward', 'continuing', 'discussions', 'working', 'achieve', 'financial', 'goals', 'best', 'regards'], ['dear', 'reviewed', 'information', 'provided', 'insights', 'share', 'positive', 'clients', 'paidoff', 'mortgage', 'home', 'valued', '650', '000', 'contributing', '000', 'per', 'year', 'children', '529', 'plans', 'also', 'qualifies', 'maximum', 'state', 'maryland', 'tax', 'deduction', 'clients', 'maxing', '401', 'contributions', 'participating', 'profit', 'sharing', 'plan', 'employer', '2030', '000', 'cash', 'year', 'debt', 'extra', '500', 'per', 'month', 'put', 'towards', 'financial', 'goals', 'negative', 'clients', 'condo', 'columbia', 'real', 'profit', 'due', 'fees', 'taxes', 'hoa', 'fees', 'would', 'like', 'sell', 'condo', 'rent', 'current', 'home', '200', '000', 'bank', '000', 'citi', 'bank', 'sure', 'money', 'monthly', 'expenses', 'around', '000', 'limited', 'emergency', 'fund', '3060', '000', 'estate', 'plan', 'place', 'life', 'insurance', 'coverage', 'may', 'enough', 'fully', 'protect', 'family', 'event', 'unexpected', 'loss', 'explore', 'investment', 'options', 'would', 'recommend', 'send', '2021', 'tax', 'return', '2022', 'return', 'completed', 'would', 'also', 'recommend', 'consider', 'contributing', 'backdoor', 'roth', 'ira', 'well', 'exploring', 'taxadvantaged', 'buckets', 'saving', 'would', 'advise', 'look', 'getting', 'heloc', 'business', 'line', 'credit', 'additional', 'financial', 'flexibility', 'address', 'estate', 'planning', 'concerns', 'would', 'suggest', 'review', 'sba', 'personal', 'net', 'worth', 'rules', 'maryland', 'minority', 'rules', 'ensure', 'stay', 'within', 'limits', 'address', 'insurance', 'needs', 'would', 'recommend', 'explore', 'supplemental', 'disability', 'insurance', 'disability', 'buyout', 'well', 'permanent', 'life', 'insurance', 'finally', 'would', 'advise', 'review', 'fbar', 'rules', 'property', 'india', 'consider', 'title', 'assets', 'estate', 'planning', 'purposes', 'hope', 'email', 'provides', 'clear', 'concise', 'overview', 'clients', 'financial', 'situation', 'questions', 'need', 'information', 'please', 'let', 'know'], ['dear', 'kyle', 'reviewed', 'financial', 'information', 'provided', 'would', 'like', 'take', 'opportunity', 'provide', 'summary', 'current', 'financial', 'situation', 'positive', 'significant', 'amount', 'assets', 'including', 'primary', 'residence', 'worth', '050', '000', '401k', 'worth', '250', '000', 'ira', 'worth', '100', '000', 'brokerage', 'account', 'worth', '100', '000', 'business', 'worth', '000', '000', 'life', 'insurance', 'policy', 'value', '000', '000', 'providing', 'protection', 'family', 'case', 'unexpected', 'event', 'high', 'income', '350', '000', 'significant', 'amount', 'savings', 'including', '000', 'savings', 'account', '000', 'checking', 'account', 'negative', 'mortgage', 'worth', 'auto', 'loan', 'worth', 'potentially', 'impact', 'cash', 'flow', 'despite', 'high', 'level', 'investment', 'knowledge', 'yet', 'maximized', 'tax', 'savings', 'retirement', 'plan', 'funding', 'given', 'financial', 'information', 'stated', 'goals', 'maximizing', 'tax', 'savings', 'maximizing', 'retirement', 'plan', 'funding', 'retiring', 'age', 'traveling', 'family', 'would', 'recommend', 'following', 'review', 'tax', 'situation', 'look', 'ways', 'reduce', 'taxable', 'income', 'contributing', '401k', 'ira', 'consider', 'investing', 'portion', 'assets', 'diversified', 'portfolio', 'stocks', 'bonds', 'potentially', 'increase', 'returns', 'reach', 'retirement', 'goals', 'pay', 'highinterest', 'debt', 'credit', 'cards', 'reduce', 'amount', 'interest', 'paying', 'potentially', 'improve', 'cash', 'flow', 'consider', 'using', 'business', 'assets', 'pay', 'debt', 'invest', 'additional', 'assets', 'hope', 'summary', 'provides', 'valuable', 'insights', 'financial', 'situation', 'gives', 'good', 'starting', 'point', 'financial', 'planning', 'questions', 'would', 'like', 'discuss', 'options', 'detail', 'please', 'hesitate', 'reach', 'best', 'regards'], ['summary', 'factfind', 'dear', 'client', 'writing', 'summarize', 'factfind', 'recently', 'conducted', 'provide', 'expert', 'insights', 'based', 'financial', 'situation', 'positive', 'significant', 'amount', 'money', '401k', 'plan', 'paychex', 'provide', 'steady', 'source', 'retirement', 'income', 'lifestyle', 'expenses', 'seem', 'reasonable', 'good', 'sign', 'financial', 'health', 'negative', 'medical', 'insurance', 'could', 'pose', 'risk', 'financial', 'stability', 'encounter', 'unexpected', 'medical', 'expenses', 'ira', 'roth', 'taxable', 'account', 'balance', 'currently', 'could', 'limit', 'investment', 'options', 'prevent', 'reaching', 'longterm', 'financial', 'goals', 'given', 'factors', 'would', 'like', 'offer', 'following', 'help', 'improve', 'financial', 'obtain', 'medical', 'consider', 'enrolling', 'health', 'insurance', 'plan', 'protect', 'unexpected', 'medical', 'expenses', 'may', 'eligible', 'medicare', 'turn', 'meantime', 'may', 'need', 'purchase', 'insurance', 'marketplace', 'would', 'recommend', 'reaching', 'insurance', 'agent', 'information', 'options', 'increase', 'retirement', 'maximize', 'retirement', 'savings', 'consider', 'contributing', '401k', 'paychex', 'starting', 'ira', 'account', 'employer', 'offers', 'match', 'taking', 'advantage', 'help', 'reach', 'retirement', 'savings', 'goals', 'even', 'faster', 'review', 'lifestyle', 'ensure', 'lifestyle', 'expenses', 'line', 'income', 'would', 'recommend', 'tracking', 'spending', 'months', 'get', 'better', 'understanding', 'money', 'going', 'help', 'identify', 'areas', 'reduce', 'expenses', 'increase', 'savings', 'please', 'let', 'know', 'questions', 'would', 'like', 'discuss', 'detail', 'help', 'support', 'achieving', 'financial', 'goals', 'best', 'regards'], ['dear', 'neill', 'gregson', 'thank', 'meeting', 'discuss', 'financial', 'situation', 'based', 'conversation', 'information', 'provided', 'put', 'together', 'summary', 'current', 'financial', 'position', 'goals', 'future', 'positive', 'strong', 'income', 'financial', 'planner', '120', '000', 'strong', 'financial', 'foundation', 'valuable', 'several', 'valuable', 'assets', 'including', 'home', 'valued', '350', '000', 'buytolet', 'property', 'valued', '100', '000', 'investment', 'portfolio', 'valued', '000', 'cash', 'savings', 'valued', '000', 'business', 'valued', '600', '000', 'negative', 'mortgage', 'mortgage', 'home', '170', '000', 'need', 'paid', 'future', 'financial', 'retire', 'goal', 'retire', 'age', 'reasonable', 'target', 'given', 'strong', 'financial', 'position', 'pay', 'mortgage', 'also', 'want', 'pay', 'mortgage', 'age', 'free', 'income', 'expenses', 'retirement', 'based', 'information', 'would', 'recommend', 'develop', 'comprehensive', 'financial', 'plan', 'help', 'achieve', 'goals', 'involve', 'analyzing', 'current', 'assets', 'liabilities', 'creating', 'budget', 'ensure', 'enough', 'money', 'meet', 'living', 'expenses', 'developing', 'retirement', 'plan', 'ensure', 'enough', 'money', 'live', 'rest', 'life', 'order', 'create', 'detailed', 'plan', 'would', 'need', 'gather', 'information', 'current', 'expenses', 'future', 'expenses', 'financial', 'goals', 'may', 'also', 'explore', 'different', 'investment', 'options', 'strategies', 'help', 'reach', 'financial', 'goals', 'please', 'let', 'know', 'questions', 'anything', 'else', 'like', 'discuss', 'best', 'regards'], ['hello', 'sarah', 'thank', 'sharing', 'financial', 'information', 'based', 'factfind', 'conducted', 'appears', 'solid', 'foundation', 'achieving', 'financial', 'goals', 'summary', 'key', 'points', 'positive', 'stable', 'income', '000', 'per', 'year', 'marketing', 'manager', 'good', 'amount', 'assets', 'including', 'home', 'valued', '250', '000', '401', 'account', 'valued', '000', 'brokerage', 'account', 'valued', '000', 'savings', 'account', 'valued', '000', 'negative', 'mortgage', 'home', '150', '000', 'financial', 'save', 'payment', 'second', 'home', 'save', 'retirement', 'first', 'let', 'address', 'goal', 'saving', 'payment', 'second', 'home', 'based', 'value', 'current', 'home', 'savings', 'accounts', 'seems', 'like', 'good', 'position', 'start', 'saving', 'second', 'home', 'one', 'strategy', 'consider', 'would', 'increase', 'savings', 'contributions', 'potentially', 'make', 'additional', 'principal', 'payments', 'mortgage', 'pay', 'quickly', 'would', 'free', 'cash', 'flow', 'put', 'towards', 'saving', 'second', 'home', 'additionally', 'might', 'consider', 'looking', 'firsttime', 'homebuyer', 'programs', 'could', 'help', 'payment', 'goal', 'saving', 'retirement', 'great', 'already', '401', 'account', 'brokerage', 'account', 'one', 'strategy', 'consider', 'would', 'increase', 'contributions', 'accounts', 'potentially', 'explore', 'retirement', 'savings', 'options', 'roth', 'ira', 'traditional', 'ira', 'depending', 'income', 'factors', 'may', 'also', 'want', 'consider', 'taking', 'advantage', 'employer', 'match', 'contributions', '401', 'additionally', 'consider', 'creating', 'budget', 'review', 'expenses', 'see', 'cut', 'back', 'unnecessary', 'expenses', 'increase', 'savings', 'rate', 'terms', 'taxes', 'may', 'want', 'consult', 'tax', 'professional', 'see', 'taxadvantaged', 'options', 'may', 'help', 'save', 'goals', 'overall', 'looks', 'like', 'solid', 'financial', 'foundation', 'strategic', 'planning', 'budgeting', 'able', 'achieve', 'goals', 'questions', 'need', 'additional', 'guidance', 'please', 'hesitate', 'reach', 'best'], ['sarah', 'johnson', 'financial', 'factfind', 'summary', 'dear', 'sarah', 'wanted', 'take', 'moment', 'summarize', 'financial', 'information', 'discussed', 'recent', 'factfinding', 'meeting', 'positive', 'strong', 'asset', 'base', 'home', 'valued', '250', '000', 'stock', 'portfolio', 'worth', '120', '000', 'retirement', 'account', 'valued', '000', '000', 'cash', 'savings', 'clear', 'financial', 'goal', 'paying', 'home', 'mortgage', 'within', 'next', 'years', 'also', 'expressed', 'interest', 'increasing', 'retirement', 'savings', 'saving', 'payment', 'rental', 'property', 'negative', 'liabilities', 'currently', 'outweigh', 'assets', 'home', 'mortgage', 'balance', '180', '000', 'based', 'information', 'help', 'reach', 'financial', 'goals', 'pay', 'home', 'reach', 'goal', 'paying', 'home', 'mortgage', 'within', 'next', 'years', 'may', 'helpful', 'consider', 'making', 'extra', 'payments', 'month', 'increasing', 'monthly', 'payments', 'help', 'pay', 'mortgage', 'faster', 'reduce', 'amount', 'interest', 'pay', 'life', 'loan', 'increase', 'retirement', 'expressed', 'interest', 'increasing', 'retirement', 'savings', 'one', 'option', 'consider', 'contribute', 'existing', 'retirement', 'account', 'either', 'increasing', 'monthly', 'contributions', 'making', 'additional', 'lump', 'sum', 'contributions', 'may', 'also', 'want', 'consider', 'exploring', 'retirement', 'savings', 'options', 'traditional', 'roth', 'ira', 'save', 'payment', 'rental', 'order', 'save', 'payment', 'rental', 'property', 'may', 'want', 'consider', 'setting', 'separate', 'savings', 'account', 'specifically', 'purpose', 'could', 'also', 'consider', 'exploring', 'investment', 'options', 'may', 'provide', 'higher', 'rate', 'return', 'traditional', 'savings', 'account', 'hope', 'summary', 'helpful', 'provides', 'good', 'starting', 'point', 'continued', 'conversations', 'financial', 'goals', 'achieve', 'questions', 'would', 'like', 'discuss', 'anything', 'please', 'hesitate', 'reach', 'best', 'regards', 'name'], ['financial', 'factfind', 'summary', 'jane', 'doe', 'dear', 'jane', 'hope', 'email', 'finds', 'well', 'wanted', 'take', 'moment', 'summarize', 'results', 'recent', 'financial', 'factfind', 'rundown', 'current', 'financial', 'situation', 'helping', 'achieve', 'financial', 'goals', 'positive', 'solid', 'foundation', 'assets', 'including', 'home', 'valued', '400', '000', 'investment', 'portfolio', 'valued', '120', '000', '401', 'plan', 'also', 'great', 'start', 'towards', 'retirement', 'savings', 'currently', 'valued', '000', 'cash', 'savings', '000', 'provide', 'safety', 'net', 'case', 'unexpected', 'expenses', 'negative', 'mortgage', 'balance', '240', '000', 'significant', 'liability', 'financial', 'expressed', 'interest', 'saving', 'payment', 'second', 'home', 'years', 'paying', 'mortgage', 'years', 'also', 'goal', 'retiring', 'comfortably', 'help', 'reach', 'goal', 'saving', 'payment', 'second', 'home', 'would', 'recommend', 'setting', 'automatic', 'monthly', 'transfer', 'checking', 'account', 'highyield', 'savings', 'account', 'money', 'market', 'fund', 'way', 'steadily', 'build', 'savings', 'without', 'think', 'pay', 'mortgage', 'years', 'may', 'want', 'consider', 'making', 'extra', 'payments', 'increasing', 'monthly', 'payment', 'reduce', 'amount', 'interest', 'pay', 'life', 'loan', 'become', 'mortgagefree', 'sooner', 'retirement', 'important', 'maximize', 'contributions', '401', 'plan', 'consider', 'retirement', 'savings', 'options', 'ira', 'would', 'also', 'suggest', 'reviewing', 'investment', 'options', 'within', '401', 'plan', 'making', 'sure', 'invested', 'diversified', 'mix', 'assets', 'align', 'risk', 'tolerance', 'time', 'horizon', 'please', 'let', 'know', 'questions', 'would', 'like', 'discuss', 'detail', 'help', 'support', 'achieving', 'financial', 'goals', 'best', 'regards', 'financial', 'adviso'], ['dear', 'mrs', 'elizabeth', 'adams', 'hope', 'email', 'finds', 'well', 'writing', 'summarize', 'information', 'discussed', 'recent', 'factfinding', 'meeting', 'positive', 'portfolio', 'assets', 'including', 'primary', 'residence', 'bank', 'savings', 'stocks', 'rental', 'property', 'relatively', 'low', 'mortgage', 'balance', 'primary', 'residence', 'may', 'allow', 'pay', 'sooner', 'increase', 'cash', 'flow', 'retirement', 'negative', 'income', 'retirement', 'limited', 'may', 'enough', 'cover', 'living', 'expenses', 'based', 'financial', 'goals', 'generating', 'additional', 'income', 'cover', 'living', 'expenses', 'leaving', 'legacy', 'children', 'grandchildren', 'suggestions', 'renting', 'primary', 'considering', 'downsizing', 'moving', 'different', 'location', 'renting', 'primary', 'residence', 'could', 'provide', 'additional', 'income', 'cover', 'living', 'expenses', 'however', 'important', 'consider', 'costs', 'associated', 'landlord', 'investing', 'annuity', 'financial', 'product', 'provide', 'guaranteed', 'stream', 'income', 'retirement', 'choose', 'various', 'types', 'annuities', 'including', 'fixed', 'annuities', 'variable', 'annuities', 'indexed', 'annuities', 'risks', 'benefits', 'investing', 'annuity', 'important', 'thoroughly', 'research', 'product', 'understand', 'terms', 'conditions', 'reviewing', 'stock', 'portfolio', 'may', 'provide', 'growth', 'potential', 'also', 'subject', 'market', 'fluctuations', 'may', 'helpful', 'review', 'portfolio', 'adjust', 'asset', 'allocation', 'based', 'risk', 'tolerance', 'investment', 'goals', 'utilizing', 'reverse', 'years', 'age', 'older', 'may', 'eligible', 'reverse', 'mortgage', 'allows', 'borrow', 'equity', 'home', 'funds', 'used', 'supplement', 'retirement', 'income', 'pay', 'debt', 'make', 'home', 'improvements', 'however', 'important', 'understand', 'terms', 'conditions', 'reverse', 'mortgage', 'including', 'costs', 'impact', 'estate', 'hope', 'information', 'helpful', 'questions', 'would', 'like', 'discuss', 'options', 'detail', 'please', 'let', 'know', 'best', 'regards', 'financial', 'advis'], ['dear', 'karen', 'hope', 'email', 'finds', 'well', 'writing', 'summarize', 'factfind', 'conducted', 'provide', 'expert', 'insights', 'financial', 'situation', 'positive', 'healthy', 'amount', 'assets', 'including', 'home', 'valued', '350', '000', 'investment', 'portfolio', 'valued', '200', '000', 'cash', 'savings', '100', '000', 'income', 'social', 'security', 'pension', '000', 'per', 'year', 'provide', 'good', 'foundation', 'maintaining', 'standard', 'living', 'retirement', 'negative', 'mortgage', 'home', 'worth', '150', '000', 'credit', 'card', 'debt', '000', 'could', 'impact', 'financial', 'stability', 'managed', 'properly', 'based', 'information', 'provided', 'seems', 'like', 'good', 'financial', 'position', 'solid', 'income', 'mix', 'assets', 'help', 'support', 'goals', 'however', 'recommend', 'focus', 'paying', 'mortgage', 'credit', 'card', 'debt', 'soon', 'possible', 'liabilities', 'could', 'become', 'burden', 'future', 'maintain', 'standard', 'living', 'retirement', 'may', 'want', 'consider', 'adjusting', 'investment', 'portfolio', 'prioritize', 'stability', 'growth', 'could', 'involve', 'shifting', 'investments', 'fixed', 'income', 'assets', 'bonds', 'provide', 'steady', 'stream', 'income', 'terms', 'desire', 'travel', 'world', 'may', 'want', 'consider', 'setting', 'aside', 'cash', 'savings', 'travel', 'expenses', 'help', 'ensure', 'able', 'enjoy', 'travels', 'without', 'tap', 'investments', 'could', 'impact', 'longterm', 'financial', 'stability', 'finally', 'ensure', 'able', 'leave', 'legacy', 'children', 'grandchildren', 'may', 'want', 'consider', 'estate', 'planning', 'could', 'involve', 'creating', 'setting', 'trust', 'developing', 'comprehensive', 'plan', 'transferring', 'assets', 'beneficiaries', 'hope', 'information', 'helpful', 'questions', 'concerns', 'please', 'hesitate', 'reach', 'best', 'regards', 'name'], ['summary', 'financial', 'factfind', 'dear', 'michael', 'hope', 'email', 'finds', 'well', 'thank', 'allowing', 'opportunity', 'review', 'financial', 'situation', 'appreciate', 'information', 'provided', 'able', 'provide', 'comprehensive', 'overview', 'current', 'financial', 'position', 'offer', 'achieving', 'financial', 'goals', 'positive', 'wellrounded', 'mix', 'assets', 'including', 'home', '401', 'plan', 'investment', 'portfolio', 'cash', 'savings', 'income', '150', '000', 'per', 'year', 'significant', 'provides', 'solid', 'foundation', 'achieving', 'financial', 'goals', 'financial', 'goals', 'clear', 'aligned', 'current', 'financial', 'situation', 'negative', 'mortgage', 'student', 'loans', 'create', 'significant', 'amount', 'debt', 'pay', 'mortgage', 'student', 'loans', 'soon', 'possible', 'reduce', 'debt', 'improve', 'overall', 'financial', 'stability', 'consider', 'increasing', 'contributions', '401', 'plan', 'order', 'maximize', 'retirement', 'savings', 'review', 'investment', 'portfolio', 'make', 'necessary', 'adjustments', 'ensure', 'investments', 'align', 'goals', 'risk', 'tolerance', 'consider', 'funding', 'children', 'college', 'education', 'combination', 'grants', 'scholarships', 'student', 'loans', 'order', 'minimize', 'impact', 'financial', 'situation', 'would', 'happy', 'provide', 'additional', 'information', 'answer', 'questions', 'may', 'would', 'like', 'schedule', 'followup', 'meeting', 'discuss', 'detail', 'please', 'let', 'know', 'best', 'regards'], ['dear', 'maria', 'based', 'information', 'provided', 'recent', 'factfind', 'put', 'together', 'summary', 'financial', 'situation', 'achieve', 'goals', 'positive', 'significant', 'amount', 'assets', 'including', 'home', '401', 'account', 'savings', 'account', 'income', 'relatively', 'high', 'help', 'save', 'goals', 'set', 'specific', 'financial', 'goals', 'retirement', 'providing', 'children', 'education', 'negative', 'mortgage', 'balance', 'relatively', 'high', 'compared', 'value', 'home', 'savings', 'account', 'large', 'may', 'enough', 'cover', 'unexpected', 'expenses', 'emergencies', 'achieve', 'goal', 'paying', 'mortgage', 'consider', 'increasing', 'monthly', 'mortgage', 'payments', 'making', 'extra', 'payments', 'possible', 'ensure', 'enough', 'savings', 'cover', 'unexpected', 'expenses', 'emergencies', 'consider', 'increasing', 'monthly', 'savings', 'contributions', 'looking', 'ways', 'increase', 'income', 'maximize', 'retirement', 'savings', 'consider', 'increasing', 'contributions', '401', 'account', 'looking', 'retirement', 'savings', 'options', 'ira', 'provide', 'children', 'education', 'consider', 'setting', 'college', 'savings', 'plan', '529', 'plan', 'making', 'regular', 'contributions', 'also', 'consider', 'speaking', 'tax', 'advisor', 'help', 'maximizing', 'tax', 'saving', 'investment', 'options', 'best', 'financial', 'advisor'], ['summary', 'financial', 'factfind', 'sarah', 'johnson', 'dear', 'sarah', 'thank', 'taking', 'time', 'meet', 'today', 'appreciate', 'opportunity', 'discuss', 'financial', 'situation', 'help', 'achieve', 'financial', 'goals', 'summary', 'conversation', 'observations', 'financial', 'positive', 'solid', 'mix', 'assets', 'including', 'home', 'investment', 'portfolio', '401', 'plan', 'cash', 'savings', 'income', 'high', 'steady', 'provide', 'solid', 'foundation', 'future', 'financial', 'plans', 'clearly', 'defined', 'financial', 'goals', 'great', 'first', 'step', 'achieving', 'financial', 'success', 'negative', 'significant', 'mortgage', 'home', 'student', 'loan', 'debt', 'children', 'may', 'impact', 'ability', 'reach', 'financial', 'goals', 'investment', 'portfolio', '401', 'plan', 'may', 'optimally', 'diversified', 'could', 'leave', 'exposed', 'unnecessary', 'risk', 'based', 'information', 'provided', 'help', 'reach', 'financial', 'pay', 'mortgage', 'student', 'loan', 'debt', 'top', 'priority', 'debts', 'potential', 'significantly', 'impact', 'financial', 'future', 'consider', 'ways', 'accelerate', 'debt', 'repayment', 'making', 'extra', 'payments', 'refinancing', 'mortgage', 'lower', 'rate', 'diversify', 'investment', 'key', 'managing', 'risk', 'investment', 'portfolio', 'consider', 'rebalancing', 'portfolio', 'include', 'mix', 'different', 'types', 'investments', 'stocks', 'bonds', 'real', 'estate', 'help', 'reduce', 'overall', 'investment', 'risk', 'consider', 'longterm', 'care', 'approach', 'retirement', 'age', 'important', 'consider', 'possibility', 'needing', 'longterm', 'care', 'longterm', 'care', 'insurance', 'help', 'protect', 'assets', 'provide', 'peace', 'mind', 'family', 'review', '401', '401', 'plan', 'important', 'component', 'retirement', 'savings', 'important', 'make', 'sure', 'track', 'meet', 'retirement', 'goals', 'consider', 'working', 'financial', 'advisor', 'review', 'plan', 'make', 'necessary', 'adjustments', 'consider', 'financial', 'working', 'financial', 'advisor', 'help', 'navigate', 'complex', 'world', 'personal', 'finance', 'ensure', 'making', 'informed', 'decisions', 'money', 'financial', 'advisor', 'help', 'create', 'comprehensive', 'financial', 'plan', 'provide', 'ongoing', 'support', 'work', 'towards', 'goals', 'please', 'let', 'know', 'questions', 'concerns', 'help', 'happy', 'discuss', 'financial', 'situation', 'time', 'best', 'regards', 'financial', 'adviso'], ['karen', 'lee', 'financial', 'factfind', 'summary', 'dear', 'karen', 'thank', 'meeting', 'today', 'discuss', 'financial', 'situation', 'goals', 'analyzed', 'information', 'provided', 'would', 'like', 'share', 'insights', 'positive', 'healthy', 'annual', 'income', '150', '000', 'positive', 'factor', 'achieving', 'financial', 'goals', 'valuable', 'mix', 'assets', 'includes', 'valuable', 'home', 'wellfunded', 'investment', 'portfolio', 'retirement', 'savings', 'college', 'savings', 'accounts', 'children', 'business', 'significant', 'asset', 'significant', 'mortgage', 'home', 'loan', 'business', 'debts', 'manageable', 'overburdensome', 'considering', 'income', 'assets', 'negative', 'currently', 'years', 'old', 'means', 'less', 'time', 'save', 'retirement', 'reach', 'financial', 'goals', 'loan', 'loan', 'payments', 'home', 'business', 'impact', 'cash', 'flow', 'reduce', 'amount', 'money', 'available', 'put', 'towards', 'financial', 'goals', 'based', 'information', 'recommend', 'focus', 'following', 'strategies', 'help', 'achieve', 'financial', 'retirement', 'current', 'retirement', 'savings', 'healthy', 'income', 'solid', 'foundation', 'comfortable', 'retirement', 'however', 'given', 'age', 'limited', 'amount', 'time', 'left', 'reach', 'target', 'retirement', 'age', 'important', 'consider', 'increasing', 'retirement', 'contributions', 'investing', 'diversified', 'portfolio', 'appropriate', 'risk', 'tolerance', 'time', 'horizon', 'paying', 'mortgage', 'business', 'loan', 'payments', 'impacting', 'cash', 'flow', 'would', 'wise', 'consider', 'paying', 'soon', 'possible', 'free', 'cash', 'flow', 'reduce', 'overall', 'financial', 'risk', 'education', 'children', 'college', 'education', 'important', 'already', 'taken', 'steps', 'fund', 'education', 'establishing', 'college', 'savings', 'accounts', 'however', 'would', 'wise', 'reevaluate', 'college', 'savings', 'plan', 'regularly', 'ensure', 'remains', 'track', 'adequate', 'needs', 'maintaining', 'lifestyle', 'maintain', 'current', 'lifestyle', 'retirement', 'important', 'wellfunded', 'retirement', 'account', 'plan', 'additional', 'sources', 'income', 'social', 'security', 'parttime', 'job', 'travel', 'enjoyment', 'desire', 'travel', 'enjoy', 'retirement', 'spouse', 'valid', 'goal', 'incorporate', 'overall', 'financial', 'plan', 'conclusion', 'current', 'financial', 'situation', 'generally', 'healthy', 'solid', 'foundation', 'reaching', 'financial', 'goals', 'focusing', 'strategies', 'making', 'smart', 'financial', 'decisions', 'increase', 'chances', 'achieving', 'financial', 'security', 'comfort', 'desire', 'questions', 'would', 'like', 'discuss', 'detail', 'please', 'hesitate', 'reach', 'sincerely', 'financial', 'advisor'], ['dear', 'karen', 'hope', 'email', 'finds', 'well', 'wanted', 'take', 'moment', 'review', 'factfind', 'conducted', 'provide', 'summary', 'current', 'financial', 'situation', 'advice', 'achieving', 'financial', 'goals', 'positive', 'solid', 'foundation', 'assets', 'including', 'home', 'valued', '500', '000', 'investment', 'portfolio', 'valued', '250', '000', 'healthy', 'cash', 'savings', '100', '000', 'ira', 'valued', '150', '000', 'provide', 'additional', 'source', 'income', 'retirement', 'negative', 'primary', 'liability', 'mortgage', 'home', 'currently', 'valued', '200', '000', 'debt', 'may', 'affect', 'ability', 'maintain', 'standard', 'living', 'retirement', 'especially', 'interest', 'rates', 'rise', 'overall', 'good', 'financial', 'position', 'given', 'assets', 'income', 'pension', 'investments', 'however', 'important', 'comprehensive', 'plan', 'place', 'achieve', 'financial', 'goals', 'ensure', 'maintain', 'desired', 'standard', 'living', 'retirement', 'repaying', 'mentioned', 'one', 'financial', 'goals', 'maintain', 'comfortable', 'standard', 'living', 'retirement', 'repaying', 'mortgage', 'time', 'retire', 'help', 'achieve', 'goal', 'free', 'additional', 'cash', 'flow', 'cover', 'living', 'expenses', 'investment', 'investment', 'portfolio', '250', '000', 'valuable', 'asset', 'important', 'ensure', 'allocated', 'way', 'aligns', 'risk', 'tolerance', 'investment', 'goals', 'time', 'horizon', 'consider', 'seeking', 'help', 'financial', 'advisor', 'review', 'investment', 'strategy', 'make', 'necessary', 'adjustments', 'ira', 'important', 'part', 'retirement', 'plan', 'important', 'make', 'sure', 'invested', 'way', 'meets', 'risk', 'tolerance', 'investment', 'goals', 'consider', 'seeking', 'help', 'financial', 'advisor', 'review', 'ira', 'make', 'necessary', 'adjustments', 'legacy', 'mentioned', 'leaving', 'legacy', 'children', 'grandchildren', 'one', 'financial', 'goals', 'consider', 'including', 'overall', 'financial', 'plan', 'may', 'include', 'estate', 'planning', 'wealth', 'transfer', 'strategies', 'hope', 'summary', 'provides', 'better', 'understanding', 'financial', 'situation', 'helps', 'achieve', 'financial', 'goals', 'questions', 'would', 'like', 'discuss', 'please', 'hesitate', 'reach', 'best', 'regards'], ['sarah', 'johnson', 'financial', 'review', 'dear', 'sarah', 'pleased', 'present', 'results', 'financial', 'review', 'following', 'summary', 'current', 'financial', 'situation', 'help', 'achieve', 'financial', 'goals', 'positive', 'diversified', 'portfolio', 'assets', 'including', 'home', 'investment', 'portfolio', 'cash', 'savings', 'personal', 'investment', 'property', 'small', 'business', 'relatively', 'low', 'mortgage', 'balance', 'home', 'paid', 'within', 'years', 'proper', 'planning', 'budgeting', 'stable', 'source', 'income', 'pension', 'social', 'security', 'provide', 'comfortable', 'standard', 'living', 'retirement', 'negative', 'significant', 'business', 'loan', 'outstanding', 'additional', 'liability', 'risk', 'financial', 'security', 'pay', 'mortgage', 'paying', 'mortgage', 'years', 'achievable', 'goal', 'especially', 'given', 'stable', 'income', 'pension', 'social', 'security', 'achieve', 'goal', 'increase', 'monthly', 'mortgage', 'payments', 'consider', 'refinancing', 'mortgage', 'take', 'advantage', 'lower', 'interest', 'rates', 'review', 'investment', 'review', 'investment', 'portfolio', 'ensure', 'aligned', 'longterm', 'financial', 'goals', 'consider', 'seeking', 'professional', 'advice', 'make', 'sure', 'portfolio', 'appropriately', 'structured', 'managed', 'manage', 'business', 'important', 'manage', 'business', 'loan', 'carefully', 'ensure', 'impact', 'financial', 'goals', 'consider', 'paying', 'loan', 'quickly', 'possible', 'exploring', 'alternative', 'financing', 'options', 'reduce', 'risk', 'associated', 'loan', 'consider', 'longterm', 'care', 'approach', 'retirement', 'age', 'important', 'consider', 'potential', 'cost', 'longterm', 'care', 'future', 'longterm', 'care', 'insurance', 'help', 'cover', 'cost', 'longterm', 'care', 'inhome', 'care', 'assisted', 'living', 'help', 'preserve', 'assets', 'estate', 'consider', 'developing', 'estate', 'plan', 'ensure', 'assets', 'distributed', 'according', 'wishes', 'death', 'estate', 'plan', 'help', 'minimize', 'estate', 'taxes', 'protect', 'assets', 'creditors', 'ensure', 'loved', 'ones', 'provided', 'hope', 'review', 'provides', 'good', 'starting', 'point', 'financial', 'planning', 'questions', 'would', 'like', 'discuss', 'options', 'please', 'hesitate', 'reach', 'best', 'regards', 'name'], ['dear', 'susan', 'thank', 'taking', 'time', 'meet', 'reviewed', 'financial', 'information', 'would', 'like', 'share', 'insights', 'positive', 'strong', 'healthy', 'investment', 'portfolio', 'ira', 'account', 'cash', 'savings', 'provide', 'solid', 'financial', 'foundation', 'home', 'home', 'valued', '500', '000', 'mortgage', 'balance', '300', '000', '200', '000', 'equity', 'equity', 'used', 'help', 'meet', 'financial', 'goals', 'providing', 'financial', 'support', 'children', 'ensuring', 'comfortable', 'retirement', 'negative', 'high', 'mortgage', 'mortgage', 'balance', '300', '000', 'significant', 'liability', 'need', 'address', 'next', 'years', 'limited', 'income', '000', 'pension', 'social', 'security', 'may', 'enough', 'meet', 'financial', 'goals', 'especially', 'want', 'maintain', 'current', 'lifestyle', 'retirement', 'based', 'information', 'pay', 'paying', 'mortgage', 'priority', 'reduce', 'monthly', 'expenses', 'help', 'achieve', 'financial', 'independence', 'retirement', 'could', 'consider', 'using', 'cash', 'savings', 'taking', 'home', 'equity', 'loan', 'pay', 'mortgage', 'sooner', 'investment', 'recommend', 'reviewing', 'investment', 'portfolio', 'ensure', 'well', 'diversified', 'aligned', 'financial', 'goals', 'consider', 'speaking', 'financial', 'advisor', 'help', 'create', 'customized', 'investment', 'strategy', 'meets', 'specific', 'needs', 'tax', 'consider', 'speaking', 'tax', 'professional', 'ensure', 'taking', 'advantage', 'available', 'tax', 'deductions', 'credits', 'minimize', 'tax', 'liability', 'legacy', 'important', 'consider', 'legacy', 'want', 'provide', 'children', 'gone', 'may', 'involve', 'setting', 'trusts', 'estate', 'planning', 'vehicles', 'ensure', 'assets', 'distributed', 'according', 'wishes', 'hope', 'helpful', 'questions', 'would', 'like', 'discuss', 'options', 'detail', 'please', 'hesitate', 'reach', 'best', 'regards'], ['financial', 'factfind', 'summary', 'maria', 'smith', 'dear', 'maria', 'hope', 'email', 'finds', 'well', 'wanted', 'thank', 'opportunity', 'review', 'financial', 'situation', 'provide', 'expert', 'insights', 'summary', 'positive', 'diversified', 'investment', 'portfolio', 'includes', 'stocks', 'bonds', 'cash', 'savings', 'help', 'achieve', 'longterm', 'financial', 'goals', 'valuable', 'life', 'insurance', 'policy', 'cash', 'value', 'provide', 'additional', 'source', 'income', 'future', 'negative', 'high', 'mortgage', 'balance', 'relative', 'income', 'may', 'limit', 'ability', 'save', 'invest', 'future', 'cash', 'savings', 'balance', 'relatively', 'low', 'may', 'enough', 'cover', 'unexpected', 'expenses', 'emergencies', 'based', 'financial', 'goals', 'ensuring', 'adequate', 'income', 'retirement', 'maintaining', 'value', 'assets', 'leaving', 'legacy', 'children', 'recommend', 'following', 'review', 'budget', 'determine', 'areas', 'reduce', 'spending', 'increase', 'savings', 'consider', 'paying', 'refinancing', 'mortgage', 'reduce', 'monthly', 'expenses', 'increase', 'monthly', 'cash', 'flow', 'consider', 'increasing', 'contributions', 'investment', 'portfolio', 'take', 'advantage', 'compound', 'interest', 'increase', 'longterm', 'savings', 'consider', 'purchasing', 'additional', 'life', 'insurance', 'longterm', 'care', 'insurance', 'protect', 'assets', 'provide', 'additional', 'income', 'future', 'hope', 'information', 'helpful', 'provides', 'useful', 'insights', 'additional', 'questions', 'concerns', 'please', 'hesitate', 'reach', 'best', 'regards', 'name', 'meeting', 'notes', 'exposure', 'maria', 'main', 'source', 'income', 'pension', 'social', 'security', 'may', 'enough', 'cover', 'living', 'expenses', 'long', 'term', 'maria', 'mortgage', 'home', 'could', 'impact', 'ability', 'maintain', 'value', 'assets', 'action', 'review', 'maria', 'budget', 'determine', 'current', 'income', 'enough', 'cover', 'living', 'expenses', 'consider', 'options', 'increasing', 'income', 'parttime', 'work', 'taking', 'rental', 'property', 'evaluate', 'maria', 'investment', 'portfolio', 'ensure', 'properly', 'diversified', 'aligned', 'goals', 'discuss', 'possibility', 'paying', 'mortgage', 'home', 'reduce', 'monthly', 'expenses', 'free', 'cash', 'investment', 'questions', 'could', 'influence', 'advice', 'maria', 'monthly', 'budget', 'living', 'expenses', 'dependents', 'need', 'financial', 'support', 'future', 'risk', 'tolerance', 'investments', 'health', 'concerns', 'could', 'impact', 'ability', 'work', 'parttime', 'allowances', 'maria', 'may', 'eligible', 'various', 'tax', 'breaks', 'government', 'allowances', 'senior', 'citizen', 'property', 'tax', 'freeze', 'may', 'also', 'able', 'take', 'advantage', 'special', 'investment', 'vehicles', 'roth', 'ira', 'minimize', 'tax', 'liability', 'risk', 'prospect', 'needs', 'aware', 'maria', 'main', 'source', 'income', 'pension', 'social', 'security', 'may', 'adjusted', 'inflation', 'time', 'takes', 'rental', 'property', 'risk', 'vacancy', 'decrease', 'rental', 'income', 'investing', 'always', 'involves', 'level', 'risk', 'possibility', 'losing', 'money', 'investment', 'portfolio'], ['dear', 'sarah', 'johnson', 'thank', 'allowing', 'opportunity', 'review', 'financial', 'situation', 'provide', 'expert', 'insights', 'positive', 'solid', 'investment', 'portfolio', 'value', 'million', 'substantial', 'cash', 'savings', 'rental', 'properties', 'provide', 'passive', 'income', 'help', 'maintain', 'lifestyle', 'retirement', 'negative', 'monthly', 'pension', '000', 'may', 'enough', 'fully', 'support', 'desired', 'lifestyle', 'especially', 'significant', 'ongoing', 'expenses', 'mortgage', 'payments', 'taxes', 'insurance', 'review', 'budget', 'important', 'understand', 'exactly', 'much', 'money', 'spending', 'month', 'essential', 'expenses', 'help', 'determine', 'current', 'income', 'pension', 'sources', 'sufficient', 'support', 'lifestyle', 'consider', 'alternative', 'sources', 'passive', 'rental', 'properties', 'provide', 'additional', 'passive', 'income', 'important', 'mindful', 'associated', 'expenses', 'maintenance', 'costs', 'property', 'management', 'fees', 'may', 'also', 'consider', 'exploring', 'investment', 'options', 'annuities', 'dividendpaying', 'stocks', 'real', 'estate', 'investment', 'trusts', 'supplement', 'income', 'help', 'maintain', 'lifestyle', 'retirement', 'review', 'investment', 'approach', 'retirement', 'important', 'assess', 'risk', 'profile', 'investments', 'make', 'sure', 'align', 'financial', 'goals', 'may', 'consider', 'working', 'financial', 'advisor', 'help', 'make', 'informed', 'investment', 'decisions', 'ensure', 'portfolio', 'properly', 'diversified', 'plan', 'expressed', 'interest', 'leaving', 'inheritance', 'children', 'may', 'consider', 'creating', 'comprehensive', 'estate', 'plan', 'includes', 'trust', 'estateplanning', 'tools', 'hope', 'helpful', 'ensuring', 'resources', 'need', 'maintain', 'desired', 'lifestyle', 'achieve', 'financial', 'goals', 'questions', 'would', 'like', 'discuss', 'detail', 'please', 'hesitate', 'reach', 'best', 'regards', 'name']]\n",
            "Filterd Tokens: [['dear', 'thank', 'providing', 'details', 'financial', 'situation', 'appreciate', 'opportunity', 'offer', 'expert', 'insights', 'based', 'information', 'shared', 'would', 'like', 'summarize', 'key', 'points', 'financial', 'positive', '36yearold', 'engineer', 'working', 'years', 'nonqualified', 'pension', 'efa', 'organization', 'balance', '120k', 'agreement', 'french', 'tax', 'authorities', 'tax', 'income', 'salary', 'capital', 'gains', 'expected', 'make', 'significant', 'gain', 'french', 'property', 'taxfree', 'negative', 'moving', 'back', 'family', 'reasons', 'longer', 'french', 'resident', 'taxed', 'provisionally', 'april', '6th', '2023', 'physically', 'move', 'back', 'around', 'february', '15th', 'pension', 'investment', 'fund', 'rather', 'traditional', 'pension', 'given', 'situation', 'would', 'like', 'offer', 'following', 'since', 'moving', 'back', 'longer', 'french', 'resident', 'important', 'consider', 'impact', 'change', 'financial', 'situation', 'particular', 'consider', 'tax', 'implications', 'pension', 'assets', 'france', 'carefully', 'consider', 'options', 'pension', 'close', 'leave', 'payroll', 'may', 'able', 'access', 'funds', 'taxefficient', 'manner', 'seek', 'advice', 'financial', 'advisor', 'help', 'navigate', 'complexities', 'tax', 'rules', 'finally', 'would', 'recommend', 'consider', 'benefits', 'working', 'financial', 'advisor', 'help', 'navigate', 'transition', 'new', 'home', 'advisor', 'help', 'identify', 'opportunities', 'optimize', 'financial', 'situation', 'minimize', 'tax', 'liabilities', 'ensure', 'track', 'achieve', 'financial', 'goals', 'hope', 'find', 'helpful', 'questions', 'would', 'like', 'discuss', 'situation', 'detail', 'please', 'hesitate', 'reach', 'best', 'regards'], ['dear', 'thank', 'recent', 'conversation', 'retirement', 'planning', 'goals', 'understand', 'would', 'like', 'build', 'life', 'well', 'planned', 'live', 'picture', 'envision', 'retirement', 'like', 'share', 'expert', 'insights', 'financial', 'planning', 'process', 'highlight', 'various', 'steps', 'involved', 'condensed', 'overview', 'understanding', 'step', 'involves', 'getting', 'know', 'unique', 'circumstances', 'provide', 'tailored', 'advice', 'specific', 'needs', 'identifying', 'goals', 'step', 'work', 'together', 'determine', 'retirement', 'income', 'goals', 'well', 'priorities', 'terms', 'lifestyle', 'legacy', 'planning', 'important', 'considerations', 'analyzing', 'step', 'involves', 'looking', 'current', 'financial', 'situation', 'determine', 'true', 'today', 'changes', 'need', 'made', 'reach', 'goals', 'creating', 'plan', 'based', 'analysis', 'create', 'customized', 'retirement', 'income', 'strategy', 'provide', 'investments', 'insurance', 'services', 'help', 'achieve', 'goals', 'presenting', 'present', 'explain', 'align', 'retirement', 'income', 'goals', 'implementing', 'step', 'involves', 'putting', 'plan', 'action', 'making', 'necessary', 'changes', 'ensure', 'track', 'achieve', 'goals', 'monitoring', 'regular', 'monitoring', 'investments', 'insurance', 'coverage', 'important', 'ensure', 'plan', 'remains', 'aligned', 'goals', 'taking', 'advantage', 'opportunities', 'may', 'arise', 'addition', 'steps', 'outlined', 'would', 'also', 'like', 'emphasize', 'importance', 'analyzing', 'tax', 'considerations', 'developing', 'plan', 'understand', 'answer', 'questions', 'arise', 'retirement', 'planning', 'process', 'hope', 'overview', 'financial', 'planning', 'process', 'helpful', 'please', 'let', 'know', 'additional', 'questions', 'concerns', 'anything', 'else', 'support', 'retirement', 'planning', 'journey', 'sincerely'], ['dear', 'scott', 'hope', 'email', 'finds', 'well', 'wanted', 'take', 'moment', 'follow', 'recent', 'financial', 'factfind', 'summarize', 'key', 'points', 'discussed', 'positive', 'age', 'means', 'still', 'several', 'years', 'save', 'plan', 'future', 'giving', 'ample', 'time', 'reach', 'financial', 'goals', 'employment', 'status', 'income', '100', '000', 'provide', 'solid', 'foundation', 'financial', 'planning', 'negative', 'information', 'provided', 'current', 'financial', 'situation', 'investment', 'portfolio', 'could', 'impact', 'ability', 'provide', 'comprehensive', 'financial', 'plan', 'based', 'information', 'provided', 'initial', 'include', 'start', 'creating', 'comprehensive', 'financial', 'plan', 'outlines', 'current', 'financial', 'situation', 'well', 'longterm', 'financial', 'goals', 'help', 'better', 'understand', 'unique', 'needs', 'make', 'informed', 'decisions', 'financial', 'future', 'develop', 'retirement', 'income', 'strategy', 'takes', 'account', 'lifestyle', 'spending', 'habits', 'well', 'sources', 'income', 'may', 'retirement', 'consider', 'tax', 'planning', 'options', 'taxes', 'significantly', 'impact', 'overall', 'retirement', 'savings', 'include', 'looking', 'taxefficient', 'investment', 'options', 'pension', 'contributions', 'may', 'allow', 'reduce', 'tax', 'bill', 'maximize', 'savings', 'evaluate', 'insurance', 'coverage', 'ensure', 'adequately', 'protected', 'event', 'unexpected', 'illness', 'injury', 'death', 'may', 'include', 'life', 'insurance', 'critical', 'illness', 'cover', 'income', 'protection', 'insurance', 'invest', 'diversified', 'portfolio', 'investments', 'aligns', 'risk', 'tolerance', 'investment', 'goals', 'time', 'horizon', 'help', 'grow', 'wealth', 'time', 'prepare', 'retirement', 'please', 'let', 'know', 'questions', 'concerns', 'regarding', 'look', 'forward', 'working', 'help', 'achieve', 'financial', 'goals', 'best', 'regards'], ['dear', 'name', 'wanted', 'summarize', 'factfind', 'conducted', 'provide', 'expert', 'insights', 'financial', 'situation', 'key', 'positive', 'director', 'company', 'manchester', 'working', 'years', 'looking', 'move', 'partner', 'role', 'near', 'future', 'strong', 'earning', 'potential', 'base', 'salary', '120', '000', 'bonus', '000', '000', 'deferred', 'stock', 'reasonable', 'amount', 'savings', '000', 'cash', '000', 'offset', 'account', 'mortgage', 'several', 'pension', 'pots', 'including', 'workplace', 'pension', 'current', 'balance', '000', 'personal', 'pension', 'kpmg', 'balance', '000', 'pension', 'legal', 'general', 'balance', '000', 'relatively', 'low', 'level', 'debt', 'mortgage', 'balance', '250', '000', 'repayment', '1670', 'per', 'month', 'negative', 'mortgage', 'renewal', 'september', 'need', 'consider', 'want', 'switch', 'different', 'mortgage', 'product', 'savings', 'invested', 'currently', 'virgin', 'cash', 'isa', 'private', 'life', 'insurance', 'coverage', 'workplace', 'death', 'service', 'benefit', 'salary', 'based', 'information', 'following', 'review', 'mortgage', 'mortgage', 'renewal', 'september', 'important', 'review', 'options', 'ensure', 'best', 'mortgage', 'product', 'needs', 'consider', 'switching', 'different', 'mortgage', 'save', 'money', 'long', 'term', 'consider', 'investing', 'savings', 'currently', 'invested', 'means', 'growing', 'faster', 'rate', 'may', 'want', 'consider', 'investing', 'savings', 'taxefficient', 'investment', 'product', 'stocks', 'shares', 'isa', 'help', 'money', 'grow', 'faster', 'consider', 'private', 'life', 'death', 'service', 'coverage', 'workplace', 'important', 'consider', 'private', 'life', 'insurance', 'provide', 'extra', 'financial', 'protection', 'family', 'case', 'something', 'unexpected', 'happens', 'review', 'pension', 'important', 'review', 'pension', 'options', 'ensure', 'track', 'reach', 'retirement', 'goals', 'may', 'want', 'consider', 'consolidating', 'pensions', 'one', 'pot', 'make', 'easier', 'manage', 'increasing', 'contributions', 'track', 'reach', 'desired', 'retirement', 'income', 'hope', 'information', 'helpful', 'provides', 'good', 'starting', 'point', 'financial', 'planning', 'questions', 'would', 'like', 'discuss', 'detail', 'please', 'hesitate', 'get', 'touch', 'best', 'regards'], ['dear', 'writing', 'summarise', 'financial', 'factfind', 'recently', 'conducted', 'please', 'find', 'highlights', 'positive', 'negative', 'areas', 'factfind', 'positive', 'joe', 'young', 'years', 'old', 'single', 'dependants', 'owns', 'property', 'worth', '700', '000', 'mortgage', '150', '000', 'joe', 'personal', 'pensions', 'total', 'value', 'around', '500', '000', 'also', 'final', 'salary', 'pension', 'provide', 'income', '000', 'per', 'annum', 'age', 'joe', 'debts', 'besides', 'mortgage', 'negative', 'time', 'specific', 'financial', 'goal', 'objective', 'mentioned', 'value', 'joe', 'personal', 'pensions', 'broken', 'individual', 'funds', 'possible', 'provide', 'full', 'analysis', 'investments', 'based', 'information', 'provided', 'appears', 'joe', 'strong', 'financial', 'foundation', 'significant', 'assets', 'property', 'pensions', 'however', 'without', 'clear', 'financial', 'goal', 'objective', 'difficult', 'provide', 'specific', 'order', 'provide', 'tailored', 'financial', 'plan', 'would', 'helpful', 'learn', 'joe', 'financial', 'goals', 'risk', 'tolerance', 'factors', 'may', 'impact', 'financial', 'situation', 'additionally', 'full', 'analysis', 'individual', 'funds', 'within', 'personal', 'pensions', 'would', 'provide', 'valuable', 'insight', 'investment', 'strategy', 'help', 'ensure', 'portfolio', 'aligned', 'goals', 'please', 'let', 'know', 'questions', 'additional', 'information', 'would', 'like', 'consider', 'best', 'regards'], ['financial', 'factfind', 'summary', 'helen', 'sims', 'dear', 'sharon', 'gordon', 'urquharts', 'hope', 'email', 'finds', 'well', 'writing', 'summarize', 'financial', 'factfind', 'conducted', 'helen', 'sims', 'irene', 'mcgowan', 'requested', 'taken', 'consideration', 'tax', 'investment', 'options', 'giving', 'expert', 'insights', 'advice', 'positive', 'helen', 'sims', 'several', 'sources', 'income', 'including', 'small', 'university', 'pension', 'state', 'pension', 'benefits', 'amounting', 'per', 'day', '856', 'per', 'month', 'helen', 'sims', 'multiple', 'investments', 'main', 'home', 'vacant', 'may', 'worth', '300', '000', 'helen', 'sims', 'cash', 'reserve', 'around', '000', 'cover', 'care', 'costs', 'next', 'years', 'negative', 'helen', 'sims', 'currently', 'living', 'care', 'home', 'cost', '000', 'per', 'year', 'helen', 'sims', 'worried', 'performance', 'investments', 'impact', 'ability', 'cover', 'care', 'costs', 'concern', 'around', 'inheritance', 'tax', 'exemptions', 'nil', 'rate', 'band', 'residential', 'nil', 'rate', 'band', 'per', 'information', 'provided', 'likely', 'helen', 'sims', 'iht', 'issue', 'liquid', 'assets', 'house', 'likely', 'come', 'million', 'assets', 'exempt', 'limit', 'sims', 'use', 'nrb', 'possible', 'helen', 'claim', 'rnrb', 'available', 'ensure', 'helen', 'sims', 'sufficient', 'funds', 'cover', 'care', 'costs', 'explore', 'option', 'immediate', 'care', 'annuity', 'please', 'note', 'information', 'based', 'information', 'provided', 'factfind', 'subject', 'change', 'based', 'research', 'confirmation', 'details', 'questions', 'require', 'additional', 'information', 'please', 'hesitate', 'reach', 'best', 'regards', 'financial', 'advisor'], ['factfind', 'summary', 'alistair', 'forbes', 'jackie', 'forbes', 'dear', 'forbes', 'jackie', 'writing', 'provide', 'summary', 'recent', 'factfind', 'meeting', 'discussed', 'financial', 'situation', 'goals', 'expectations', 'based', 'information', 'provided', 'would', 'like', 'highlight', 'positive', 'aspects', 'financial', 'situation', 'also', 'identify', 'areas', 'improvement', 'positive', 'investment', 'portfolio', 'ubs', 'includes', 'funds', 'joint', 'portfolio', 'oeic', 'feeding', 'isas', 'keen', 'interest', 'tax', 'planning', 'exposure', 'private', 'equity', 'eis', 'terms', 'working', 'history', 'investments', 'made', 'mitigate', 'tax', 'clear', 'goal', 'winding', 'paid', 'work', 'using', 'assets', 'secure', 'income', 'future', 'areas', 'currently', 'full', 'understanding', 'assets', 'debts', 'necessary', 'order', 'provide', 'comprehensive', 'financial', 'advice', 'discussion', 'yet', 'current', 'income', 'expenses', 'also', 'necessary', 'order', 'make', 'informed', 'decisions', 'important', 'consider', 'potential', 'impact', 'tax', 'decide', 'restructure', 'portfolio', 'including', 'capital', 'gains', 'tax', 'relevant', 'taxes', 'moving', 'forward', 'would', 'like', 'provide', 'following', 'understanding', 'financial', 'situation', 'would', 'like', 'provide', 'performance', 'analytics', 'including', 'information', 'voyant', 'sjp', 'ima', 'would', 'also', 'like', 'provide', 'complete', 'service', 'client', 'due', 'diligence', 'document', 'outline', 'charges', 'services', 'benefits', 'expect', 'working', 'finally', 'would', 'like', 'send', 'three', 'questions', 'help', 'understand', 'financial', 'goals', 'greater', 'detail', 'may', 'also', 'helpful', 'complete', 'technical', 'link', 'tax', 'questionnaire', 'gain', 'deeper', 'understanding', 'potential', 'tax', 'implications', 'portfolio', 'restructuring', 'confident', 'information', 'able', 'provide', 'detailed', 'accurate', 'financial', 'advice', 'tailored', 'market', 'taking', 'consideration', 'tax', 'investment', 'options', 'please', 'let', 'know', 'questions', 'concerns', 'regarding', 'information', 'outlined', 'look', 'forward', 'continuing', 'discussions', 'working', 'achieve', 'financial', 'goals', 'best', 'regards'], ['dear', 'reviewed', 'information', 'provided', 'insights', 'share', 'positive', 'clients', 'paidoff', 'mortgage', 'home', 'valued', '650', '000', 'contributing', '000', 'per', 'year', 'children', '529', 'plans', 'also', 'qualifies', 'maximum', 'state', 'maryland', 'tax', 'deduction', 'clients', 'maxing', '401', 'contributions', 'participating', 'profit', 'sharing', 'plan', 'employer', '2030', '000', 'cash', 'year', 'debt', 'extra', '500', 'per', 'month', 'put', 'towards', 'financial', 'goals', 'negative', 'clients', 'condo', 'columbia', 'real', 'profit', 'due', 'fees', 'taxes', 'hoa', 'fees', 'would', 'like', 'sell', 'condo', 'rent', 'current', 'home', '200', '000', 'bank', '000', 'citi', 'bank', 'sure', 'money', 'monthly', 'expenses', 'around', '000', 'limited', 'emergency', 'fund', '3060', '000', 'estate', 'plan', 'place', 'life', 'insurance', 'coverage', 'may', 'enough', 'fully', 'protect', 'family', 'event', 'unexpected', 'loss', 'explore', 'investment', 'options', 'would', 'recommend', 'send', '2021', 'tax', 'return', '2022', 'return', 'completed', 'would', 'also', 'recommend', 'consider', 'contributing', 'backdoor', 'roth', 'ira', 'well', 'exploring', 'taxadvantaged', 'buckets', 'saving', 'would', 'advise', 'look', 'getting', 'heloc', 'business', 'line', 'credit', 'additional', 'financial', 'flexibility', 'address', 'estate', 'planning', 'concerns', 'would', 'suggest', 'review', 'sba', 'personal', 'net', 'worth', 'rules', 'maryland', 'minority', 'rules', 'ensure', 'stay', 'within', 'limits', 'address', 'insurance', 'needs', 'would', 'recommend', 'explore', 'supplemental', 'disability', 'insurance', 'disability', 'buyout', 'well', 'permanent', 'life', 'insurance', 'finally', 'would', 'advise', 'review', 'fbar', 'rules', 'property', 'india', 'consider', 'title', 'assets', 'estate', 'planning', 'purposes', 'hope', 'email', 'provides', 'clear', 'concise', 'overview', 'clients', 'financial', 'situation', 'questions', 'need', 'information', 'please', 'let', 'know'], ['dear', 'kyle', 'reviewed', 'financial', 'information', 'provided', 'would', 'like', 'take', 'opportunity', 'provide', 'summary', 'current', 'financial', 'situation', 'positive', 'significant', 'amount', 'assets', 'including', 'primary', 'residence', 'worth', '050', '000', '401k', 'worth', '250', '000', 'ira', 'worth', '100', '000', 'brokerage', 'account', 'worth', '100', '000', 'business', 'worth', '000', '000', 'life', 'insurance', 'policy', 'value', '000', '000', 'providing', 'protection', 'family', 'case', 'unexpected', 'event', 'high', 'income', '350', '000', 'significant', 'amount', 'savings', 'including', '000', 'savings', 'account', '000', 'checking', 'account', 'negative', 'mortgage', 'worth', 'auto', 'loan', 'worth', 'potentially', 'impact', 'cash', 'flow', 'despite', 'high', 'level', 'investment', 'knowledge', 'yet', 'maximized', 'tax', 'savings', 'retirement', 'plan', 'funding', 'given', 'financial', 'information', 'stated', 'goals', 'maximizing', 'tax', 'savings', 'maximizing', 'retirement', 'plan', 'funding', 'retiring', 'age', 'traveling', 'family', 'would', 'recommend', 'following', 'review', 'tax', 'situation', 'look', 'ways', 'reduce', 'taxable', 'income', 'contributing', '401k', 'ira', 'consider', 'investing', 'portion', 'assets', 'diversified', 'portfolio', 'stocks', 'bonds', 'potentially', 'increase', 'returns', 'reach', 'retirement', 'goals', 'pay', 'highinterest', 'debt', 'credit', 'cards', 'reduce', 'amount', 'interest', 'paying', 'potentially', 'improve', 'cash', 'flow', 'consider', 'using', 'business', 'assets', 'pay', 'debt', 'invest', 'additional', 'assets', 'hope', 'summary', 'provides', 'valuable', 'insights', 'financial', 'situation', 'gives', 'good', 'starting', 'point', 'financial', 'planning', 'questions', 'would', 'like', 'discuss', 'options', 'detail', 'please', 'hesitate', 'reach', 'best', 'regards'], ['summary', 'factfind', 'dear', 'client', 'writing', 'summarize', 'factfind', 'recently', 'conducted', 'provide', 'expert', 'insights', 'based', 'financial', 'situation', 'positive', 'significant', 'amount', 'money', '401k', 'plan', 'paychex', 'provide', 'steady', 'source', 'retirement', 'income', 'lifestyle', 'expenses', 'seem', 'reasonable', 'good', 'sign', 'financial', 'health', 'negative', 'medical', 'insurance', 'could', 'pose', 'risk', 'financial', 'stability', 'encounter', 'unexpected', 'medical', 'expenses', 'ira', 'roth', 'taxable', 'account', 'balance', 'currently', 'could', 'limit', 'investment', 'options', 'prevent', 'reaching', 'longterm', 'financial', 'goals', 'given', 'factors', 'would', 'like', 'offer', 'following', 'help', 'improve', 'financial', 'obtain', 'medical', 'consider', 'enrolling', 'health', 'insurance', 'plan', 'protect', 'unexpected', 'medical', 'expenses', 'may', 'eligible', 'medicare', 'turn', 'meantime', 'may', 'need', 'purchase', 'insurance', 'marketplace', 'would', 'recommend', 'reaching', 'insurance', 'agent', 'information', 'options', 'increase', 'retirement', 'maximize', 'retirement', 'savings', 'consider', 'contributing', '401k', 'paychex', 'starting', 'ira', 'account', 'employer', 'offers', 'match', 'taking', 'advantage', 'help', 'reach', 'retirement', 'savings', 'goals', 'even', 'faster', 'review', 'lifestyle', 'ensure', 'lifestyle', 'expenses', 'line', 'income', 'would', 'recommend', 'tracking', 'spending', 'months', 'get', 'better', 'understanding', 'money', 'going', 'help', 'identify', 'areas', 'reduce', 'expenses', 'increase', 'savings', 'please', 'let', 'know', 'questions', 'would', 'like', 'discuss', 'detail', 'help', 'support', 'achieving', 'financial', 'goals', 'best', 'regards'], ['dear', 'neill', 'gregson', 'thank', 'meeting', 'discuss', 'financial', 'situation', 'based', 'conversation', 'information', 'provided', 'put', 'together', 'summary', 'current', 'financial', 'position', 'goals', 'future', 'positive', 'strong', 'income', 'financial', 'planner', '120', '000', 'strong', 'financial', 'foundation', 'valuable', 'several', 'valuable', 'assets', 'including', 'home', 'valued', '350', '000', 'buytolet', 'property', 'valued', '100', '000', 'investment', 'portfolio', 'valued', '000', 'cash', 'savings', 'valued', '000', 'business', 'valued', '600', '000', 'negative', 'mortgage', 'mortgage', 'home', '170', '000', 'need', 'paid', 'future', 'financial', 'retire', 'goal', 'retire', 'age', 'reasonable', 'target', 'given', 'strong', 'financial', 'position', 'pay', 'mortgage', 'also', 'want', 'pay', 'mortgage', 'age', 'free', 'income', 'expenses', 'retirement', 'based', 'information', 'would', 'recommend', 'develop', 'comprehensive', 'financial', 'plan', 'help', 'achieve', 'goals', 'involve', 'analyzing', 'current', 'assets', 'liabilities', 'creating', 'budget', 'ensure', 'enough', 'money', 'meet', 'living', 'expenses', 'developing', 'retirement', 'plan', 'ensure', 'enough', 'money', 'live', 'rest', 'life', 'order', 'create', 'detailed', 'plan', 'would', 'need', 'gather', 'information', 'current', 'expenses', 'future', 'expenses', 'financial', 'goals', 'may', 'also', 'explore', 'different', 'investment', 'options', 'strategies', 'help', 'reach', 'financial', 'goals', 'please', 'let', 'know', 'questions', 'anything', 'else', 'like', 'discuss', 'best', 'regards'], ['hello', 'sarah', 'thank', 'sharing', 'financial', 'information', 'based', 'factfind', 'conducted', 'appears', 'solid', 'foundation', 'achieving', 'financial', 'goals', 'summary', 'key', 'points', 'positive', 'stable', 'income', '000', 'per', 'year', 'marketing', 'manager', 'good', 'amount', 'assets', 'including', 'home', 'valued', '250', '000', '401', 'account', 'valued', '000', 'brokerage', 'account', 'valued', '000', 'savings', 'account', 'valued', '000', 'negative', 'mortgage', 'home', '150', '000', 'financial', 'save', 'payment', 'second', 'home', 'save', 'retirement', 'first', 'let', 'address', 'goal', 'saving', 'payment', 'second', 'home', 'based', 'value', 'current', 'home', 'savings', 'accounts', 'seems', 'like', 'good', 'position', 'start', 'saving', 'second', 'home', 'one', 'strategy', 'consider', 'would', 'increase', 'savings', 'contributions', 'potentially', 'make', 'additional', 'principal', 'payments', 'mortgage', 'pay', 'quickly', 'would', 'free', 'cash', 'flow', 'put', 'towards', 'saving', 'second', 'home', 'additionally', 'might', 'consider', 'looking', 'firsttime', 'homebuyer', 'programs', 'could', 'help', 'payment', 'goal', 'saving', 'retirement', 'great', 'already', '401', 'account', 'brokerage', 'account', 'one', 'strategy', 'consider', 'would', 'increase', 'contributions', 'accounts', 'potentially', 'explore', 'retirement', 'savings', 'options', 'roth', 'ira', 'traditional', 'ira', 'depending', 'income', 'factors', 'may', 'also', 'want', 'consider', 'taking', 'advantage', 'employer', 'match', 'contributions', '401', 'additionally', 'consider', 'creating', 'budget', 'review', 'expenses', 'see', 'cut', 'back', 'unnecessary', 'expenses', 'increase', 'savings', 'rate', 'terms', 'taxes', 'may', 'want', 'consult', 'tax', 'professional', 'see', 'taxadvantaged', 'options', 'may', 'help', 'save', 'goals', 'overall', 'looks', 'like', 'solid', 'financial', 'foundation', 'strategic', 'planning', 'budgeting', 'able', 'achieve', 'goals', 'questions', 'need', 'additional', 'guidance', 'please', 'hesitate', 'reach', 'best'], ['sarah', 'johnson', 'financial', 'factfind', 'summary', 'dear', 'sarah', 'wanted', 'take', 'moment', 'summarize', 'financial', 'information', 'discussed', 'recent', 'factfinding', 'meeting', 'positive', 'strong', 'asset', 'base', 'home', 'valued', '250', '000', 'stock', 'portfolio', 'worth', '120', '000', 'retirement', 'account', 'valued', '000', '000', 'cash', 'savings', 'clear', 'financial', 'goal', 'paying', 'home', 'mortgage', 'within', 'next', 'years', 'also', 'expressed', 'interest', 'increasing', 'retirement', 'savings', 'saving', 'payment', 'rental', 'property', 'negative', 'liabilities', 'currently', 'outweigh', 'assets', 'home', 'mortgage', 'balance', '180', '000', 'based', 'information', 'help', 'reach', 'financial', 'goals', 'pay', 'home', 'reach', 'goal', 'paying', 'home', 'mortgage', 'within', 'next', 'years', 'may', 'helpful', 'consider', 'making', 'extra', 'payments', 'month', 'increasing', 'monthly', 'payments', 'help', 'pay', 'mortgage', 'faster', 'reduce', 'amount', 'interest', 'pay', 'life', 'loan', 'increase', 'retirement', 'expressed', 'interest', 'increasing', 'retirement', 'savings', 'one', 'option', 'consider', 'contribute', 'existing', 'retirement', 'account', 'either', 'increasing', 'monthly', 'contributions', 'making', 'additional', 'lump', 'sum', 'contributions', 'may', 'also', 'want', 'consider', 'exploring', 'retirement', 'savings', 'options', 'traditional', 'roth', 'ira', 'save', 'payment', 'rental', 'order', 'save', 'payment', 'rental', 'property', 'may', 'want', 'consider', 'setting', 'separate', 'savings', 'account', 'specifically', 'purpose', 'could', 'also', 'consider', 'exploring', 'investment', 'options', 'may', 'provide', 'higher', 'rate', 'return', 'traditional', 'savings', 'account', 'hope', 'summary', 'helpful', 'provides', 'good', 'starting', 'point', 'continued', 'conversations', 'financial', 'goals', 'achieve', 'questions', 'would', 'like', 'discuss', 'anything', 'please', 'hesitate', 'reach', 'best', 'regards', 'name'], ['financial', 'factfind', 'summary', 'jane', 'doe', 'dear', 'jane', 'hope', 'email', 'finds', 'well', 'wanted', 'take', 'moment', 'summarize', 'results', 'recent', 'financial', 'factfind', 'rundown', 'current', 'financial', 'situation', 'helping', 'achieve', 'financial', 'goals', 'positive', 'solid', 'foundation', 'assets', 'including', 'home', 'valued', '400', '000', 'investment', 'portfolio', 'valued', '120', '000', '401', 'plan', 'also', 'great', 'start', 'towards', 'retirement', 'savings', 'currently', 'valued', '000', 'cash', 'savings', '000', 'provide', 'safety', 'net', 'case', 'unexpected', 'expenses', 'negative', 'mortgage', 'balance', '240', '000', 'significant', 'liability', 'financial', 'expressed', 'interest', 'saving', 'payment', 'second', 'home', 'years', 'paying', 'mortgage', 'years', 'also', 'goal', 'retiring', 'comfortably', 'help', 'reach', 'goal', 'saving', 'payment', 'second', 'home', 'would', 'recommend', 'setting', 'automatic', 'monthly', 'transfer', 'checking', 'account', 'highyield', 'savings', 'account', 'money', 'market', 'fund', 'way', 'steadily', 'build', 'savings', 'without', 'think', 'pay', 'mortgage', 'years', 'may', 'want', 'consider', 'making', 'extra', 'payments', 'increasing', 'monthly', 'payment', 'reduce', 'amount', 'interest', 'pay', 'life', 'loan', 'become', 'mortgagefree', 'sooner', 'retirement', 'important', 'maximize', 'contributions', '401', 'plan', 'consider', 'retirement', 'savings', 'options', 'ira', 'would', 'also', 'suggest', 'reviewing', 'investment', 'options', 'within', '401', 'plan', 'making', 'sure', 'invested', 'diversified', 'mix', 'assets', 'align', 'risk', 'tolerance', 'time', 'horizon', 'please', 'let', 'know', 'questions', 'would', 'like', 'discuss', 'detail', 'help', 'support', 'achieving', 'financial', 'goals', 'best', 'regards', 'financial', 'adviso'], ['dear', 'mrs', 'elizabeth', 'adams', 'hope', 'email', 'finds', 'well', 'writing', 'summarize', 'information', 'discussed', 'recent', 'factfinding', 'meeting', 'positive', 'portfolio', 'assets', 'including', 'primary', 'residence', 'bank', 'savings', 'stocks', 'rental', 'property', 'relatively', 'low', 'mortgage', 'balance', 'primary', 'residence', 'may', 'allow', 'pay', 'sooner', 'increase', 'cash', 'flow', 'retirement', 'negative', 'income', 'retirement', 'limited', 'may', 'enough', 'cover', 'living', 'expenses', 'based', 'financial', 'goals', 'generating', 'additional', 'income', 'cover', 'living', 'expenses', 'leaving', 'legacy', 'children', 'grandchildren', 'suggestions', 'renting', 'primary', 'considering', 'downsizing', 'moving', 'different', 'location', 'renting', 'primary', 'residence', 'could', 'provide', 'additional', 'income', 'cover', 'living', 'expenses', 'however', 'important', 'consider', 'costs', 'associated', 'landlord', 'investing', 'annuity', 'financial', 'product', 'provide', 'guaranteed', 'stream', 'income', 'retirement', 'choose', 'various', 'types', 'annuities', 'including', 'fixed', 'annuities', 'variable', 'annuities', 'indexed', 'annuities', 'risks', 'benefits', 'investing', 'annuity', 'important', 'thoroughly', 'research', 'product', 'understand', 'terms', 'conditions', 'reviewing', 'stock', 'portfolio', 'may', 'provide', 'growth', 'potential', 'also', 'subject', 'market', 'fluctuations', 'may', 'helpful', 'review', 'portfolio', 'adjust', 'asset', 'allocation', 'based', 'risk', 'tolerance', 'investment', 'goals', 'utilizing', 'reverse', 'years', 'age', 'older', 'may', 'eligible', 'reverse', 'mortgage', 'allows', 'borrow', 'equity', 'home', 'funds', 'used', 'supplement', 'retirement', 'income', 'pay', 'debt', 'make', 'home', 'improvements', 'however', 'important', 'understand', 'terms', 'conditions', 'reverse', 'mortgage', 'including', 'costs', 'impact', 'estate', 'hope', 'information', 'helpful', 'questions', 'would', 'like', 'discuss', 'options', 'detail', 'please', 'let', 'know', 'best', 'regards', 'financial', 'advis'], ['dear', 'karen', 'hope', 'email', 'finds', 'well', 'writing', 'summarize', 'factfind', 'conducted', 'provide', 'expert', 'insights', 'financial', 'situation', 'positive', 'healthy', 'amount', 'assets', 'including', 'home', 'valued', '350', '000', 'investment', 'portfolio', 'valued', '200', '000', 'cash', 'savings', '100', '000', 'income', 'social', 'security', 'pension', '000', 'per', 'year', 'provide', 'good', 'foundation', 'maintaining', 'standard', 'living', 'retirement', 'negative', 'mortgage', 'home', 'worth', '150', '000', 'credit', 'card', 'debt', '000', 'could', 'impact', 'financial', 'stability', 'managed', 'properly', 'based', 'information', 'provided', 'seems', 'like', 'good', 'financial', 'position', 'solid', 'income', 'mix', 'assets', 'help', 'support', 'goals', 'however', 'recommend', 'focus', 'paying', 'mortgage', 'credit', 'card', 'debt', 'soon', 'possible', 'liabilities', 'could', 'become', 'burden', 'future', 'maintain', 'standard', 'living', 'retirement', 'may', 'want', 'consider', 'adjusting', 'investment', 'portfolio', 'prioritize', 'stability', 'growth', 'could', 'involve', 'shifting', 'investments', 'fixed', 'income', 'assets', 'bonds', 'provide', 'steady', 'stream', 'income', 'terms', 'desire', 'travel', 'world', 'may', 'want', 'consider', 'setting', 'aside', 'cash', 'savings', 'travel', 'expenses', 'help', 'ensure', 'able', 'enjoy', 'travels', 'without', 'tap', 'investments', 'could', 'impact', 'longterm', 'financial', 'stability', 'finally', 'ensure', 'able', 'leave', 'legacy', 'children', 'grandchildren', 'may', 'want', 'consider', 'estate', 'planning', 'could', 'involve', 'creating', 'setting', 'trust', 'developing', 'comprehensive', 'plan', 'transferring', 'assets', 'beneficiaries', 'hope', 'information', 'helpful', 'questions', 'concerns', 'please', 'hesitate', 'reach', 'best', 'regards', 'name'], ['summary', 'financial', 'factfind', 'dear', 'michael', 'hope', 'email', 'finds', 'well', 'thank', 'allowing', 'opportunity', 'review', 'financial', 'situation', 'appreciate', 'information', 'provided', 'able', 'provide', 'comprehensive', 'overview', 'current', 'financial', 'position', 'offer', 'achieving', 'financial', 'goals', 'positive', 'wellrounded', 'mix', 'assets', 'including', 'home', '401', 'plan', 'investment', 'portfolio', 'cash', 'savings', 'income', '150', '000', 'per', 'year', 'significant', 'provides', 'solid', 'foundation', 'achieving', 'financial', 'goals', 'financial', 'goals', 'clear', 'aligned', 'current', 'financial', 'situation', 'negative', 'mortgage', 'student', 'loans', 'create', 'significant', 'amount', 'debt', 'pay', 'mortgage', 'student', 'loans', 'soon', 'possible', 'reduce', 'debt', 'improve', 'overall', 'financial', 'stability', 'consider', 'increasing', 'contributions', '401', 'plan', 'order', 'maximize', 'retirement', 'savings', 'review', 'investment', 'portfolio', 'make', 'necessary', 'adjustments', 'ensure', 'investments', 'align', 'goals', 'risk', 'tolerance', 'consider', 'funding', 'children', 'college', 'education', 'combination', 'grants', 'scholarships', 'student', 'loans', 'order', 'minimize', 'impact', 'financial', 'situation', 'would', 'happy', 'provide', 'additional', 'information', 'answer', 'questions', 'may', 'would', 'like', 'schedule', 'followup', 'meeting', 'discuss', 'detail', 'please', 'let', 'know', 'best', 'regards'], ['dear', 'maria', 'based', 'information', 'provided', 'recent', 'factfind', 'put', 'together', 'summary', 'financial', 'situation', 'achieve', 'goals', 'positive', 'significant', 'amount', 'assets', 'including', 'home', '401', 'account', 'savings', 'account', 'income', 'relatively', 'high', 'help', 'save', 'goals', 'set', 'specific', 'financial', 'goals', 'retirement', 'providing', 'children', 'education', 'negative', 'mortgage', 'balance', 'relatively', 'high', 'compared', 'value', 'home', 'savings', 'account', 'large', 'may', 'enough', 'cover', 'unexpected', 'expenses', 'emergencies', 'achieve', 'goal', 'paying', 'mortgage', 'consider', 'increasing', 'monthly', 'mortgage', 'payments', 'making', 'extra', 'payments', 'possible', 'ensure', 'enough', 'savings', 'cover', 'unexpected', 'expenses', 'emergencies', 'consider', 'increasing', 'monthly', 'savings', 'contributions', 'looking', 'ways', 'increase', 'income', 'maximize', 'retirement', 'savings', 'consider', 'increasing', 'contributions', '401', 'account', 'looking', 'retirement', 'savings', 'options', 'ira', 'provide', 'children', 'education', 'consider', 'setting', 'college', 'savings', 'plan', '529', 'plan', 'making', 'regular', 'contributions', 'also', 'consider', 'speaking', 'tax', 'advisor', 'help', 'maximizing', 'tax', 'saving', 'investment', 'options', 'best', 'financial', 'advisor'], ['summary', 'financial', 'factfind', 'sarah', 'johnson', 'dear', 'sarah', 'thank', 'taking', 'time', 'meet', 'today', 'appreciate', 'opportunity', 'discuss', 'financial', 'situation', 'help', 'achieve', 'financial', 'goals', 'summary', 'conversation', 'observations', 'financial', 'positive', 'solid', 'mix', 'assets', 'including', 'home', 'investment', 'portfolio', '401', 'plan', 'cash', 'savings', 'income', 'high', 'steady', 'provide', 'solid', 'foundation', 'future', 'financial', 'plans', 'clearly', 'defined', 'financial', 'goals', 'great', 'first', 'step', 'achieving', 'financial', 'success', 'negative', 'significant', 'mortgage', 'home', 'student', 'loan', 'debt', 'children', 'may', 'impact', 'ability', 'reach', 'financial', 'goals', 'investment', 'portfolio', '401', 'plan', 'may', 'optimally', 'diversified', 'could', 'leave', 'exposed', 'unnecessary', 'risk', 'based', 'information', 'provided', 'help', 'reach', 'financial', 'pay', 'mortgage', 'student', 'loan', 'debt', 'top', 'priority', 'debts', 'potential', 'significantly', 'impact', 'financial', 'future', 'consider', 'ways', 'accelerate', 'debt', 'repayment', 'making', 'extra', 'payments', 'refinancing', 'mortgage', 'lower', 'rate', 'diversify', 'investment', 'key', 'managing', 'risk', 'investment', 'portfolio', 'consider', 'rebalancing', 'portfolio', 'include', 'mix', 'different', 'types', 'investments', 'stocks', 'bonds', 'real', 'estate', 'help', 'reduce', 'overall', 'investment', 'risk', 'consider', 'longterm', 'care', 'approach', 'retirement', 'age', 'important', 'consider', 'possibility', 'needing', 'longterm', 'care', 'longterm', 'care', 'insurance', 'help', 'protect', 'assets', 'provide', 'peace', 'mind', 'family', 'review', '401', '401', 'plan', 'important', 'component', 'retirement', 'savings', 'important', 'make', 'sure', 'track', 'meet', 'retirement', 'goals', 'consider', 'working', 'financial', 'advisor', 'review', 'plan', 'make', 'necessary', 'adjustments', 'consider', 'financial', 'working', 'financial', 'advisor', 'help', 'navigate', 'complex', 'world', 'personal', 'finance', 'ensure', 'making', 'informed', 'decisions', 'money', 'financial', 'advisor', 'help', 'create', 'comprehensive', 'financial', 'plan', 'provide', 'ongoing', 'support', 'work', 'towards', 'goals', 'please', 'let', 'know', 'questions', 'concerns', 'help', 'happy', 'discuss', 'financial', 'situation', 'time', 'best', 'regards', 'financial', 'adviso'], ['karen', 'lee', 'financial', 'factfind', 'summary', 'dear', 'karen', 'thank', 'meeting', 'today', 'discuss', 'financial', 'situation', 'goals', 'analyzed', 'information', 'provided', 'would', 'like', 'share', 'insights', 'positive', 'healthy', 'annual', 'income', '150', '000', 'positive', 'factor', 'achieving', 'financial', 'goals', 'valuable', 'mix', 'assets', 'includes', 'valuable', 'home', 'wellfunded', 'investment', 'portfolio', 'retirement', 'savings', 'college', 'savings', 'accounts', 'children', 'business', 'significant', 'asset', 'significant', 'mortgage', 'home', 'loan', 'business', 'debts', 'manageable', 'overburdensome', 'considering', 'income', 'assets', 'negative', 'currently', 'years', 'old', 'means', 'less', 'time', 'save', 'retirement', 'reach', 'financial', 'goals', 'loan', 'loan', 'payments', 'home', 'business', 'impact', 'cash', 'flow', 'reduce', 'amount', 'money', 'available', 'put', 'towards', 'financial', 'goals', 'based', 'information', 'recommend', 'focus', 'following', 'strategies', 'help', 'achieve', 'financial', 'retirement', 'current', 'retirement', 'savings', 'healthy', 'income', 'solid', 'foundation', 'comfortable', 'retirement', 'however', 'given', 'age', 'limited', 'amount', 'time', 'left', 'reach', 'target', 'retirement', 'age', 'important', 'consider', 'increasing', 'retirement', 'contributions', 'investing', 'diversified', 'portfolio', 'appropriate', 'risk', 'tolerance', 'time', 'horizon', 'paying', 'mortgage', 'business', 'loan', 'payments', 'impacting', 'cash', 'flow', 'would', 'wise', 'consider', 'paying', 'soon', 'possible', 'free', 'cash', 'flow', 'reduce', 'overall', 'financial', 'risk', 'education', 'children', 'college', 'education', 'important', 'already', 'taken', 'steps', 'fund', 'education', 'establishing', 'college', 'savings', 'accounts', 'however', 'would', 'wise', 'reevaluate', 'college', 'savings', 'plan', 'regularly', 'ensure', 'remains', 'track', 'adequate', 'needs', 'maintaining', 'lifestyle', 'maintain', 'current', 'lifestyle', 'retirement', 'important', 'wellfunded', 'retirement', 'account', 'plan', 'additional', 'sources', 'income', 'social', 'security', 'parttime', 'job', 'travel', 'enjoyment', 'desire', 'travel', 'enjoy', 'retirement', 'spouse', 'valid', 'goal', 'incorporate', 'overall', 'financial', 'plan', 'conclusion', 'current', 'financial', 'situation', 'generally', 'healthy', 'solid', 'foundation', 'reaching', 'financial', 'goals', 'focusing', 'strategies', 'making', 'smart', 'financial', 'decisions', 'increase', 'chances', 'achieving', 'financial', 'security', 'comfort', 'desire', 'questions', 'would', 'like', 'discuss', 'detail', 'please', 'hesitate', 'reach', 'sincerely', 'financial', 'advisor'], ['dear', 'karen', 'hope', 'email', 'finds', 'well', 'wanted', 'take', 'moment', 'review', 'factfind', 'conducted', 'provide', 'summary', 'current', 'financial', 'situation', 'advice', 'achieving', 'financial', 'goals', 'positive', 'solid', 'foundation', 'assets', 'including', 'home', 'valued', '500', '000', 'investment', 'portfolio', 'valued', '250', '000', 'healthy', 'cash', 'savings', '100', '000', 'ira', 'valued', '150', '000', 'provide', 'additional', 'source', 'income', 'retirement', 'negative', 'primary', 'liability', 'mortgage', 'home', 'currently', 'valued', '200', '000', 'debt', 'may', 'affect', 'ability', 'maintain', 'standard', 'living', 'retirement', 'especially', 'interest', 'rates', 'rise', 'overall', 'good', 'financial', 'position', 'given', 'assets', 'income', 'pension', 'investments', 'however', 'important', 'comprehensive', 'plan', 'place', 'achieve', 'financial', 'goals', 'ensure', 'maintain', 'desired', 'standard', 'living', 'retirement', 'repaying', 'mentioned', 'one', 'financial', 'goals', 'maintain', 'comfortable', 'standard', 'living', 'retirement', 'repaying', 'mortgage', 'time', 'retire', 'help', 'achieve', 'goal', 'free', 'additional', 'cash', 'flow', 'cover', 'living', 'expenses', 'investment', 'investment', 'portfolio', '250', '000', 'valuable', 'asset', 'important', 'ensure', 'allocated', 'way', 'aligns', 'risk', 'tolerance', 'investment', 'goals', 'time', 'horizon', 'consider', 'seeking', 'help', 'financial', 'advisor', 'review', 'investment', 'strategy', 'make', 'necessary', 'adjustments', 'ira', 'important', 'part', 'retirement', 'plan', 'important', 'make', 'sure', 'invested', 'way', 'meets', 'risk', 'tolerance', 'investment', 'goals', 'consider', 'seeking', 'help', 'financial', 'advisor', 'review', 'ira', 'make', 'necessary', 'adjustments', 'legacy', 'mentioned', 'leaving', 'legacy', 'children', 'grandchildren', 'one', 'financial', 'goals', 'consider', 'including', 'overall', 'financial', 'plan', 'may', 'include', 'estate', 'planning', 'wealth', 'transfer', 'strategies', 'hope', 'summary', 'provides', 'better', 'understanding', 'financial', 'situation', 'helps', 'achieve', 'financial', 'goals', 'questions', 'would', 'like', 'discuss', 'please', 'hesitate', 'reach', 'best', 'regards'], ['sarah', 'johnson', 'financial', 'review', 'dear', 'sarah', 'pleased', 'present', 'results', 'financial', 'review', 'following', 'summary', 'current', 'financial', 'situation', 'help', 'achieve', 'financial', 'goals', 'positive', 'diversified', 'portfolio', 'assets', 'including', 'home', 'investment', 'portfolio', 'cash', 'savings', 'personal', 'investment', 'property', 'small', 'business', 'relatively', 'low', 'mortgage', 'balance', 'home', 'paid', 'within', 'years', 'proper', 'planning', 'budgeting', 'stable', 'source', 'income', 'pension', 'social', 'security', 'provide', 'comfortable', 'standard', 'living', 'retirement', 'negative', 'significant', 'business', 'loan', 'outstanding', 'additional', 'liability', 'risk', 'financial', 'security', 'pay', 'mortgage', 'paying', 'mortgage', 'years', 'achievable', 'goal', 'especially', 'given', 'stable', 'income', 'pension', 'social', 'security', 'achieve', 'goal', 'increase', 'monthly', 'mortgage', 'payments', 'consider', 'refinancing', 'mortgage', 'take', 'advantage', 'lower', 'interest', 'rates', 'review', 'investment', 'review', 'investment', 'portfolio', 'ensure', 'aligned', 'longterm', 'financial', 'goals', 'consider', 'seeking', 'professional', 'advice', 'make', 'sure', 'portfolio', 'appropriately', 'structured', 'managed', 'manage', 'business', 'important', 'manage', 'business', 'loan', 'carefully', 'ensure', 'impact', 'financial', 'goals', 'consider', 'paying', 'loan', 'quickly', 'possible', 'exploring', 'alternative', 'financing', 'options', 'reduce', 'risk', 'associated', 'loan', 'consider', 'longterm', 'care', 'approach', 'retirement', 'age', 'important', 'consider', 'potential', 'cost', 'longterm', 'care', 'future', 'longterm', 'care', 'insurance', 'help', 'cover', 'cost', 'longterm', 'care', 'inhome', 'care', 'assisted', 'living', 'help', 'preserve', 'assets', 'estate', 'consider', 'developing', 'estate', 'plan', 'ensure', 'assets', 'distributed', 'according', 'wishes', 'death', 'estate', 'plan', 'help', 'minimize', 'estate', 'taxes', 'protect', 'assets', 'creditors', 'ensure', 'loved', 'ones', 'provided', 'hope', 'review', 'provides', 'good', 'starting', 'point', 'financial', 'planning', 'questions', 'would', 'like', 'discuss', 'options', 'please', 'hesitate', 'reach', 'best', 'regards', 'name'], ['dear', 'susan', 'thank', 'taking', 'time', 'meet', 'reviewed', 'financial', 'information', 'would', 'like', 'share', 'insights', 'positive', 'strong', 'healthy', 'investment', 'portfolio', 'ira', 'account', 'cash', 'savings', 'provide', 'solid', 'financial', 'foundation', 'home', 'home', 'valued', '500', '000', 'mortgage', 'balance', '300', '000', '200', '000', 'equity', 'equity', 'used', 'help', 'meet', 'financial', 'goals', 'providing', 'financial', 'support', 'children', 'ensuring', 'comfortable', 'retirement', 'negative', 'high', 'mortgage', 'mortgage', 'balance', '300', '000', 'significant', 'liability', 'need', 'address', 'next', 'years', 'limited', 'income', '000', 'pension', 'social', 'security', 'may', 'enough', 'meet', 'financial', 'goals', 'especially', 'want', 'maintain', 'current', 'lifestyle', 'retirement', 'based', 'information', 'pay', 'paying', 'mortgage', 'priority', 'reduce', 'monthly', 'expenses', 'help', 'achieve', 'financial', 'independence', 'retirement', 'could', 'consider', 'using', 'cash', 'savings', 'taking', 'home', 'equity', 'loan', 'pay', 'mortgage', 'sooner', 'investment', 'recommend', 'reviewing', 'investment', 'portfolio', 'ensure', 'well', 'diversified', 'aligned', 'financial', 'goals', 'consider', 'speaking', 'financial', 'advisor', 'help', 'create', 'customized', 'investment', 'strategy', 'meets', 'specific', 'needs', 'tax', 'consider', 'speaking', 'tax', 'professional', 'ensure', 'taking', 'advantage', 'available', 'tax', 'deductions', 'credits', 'minimize', 'tax', 'liability', 'legacy', 'important', 'consider', 'legacy', 'want', 'provide', 'children', 'gone', 'may', 'involve', 'setting', 'trusts', 'estate', 'planning', 'vehicles', 'ensure', 'assets', 'distributed', 'according', 'wishes', 'hope', 'helpful', 'questions', 'would', 'like', 'discuss', 'options', 'detail', 'please', 'hesitate', 'reach', 'best', 'regards'], ['financial', 'factfind', 'summary', 'maria', 'smith', 'dear', 'maria', 'hope', 'email', 'finds', 'well', 'wanted', 'thank', 'opportunity', 'review', 'financial', 'situation', 'provide', 'expert', 'insights', 'summary', 'positive', 'diversified', 'investment', 'portfolio', 'includes', 'stocks', 'bonds', 'cash', 'savings', 'help', 'achieve', 'longterm', 'financial', 'goals', 'valuable', 'life', 'insurance', 'policy', 'cash', 'value', 'provide', 'additional', 'source', 'income', 'future', 'negative', 'high', 'mortgage', 'balance', 'relative', 'income', 'may', 'limit', 'ability', 'save', 'invest', 'future', 'cash', 'savings', 'balance', 'relatively', 'low', 'may', 'enough', 'cover', 'unexpected', 'expenses', 'emergencies', 'based', 'financial', 'goals', 'ensuring', 'adequate', 'income', 'retirement', 'maintaining', 'value', 'assets', 'leaving', 'legacy', 'children', 'recommend', 'following', 'review', 'budget', 'determine', 'areas', 'reduce', 'spending', 'increase', 'savings', 'consider', 'paying', 'refinancing', 'mortgage', 'reduce', 'monthly', 'expenses', 'increase', 'monthly', 'cash', 'flow', 'consider', 'increasing', 'contributions', 'investment', 'portfolio', 'take', 'advantage', 'compound', 'interest', 'increase', 'longterm', 'savings', 'consider', 'purchasing', 'additional', 'life', 'insurance', 'longterm', 'care', 'insurance', 'protect', 'assets', 'provide', 'additional', 'income', 'future', 'hope', 'information', 'helpful', 'provides', 'useful', 'insights', 'additional', 'questions', 'concerns', 'please', 'hesitate', 'reach', 'best', 'regards', 'name', 'meeting', 'notes', 'exposure', 'maria', 'main', 'source', 'income', 'pension', 'social', 'security', 'may', 'enough', 'cover', 'living', 'expenses', 'long', 'term', 'maria', 'mortgage', 'home', 'could', 'impact', 'ability', 'maintain', 'value', 'assets', 'action', 'review', 'maria', 'budget', 'determine', 'current', 'income', 'enough', 'cover', 'living', 'expenses', 'consider', 'options', 'increasing', 'income', 'parttime', 'work', 'taking', 'rental', 'property', 'evaluate', 'maria', 'investment', 'portfolio', 'ensure', 'properly', 'diversified', 'aligned', 'goals', 'discuss', 'possibility', 'paying', 'mortgage', 'home', 'reduce', 'monthly', 'expenses', 'free', 'cash', 'investment', 'questions', 'could', 'influence', 'advice', 'maria', 'monthly', 'budget', 'living', 'expenses', 'dependents', 'need', 'financial', 'support', 'future', 'risk', 'tolerance', 'investments', 'health', 'concerns', 'could', 'impact', 'ability', 'work', 'parttime', 'allowances', 'maria', 'may', 'eligible', 'various', 'tax', 'breaks', 'government', 'allowances', 'senior', 'citizen', 'property', 'tax', 'freeze', 'may', 'also', 'able', 'take', 'advantage', 'special', 'investment', 'vehicles', 'roth', 'ira', 'minimize', 'tax', 'liability', 'risk', 'prospect', 'needs', 'aware', 'maria', 'main', 'source', 'income', 'pension', 'social', 'security', 'may', 'adjusted', 'inflation', 'time', 'takes', 'rental', 'property', 'risk', 'vacancy', 'decrease', 'rental', 'income', 'investing', 'always', 'involves', 'level', 'risk', 'possibility', 'losing', 'money', 'investment', 'portfolio'], ['dear', 'sarah', 'johnson', 'thank', 'allowing', 'opportunity', 'review', 'financial', 'situation', 'provide', 'expert', 'insights', 'positive', 'solid', 'investment', 'portfolio', 'value', 'million', 'substantial', 'cash', 'savings', 'rental', 'properties', 'provide', 'passive', 'income', 'help', 'maintain', 'lifestyle', 'retirement', 'negative', 'monthly', 'pension', '000', 'may', 'enough', 'fully', 'support', 'desired', 'lifestyle', 'especially', 'significant', 'ongoing', 'expenses', 'mortgage', 'payments', 'taxes', 'insurance', 'review', 'budget', 'important', 'understand', 'exactly', 'much', 'money', 'spending', 'month', 'essential', 'expenses', 'help', 'determine', 'current', 'income', 'pension', 'sources', 'sufficient', 'support', 'lifestyle', 'consider', 'alternative', 'sources', 'passive', 'rental', 'properties', 'provide', 'additional', 'passive', 'income', 'important', 'mindful', 'associated', 'expenses', 'maintenance', 'costs', 'property', 'management', 'fees', 'may', 'also', 'consider', 'exploring', 'investment', 'options', 'annuities', 'dividendpaying', 'stocks', 'real', 'estate', 'investment', 'trusts', 'supplement', 'income', 'help', 'maintain', 'lifestyle', 'retirement', 'review', 'investment', 'approach', 'retirement', 'important', 'assess', 'risk', 'profile', 'investments', 'make', 'sure', 'align', 'financial', 'goals', 'may', 'consider', 'working', 'financial', 'advisor', 'help', 'make', 'informed', 'investment', 'decisions', 'ensure', 'portfolio', 'properly', 'diversified', 'plan', 'expressed', 'interest', 'leaving', 'inheritance', 'children', 'may', 'consider', 'creating', 'comprehensive', 'estate', 'plan', 'includes', 'trust', 'estateplanning', 'tools', 'hope', 'helpful', 'ensuring', 'resources', 'need', 'maintain', 'desired', 'lifestyle', 'achieve', 'financial', 'goals', 'questions', 'would', 'like', 'discuss', 'detail', 'please', 'hesitate', 'reach', 'best', 'regards', 'name']]\n"
          ]
        }
      ]
    },
    {
      "cell_type": "code",
      "source": [
        "filtered_tokens_notes=[]\n",
        "for w in tokenized_notes_word:    \n",
        "    if w not in stop_words:\n",
        "         filtered_tokens_notes.append(w)\n",
        "\n",
        "print(\"Tokenized Words:\",tokenized_notes_word)\n",
        "print(\"Filterd Tokens:\",filtered_tokens_notes)"
      ],
      "metadata": {
        "colab": {
          "base_uri": "https://localhost:8080/"
        },
        "id": "dtCHnayfVW11",
        "outputId": "a2ba0921-1943-4a3c-ff47-a3645cd8c6a4"
      },
      "execution_count": null,
      "outputs": [
        {
          "output_type": "stream",
          "name": "stdout",
          "text": [
            "Tokenized Words: [['36yearold', 'engineer', ',', 'working', '5', 'years', ',', 'move', 'back', 'uk', 'family', 'reasons', '.', 'property', 'sell', '.', 'nonqualified', 'pension', 'efa', 'organisation', ',', '€120k', ',', 'already', 'agreement', 'french', 'tax', 'authorities', 'won', '’', 't', 'tax', 'income', 'salary', 'tax', 'capital', 'gains', '.', 'still', 'french', 'resident', ',', 'uk', '6th', 'april', '2023', 'tax', 'provisionally', 'physically', 'moving', 'back', 'around', '15th', 'february', '.', 'significant', 'gain', 'french', 'property', 'taxfree', '.', 'close', 'pension', 'payroll', 'end', 'feb', 'could', 'end', 'march', '.'], ['often', 'tell', 'clients', 'planning', 'retirement', 'like', 'putting', 'together', 'puzzle', '.', 'explain', 'image', 'box', ',', 'envision', 'living', 'lives', ',', 'spend', 'time', ',', 'spend', 'with', ',', 'intentions', 'beyond', '?', 'job', 'take', 'puzzle', 'pieces', 'align', 'way', 'focus', 'living', 'picture', ',', '“', 'life', 'well', 'planned', '”', '•', 'financial', 'planning', 'process', ':', 'understand', 'client', 'identify', 'goals/priorities', 'analyze', 'situation', ',', 'what', '’', 's', 'true', 'today', 'create', 'plan', 'recommendation', 'present', 'implement', 'monitor', '•', 'develop', 'retirement', 'income', 'strategy', 'fund', 'expense', 'needs', '•', 'analyze', 'tax', 'considerations', '•', 'create', 'plan', 'understand', 'answer', '“', 'what', 'if', '”', 'questions', '•', 'investment', 'management', '•', 'insurance', 'services'], ['name', 'scott', 'snedden', 'age', '45', 'employed', '£100,000'], ['family', 'd.o', '.', '47', 'married', '/', 'kate', ',', '40', 'd.o.b', '2', 'young', 'kids', '2', 'boys', 'oliver', 'rowland', '5', 'alfie', '2', 'will', '?', 'residential', '/', '495k', '4', 'year', '600k', '250k', 'sept', '2.19', '%', 'type', '1670/m', 'term', 'rate', '?', 'long', 'see', 'there', '?', 'min', '5', 'years', '10', 'years', 'bit', 'land', 'price', 'go', '750800k', 'properties', '?', 'bought', 'holiday', '70k', 'srvice', 'charge', '5k/y', 'rental', 'income', '?', 'employment', 'director', ',', 'gt', ',', 'manchaster', '18', 'yers', 'tax', 'advice', 'enjoy', 'looking', 'move', 'partner', 'next', 'year', 'reasonable', 'life', 'insurance', ',', 'private', 'fixed', 'profit', 'shares', 'block', 'min', '175200k', '120k', 'disc', 'deferred', 'obliged', 'hold', 'level', 'stock', '?', 'partners', 'senior', 'ey', '8month', '15', 'private', 'owned', '3', 'days', 'week', '2024', 'dirctor', '53k', 'partners', 'sw', '23', '%', '9.5', '%', '950', '2950', '£300,000', 'stock', '25', '%', '18', '%', 'uk', 'index', '15', '%', 'defult', 'funds', '26', '%', 'property', 'penison', '2010', 'busy', 'ey', '15k', 'wtw', 'aviva', '40k', 'pension', 'pots', 'have', '?', '·', 'sw', '18k', '·', 'stand', 'life', 'kpmg', '45k', '·', 'ey', '4k', 'legal', '&', 'general', '·', '10', '%', '6.5', '%', '·', 'dafult', '·', 'previous', 'savings', '£80k', 'stati', 'used', 'investent', 'propety', 'got', 'offset', 'account', 'much', 'offset', 'mortgage', '20k', 'offset', 'mortgage', 'renewal', 'sept', 'eyar', 'save', 'couple', '100/m', 'boys', '2.5k', 'virgin', 'cash', 'investment', 'income', '8k/m', '60', '%', 'committed', '20', '%', 'disc', 'holdiays', '&', 'going', '20', '%', 'half', 'goes', 'direct', 'debit', 'credit', 'card', '£700', 'bonus', 'xmas', 'much', 'comes', 'much', 'goes', 'saves', 'left', 'range', 'exposure', '1', '2', '3', 'kate', 'life', 'assruance', 'cic', '75', '%', 'salary', 'nothin', 'private', 'throgh', 'work', 'cic', 'dis', 'hopes', '/', 'financial', 'independence', 'much', 'needed', 'retirement', 'ability', 'choice', '/', 'flexibility', 'life', '?', 'current', 'overriding', 'financial', 'objective', '?', '3', 'main'], ['joe', 'young', '50', 'years', 'old', 'single', ',', 'dependants', 'property', 'worth', '£700,000', ',', '£150,000', 'mortgage', '3', 'personal', 'pensions', ',', 'total', 'value', 'region', '£500,000', '1', 'final', 'salary', 'pension', ',', '£5,000', 'per', 'annum', 'age', '65', 'debt', 'beside', 'mortgage'], ['note', 'meeting', 'helen', 'sims.referred', 'sharon', 'gordon', 'urquharts', '.', 'lived', 'care', 'home', 'c1year', '.', 'queens', 'manor', 'care', 'home', ',', '565', 'queensferry', 'road', ',', 'edinburgh', ',', 'eh4', '8du', '.', 'tel', 'number', '07913', '945877.', 'email', 'also', 'attendance', 'also', 'irene', 'mcgowan', '.', 'tel', '07504', '858164.', 'address', '21', 'collins', 'place', ',', 'edin', ',', 'eh3', '5jd', 'widow', 'c20', 'years', '.', 'immediate', 'family', '.', 'ni', 'hm324002b', 'helen', 'date', 'birth', '21.07.1935', 'also', 'thinks', 'companies', 'might', 'show', '21.07.1938.', 'need', 'aware', 'also', 'check', 'id', '?', 'question/concern', 'around', 'care', 'fees', '.', 'cost', '£77k', 'pa', 'currently', 'around', '£35k', 'cash', '.', 'also', 'numerous', 'investments', '.', 'main', 'home', 'might', 'worth', '£300k', '.', 'house', 'address', '2', 'belmont', 'gardens', ',', 'edinburgh', 'eh12', '6jh', '.', 'income', 'comprised', 'small', 'university', 'pension', ',', 'state', 'pension', 'benefits', '£27.64pd/£856pm', '.', 'gm', 'discussing', 'recent', 'investment', 'performance', ',', 'helen', 'seems', 'v', 'nervous', 'performance', '.', 'provided', 'gm', 'list', 'questions', 'cover', 'off', '.', 'talking', 'sufficient', 'funds', 'cash', 'cover', 'say', 'next', '37', 'years', 'care', 'costs', '.', 'also', 'discussing', 'likes', 'immediate', 'care', 'annuity', '.', 'touching', 'issues', 'iht', 'exemptions', 'nrb', 'rnrb', '.', 'subject', 'mr', 'sims', 'utilsing', 'nrb', 'possible', 'helen', 'claim', '.', 'also', 'rnrb', 'available', 'both', '.', 'likely', 'wont', 'iht', 'issue', 'mind', 'could', '£1m', 'assets', 'exempt', 'would', 'appear', 'likely', 'liquid', 'assets', 'house', 'come', 'amount', '.'], ['dr', 'alistair', 'forbes', 'wife', 'jackie', '.', 'referred', 'doug', 'wilson', 'worked', 'alistair', 'houndog', 'home', 'heriot', 'row', 'also', 'property', 'strathtay', ',', 'aberfeldy', 'investment', 'portfolio', 'ubs', '.', 'seems', '2', 'funds', '.', 'joint', 'portfolio/oeic', 'feeding', 'isas', '.', 'want', 'review', 'strategy', 'winding', 'paid', 'work', 'best', 'use', 'assets', 'income', 'future', '.', 'discussion', 'yet', 'current', 'inc', 'v', 'expenses', '.', 'iht', '?', 'numbers', 'assets', 'yet', '.', 'mention', 'debt', '.', 'private', 'equity/eis', 'exposure', 'terms', 'working', 'history', 'investments', 'made', 'mitigate', 'tax', '.', 'asked', 'about', ';', '•', 'provide', 'advice', '•', 'sjp', 'role', '•', 'performance', '•', 'charges', 'need', 'send/think', 'about', ';', '•', 'performance/analytics', '•', 'scdd', '•', 'voyant', 'info', '•', '3', 'questions', '•', 'sjp', 'ima', 'info', '•', 'need', 'think', 'tax', 'restructure', 'cgt', '?', 'techlink', 'tax', 'questionnaire', '?'], ['kids', 'eduction', 'tax', 'planning', 'mega', 'back', 'door', 'roth', 'ira', 'investing', 'funds', 'bank', 'line', 'credit', 'business', 'estate', 'planning', '401k', '–', 'participation', 'rate', ',', 'investment', 'lineup', ',', 'looking', 'next', 'hire', 'personal', 'net', 'worth', 'tax', 'preparer', 'returns', '401k', 'maxing', 'house', 'india', 'names', '?', '$', '170k', 'old', '401k', 'wells', 'fargo', 'already', 'profit', 'sharing', '401k', 'match', 'throughout', 'year', 'calculated', 'adp', 'become', '401k', 'advisor', 'plan', '?', 'focused', 'personal', 'stuff', 'send', '2021', 'tax', 'return', '2022', 'done', '$', '5k', '529', 'year', 'kids', 'max', 'state', 'maryland', 'tax', 'deduction', 'overfund', '529', '?', 'putting', 'traditional', '401k', 'also', 'buckets', 'save', 'tax', 'benefits', '?', 'get', 'plan', 'documents', 'explore', 'back', 'door', 'roth', 'ira', '?', '$', '2030k', 'cash', 'year', 'debt', 'paid', 'mortgage', 'early', 'extra', '$', '2500', 'per', 'month', 'utilize', 'bigger', 'house', 'ellicott', 'city', '$', '1', '$', '1.2m', 'current', 'house', '$', '650k', 'also', 'condo', 'columbia', '$', '200k', 'real', 'profit', 'condo', 'fees', ',', 'taxes', ',', 'hoa', 'fees', 'would', 'like', 'tos', 'ell', 'current', 'condo', 'rent', 'current', 'home', 'review', 'sba', 'small', 'business', 'personal', 'net', 'worth', 'rules', 'maryland', 'minority', 'rules', 'needs', 'stay', 'number', 'personal', 'assets', '$', '200k', 'm', '&', 't', 'bank', '$', '50k', 'citi', 'bank', 'sure', '$', '5k', 'per', 'month', 'expenses', '=', '$', '3060k', 'emergency', 'fund', 'depending', 'saving', 'next', 'home', 'get', 'heloc', 'business', 'line', 'credit', 'estate', 'plan', 'john', 'hancock', 'vitality', 'term', 'life', '$', '750k', '$', '250k', '25', 'years', 'remaining', 'passes', 'away', 'doesnt', 'affect', 'much', 'using', 'jolles', 'insurance', 'maybe', 'get', '$', '3m', 'insurance', '60', '%', 'group', 'disability', 'insurance', 'look', 'supplemental', 'di', 'disability', 'buy', 'based', '$', '200k', 'explore', 'permanent', 'life', 'insurance', 'feels', 'ok', 'business', 'insurance', 'required', 'explore', 'fbar', 'india', 'property', 'estate', 'planning', 'title', 'happens', '?'], ['kyle', 'smith', '38', 'financial', 'advisor', '$', '350,000', 'marital', 'marries', '2', 'ethan', '–', 'age', '7', 'addy', '–', 'age', '5', 'assets', 'primary', '$', '1,050,000', '$', '250,000', '$', '100,000', 'brokerage', '$', '100,000', '$', '20,000', '$', '20,000', '$', '2,000,000', 'liabilities', 'auto', 'loan', 'credit', 'cards', 'life', '$', '3,000,000', 'goals', 'maximize', 'tax', 'savings', 'maximize', 'retirement', 'plan', 'funding', 'retire', 'age', '55', 'travel', 'family', 'risk', 'aggressive', 'investment', 'significant'], ['client', 'marital', 'married', 'current', '$', '75000', '10/12/1961', 'retirement', '68', '70', 'social', 'security', 'ss', 'election', 'xx/xx/xxxx', 'start', 'date', ';', '$', '/monthly', 'income', ';', 'xx', '%', 'survivorship', 'benefit', '#', '#', '#', 'coclient', 'herta', 'wright', '9/13/1963', 'retired', 'current', 'retirement', 'social', 'security', 'ss', 'election', 'xx/xx/xxxx', 'start', 'date', ';', '$', '/monthly', 'income', ';', 'xx', '%', 'survivorship', 'benefit', '#', '#', 'primary', 'residence', '*', '*', 'renter', '*', '*', 'ca', 'monthly', '$', '2500', '#', '#', 'employer', 'sponsored', 'plan', '401k', '2', 'paychex', 'self', 'directed', 'account', '$', '50k', 'ee', '%', 'er', '%', '1', 'thrivent', 'brother', 'worked', 'financial', 'agent', 'one', '.', '$', '28k', '{', 'ira/roth/taxable', '}', 'account', '$', '$', 'medical', '$', 'medical', 'insurance', '..', '>', 'coming', 'from', '?', 'medicare', 'est', '.', '5750', '.', '65', 'needs', 'marketplace', 'est', '500700/mo', 'lifestyle', '$', '3200/mo', '.', 'bills', 'wrapped', 'end', '.', '>', 'lifestyle', 'expenses', 'includes', 'food', ',', 'clothing', ',', 'gas', ',', 'travel', ',', 'etc', '.', 'also', 'back', 'amount', 'using', 'net', 'income', ';', 'ask', 'much', 'client', 'receives', 'monthly', 'take', 'home', 'income', '>', '``', 'if', 'unsure', 'much', 'spending', 'month', ',', 'get', 'rough', 'estimate', 'looking', 'monthly', 'take', 'home', 'pay', 'subtracting', 'housing/rent', 'costs', '+', 'planned', 'savings', '.', 'remainder', 'good', 'estimate', 'spending', 'per', 'month', '.', \"''\"], ['neill', 'gregson', '44', 'financial', 'planner', '£120,000', 'marital', 'married', '1', 'home', 'buy', 'let', 'investment', 'portfolio', 'cash', 'savings', 'business', 'liabilities', 'mortgage', 'home', 'financial', 'goals', 'retire', '55', 'pay', 'mortgage', '55'], ['sarah', 'johnson', '32', 'marketing', 'manager', '$', '80,000', 'p.a', '.', 'marital', 'single', '0', 'home', '401', 'account', 'brokerage', 'account', 'savings', 'account', 'liabilities', 'mortgage', 'home', 'financial', 'goals', 'save', 'payment', 'second', 'home', 'save', 'retirement', ']'], ['sarah', 'johnson', '35', 'graphic', 'designer', '$', '70,000', 'marital', 'single', '0', 'home', 'stock', 'portfolio', 'retirement', 'account', 'cash', 'savings', 'home', 'mortgage', 'financial', 'save', 'payment', 'rental', 'property', 'increase', 'retirement', 'savings', 'pay', 'home', 'mortgage', 'within', 'next', '15', 'years', '*', '*', ']'], ['jane', 'doe', '32', 'marketing', 'manager', '$', '100,000', 'marital', 'single', 'none', 'home', 'investment', 'portfolio', '401', 'plan', 'cash', 'savings', 'liabilities', 'mortgage', 'home', 'financial', 'goals', 'save', 'payment', 'second', 'home', '5', 'years', 'pay', 'mortgage', '15', 'years', 'retire', 'comfortably', '65', ']'], ['mrs.', 'elizabeth', 'adams', '75', 'retired', '$', '40,000', 'p.a', '.', 'marital', 'widowed', '2', 'home', 'bank', 'savings', 'stock', 'portfolio', 'rental', 'property', 'liabilities', 'mortgage', 'home', 'financial', 'goals', 'generate', 'additional', 'income', 'cover', 'living', 'expenses', 'leave', 'legacy', 'children', 'grandchildren', ']'], ['karen', 'wilson', '62', 'retired', 'teacher', '$', '70,000', 'per', 'year', 'social', 'security', 'pension', 'marital', 'widowed', '2', 'home', 'investment', 'portfolio', 'cash', 'savings', 'mortgage', 'home', 'credit', 'card', 'debt', 'financial', 'maintain', 'standard', 'living', 'retirement', 'travel', 'world', 'leave', 'legacy', 'children', 'grandchildren'], ['michael', 'smith', '55', 'engineer', '$', '150,000', 'marital', 'married', '2', 'home', '401', 'plan', 'investment', 'portfolio', 'cash', 'savings', 'mortgage', 'home', 'student', 'loan', 'children', 'financial', 'ensure', 'secure', 'financial', 'future', 'family', 'pay', 'mortgage', 'student', 'loans', 'fund', 'children', 'college', 'education', 'save', 'retirement', '*', '*', ']'], ['maria', 'gonzalez', '55', 'school', 'teacher', '$', '80,000', 'marital', 'married', '2', 'home', '401', 'account', 'savings', 'account', 'liabilities', 'mortgage', 'home', 'financial', 'goals', 'retire', '65', 'pay', 'mortgage', '65', 'provide', 'children', 'education'], ['sarah', 'johnson', '55', 'marketing', 'manager', '$', '120,000', 'marital', 'divorced', '2', 'home', 'investment', 'portfolio', '401', 'plan', 'cash', 'savings', 'home', 'mortgage', 'student', 'loan', 'debt', 'children', 'financial', 'pay', 'mortgage', '10', 'years', 'ensure', 'comfortable', 'retirement', 'fund', 'children', 'education', 'expenses', 'leave', 'legacy', 'children'], ['karen', 'lee', '57', 'marketing', 'director', '$', '150,000', 'marital', 'married', '2', 'home', 'investment', 'portfolio', 'retirement', 'savings', 'college', 'savings', 'accounts', 'children', 'business', 'mortgage', 'home', 'business', 'loan', 'financial', 'retire', 'comfortably', '67', 'pay', 'mortgage', 'business', 'loan', '65', 'ensure', 'children', 'college', 'education', 'fully', 'funded', 'maintain', 'current', 'lifestyle', 'retirement', 'travel', 'enjoy', 'retirement', 'spouse'], ['karen', 'chen', '55', 'retired', 'marital', 'married', '2', '$', '40,000', 'per', 'year', 'pension', 'investments', 'home', 'investment', 'portfolio', 'cash', 'savings', 'ira', 'mortgage', 'home', 'financial', 'maintain', 'comfortable', 'standard', 'living', 'retirement', 'ensure', 'children', 'sufficient', 'funds', 'future', 'provide', 'elderly', 'parents', 'leave', 'legacy', 'children', 'grandchildren'], ['sarah', 'johnson', '57', 'retired', 'teacher', '$', '50,000', 'per', 'year', 'pension', 'social', 'security', 'marital', 'divorced', '2', 'home', 'investment', 'portfolio', 'cash', 'savings', 'personal', 'investment', 'property', 'small', 'business', 'mortgage', 'home', 'business', 'loan', 'financial', 'pay', 'mortgage', '10', 'years', 'provide', 'children', 'education', 'maintain', 'lifestyle', 'retirement', 'leave', 'inheritance', 'children'], ['susan', 'kim', '57', 'retired', 'teacher', '$', '60,000', 'marital', 'widowed', '2', 'home', 'investment', 'portfolio', 'ira', 'account', 'cash', 'savings', 'mortgage', 'home', 'personal', 'loan', 'financial', 'provide', 'financial', 'support', 'children', 'ensure', 'comfortable', 'retirement', 'leave', 'legacy', 'children'], ['maria', 'smith', '56', 'retired', 'teacher', '$', '60,000', 'per', 'year', 'pension', 'social', 'security', 'marital', 'widowed', '2', 'adult', 'children', ',', 'ages', '31', '29', 'home', 'investment', 'portfolio', 'cash', 'savings', 'life', 'insurance', 'policy', 'cash', 'value', '$', '25,000', 'mortgage', 'home', 'financial', 'ensure', 'adequate', 'income', 'cover', 'living', 'expenses', 'retirement', 'maintain', 'value', 'assets', 'leave', 'legacy', 'children'], ['sarah', 'johnson', '60', 'retired', '$', '50,000', 'marital', 'widowed', '2', 'home', 'investment', 'portfolio', 'cash', 'savings', '2', 'rental', 'properties', 'mortgage', 'home', 'line', 'credit', 'rental', 'properties', 'financial', 'generate', 'consistent', 'passive', 'income', 'maintain', 'lifestyle', 'retirement', 'leave', 'inheritance', 'children']]\n",
            "Filterd Tokens: [['36yearold', 'engineer', ',', 'working', '5', 'years', ',', 'move', 'back', 'uk', 'family', 'reasons', '.', 'property', 'sell', '.', 'nonqualified', 'pension', 'efa', 'organisation', ',', '€120k', ',', 'already', 'agreement', 'french', 'tax', 'authorities', 'won', '’', 't', 'tax', 'income', 'salary', 'tax', 'capital', 'gains', '.', 'still', 'french', 'resident', ',', 'uk', '6th', 'april', '2023', 'tax', 'provisionally', 'physically', 'moving', 'back', 'around', '15th', 'february', '.', 'significant', 'gain', 'french', 'property', 'taxfree', '.', 'close', 'pension', 'payroll', 'end', 'feb', 'could', 'end', 'march', '.'], ['often', 'tell', 'clients', 'planning', 'retirement', 'like', 'putting', 'together', 'puzzle', '.', 'explain', 'image', 'box', ',', 'envision', 'living', 'lives', ',', 'spend', 'time', ',', 'spend', 'with', ',', 'intentions', 'beyond', '?', 'job', 'take', 'puzzle', 'pieces', 'align', 'way', 'focus', 'living', 'picture', ',', '“', 'life', 'well', 'planned', '”', '•', 'financial', 'planning', 'process', ':', 'understand', 'client', 'identify', 'goals/priorities', 'analyze', 'situation', ',', 'what', '’', 's', 'true', 'today', 'create', 'plan', 'recommendation', 'present', 'implement', 'monitor', '•', 'develop', 'retirement', 'income', 'strategy', 'fund', 'expense', 'needs', '•', 'analyze', 'tax', 'considerations', '•', 'create', 'plan', 'understand', 'answer', '“', 'what', 'if', '”', 'questions', '•', 'investment', 'management', '•', 'insurance', 'services'], ['name', 'scott', 'snedden', 'age', '45', 'employed', '£100,000'], ['family', 'd.o', '.', '47', 'married', '/', 'kate', ',', '40', 'd.o.b', '2', 'young', 'kids', '2', 'boys', 'oliver', 'rowland', '5', 'alfie', '2', 'will', '?', 'residential', '/', '495k', '4', 'year', '600k', '250k', 'sept', '2.19', '%', 'type', '1670/m', 'term', 'rate', '?', 'long', 'see', 'there', '?', 'min', '5', 'years', '10', 'years', 'bit', 'land', 'price', 'go', '750800k', 'properties', '?', 'bought', 'holiday', '70k', 'srvice', 'charge', '5k/y', 'rental', 'income', '?', 'employment', 'director', ',', 'gt', ',', 'manchaster', '18', 'yers', 'tax', 'advice', 'enjoy', 'looking', 'move', 'partner', 'next', 'year', 'reasonable', 'life', 'insurance', ',', 'private', 'fixed', 'profit', 'shares', 'block', 'min', '175200k', '120k', 'disc', 'deferred', 'obliged', 'hold', 'level', 'stock', '?', 'partners', 'senior', 'ey', '8month', '15', 'private', 'owned', '3', 'days', 'week', '2024', 'dirctor', '53k', 'partners', 'sw', '23', '%', '9.5', '%', '950', '2950', '£300,000', 'stock', '25', '%', '18', '%', 'uk', 'index', '15', '%', 'defult', 'funds', '26', '%', 'property', 'penison', '2010', 'busy', 'ey', '15k', 'wtw', 'aviva', '40k', 'pension', 'pots', 'have', '?', '·', 'sw', '18k', '·', 'stand', 'life', 'kpmg', '45k', '·', 'ey', '4k', 'legal', '&', 'general', '·', '10', '%', '6.5', '%', '·', 'dafult', '·', 'previous', 'savings', '£80k', 'stati', 'used', 'investent', 'propety', 'got', 'offset', 'account', 'much', 'offset', 'mortgage', '20k', 'offset', 'mortgage', 'renewal', 'sept', 'eyar', 'save', 'couple', '100/m', 'boys', '2.5k', 'virgin', 'cash', 'investment', 'income', '8k/m', '60', '%', 'committed', '20', '%', 'disc', 'holdiays', '&', 'going', '20', '%', 'half', 'goes', 'direct', 'debit', 'credit', 'card', '£700', 'bonus', 'xmas', 'much', 'comes', 'much', 'goes', 'saves', 'left', 'range', 'exposure', '1', '2', '3', 'kate', 'life', 'assruance', 'cic', '75', '%', 'salary', 'nothin', 'private', 'throgh', 'work', 'cic', 'dis', 'hopes', '/', 'financial', 'independence', 'much', 'needed', 'retirement', 'ability', 'choice', '/', 'flexibility', 'life', '?', 'current', 'overriding', 'financial', 'objective', '?', '3', 'main'], ['joe', 'young', '50', 'years', 'old', 'single', ',', 'dependants', 'property', 'worth', '£700,000', ',', '£150,000', 'mortgage', '3', 'personal', 'pensions', ',', 'total', 'value', 'region', '£500,000', '1', 'final', 'salary', 'pension', ',', '£5,000', 'per', 'annum', 'age', '65', 'debt', 'beside', 'mortgage'], ['note', 'meeting', 'helen', 'sims.referred', 'sharon', 'gordon', 'urquharts', '.', 'lived', 'care', 'home', 'c1year', '.', 'queens', 'manor', 'care', 'home', ',', '565', 'queensferry', 'road', ',', 'edinburgh', ',', 'eh4', '8du', '.', 'tel', 'number', '07913', '945877.', 'email', 'also', 'attendance', 'also', 'irene', 'mcgowan', '.', 'tel', '07504', '858164.', 'address', '21', 'collins', 'place', ',', 'edin', ',', 'eh3', '5jd', 'widow', 'c20', 'years', '.', 'immediate', 'family', '.', 'ni', 'hm324002b', 'helen', 'date', 'birth', '21.07.1935', 'also', 'thinks', 'companies', 'might', 'show', '21.07.1938.', 'need', 'aware', 'also', 'check', 'id', '?', 'question/concern', 'around', 'care', 'fees', '.', 'cost', '£77k', 'pa', 'currently', 'around', '£35k', 'cash', '.', 'also', 'numerous', 'investments', '.', 'main', 'home', 'might', 'worth', '£300k', '.', 'house', 'address', '2', 'belmont', 'gardens', ',', 'edinburgh', 'eh12', '6jh', '.', 'income', 'comprised', 'small', 'university', 'pension', ',', 'state', 'pension', 'benefits', '£27.64pd/£856pm', '.', 'gm', 'discussing', 'recent', 'investment', 'performance', ',', 'helen', 'seems', 'v', 'nervous', 'performance', '.', 'provided', 'gm', 'list', 'questions', 'cover', 'off', '.', 'talking', 'sufficient', 'funds', 'cash', 'cover', 'say', 'next', '37', 'years', 'care', 'costs', '.', 'also', 'discussing', 'likes', 'immediate', 'care', 'annuity', '.', 'touching', 'issues', 'iht', 'exemptions', 'nrb', 'rnrb', '.', 'subject', 'mr', 'sims', 'utilsing', 'nrb', 'possible', 'helen', 'claim', '.', 'also', 'rnrb', 'available', 'both', '.', 'likely', 'wont', 'iht', 'issue', 'mind', 'could', '£1m', 'assets', 'exempt', 'would', 'appear', 'likely', 'liquid', 'assets', 'house', 'come', 'amount', '.'], ['dr', 'alistair', 'forbes', 'wife', 'jackie', '.', 'referred', 'doug', 'wilson', 'worked', 'alistair', 'houndog', 'home', 'heriot', 'row', 'also', 'property', 'strathtay', ',', 'aberfeldy', 'investment', 'portfolio', 'ubs', '.', 'seems', '2', 'funds', '.', 'joint', 'portfolio/oeic', 'feeding', 'isas', '.', 'want', 'review', 'strategy', 'winding', 'paid', 'work', 'best', 'use', 'assets', 'income', 'future', '.', 'discussion', 'yet', 'current', 'inc', 'v', 'expenses', '.', 'iht', '?', 'numbers', 'assets', 'yet', '.', 'mention', 'debt', '.', 'private', 'equity/eis', 'exposure', 'terms', 'working', 'history', 'investments', 'made', 'mitigate', 'tax', '.', 'asked', 'about', ';', '•', 'provide', 'advice', '•', 'sjp', 'role', '•', 'performance', '•', 'charges', 'need', 'send/think', 'about', ';', '•', 'performance/analytics', '•', 'scdd', '•', 'voyant', 'info', '•', '3', 'questions', '•', 'sjp', 'ima', 'info', '•', 'need', 'think', 'tax', 'restructure', 'cgt', '?', 'techlink', 'tax', 'questionnaire', '?'], ['kids', 'eduction', 'tax', 'planning', 'mega', 'back', 'door', 'roth', 'ira', 'investing', 'funds', 'bank', 'line', 'credit', 'business', 'estate', 'planning', '401k', '–', 'participation', 'rate', ',', 'investment', 'lineup', ',', 'looking', 'next', 'hire', 'personal', 'net', 'worth', 'tax', 'preparer', 'returns', '401k', 'maxing', 'house', 'india', 'names', '?', '$', '170k', 'old', '401k', 'wells', 'fargo', 'already', 'profit', 'sharing', '401k', 'match', 'throughout', 'year', 'calculated', 'adp', 'become', '401k', 'advisor', 'plan', '?', 'focused', 'personal', 'stuff', 'send', '2021', 'tax', 'return', '2022', 'done', '$', '5k', '529', 'year', 'kids', 'max', 'state', 'maryland', 'tax', 'deduction', 'overfund', '529', '?', 'putting', 'traditional', '401k', 'also', 'buckets', 'save', 'tax', 'benefits', '?', 'get', 'plan', 'documents', 'explore', 'back', 'door', 'roth', 'ira', '?', '$', '2030k', 'cash', 'year', 'debt', 'paid', 'mortgage', 'early', 'extra', '$', '2500', 'per', 'month', 'utilize', 'bigger', 'house', 'ellicott', 'city', '$', '1', '$', '1.2m', 'current', 'house', '$', '650k', 'also', 'condo', 'columbia', '$', '200k', 'real', 'profit', 'condo', 'fees', ',', 'taxes', ',', 'hoa', 'fees', 'would', 'like', 'tos', 'ell', 'current', 'condo', 'rent', 'current', 'home', 'review', 'sba', 'small', 'business', 'personal', 'net', 'worth', 'rules', 'maryland', 'minority', 'rules', 'needs', 'stay', 'number', 'personal', 'assets', '$', '200k', 'm', '&', 't', 'bank', '$', '50k', 'citi', 'bank', 'sure', '$', '5k', 'per', 'month', 'expenses', '=', '$', '3060k', 'emergency', 'fund', 'depending', 'saving', 'next', 'home', 'get', 'heloc', 'business', 'line', 'credit', 'estate', 'plan', 'john', 'hancock', 'vitality', 'term', 'life', '$', '750k', '$', '250k', '25', 'years', 'remaining', 'passes', 'away', 'doesnt', 'affect', 'much', 'using', 'jolles', 'insurance', 'maybe', 'get', '$', '3m', 'insurance', '60', '%', 'group', 'disability', 'insurance', 'look', 'supplemental', 'di', 'disability', 'buy', 'based', '$', '200k', 'explore', 'permanent', 'life', 'insurance', 'feels', 'ok', 'business', 'insurance', 'required', 'explore', 'fbar', 'india', 'property', 'estate', 'planning', 'title', 'happens', '?'], ['kyle', 'smith', '38', 'financial', 'advisor', '$', '350,000', 'marital', 'marries', '2', 'ethan', '–', 'age', '7', 'addy', '–', 'age', '5', 'assets', 'primary', '$', '1,050,000', '$', '250,000', '$', '100,000', 'brokerage', '$', '100,000', '$', '20,000', '$', '20,000', '$', '2,000,000', 'liabilities', 'auto', 'loan', 'credit', 'cards', 'life', '$', '3,000,000', 'goals', 'maximize', 'tax', 'savings', 'maximize', 'retirement', 'plan', 'funding', 'retire', 'age', '55', 'travel', 'family', 'risk', 'aggressive', 'investment', 'significant'], ['client', 'marital', 'married', 'current', '$', '75000', '10/12/1961', 'retirement', '68', '70', 'social', 'security', 'ss', 'election', 'xx/xx/xxxx', 'start', 'date', ';', '$', '/monthly', 'income', ';', 'xx', '%', 'survivorship', 'benefit', '#', '#', '#', 'coclient', 'herta', 'wright', '9/13/1963', 'retired', 'current', 'retirement', 'social', 'security', 'ss', 'election', 'xx/xx/xxxx', 'start', 'date', ';', '$', '/monthly', 'income', ';', 'xx', '%', 'survivorship', 'benefit', '#', '#', 'primary', 'residence', '*', '*', 'renter', '*', '*', 'ca', 'monthly', '$', '2500', '#', '#', 'employer', 'sponsored', 'plan', '401k', '2', 'paychex', 'self', 'directed', 'account', '$', '50k', 'ee', '%', 'er', '%', '1', 'thrivent', 'brother', 'worked', 'financial', 'agent', 'one', '.', '$', '28k', '{', 'ira/roth/taxable', '}', 'account', '$', '$', 'medical', '$', 'medical', 'insurance', '..', '>', 'coming', 'from', '?', 'medicare', 'est', '.', '5750', '.', '65', 'needs', 'marketplace', 'est', '500700/mo', 'lifestyle', '$', '3200/mo', '.', 'bills', 'wrapped', 'end', '.', '>', 'lifestyle', 'expenses', 'includes', 'food', ',', 'clothing', ',', 'gas', ',', 'travel', ',', 'etc', '.', 'also', 'back', 'amount', 'using', 'net', 'income', ';', 'ask', 'much', 'client', 'receives', 'monthly', 'take', 'home', 'income', '>', '``', 'if', 'unsure', 'much', 'spending', 'month', ',', 'get', 'rough', 'estimate', 'looking', 'monthly', 'take', 'home', 'pay', 'subtracting', 'housing/rent', 'costs', '+', 'planned', 'savings', '.', 'remainder', 'good', 'estimate', 'spending', 'per', 'month', '.', \"''\"], ['neill', 'gregson', '44', 'financial', 'planner', '£120,000', 'marital', 'married', '1', 'home', 'buy', 'let', 'investment', 'portfolio', 'cash', 'savings', 'business', 'liabilities', 'mortgage', 'home', 'financial', 'goals', 'retire', '55', 'pay', 'mortgage', '55'], ['sarah', 'johnson', '32', 'marketing', 'manager', '$', '80,000', 'p.a', '.', 'marital', 'single', '0', 'home', '401', 'account', 'brokerage', 'account', 'savings', 'account', 'liabilities', 'mortgage', 'home', 'financial', 'goals', 'save', 'payment', 'second', 'home', 'save', 'retirement', ']'], ['sarah', 'johnson', '35', 'graphic', 'designer', '$', '70,000', 'marital', 'single', '0', 'home', 'stock', 'portfolio', 'retirement', 'account', 'cash', 'savings', 'home', 'mortgage', 'financial', 'save', 'payment', 'rental', 'property', 'increase', 'retirement', 'savings', 'pay', 'home', 'mortgage', 'within', 'next', '15', 'years', '*', '*', ']'], ['jane', 'doe', '32', 'marketing', 'manager', '$', '100,000', 'marital', 'single', 'none', 'home', 'investment', 'portfolio', '401', 'plan', 'cash', 'savings', 'liabilities', 'mortgage', 'home', 'financial', 'goals', 'save', 'payment', 'second', 'home', '5', 'years', 'pay', 'mortgage', '15', 'years', 'retire', 'comfortably', '65', ']'], ['mrs.', 'elizabeth', 'adams', '75', 'retired', '$', '40,000', 'p.a', '.', 'marital', 'widowed', '2', 'home', 'bank', 'savings', 'stock', 'portfolio', 'rental', 'property', 'liabilities', 'mortgage', 'home', 'financial', 'goals', 'generate', 'additional', 'income', 'cover', 'living', 'expenses', 'leave', 'legacy', 'children', 'grandchildren', ']'], ['karen', 'wilson', '62', 'retired', 'teacher', '$', '70,000', 'per', 'year', 'social', 'security', 'pension', 'marital', 'widowed', '2', 'home', 'investment', 'portfolio', 'cash', 'savings', 'mortgage', 'home', 'credit', 'card', 'debt', 'financial', 'maintain', 'standard', 'living', 'retirement', 'travel', 'world', 'leave', 'legacy', 'children', 'grandchildren'], ['michael', 'smith', '55', 'engineer', '$', '150,000', 'marital', 'married', '2', 'home', '401', 'plan', 'investment', 'portfolio', 'cash', 'savings', 'mortgage', 'home', 'student', 'loan', 'children', 'financial', 'ensure', 'secure', 'financial', 'future', 'family', 'pay', 'mortgage', 'student', 'loans', 'fund', 'children', 'college', 'education', 'save', 'retirement', '*', '*', ']'], ['maria', 'gonzalez', '55', 'school', 'teacher', '$', '80,000', 'marital', 'married', '2', 'home', '401', 'account', 'savings', 'account', 'liabilities', 'mortgage', 'home', 'financial', 'goals', 'retire', '65', 'pay', 'mortgage', '65', 'provide', 'children', 'education'], ['sarah', 'johnson', '55', 'marketing', 'manager', '$', '120,000', 'marital', 'divorced', '2', 'home', 'investment', 'portfolio', '401', 'plan', 'cash', 'savings', 'home', 'mortgage', 'student', 'loan', 'debt', 'children', 'financial', 'pay', 'mortgage', '10', 'years', 'ensure', 'comfortable', 'retirement', 'fund', 'children', 'education', 'expenses', 'leave', 'legacy', 'children'], ['karen', 'lee', '57', 'marketing', 'director', '$', '150,000', 'marital', 'married', '2', 'home', 'investment', 'portfolio', 'retirement', 'savings', 'college', 'savings', 'accounts', 'children', 'business', 'mortgage', 'home', 'business', 'loan', 'financial', 'retire', 'comfortably', '67', 'pay', 'mortgage', 'business', 'loan', '65', 'ensure', 'children', 'college', 'education', 'fully', 'funded', 'maintain', 'current', 'lifestyle', 'retirement', 'travel', 'enjoy', 'retirement', 'spouse'], ['karen', 'chen', '55', 'retired', 'marital', 'married', '2', '$', '40,000', 'per', 'year', 'pension', 'investments', 'home', 'investment', 'portfolio', 'cash', 'savings', 'ira', 'mortgage', 'home', 'financial', 'maintain', 'comfortable', 'standard', 'living', 'retirement', 'ensure', 'children', 'sufficient', 'funds', 'future', 'provide', 'elderly', 'parents', 'leave', 'legacy', 'children', 'grandchildren'], ['sarah', 'johnson', '57', 'retired', 'teacher', '$', '50,000', 'per', 'year', 'pension', 'social', 'security', 'marital', 'divorced', '2', 'home', 'investment', 'portfolio', 'cash', 'savings', 'personal', 'investment', 'property', 'small', 'business', 'mortgage', 'home', 'business', 'loan', 'financial', 'pay', 'mortgage', '10', 'years', 'provide', 'children', 'education', 'maintain', 'lifestyle', 'retirement', 'leave', 'inheritance', 'children'], ['susan', 'kim', '57', 'retired', 'teacher', '$', '60,000', 'marital', 'widowed', '2', 'home', 'investment', 'portfolio', 'ira', 'account', 'cash', 'savings', 'mortgage', 'home', 'personal', 'loan', 'financial', 'provide', 'financial', 'support', 'children', 'ensure', 'comfortable', 'retirement', 'leave', 'legacy', 'children'], ['maria', 'smith', '56', 'retired', 'teacher', '$', '60,000', 'per', 'year', 'pension', 'social', 'security', 'marital', 'widowed', '2', 'adult', 'children', ',', 'ages', '31', '29', 'home', 'investment', 'portfolio', 'cash', 'savings', 'life', 'insurance', 'policy', 'cash', 'value', '$', '25,000', 'mortgage', 'home', 'financial', 'ensure', 'adequate', 'income', 'cover', 'living', 'expenses', 'retirement', 'maintain', 'value', 'assets', 'leave', 'legacy', 'children'], ['sarah', 'johnson', '60', 'retired', '$', '50,000', 'marital', 'widowed', '2', 'home', 'investment', 'portfolio', 'cash', 'savings', '2', 'rental', 'properties', 'mortgage', 'home', 'line', 'credit', 'rental', 'properties', 'financial', 'generate', 'consistent', 'passive', 'income', 'maintain', 'lifestyle', 'retirement', 'leave', 'inheritance', 'children']]\n"
          ]
        }
      ]
    },
    {
      "cell_type": "code",
      "source": [
        "import string\n",
        "\n",
        "# removing punctuations\n",
        "punctuations=list(string.punctuation)\n",
        "\n",
        "filtered_tokens_notes2=[]\n",
        "filtered_tokens_email2=[]\n",
        "\n",
        "for i in filtered_tokens_notes:\n",
        "    if i not in punctuations:\n",
        "        filtered_tokens_notes2.append(i)\n",
        "\n",
        "for i in filtered_tokens_email:\n",
        "    if i not in punctuations:\n",
        "        filtered_tokens_email2.append(i)\n",
        "        \n",
        "print(\"Filterd Tokens After Removing Punctuations:\",filtered_tokens_notes2)\n",
        "print(\"Filterd Tokens After Removing Punctuations:\",filtered_tokens_email2)"
      ],
      "metadata": {
        "colab": {
          "base_uri": "https://localhost:8080/"
        },
        "id": "BWV5EWoAHjaD",
        "outputId": "bd3b7078-5996-4e39-8a23-7b2ee5648489"
      },
      "execution_count": null,
      "outputs": [
        {
          "output_type": "stream",
          "name": "stdout",
          "text": [
            "Filterd Tokens After Removing Punctuations: [['36yearold', 'engineer', ',', 'working', '5', 'years', ',', 'move', 'back', 'uk', 'family', 'reasons', '.', 'property', 'sell', '.', 'nonqualified', 'pension', 'efa', 'organisation', ',', '€120k', ',', 'already', 'agreement', 'french', 'tax', 'authorities', 'won', '’', 't', 'tax', 'income', 'salary', 'tax', 'capital', 'gains', '.', 'still', 'french', 'resident', ',', 'uk', '6th', 'april', '2023', 'tax', 'provisionally', 'physically', 'moving', 'back', 'around', '15th', 'february', '.', 'significant', 'gain', 'french', 'property', 'taxfree', '.', 'close', 'pension', 'payroll', 'end', 'feb', 'could', 'end', 'march', '.'], ['often', 'tell', 'clients', 'planning', 'retirement', 'like', 'putting', 'together', 'puzzle', '.', 'explain', 'image', 'box', ',', 'envision', 'living', 'lives', ',', 'spend', 'time', ',', 'spend', 'with', ',', 'intentions', 'beyond', '?', 'job', 'take', 'puzzle', 'pieces', 'align', 'way', 'focus', 'living', 'picture', ',', '“', 'life', 'well', 'planned', '”', '•', 'financial', 'planning', 'process', ':', 'understand', 'client', 'identify', 'goals/priorities', 'analyze', 'situation', ',', 'what', '’', 's', 'true', 'today', 'create', 'plan', 'recommendation', 'present', 'implement', 'monitor', '•', 'develop', 'retirement', 'income', 'strategy', 'fund', 'expense', 'needs', '•', 'analyze', 'tax', 'considerations', '•', 'create', 'plan', 'understand', 'answer', '“', 'what', 'if', '”', 'questions', '•', 'investment', 'management', '•', 'insurance', 'services'], ['name', 'scott', 'snedden', 'age', '45', 'employed', '£100,000'], ['family', 'd.o', '.', '47', 'married', '/', 'kate', ',', '40', 'd.o.b', '2', 'young', 'kids', '2', 'boys', 'oliver', 'rowland', '5', 'alfie', '2', 'will', '?', 'residential', '/', '495k', '4', 'year', '600k', '250k', 'sept', '2.19', '%', 'type', '1670/m', 'term', 'rate', '?', 'long', 'see', 'there', '?', 'min', '5', 'years', '10', 'years', 'bit', 'land', 'price', 'go', '750800k', 'properties', '?', 'bought', 'holiday', '70k', 'srvice', 'charge', '5k/y', 'rental', 'income', '?', 'employment', 'director', ',', 'gt', ',', 'manchaster', '18', 'yers', 'tax', 'advice', 'enjoy', 'looking', 'move', 'partner', 'next', 'year', 'reasonable', 'life', 'insurance', ',', 'private', 'fixed', 'profit', 'shares', 'block', 'min', '175200k', '120k', 'disc', 'deferred', 'obliged', 'hold', 'level', 'stock', '?', 'partners', 'senior', 'ey', '8month', '15', 'private', 'owned', '3', 'days', 'week', '2024', 'dirctor', '53k', 'partners', 'sw', '23', '%', '9.5', '%', '950', '2950', '£300,000', 'stock', '25', '%', '18', '%', 'uk', 'index', '15', '%', 'defult', 'funds', '26', '%', 'property', 'penison', '2010', 'busy', 'ey', '15k', 'wtw', 'aviva', '40k', 'pension', 'pots', 'have', '?', '·', 'sw', '18k', '·', 'stand', 'life', 'kpmg', '45k', '·', 'ey', '4k', 'legal', '&', 'general', '·', '10', '%', '6.5', '%', '·', 'dafult', '·', 'previous', 'savings', '£80k', 'stati', 'used', 'investent', 'propety', 'got', 'offset', 'account', 'much', 'offset', 'mortgage', '20k', 'offset', 'mortgage', 'renewal', 'sept', 'eyar', 'save', 'couple', '100/m', 'boys', '2.5k', 'virgin', 'cash', 'investment', 'income', '8k/m', '60', '%', 'committed', '20', '%', 'disc', 'holdiays', '&', 'going', '20', '%', 'half', 'goes', 'direct', 'debit', 'credit', 'card', '£700', 'bonus', 'xmas', 'much', 'comes', 'much', 'goes', 'saves', 'left', 'range', 'exposure', '1', '2', '3', 'kate', 'life', 'assruance', 'cic', '75', '%', 'salary', 'nothin', 'private', 'throgh', 'work', 'cic', 'dis', 'hopes', '/', 'financial', 'independence', 'much', 'needed', 'retirement', 'ability', 'choice', '/', 'flexibility', 'life', '?', 'current', 'overriding', 'financial', 'objective', '?', '3', 'main'], ['joe', 'young', '50', 'years', 'old', 'single', ',', 'dependants', 'property', 'worth', '£700,000', ',', '£150,000', 'mortgage', '3', 'personal', 'pensions', ',', 'total', 'value', 'region', '£500,000', '1', 'final', 'salary', 'pension', ',', '£5,000', 'per', 'annum', 'age', '65', 'debt', 'beside', 'mortgage'], ['note', 'meeting', 'helen', 'sims.referred', 'sharon', 'gordon', 'urquharts', '.', 'lived', 'care', 'home', 'c1year', '.', 'queens', 'manor', 'care', 'home', ',', '565', 'queensferry', 'road', ',', 'edinburgh', ',', 'eh4', '8du', '.', 'tel', 'number', '07913', '945877.', 'email', 'also', 'attendance', 'also', 'irene', 'mcgowan', '.', 'tel', '07504', '858164.', 'address', '21', 'collins', 'place', ',', 'edin', ',', 'eh3', '5jd', 'widow', 'c20', 'years', '.', 'immediate', 'family', '.', 'ni', 'hm324002b', 'helen', 'date', 'birth', '21.07.1935', 'also', 'thinks', 'companies', 'might', 'show', '21.07.1938.', 'need', 'aware', 'also', 'check', 'id', '?', 'question/concern', 'around', 'care', 'fees', '.', 'cost', '£77k', 'pa', 'currently', 'around', '£35k', 'cash', '.', 'also', 'numerous', 'investments', '.', 'main', 'home', 'might', 'worth', '£300k', '.', 'house', 'address', '2', 'belmont', 'gardens', ',', 'edinburgh', 'eh12', '6jh', '.', 'income', 'comprised', 'small', 'university', 'pension', ',', 'state', 'pension', 'benefits', '£27.64pd/£856pm', '.', 'gm', 'discussing', 'recent', 'investment', 'performance', ',', 'helen', 'seems', 'v', 'nervous', 'performance', '.', 'provided', 'gm', 'list', 'questions', 'cover', 'off', '.', 'talking', 'sufficient', 'funds', 'cash', 'cover', 'say', 'next', '37', 'years', 'care', 'costs', '.', 'also', 'discussing', 'likes', 'immediate', 'care', 'annuity', '.', 'touching', 'issues', 'iht', 'exemptions', 'nrb', 'rnrb', '.', 'subject', 'mr', 'sims', 'utilsing', 'nrb', 'possible', 'helen', 'claim', '.', 'also', 'rnrb', 'available', 'both', '.', 'likely', 'wont', 'iht', 'issue', 'mind', 'could', '£1m', 'assets', 'exempt', 'would', 'appear', 'likely', 'liquid', 'assets', 'house', 'come', 'amount', '.'], ['dr', 'alistair', 'forbes', 'wife', 'jackie', '.', 'referred', 'doug', 'wilson', 'worked', 'alistair', 'houndog', 'home', 'heriot', 'row', 'also', 'property', 'strathtay', ',', 'aberfeldy', 'investment', 'portfolio', 'ubs', '.', 'seems', '2', 'funds', '.', 'joint', 'portfolio/oeic', 'feeding', 'isas', '.', 'want', 'review', 'strategy', 'winding', 'paid', 'work', 'best', 'use', 'assets', 'income', 'future', '.', 'discussion', 'yet', 'current', 'inc', 'v', 'expenses', '.', 'iht', '?', 'numbers', 'assets', 'yet', '.', 'mention', 'debt', '.', 'private', 'equity/eis', 'exposure', 'terms', 'working', 'history', 'investments', 'made', 'mitigate', 'tax', '.', 'asked', 'about', ';', '•', 'provide', 'advice', '•', 'sjp', 'role', '•', 'performance', '•', 'charges', 'need', 'send/think', 'about', ';', '•', 'performance/analytics', '•', 'scdd', '•', 'voyant', 'info', '•', '3', 'questions', '•', 'sjp', 'ima', 'info', '•', 'need', 'think', 'tax', 'restructure', 'cgt', '?', 'techlink', 'tax', 'questionnaire', '?'], ['kids', 'eduction', 'tax', 'planning', 'mega', 'back', 'door', 'roth', 'ira', 'investing', 'funds', 'bank', 'line', 'credit', 'business', 'estate', 'planning', '401k', '–', 'participation', 'rate', ',', 'investment', 'lineup', ',', 'looking', 'next', 'hire', 'personal', 'net', 'worth', 'tax', 'preparer', 'returns', '401k', 'maxing', 'house', 'india', 'names', '?', '$', '170k', 'old', '401k', 'wells', 'fargo', 'already', 'profit', 'sharing', '401k', 'match', 'throughout', 'year', 'calculated', 'adp', 'become', '401k', 'advisor', 'plan', '?', 'focused', 'personal', 'stuff', 'send', '2021', 'tax', 'return', '2022', 'done', '$', '5k', '529', 'year', 'kids', 'max', 'state', 'maryland', 'tax', 'deduction', 'overfund', '529', '?', 'putting', 'traditional', '401k', 'also', 'buckets', 'save', 'tax', 'benefits', '?', 'get', 'plan', 'documents', 'explore', 'back', 'door', 'roth', 'ira', '?', '$', '2030k', 'cash', 'year', 'debt', 'paid', 'mortgage', 'early', 'extra', '$', '2500', 'per', 'month', 'utilize', 'bigger', 'house', 'ellicott', 'city', '$', '1', '$', '1.2m', 'current', 'house', '$', '650k', 'also', 'condo', 'columbia', '$', '200k', 'real', 'profit', 'condo', 'fees', ',', 'taxes', ',', 'hoa', 'fees', 'would', 'like', 'tos', 'ell', 'current', 'condo', 'rent', 'current', 'home', 'review', 'sba', 'small', 'business', 'personal', 'net', 'worth', 'rules', 'maryland', 'minority', 'rules', 'needs', 'stay', 'number', 'personal', 'assets', '$', '200k', 'm', '&', 't', 'bank', '$', '50k', 'citi', 'bank', 'sure', '$', '5k', 'per', 'month', 'expenses', '=', '$', '3060k', 'emergency', 'fund', 'depending', 'saving', 'next', 'home', 'get', 'heloc', 'business', 'line', 'credit', 'estate', 'plan', 'john', 'hancock', 'vitality', 'term', 'life', '$', '750k', '$', '250k', '25', 'years', 'remaining', 'passes', 'away', 'doesnt', 'affect', 'much', 'using', 'jolles', 'insurance', 'maybe', 'get', '$', '3m', 'insurance', '60', '%', 'group', 'disability', 'insurance', 'look', 'supplemental', 'di', 'disability', 'buy', 'based', '$', '200k', 'explore', 'permanent', 'life', 'insurance', 'feels', 'ok', 'business', 'insurance', 'required', 'explore', 'fbar', 'india', 'property', 'estate', 'planning', 'title', 'happens', '?'], ['kyle', 'smith', '38', 'financial', 'advisor', '$', '350,000', 'marital', 'marries', '2', 'ethan', '–', 'age', '7', 'addy', '–', 'age', '5', 'assets', 'primary', '$', '1,050,000', '$', '250,000', '$', '100,000', 'brokerage', '$', '100,000', '$', '20,000', '$', '20,000', '$', '2,000,000', 'liabilities', 'auto', 'loan', 'credit', 'cards', 'life', '$', '3,000,000', 'goals', 'maximize', 'tax', 'savings', 'maximize', 'retirement', 'plan', 'funding', 'retire', 'age', '55', 'travel', 'family', 'risk', 'aggressive', 'investment', 'significant'], ['client', 'marital', 'married', 'current', '$', '75000', '10/12/1961', 'retirement', '68', '70', 'social', 'security', 'ss', 'election', 'xx/xx/xxxx', 'start', 'date', ';', '$', '/monthly', 'income', ';', 'xx', '%', 'survivorship', 'benefit', '#', '#', '#', 'coclient', 'herta', 'wright', '9/13/1963', 'retired', 'current', 'retirement', 'social', 'security', 'ss', 'election', 'xx/xx/xxxx', 'start', 'date', ';', '$', '/monthly', 'income', ';', 'xx', '%', 'survivorship', 'benefit', '#', '#', 'primary', 'residence', '*', '*', 'renter', '*', '*', 'ca', 'monthly', '$', '2500', '#', '#', 'employer', 'sponsored', 'plan', '401k', '2', 'paychex', 'self', 'directed', 'account', '$', '50k', 'ee', '%', 'er', '%', '1', 'thrivent', 'brother', 'worked', 'financial', 'agent', 'one', '.', '$', '28k', '{', 'ira/roth/taxable', '}', 'account', '$', '$', 'medical', '$', 'medical', 'insurance', '..', '>', 'coming', 'from', '?', 'medicare', 'est', '.', '5750', '.', '65', 'needs', 'marketplace', 'est', '500700/mo', 'lifestyle', '$', '3200/mo', '.', 'bills', 'wrapped', 'end', '.', '>', 'lifestyle', 'expenses', 'includes', 'food', ',', 'clothing', ',', 'gas', ',', 'travel', ',', 'etc', '.', 'also', 'back', 'amount', 'using', 'net', 'income', ';', 'ask', 'much', 'client', 'receives', 'monthly', 'take', 'home', 'income', '>', '``', 'if', 'unsure', 'much', 'spending', 'month', ',', 'get', 'rough', 'estimate', 'looking', 'monthly', 'take', 'home', 'pay', 'subtracting', 'housing/rent', 'costs', '+', 'planned', 'savings', '.', 'remainder', 'good', 'estimate', 'spending', 'per', 'month', '.', \"''\"], ['neill', 'gregson', '44', 'financial', 'planner', '£120,000', 'marital', 'married', '1', 'home', 'buy', 'let', 'investment', 'portfolio', 'cash', 'savings', 'business', 'liabilities', 'mortgage', 'home', 'financial', 'goals', 'retire', '55', 'pay', 'mortgage', '55'], ['sarah', 'johnson', '32', 'marketing', 'manager', '$', '80,000', 'p.a', '.', 'marital', 'single', '0', 'home', '401', 'account', 'brokerage', 'account', 'savings', 'account', 'liabilities', 'mortgage', 'home', 'financial', 'goals', 'save', 'payment', 'second', 'home', 'save', 'retirement', ']'], ['sarah', 'johnson', '35', 'graphic', 'designer', '$', '70,000', 'marital', 'single', '0', 'home', 'stock', 'portfolio', 'retirement', 'account', 'cash', 'savings', 'home', 'mortgage', 'financial', 'save', 'payment', 'rental', 'property', 'increase', 'retirement', 'savings', 'pay', 'home', 'mortgage', 'within', 'next', '15', 'years', '*', '*', ']'], ['jane', 'doe', '32', 'marketing', 'manager', '$', '100,000', 'marital', 'single', 'none', 'home', 'investment', 'portfolio', '401', 'plan', 'cash', 'savings', 'liabilities', 'mortgage', 'home', 'financial', 'goals', 'save', 'payment', 'second', 'home', '5', 'years', 'pay', 'mortgage', '15', 'years', 'retire', 'comfortably', '65', ']'], ['mrs.', 'elizabeth', 'adams', '75', 'retired', '$', '40,000', 'p.a', '.', 'marital', 'widowed', '2', 'home', 'bank', 'savings', 'stock', 'portfolio', 'rental', 'property', 'liabilities', 'mortgage', 'home', 'financial', 'goals', 'generate', 'additional', 'income', 'cover', 'living', 'expenses', 'leave', 'legacy', 'children', 'grandchildren', ']'], ['karen', 'wilson', '62', 'retired', 'teacher', '$', '70,000', 'per', 'year', 'social', 'security', 'pension', 'marital', 'widowed', '2', 'home', 'investment', 'portfolio', 'cash', 'savings', 'mortgage', 'home', 'credit', 'card', 'debt', 'financial', 'maintain', 'standard', 'living', 'retirement', 'travel', 'world', 'leave', 'legacy', 'children', 'grandchildren'], ['michael', 'smith', '55', 'engineer', '$', '150,000', 'marital', 'married', '2', 'home', '401', 'plan', 'investment', 'portfolio', 'cash', 'savings', 'mortgage', 'home', 'student', 'loan', 'children', 'financial', 'ensure', 'secure', 'financial', 'future', 'family', 'pay', 'mortgage', 'student', 'loans', 'fund', 'children', 'college', 'education', 'save', 'retirement', '*', '*', ']'], ['maria', 'gonzalez', '55', 'school', 'teacher', '$', '80,000', 'marital', 'married', '2', 'home', '401', 'account', 'savings', 'account', 'liabilities', 'mortgage', 'home', 'financial', 'goals', 'retire', '65', 'pay', 'mortgage', '65', 'provide', 'children', 'education'], ['sarah', 'johnson', '55', 'marketing', 'manager', '$', '120,000', 'marital', 'divorced', '2', 'home', 'investment', 'portfolio', '401', 'plan', 'cash', 'savings', 'home', 'mortgage', 'student', 'loan', 'debt', 'children', 'financial', 'pay', 'mortgage', '10', 'years', 'ensure', 'comfortable', 'retirement', 'fund', 'children', 'education', 'expenses', 'leave', 'legacy', 'children'], ['karen', 'lee', '57', 'marketing', 'director', '$', '150,000', 'marital', 'married', '2', 'home', 'investment', 'portfolio', 'retirement', 'savings', 'college', 'savings', 'accounts', 'children', 'business', 'mortgage', 'home', 'business', 'loan', 'financial', 'retire', 'comfortably', '67', 'pay', 'mortgage', 'business', 'loan', '65', 'ensure', 'children', 'college', 'education', 'fully', 'funded', 'maintain', 'current', 'lifestyle', 'retirement', 'travel', 'enjoy', 'retirement', 'spouse'], ['karen', 'chen', '55', 'retired', 'marital', 'married', '2', '$', '40,000', 'per', 'year', 'pension', 'investments', 'home', 'investment', 'portfolio', 'cash', 'savings', 'ira', 'mortgage', 'home', 'financial', 'maintain', 'comfortable', 'standard', 'living', 'retirement', 'ensure', 'children', 'sufficient', 'funds', 'future', 'provide', 'elderly', 'parents', 'leave', 'legacy', 'children', 'grandchildren'], ['sarah', 'johnson', '57', 'retired', 'teacher', '$', '50,000', 'per', 'year', 'pension', 'social', 'security', 'marital', 'divorced', '2', 'home', 'investment', 'portfolio', 'cash', 'savings', 'personal', 'investment', 'property', 'small', 'business', 'mortgage', 'home', 'business', 'loan', 'financial', 'pay', 'mortgage', '10', 'years', 'provide', 'children', 'education', 'maintain', 'lifestyle', 'retirement', 'leave', 'inheritance', 'children'], ['susan', 'kim', '57', 'retired', 'teacher', '$', '60,000', 'marital', 'widowed', '2', 'home', 'investment', 'portfolio', 'ira', 'account', 'cash', 'savings', 'mortgage', 'home', 'personal', 'loan', 'financial', 'provide', 'financial', 'support', 'children', 'ensure', 'comfortable', 'retirement', 'leave', 'legacy', 'children'], ['maria', 'smith', '56', 'retired', 'teacher', '$', '60,000', 'per', 'year', 'pension', 'social', 'security', 'marital', 'widowed', '2', 'adult', 'children', ',', 'ages', '31', '29', 'home', 'investment', 'portfolio', 'cash', 'savings', 'life', 'insurance', 'policy', 'cash', 'value', '$', '25,000', 'mortgage', 'home', 'financial', 'ensure', 'adequate', 'income', 'cover', 'living', 'expenses', 'retirement', 'maintain', 'value', 'assets', 'leave', 'legacy', 'children'], ['sarah', 'johnson', '60', 'retired', '$', '50,000', 'marital', 'widowed', '2', 'home', 'investment', 'portfolio', 'cash', 'savings', '2', 'rental', 'properties', 'mortgage', 'home', 'line', 'credit', 'rental', 'properties', 'financial', 'generate', 'consistent', 'passive', 'income', 'maintain', 'lifestyle', 'retirement', 'leave', 'inheritance', 'children']]\n",
            "Filterd Tokens After Removing Punctuations: [['dear', 'thank', 'providing', 'details', 'financial', 'situation', 'appreciate', 'opportunity', 'offer', 'expert', 'insights', 'based', 'information', 'shared', 'would', 'like', 'summarize', 'key', 'points', 'financial', 'positive', '36yearold', 'engineer', 'working', 'years', 'nonqualified', 'pension', 'efa', 'organization', 'balance', '120k', 'agreement', 'french', 'tax', 'authorities', 'tax', 'income', 'salary', 'capital', 'gains', 'expected', 'make', 'significant', 'gain', 'french', 'property', 'taxfree', 'negative', 'moving', 'back', 'family', 'reasons', 'longer', 'french', 'resident', 'taxed', 'provisionally', 'april', '6th', '2023', 'physically', 'move', 'back', 'around', 'february', '15th', 'pension', 'investment', 'fund', 'rather', 'traditional', 'pension', 'given', 'situation', 'would', 'like', 'offer', 'following', 'since', 'moving', 'back', 'longer', 'french', 'resident', 'important', 'consider', 'impact', 'change', 'financial', 'situation', 'particular', 'consider', 'tax', 'implications', 'pension', 'assets', 'france', 'carefully', 'consider', 'options', 'pension', 'close', 'leave', 'payroll', 'may', 'able', 'access', 'funds', 'taxefficient', 'manner', 'seek', 'advice', 'financial', 'advisor', 'help', 'navigate', 'complexities', 'tax', 'rules', 'finally', 'would', 'recommend', 'consider', 'benefits', 'working', 'financial', 'advisor', 'help', 'navigate', 'transition', 'new', 'home', 'advisor', 'help', 'identify', 'opportunities', 'optimize', 'financial', 'situation', 'minimize', 'tax', 'liabilities', 'ensure', 'track', 'achieve', 'financial', 'goals', 'hope', 'find', 'helpful', 'questions', 'would', 'like', 'discuss', 'situation', 'detail', 'please', 'hesitate', 'reach', 'best', 'regards'], ['dear', 'thank', 'recent', 'conversation', 'retirement', 'planning', 'goals', 'understand', 'would', 'like', 'build', 'life', 'well', 'planned', 'live', 'picture', 'envision', 'retirement', 'like', 'share', 'expert', 'insights', 'financial', 'planning', 'process', 'highlight', 'various', 'steps', 'involved', 'condensed', 'overview', 'understanding', 'step', 'involves', 'getting', 'know', 'unique', 'circumstances', 'provide', 'tailored', 'advice', 'specific', 'needs', 'identifying', 'goals', 'step', 'work', 'together', 'determine', 'retirement', 'income', 'goals', 'well', 'priorities', 'terms', 'lifestyle', 'legacy', 'planning', 'important', 'considerations', 'analyzing', 'step', 'involves', 'looking', 'current', 'financial', 'situation', 'determine', 'true', 'today', 'changes', 'need', 'made', 'reach', 'goals', 'creating', 'plan', 'based', 'analysis', 'create', 'customized', 'retirement', 'income', 'strategy', 'provide', 'investments', 'insurance', 'services', 'help', 'achieve', 'goals', 'presenting', 'present', 'explain', 'align', 'retirement', 'income', 'goals', 'implementing', 'step', 'involves', 'putting', 'plan', 'action', 'making', 'necessary', 'changes', 'ensure', 'track', 'achieve', 'goals', 'monitoring', 'regular', 'monitoring', 'investments', 'insurance', 'coverage', 'important', 'ensure', 'plan', 'remains', 'aligned', 'goals', 'taking', 'advantage', 'opportunities', 'may', 'arise', 'addition', 'steps', 'outlined', 'would', 'also', 'like', 'emphasize', 'importance', 'analyzing', 'tax', 'considerations', 'developing', 'plan', 'understand', 'answer', 'questions', 'arise', 'retirement', 'planning', 'process', 'hope', 'overview', 'financial', 'planning', 'process', 'helpful', 'please', 'let', 'know', 'additional', 'questions', 'concerns', 'anything', 'else', 'support', 'retirement', 'planning', 'journey', 'sincerely'], ['dear', 'scott', 'hope', 'email', 'finds', 'well', 'wanted', 'take', 'moment', 'follow', 'recent', 'financial', 'factfind', 'summarize', 'key', 'points', 'discussed', 'positive', 'age', 'means', 'still', 'several', 'years', 'save', 'plan', 'future', 'giving', 'ample', 'time', 'reach', 'financial', 'goals', 'employment', 'status', 'income', '100', '000', 'provide', 'solid', 'foundation', 'financial', 'planning', 'negative', 'information', 'provided', 'current', 'financial', 'situation', 'investment', 'portfolio', 'could', 'impact', 'ability', 'provide', 'comprehensive', 'financial', 'plan', 'based', 'information', 'provided', 'initial', 'include', 'start', 'creating', 'comprehensive', 'financial', 'plan', 'outlines', 'current', 'financial', 'situation', 'well', 'longterm', 'financial', 'goals', 'help', 'better', 'understand', 'unique', 'needs', 'make', 'informed', 'decisions', 'financial', 'future', 'develop', 'retirement', 'income', 'strategy', 'takes', 'account', 'lifestyle', 'spending', 'habits', 'well', 'sources', 'income', 'may', 'retirement', 'consider', 'tax', 'planning', 'options', 'taxes', 'significantly', 'impact', 'overall', 'retirement', 'savings', 'include', 'looking', 'taxefficient', 'investment', 'options', 'pension', 'contributions', 'may', 'allow', 'reduce', 'tax', 'bill', 'maximize', 'savings', 'evaluate', 'insurance', 'coverage', 'ensure', 'adequately', 'protected', 'event', 'unexpected', 'illness', 'injury', 'death', 'may', 'include', 'life', 'insurance', 'critical', 'illness', 'cover', 'income', 'protection', 'insurance', 'invest', 'diversified', 'portfolio', 'investments', 'aligns', 'risk', 'tolerance', 'investment', 'goals', 'time', 'horizon', 'help', 'grow', 'wealth', 'time', 'prepare', 'retirement', 'please', 'let', 'know', 'questions', 'concerns', 'regarding', 'look', 'forward', 'working', 'help', 'achieve', 'financial', 'goals', 'best', 'regards'], ['dear', 'name', 'wanted', 'summarize', 'factfind', 'conducted', 'provide', 'expert', 'insights', 'financial', 'situation', 'key', 'positive', 'director', 'company', 'manchester', 'working', 'years', 'looking', 'move', 'partner', 'role', 'near', 'future', 'strong', 'earning', 'potential', 'base', 'salary', '120', '000', 'bonus', '000', '000', 'deferred', 'stock', 'reasonable', 'amount', 'savings', '000', 'cash', '000', 'offset', 'account', 'mortgage', 'several', 'pension', 'pots', 'including', 'workplace', 'pension', 'current', 'balance', '000', 'personal', 'pension', 'kpmg', 'balance', '000', 'pension', 'legal', 'general', 'balance', '000', 'relatively', 'low', 'level', 'debt', 'mortgage', 'balance', '250', '000', 'repayment', '1670', 'per', 'month', 'negative', 'mortgage', 'renewal', 'september', 'need', 'consider', 'want', 'switch', 'different', 'mortgage', 'product', 'savings', 'invested', 'currently', 'virgin', 'cash', 'isa', 'private', 'life', 'insurance', 'coverage', 'workplace', 'death', 'service', 'benefit', 'salary', 'based', 'information', 'following', 'review', 'mortgage', 'mortgage', 'renewal', 'september', 'important', 'review', 'options', 'ensure', 'best', 'mortgage', 'product', 'needs', 'consider', 'switching', 'different', 'mortgage', 'save', 'money', 'long', 'term', 'consider', 'investing', 'savings', 'currently', 'invested', 'means', 'growing', 'faster', 'rate', 'may', 'want', 'consider', 'investing', 'savings', 'taxefficient', 'investment', 'product', 'stocks', 'shares', 'isa', 'help', 'money', 'grow', 'faster', 'consider', 'private', 'life', 'death', 'service', 'coverage', 'workplace', 'important', 'consider', 'private', 'life', 'insurance', 'provide', 'extra', 'financial', 'protection', 'family', 'case', 'something', 'unexpected', 'happens', 'review', 'pension', 'important', 'review', 'pension', 'options', 'ensure', 'track', 'reach', 'retirement', 'goals', 'may', 'want', 'consider', 'consolidating', 'pensions', 'one', 'pot', 'make', 'easier', 'manage', 'increasing', 'contributions', 'track', 'reach', 'desired', 'retirement', 'income', 'hope', 'information', 'helpful', 'provides', 'good', 'starting', 'point', 'financial', 'planning', 'questions', 'would', 'like', 'discuss', 'detail', 'please', 'hesitate', 'get', 'touch', 'best', 'regards'], ['dear', 'writing', 'summarise', 'financial', 'factfind', 'recently', 'conducted', 'please', 'find', 'highlights', 'positive', 'negative', 'areas', 'factfind', 'positive', 'joe', 'young', 'years', 'old', 'single', 'dependants', 'owns', 'property', 'worth', '700', '000', 'mortgage', '150', '000', 'joe', 'personal', 'pensions', 'total', 'value', 'around', '500', '000', 'also', 'final', 'salary', 'pension', 'provide', 'income', '000', 'per', 'annum', 'age', 'joe', 'debts', 'besides', 'mortgage', 'negative', 'time', 'specific', 'financial', 'goal', 'objective', 'mentioned', 'value', 'joe', 'personal', 'pensions', 'broken', 'individual', 'funds', 'possible', 'provide', 'full', 'analysis', 'investments', 'based', 'information', 'provided', 'appears', 'joe', 'strong', 'financial', 'foundation', 'significant', 'assets', 'property', 'pensions', 'however', 'without', 'clear', 'financial', 'goal', 'objective', 'difficult', 'provide', 'specific', 'order', 'provide', 'tailored', 'financial', 'plan', 'would', 'helpful', 'learn', 'joe', 'financial', 'goals', 'risk', 'tolerance', 'factors', 'may', 'impact', 'financial', 'situation', 'additionally', 'full', 'analysis', 'individual', 'funds', 'within', 'personal', 'pensions', 'would', 'provide', 'valuable', 'insight', 'investment', 'strategy', 'help', 'ensure', 'portfolio', 'aligned', 'goals', 'please', 'let', 'know', 'questions', 'additional', 'information', 'would', 'like', 'consider', 'best', 'regards'], ['financial', 'factfind', 'summary', 'helen', 'sims', 'dear', 'sharon', 'gordon', 'urquharts', 'hope', 'email', 'finds', 'well', 'writing', 'summarize', 'financial', 'factfind', 'conducted', 'helen', 'sims', 'irene', 'mcgowan', 'requested', 'taken', 'consideration', 'tax', 'investment', 'options', 'giving', 'expert', 'insights', 'advice', 'positive', 'helen', 'sims', 'several', 'sources', 'income', 'including', 'small', 'university', 'pension', 'state', 'pension', 'benefits', 'amounting', 'per', 'day', '856', 'per', 'month', 'helen', 'sims', 'multiple', 'investments', 'main', 'home', 'vacant', 'may', 'worth', '300', '000', 'helen', 'sims', 'cash', 'reserve', 'around', '000', 'cover', 'care', 'costs', 'next', 'years', 'negative', 'helen', 'sims', 'currently', 'living', 'care', 'home', 'cost', '000', 'per', 'year', 'helen', 'sims', 'worried', 'performance', 'investments', 'impact', 'ability', 'cover', 'care', 'costs', 'concern', 'around', 'inheritance', 'tax', 'exemptions', 'nil', 'rate', 'band', 'residential', 'nil', 'rate', 'band', 'per', 'information', 'provided', 'likely', 'helen', 'sims', 'iht', 'issue', 'liquid', 'assets', 'house', 'likely', 'come', 'million', 'assets', 'exempt', 'limit', 'sims', 'use', 'nrb', 'possible', 'helen', 'claim', 'rnrb', 'available', 'ensure', 'helen', 'sims', 'sufficient', 'funds', 'cover', 'care', 'costs', 'explore', 'option', 'immediate', 'care', 'annuity', 'please', 'note', 'information', 'based', 'information', 'provided', 'factfind', 'subject', 'change', 'based', 'research', 'confirmation', 'details', 'questions', 'require', 'additional', 'information', 'please', 'hesitate', 'reach', 'best', 'regards', 'financial', 'advisor'], ['factfind', 'summary', 'alistair', 'forbes', 'jackie', 'forbes', 'dear', 'forbes', 'jackie', 'writing', 'provide', 'summary', 'recent', 'factfind', 'meeting', 'discussed', 'financial', 'situation', 'goals', 'expectations', 'based', 'information', 'provided', 'would', 'like', 'highlight', 'positive', 'aspects', 'financial', 'situation', 'also', 'identify', 'areas', 'improvement', 'positive', 'investment', 'portfolio', 'ubs', 'includes', 'funds', 'joint', 'portfolio', 'oeic', 'feeding', 'isas', 'keen', 'interest', 'tax', 'planning', 'exposure', 'private', 'equity', 'eis', 'terms', 'working', 'history', 'investments', 'made', 'mitigate', 'tax', 'clear', 'goal', 'winding', 'paid', 'work', 'using', 'assets', 'secure', 'income', 'future', 'areas', 'currently', 'full', 'understanding', 'assets', 'debts', 'necessary', 'order', 'provide', 'comprehensive', 'financial', 'advice', 'discussion', 'yet', 'current', 'income', 'expenses', 'also', 'necessary', 'order', 'make', 'informed', 'decisions', 'important', 'consider', 'potential', 'impact', 'tax', 'decide', 'restructure', 'portfolio', 'including', 'capital', 'gains', 'tax', 'relevant', 'taxes', 'moving', 'forward', 'would', 'like', 'provide', 'following', 'understanding', 'financial', 'situation', 'would', 'like', 'provide', 'performance', 'analytics', 'including', 'information', 'voyant', 'sjp', 'ima', 'would', 'also', 'like', 'provide', 'complete', 'service', 'client', 'due', 'diligence', 'document', 'outline', 'charges', 'services', 'benefits', 'expect', 'working', 'finally', 'would', 'like', 'send', 'three', 'questions', 'help', 'understand', 'financial', 'goals', 'greater', 'detail', 'may', 'also', 'helpful', 'complete', 'technical', 'link', 'tax', 'questionnaire', 'gain', 'deeper', 'understanding', 'potential', 'tax', 'implications', 'portfolio', 'restructuring', 'confident', 'information', 'able', 'provide', 'detailed', 'accurate', 'financial', 'advice', 'tailored', 'market', 'taking', 'consideration', 'tax', 'investment', 'options', 'please', 'let', 'know', 'questions', 'concerns', 'regarding', 'information', 'outlined', 'look', 'forward', 'continuing', 'discussions', 'working', 'achieve', 'financial', 'goals', 'best', 'regards'], ['dear', 'reviewed', 'information', 'provided', 'insights', 'share', 'positive', 'clients', 'paidoff', 'mortgage', 'home', 'valued', '650', '000', 'contributing', '000', 'per', 'year', 'children', '529', 'plans', 'also', 'qualifies', 'maximum', 'state', 'maryland', 'tax', 'deduction', 'clients', 'maxing', '401', 'contributions', 'participating', 'profit', 'sharing', 'plan', 'employer', '2030', '000', 'cash', 'year', 'debt', 'extra', '500', 'per', 'month', 'put', 'towards', 'financial', 'goals', 'negative', 'clients', 'condo', 'columbia', 'real', 'profit', 'due', 'fees', 'taxes', 'hoa', 'fees', 'would', 'like', 'sell', 'condo', 'rent', 'current', 'home', '200', '000', 'bank', '000', 'citi', 'bank', 'sure', 'money', 'monthly', 'expenses', 'around', '000', 'limited', 'emergency', 'fund', '3060', '000', 'estate', 'plan', 'place', 'life', 'insurance', 'coverage', 'may', 'enough', 'fully', 'protect', 'family', 'event', 'unexpected', 'loss', 'explore', 'investment', 'options', 'would', 'recommend', 'send', '2021', 'tax', 'return', '2022', 'return', 'completed', 'would', 'also', 'recommend', 'consider', 'contributing', 'backdoor', 'roth', 'ira', 'well', 'exploring', 'taxadvantaged', 'buckets', 'saving', 'would', 'advise', 'look', 'getting', 'heloc', 'business', 'line', 'credit', 'additional', 'financial', 'flexibility', 'address', 'estate', 'planning', 'concerns', 'would', 'suggest', 'review', 'sba', 'personal', 'net', 'worth', 'rules', 'maryland', 'minority', 'rules', 'ensure', 'stay', 'within', 'limits', 'address', 'insurance', 'needs', 'would', 'recommend', 'explore', 'supplemental', 'disability', 'insurance', 'disability', 'buyout', 'well', 'permanent', 'life', 'insurance', 'finally', 'would', 'advise', 'review', 'fbar', 'rules', 'property', 'india', 'consider', 'title', 'assets', 'estate', 'planning', 'purposes', 'hope', 'email', 'provides', 'clear', 'concise', 'overview', 'clients', 'financial', 'situation', 'questions', 'need', 'information', 'please', 'let', 'know'], ['dear', 'kyle', 'reviewed', 'financial', 'information', 'provided', 'would', 'like', 'take', 'opportunity', 'provide', 'summary', 'current', 'financial', 'situation', 'positive', 'significant', 'amount', 'assets', 'including', 'primary', 'residence', 'worth', '050', '000', '401k', 'worth', '250', '000', 'ira', 'worth', '100', '000', 'brokerage', 'account', 'worth', '100', '000', 'business', 'worth', '000', '000', 'life', 'insurance', 'policy', 'value', '000', '000', 'providing', 'protection', 'family', 'case', 'unexpected', 'event', 'high', 'income', '350', '000', 'significant', 'amount', 'savings', 'including', '000', 'savings', 'account', '000', 'checking', 'account', 'negative', 'mortgage', 'worth', 'auto', 'loan', 'worth', 'potentially', 'impact', 'cash', 'flow', 'despite', 'high', 'level', 'investment', 'knowledge', 'yet', 'maximized', 'tax', 'savings', 'retirement', 'plan', 'funding', 'given', 'financial', 'information', 'stated', 'goals', 'maximizing', 'tax', 'savings', 'maximizing', 'retirement', 'plan', 'funding', 'retiring', 'age', 'traveling', 'family', 'would', 'recommend', 'following', 'review', 'tax', 'situation', 'look', 'ways', 'reduce', 'taxable', 'income', 'contributing', '401k', 'ira', 'consider', 'investing', 'portion', 'assets', 'diversified', 'portfolio', 'stocks', 'bonds', 'potentially', 'increase', 'returns', 'reach', 'retirement', 'goals', 'pay', 'highinterest', 'debt', 'credit', 'cards', 'reduce', 'amount', 'interest', 'paying', 'potentially', 'improve', 'cash', 'flow', 'consider', 'using', 'business', 'assets', 'pay', 'debt', 'invest', 'additional', 'assets', 'hope', 'summary', 'provides', 'valuable', 'insights', 'financial', 'situation', 'gives', 'good', 'starting', 'point', 'financial', 'planning', 'questions', 'would', 'like', 'discuss', 'options', 'detail', 'please', 'hesitate', 'reach', 'best', 'regards'], ['summary', 'factfind', 'dear', 'client', 'writing', 'summarize', 'factfind', 'recently', 'conducted', 'provide', 'expert', 'insights', 'based', 'financial', 'situation', 'positive', 'significant', 'amount', 'money', '401k', 'plan', 'paychex', 'provide', 'steady', 'source', 'retirement', 'income', 'lifestyle', 'expenses', 'seem', 'reasonable', 'good', 'sign', 'financial', 'health', 'negative', 'medical', 'insurance', 'could', 'pose', 'risk', 'financial', 'stability', 'encounter', 'unexpected', 'medical', 'expenses', 'ira', 'roth', 'taxable', 'account', 'balance', 'currently', 'could', 'limit', 'investment', 'options', 'prevent', 'reaching', 'longterm', 'financial', 'goals', 'given', 'factors', 'would', 'like', 'offer', 'following', 'help', 'improve', 'financial', 'obtain', 'medical', 'consider', 'enrolling', 'health', 'insurance', 'plan', 'protect', 'unexpected', 'medical', 'expenses', 'may', 'eligible', 'medicare', 'turn', 'meantime', 'may', 'need', 'purchase', 'insurance', 'marketplace', 'would', 'recommend', 'reaching', 'insurance', 'agent', 'information', 'options', 'increase', 'retirement', 'maximize', 'retirement', 'savings', 'consider', 'contributing', '401k', 'paychex', 'starting', 'ira', 'account', 'employer', 'offers', 'match', 'taking', 'advantage', 'help', 'reach', 'retirement', 'savings', 'goals', 'even', 'faster', 'review', 'lifestyle', 'ensure', 'lifestyle', 'expenses', 'line', 'income', 'would', 'recommend', 'tracking', 'spending', 'months', 'get', 'better', 'understanding', 'money', 'going', 'help', 'identify', 'areas', 'reduce', 'expenses', 'increase', 'savings', 'please', 'let', 'know', 'questions', 'would', 'like', 'discuss', 'detail', 'help', 'support', 'achieving', 'financial', 'goals', 'best', 'regards'], ['dear', 'neill', 'gregson', 'thank', 'meeting', 'discuss', 'financial', 'situation', 'based', 'conversation', 'information', 'provided', 'put', 'together', 'summary', 'current', 'financial', 'position', 'goals', 'future', 'positive', 'strong', 'income', 'financial', 'planner', '120', '000', 'strong', 'financial', 'foundation', 'valuable', 'several', 'valuable', 'assets', 'including', 'home', 'valued', '350', '000', 'buytolet', 'property', 'valued', '100', '000', 'investment', 'portfolio', 'valued', '000', 'cash', 'savings', 'valued', '000', 'business', 'valued', '600', '000', 'negative', 'mortgage', 'mortgage', 'home', '170', '000', 'need', 'paid', 'future', 'financial', 'retire', 'goal', 'retire', 'age', 'reasonable', 'target', 'given', 'strong', 'financial', 'position', 'pay', 'mortgage', 'also', 'want', 'pay', 'mortgage', 'age', 'free', 'income', 'expenses', 'retirement', 'based', 'information', 'would', 'recommend', 'develop', 'comprehensive', 'financial', 'plan', 'help', 'achieve', 'goals', 'involve', 'analyzing', 'current', 'assets', 'liabilities', 'creating', 'budget', 'ensure', 'enough', 'money', 'meet', 'living', 'expenses', 'developing', 'retirement', 'plan', 'ensure', 'enough', 'money', 'live', 'rest', 'life', 'order', 'create', 'detailed', 'plan', 'would', 'need', 'gather', 'information', 'current', 'expenses', 'future', 'expenses', 'financial', 'goals', 'may', 'also', 'explore', 'different', 'investment', 'options', 'strategies', 'help', 'reach', 'financial', 'goals', 'please', 'let', 'know', 'questions', 'anything', 'else', 'like', 'discuss', 'best', 'regards'], ['hello', 'sarah', 'thank', 'sharing', 'financial', 'information', 'based', 'factfind', 'conducted', 'appears', 'solid', 'foundation', 'achieving', 'financial', 'goals', 'summary', 'key', 'points', 'positive', 'stable', 'income', '000', 'per', 'year', 'marketing', 'manager', 'good', 'amount', 'assets', 'including', 'home', 'valued', '250', '000', '401', 'account', 'valued', '000', 'brokerage', 'account', 'valued', '000', 'savings', 'account', 'valued', '000', 'negative', 'mortgage', 'home', '150', '000', 'financial', 'save', 'payment', 'second', 'home', 'save', 'retirement', 'first', 'let', 'address', 'goal', 'saving', 'payment', 'second', 'home', 'based', 'value', 'current', 'home', 'savings', 'accounts', 'seems', 'like', 'good', 'position', 'start', 'saving', 'second', 'home', 'one', 'strategy', 'consider', 'would', 'increase', 'savings', 'contributions', 'potentially', 'make', 'additional', 'principal', 'payments', 'mortgage', 'pay', 'quickly', 'would', 'free', 'cash', 'flow', 'put', 'towards', 'saving', 'second', 'home', 'additionally', 'might', 'consider', 'looking', 'firsttime', 'homebuyer', 'programs', 'could', 'help', 'payment', 'goal', 'saving', 'retirement', 'great', 'already', '401', 'account', 'brokerage', 'account', 'one', 'strategy', 'consider', 'would', 'increase', 'contributions', 'accounts', 'potentially', 'explore', 'retirement', 'savings', 'options', 'roth', 'ira', 'traditional', 'ira', 'depending', 'income', 'factors', 'may', 'also', 'want', 'consider', 'taking', 'advantage', 'employer', 'match', 'contributions', '401', 'additionally', 'consider', 'creating', 'budget', 'review', 'expenses', 'see', 'cut', 'back', 'unnecessary', 'expenses', 'increase', 'savings', 'rate', 'terms', 'taxes', 'may', 'want', 'consult', 'tax', 'professional', 'see', 'taxadvantaged', 'options', 'may', 'help', 'save', 'goals', 'overall', 'looks', 'like', 'solid', 'financial', 'foundation', 'strategic', 'planning', 'budgeting', 'able', 'achieve', 'goals', 'questions', 'need', 'additional', 'guidance', 'please', 'hesitate', 'reach', 'best'], ['sarah', 'johnson', 'financial', 'factfind', 'summary', 'dear', 'sarah', 'wanted', 'take', 'moment', 'summarize', 'financial', 'information', 'discussed', 'recent', 'factfinding', 'meeting', 'positive', 'strong', 'asset', 'base', 'home', 'valued', '250', '000', 'stock', 'portfolio', 'worth', '120', '000', 'retirement', 'account', 'valued', '000', '000', 'cash', 'savings', 'clear', 'financial', 'goal', 'paying', 'home', 'mortgage', 'within', 'next', 'years', 'also', 'expressed', 'interest', 'increasing', 'retirement', 'savings', 'saving', 'payment', 'rental', 'property', 'negative', 'liabilities', 'currently', 'outweigh', 'assets', 'home', 'mortgage', 'balance', '180', '000', 'based', 'information', 'help', 'reach', 'financial', 'goals', 'pay', 'home', 'reach', 'goal', 'paying', 'home', 'mortgage', 'within', 'next', 'years', 'may', 'helpful', 'consider', 'making', 'extra', 'payments', 'month', 'increasing', 'monthly', 'payments', 'help', 'pay', 'mortgage', 'faster', 'reduce', 'amount', 'interest', 'pay', 'life', 'loan', 'increase', 'retirement', 'expressed', 'interest', 'increasing', 'retirement', 'savings', 'one', 'option', 'consider', 'contribute', 'existing', 'retirement', 'account', 'either', 'increasing', 'monthly', 'contributions', 'making', 'additional', 'lump', 'sum', 'contributions', 'may', 'also', 'want', 'consider', 'exploring', 'retirement', 'savings', 'options', 'traditional', 'roth', 'ira', 'save', 'payment', 'rental', 'order', 'save', 'payment', 'rental', 'property', 'may', 'want', 'consider', 'setting', 'separate', 'savings', 'account', 'specifically', 'purpose', 'could', 'also', 'consider', 'exploring', 'investment', 'options', 'may', 'provide', 'higher', 'rate', 'return', 'traditional', 'savings', 'account', 'hope', 'summary', 'helpful', 'provides', 'good', 'starting', 'point', 'continued', 'conversations', 'financial', 'goals', 'achieve', 'questions', 'would', 'like', 'discuss', 'anything', 'please', 'hesitate', 'reach', 'best', 'regards', 'name'], ['financial', 'factfind', 'summary', 'jane', 'doe', 'dear', 'jane', 'hope', 'email', 'finds', 'well', 'wanted', 'take', 'moment', 'summarize', 'results', 'recent', 'financial', 'factfind', 'rundown', 'current', 'financial', 'situation', 'helping', 'achieve', 'financial', 'goals', 'positive', 'solid', 'foundation', 'assets', 'including', 'home', 'valued', '400', '000', 'investment', 'portfolio', 'valued', '120', '000', '401', 'plan', 'also', 'great', 'start', 'towards', 'retirement', 'savings', 'currently', 'valued', '000', 'cash', 'savings', '000', 'provide', 'safety', 'net', 'case', 'unexpected', 'expenses', 'negative', 'mortgage', 'balance', '240', '000', 'significant', 'liability', 'financial', 'expressed', 'interest', 'saving', 'payment', 'second', 'home', 'years', 'paying', 'mortgage', 'years', 'also', 'goal', 'retiring', 'comfortably', 'help', 'reach', 'goal', 'saving', 'payment', 'second', 'home', 'would', 'recommend', 'setting', 'automatic', 'monthly', 'transfer', 'checking', 'account', 'highyield', 'savings', 'account', 'money', 'market', 'fund', 'way', 'steadily', 'build', 'savings', 'without', 'think', 'pay', 'mortgage', 'years', 'may', 'want', 'consider', 'making', 'extra', 'payments', 'increasing', 'monthly', 'payment', 'reduce', 'amount', 'interest', 'pay', 'life', 'loan', 'become', 'mortgagefree', 'sooner', 'retirement', 'important', 'maximize', 'contributions', '401', 'plan', 'consider', 'retirement', 'savings', 'options', 'ira', 'would', 'also', 'suggest', 'reviewing', 'investment', 'options', 'within', '401', 'plan', 'making', 'sure', 'invested', 'diversified', 'mix', 'assets', 'align', 'risk', 'tolerance', 'time', 'horizon', 'please', 'let', 'know', 'questions', 'would', 'like', 'discuss', 'detail', 'help', 'support', 'achieving', 'financial', 'goals', 'best', 'regards', 'financial', 'adviso'], ['dear', 'mrs', 'elizabeth', 'adams', 'hope', 'email', 'finds', 'well', 'writing', 'summarize', 'information', 'discussed', 'recent', 'factfinding', 'meeting', 'positive', 'portfolio', 'assets', 'including', 'primary', 'residence', 'bank', 'savings', 'stocks', 'rental', 'property', 'relatively', 'low', 'mortgage', 'balance', 'primary', 'residence', 'may', 'allow', 'pay', 'sooner', 'increase', 'cash', 'flow', 'retirement', 'negative', 'income', 'retirement', 'limited', 'may', 'enough', 'cover', 'living', 'expenses', 'based', 'financial', 'goals', 'generating', 'additional', 'income', 'cover', 'living', 'expenses', 'leaving', 'legacy', 'children', 'grandchildren', 'suggestions', 'renting', 'primary', 'considering', 'downsizing', 'moving', 'different', 'location', 'renting', 'primary', 'residence', 'could', 'provide', 'additional', 'income', 'cover', 'living', 'expenses', 'however', 'important', 'consider', 'costs', 'associated', 'landlord', 'investing', 'annuity', 'financial', 'product', 'provide', 'guaranteed', 'stream', 'income', 'retirement', 'choose', 'various', 'types', 'annuities', 'including', 'fixed', 'annuities', 'variable', 'annuities', 'indexed', 'annuities', 'risks', 'benefits', 'investing', 'annuity', 'important', 'thoroughly', 'research', 'product', 'understand', 'terms', 'conditions', 'reviewing', 'stock', 'portfolio', 'may', 'provide', 'growth', 'potential', 'also', 'subject', 'market', 'fluctuations', 'may', 'helpful', 'review', 'portfolio', 'adjust', 'asset', 'allocation', 'based', 'risk', 'tolerance', 'investment', 'goals', 'utilizing', 'reverse', 'years', 'age', 'older', 'may', 'eligible', 'reverse', 'mortgage', 'allows', 'borrow', 'equity', 'home', 'funds', 'used', 'supplement', 'retirement', 'income', 'pay', 'debt', 'make', 'home', 'improvements', 'however', 'important', 'understand', 'terms', 'conditions', 'reverse', 'mortgage', 'including', 'costs', 'impact', 'estate', 'hope', 'information', 'helpful', 'questions', 'would', 'like', 'discuss', 'options', 'detail', 'please', 'let', 'know', 'best', 'regards', 'financial', 'advis'], ['dear', 'karen', 'hope', 'email', 'finds', 'well', 'writing', 'summarize', 'factfind', 'conducted', 'provide', 'expert', 'insights', 'financial', 'situation', 'positive', 'healthy', 'amount', 'assets', 'including', 'home', 'valued', '350', '000', 'investment', 'portfolio', 'valued', '200', '000', 'cash', 'savings', '100', '000', 'income', 'social', 'security', 'pension', '000', 'per', 'year', 'provide', 'good', 'foundation', 'maintaining', 'standard', 'living', 'retirement', 'negative', 'mortgage', 'home', 'worth', '150', '000', 'credit', 'card', 'debt', '000', 'could', 'impact', 'financial', 'stability', 'managed', 'properly', 'based', 'information', 'provided', 'seems', 'like', 'good', 'financial', 'position', 'solid', 'income', 'mix', 'assets', 'help', 'support', 'goals', 'however', 'recommend', 'focus', 'paying', 'mortgage', 'credit', 'card', 'debt', 'soon', 'possible', 'liabilities', 'could', 'become', 'burden', 'future', 'maintain', 'standard', 'living', 'retirement', 'may', 'want', 'consider', 'adjusting', 'investment', 'portfolio', 'prioritize', 'stability', 'growth', 'could', 'involve', 'shifting', 'investments', 'fixed', 'income', 'assets', 'bonds', 'provide', 'steady', 'stream', 'income', 'terms', 'desire', 'travel', 'world', 'may', 'want', 'consider', 'setting', 'aside', 'cash', 'savings', 'travel', 'expenses', 'help', 'ensure', 'able', 'enjoy', 'travels', 'without', 'tap', 'investments', 'could', 'impact', 'longterm', 'financial', 'stability', 'finally', 'ensure', 'able', 'leave', 'legacy', 'children', 'grandchildren', 'may', 'want', 'consider', 'estate', 'planning', 'could', 'involve', 'creating', 'setting', 'trust', 'developing', 'comprehensive', 'plan', 'transferring', 'assets', 'beneficiaries', 'hope', 'information', 'helpful', 'questions', 'concerns', 'please', 'hesitate', 'reach', 'best', 'regards', 'name'], ['summary', 'financial', 'factfind', 'dear', 'michael', 'hope', 'email', 'finds', 'well', 'thank', 'allowing', 'opportunity', 'review', 'financial', 'situation', 'appreciate', 'information', 'provided', 'able', 'provide', 'comprehensive', 'overview', 'current', 'financial', 'position', 'offer', 'achieving', 'financial', 'goals', 'positive', 'wellrounded', 'mix', 'assets', 'including', 'home', '401', 'plan', 'investment', 'portfolio', 'cash', 'savings', 'income', '150', '000', 'per', 'year', 'significant', 'provides', 'solid', 'foundation', 'achieving', 'financial', 'goals', 'financial', 'goals', 'clear', 'aligned', 'current', 'financial', 'situation', 'negative', 'mortgage', 'student', 'loans', 'create', 'significant', 'amount', 'debt', 'pay', 'mortgage', 'student', 'loans', 'soon', 'possible', 'reduce', 'debt', 'improve', 'overall', 'financial', 'stability', 'consider', 'increasing', 'contributions', '401', 'plan', 'order', 'maximize', 'retirement', 'savings', 'review', 'investment', 'portfolio', 'make', 'necessary', 'adjustments', 'ensure', 'investments', 'align', 'goals', 'risk', 'tolerance', 'consider', 'funding', 'children', 'college', 'education', 'combination', 'grants', 'scholarships', 'student', 'loans', 'order', 'minimize', 'impact', 'financial', 'situation', 'would', 'happy', 'provide', 'additional', 'information', 'answer', 'questions', 'may', 'would', 'like', 'schedule', 'followup', 'meeting', 'discuss', 'detail', 'please', 'let', 'know', 'best', 'regards'], ['dear', 'maria', 'based', 'information', 'provided', 'recent', 'factfind', 'put', 'together', 'summary', 'financial', 'situation', 'achieve', 'goals', 'positive', 'significant', 'amount', 'assets', 'including', 'home', '401', 'account', 'savings', 'account', 'income', 'relatively', 'high', 'help', 'save', 'goals', 'set', 'specific', 'financial', 'goals', 'retirement', 'providing', 'children', 'education', 'negative', 'mortgage', 'balance', 'relatively', 'high', 'compared', 'value', 'home', 'savings', 'account', 'large', 'may', 'enough', 'cover', 'unexpected', 'expenses', 'emergencies', 'achieve', 'goal', 'paying', 'mortgage', 'consider', 'increasing', 'monthly', 'mortgage', 'payments', 'making', 'extra', 'payments', 'possible', 'ensure', 'enough', 'savings', 'cover', 'unexpected', 'expenses', 'emergencies', 'consider', 'increasing', 'monthly', 'savings', 'contributions', 'looking', 'ways', 'increase', 'income', 'maximize', 'retirement', 'savings', 'consider', 'increasing', 'contributions', '401', 'account', 'looking', 'retirement', 'savings', 'options', 'ira', 'provide', 'children', 'education', 'consider', 'setting', 'college', 'savings', 'plan', '529', 'plan', 'making', 'regular', 'contributions', 'also', 'consider', 'speaking', 'tax', 'advisor', 'help', 'maximizing', 'tax', 'saving', 'investment', 'options', 'best', 'financial', 'advisor'], ['summary', 'financial', 'factfind', 'sarah', 'johnson', 'dear', 'sarah', 'thank', 'taking', 'time', 'meet', 'today', 'appreciate', 'opportunity', 'discuss', 'financial', 'situation', 'help', 'achieve', 'financial', 'goals', 'summary', 'conversation', 'observations', 'financial', 'positive', 'solid', 'mix', 'assets', 'including', 'home', 'investment', 'portfolio', '401', 'plan', 'cash', 'savings', 'income', 'high', 'steady', 'provide', 'solid', 'foundation', 'future', 'financial', 'plans', 'clearly', 'defined', 'financial', 'goals', 'great', 'first', 'step', 'achieving', 'financial', 'success', 'negative', 'significant', 'mortgage', 'home', 'student', 'loan', 'debt', 'children', 'may', 'impact', 'ability', 'reach', 'financial', 'goals', 'investment', 'portfolio', '401', 'plan', 'may', 'optimally', 'diversified', 'could', 'leave', 'exposed', 'unnecessary', 'risk', 'based', 'information', 'provided', 'help', 'reach', 'financial', 'pay', 'mortgage', 'student', 'loan', 'debt', 'top', 'priority', 'debts', 'potential', 'significantly', 'impact', 'financial', 'future', 'consider', 'ways', 'accelerate', 'debt', 'repayment', 'making', 'extra', 'payments', 'refinancing', 'mortgage', 'lower', 'rate', 'diversify', 'investment', 'key', 'managing', 'risk', 'investment', 'portfolio', 'consider', 'rebalancing', 'portfolio', 'include', 'mix', 'different', 'types', 'investments', 'stocks', 'bonds', 'real', 'estate', 'help', 'reduce', 'overall', 'investment', 'risk', 'consider', 'longterm', 'care', 'approach', 'retirement', 'age', 'important', 'consider', 'possibility', 'needing', 'longterm', 'care', 'longterm', 'care', 'insurance', 'help', 'protect', 'assets', 'provide', 'peace', 'mind', 'family', 'review', '401', '401', 'plan', 'important', 'component', 'retirement', 'savings', 'important', 'make', 'sure', 'track', 'meet', 'retirement', 'goals', 'consider', 'working', 'financial', 'advisor', 'review', 'plan', 'make', 'necessary', 'adjustments', 'consider', 'financial', 'working', 'financial', 'advisor', 'help', 'navigate', 'complex', 'world', 'personal', 'finance', 'ensure', 'making', 'informed', 'decisions', 'money', 'financial', 'advisor', 'help', 'create', 'comprehensive', 'financial', 'plan', 'provide', 'ongoing', 'support', 'work', 'towards', 'goals', 'please', 'let', 'know', 'questions', 'concerns', 'help', 'happy', 'discuss', 'financial', 'situation', 'time', 'best', 'regards', 'financial', 'adviso'], ['karen', 'lee', 'financial', 'factfind', 'summary', 'dear', 'karen', 'thank', 'meeting', 'today', 'discuss', 'financial', 'situation', 'goals', 'analyzed', 'information', 'provided', 'would', 'like', 'share', 'insights', 'positive', 'healthy', 'annual', 'income', '150', '000', 'positive', 'factor', 'achieving', 'financial', 'goals', 'valuable', 'mix', 'assets', 'includes', 'valuable', 'home', 'wellfunded', 'investment', 'portfolio', 'retirement', 'savings', 'college', 'savings', 'accounts', 'children', 'business', 'significant', 'asset', 'significant', 'mortgage', 'home', 'loan', 'business', 'debts', 'manageable', 'overburdensome', 'considering', 'income', 'assets', 'negative', 'currently', 'years', 'old', 'means', 'less', 'time', 'save', 'retirement', 'reach', 'financial', 'goals', 'loan', 'loan', 'payments', 'home', 'business', 'impact', 'cash', 'flow', 'reduce', 'amount', 'money', 'available', 'put', 'towards', 'financial', 'goals', 'based', 'information', 'recommend', 'focus', 'following', 'strategies', 'help', 'achieve', 'financial', 'retirement', 'current', 'retirement', 'savings', 'healthy', 'income', 'solid', 'foundation', 'comfortable', 'retirement', 'however', 'given', 'age', 'limited', 'amount', 'time', 'left', 'reach', 'target', 'retirement', 'age', 'important', 'consider', 'increasing', 'retirement', 'contributions', 'investing', 'diversified', 'portfolio', 'appropriate', 'risk', 'tolerance', 'time', 'horizon', 'paying', 'mortgage', 'business', 'loan', 'payments', 'impacting', 'cash', 'flow', 'would', 'wise', 'consider', 'paying', 'soon', 'possible', 'free', 'cash', 'flow', 'reduce', 'overall', 'financial', 'risk', 'education', 'children', 'college', 'education', 'important', 'already', 'taken', 'steps', 'fund', 'education', 'establishing', 'college', 'savings', 'accounts', 'however', 'would', 'wise', 'reevaluate', 'college', 'savings', 'plan', 'regularly', 'ensure', 'remains', 'track', 'adequate', 'needs', 'maintaining', 'lifestyle', 'maintain', 'current', 'lifestyle', 'retirement', 'important', 'wellfunded', 'retirement', 'account', 'plan', 'additional', 'sources', 'income', 'social', 'security', 'parttime', 'job', 'travel', 'enjoyment', 'desire', 'travel', 'enjoy', 'retirement', 'spouse', 'valid', 'goal', 'incorporate', 'overall', 'financial', 'plan', 'conclusion', 'current', 'financial', 'situation', 'generally', 'healthy', 'solid', 'foundation', 'reaching', 'financial', 'goals', 'focusing', 'strategies', 'making', 'smart', 'financial', 'decisions', 'increase', 'chances', 'achieving', 'financial', 'security', 'comfort', 'desire', 'questions', 'would', 'like', 'discuss', 'detail', 'please', 'hesitate', 'reach', 'sincerely', 'financial', 'advisor'], ['dear', 'karen', 'hope', 'email', 'finds', 'well', 'wanted', 'take', 'moment', 'review', 'factfind', 'conducted', 'provide', 'summary', 'current', 'financial', 'situation', 'advice', 'achieving', 'financial', 'goals', 'positive', 'solid', 'foundation', 'assets', 'including', 'home', 'valued', '500', '000', 'investment', 'portfolio', 'valued', '250', '000', 'healthy', 'cash', 'savings', '100', '000', 'ira', 'valued', '150', '000', 'provide', 'additional', 'source', 'income', 'retirement', 'negative', 'primary', 'liability', 'mortgage', 'home', 'currently', 'valued', '200', '000', 'debt', 'may', 'affect', 'ability', 'maintain', 'standard', 'living', 'retirement', 'especially', 'interest', 'rates', 'rise', 'overall', 'good', 'financial', 'position', 'given', 'assets', 'income', 'pension', 'investments', 'however', 'important', 'comprehensive', 'plan', 'place', 'achieve', 'financial', 'goals', 'ensure', 'maintain', 'desired', 'standard', 'living', 'retirement', 'repaying', 'mentioned', 'one', 'financial', 'goals', 'maintain', 'comfortable', 'standard', 'living', 'retirement', 'repaying', 'mortgage', 'time', 'retire', 'help', 'achieve', 'goal', 'free', 'additional', 'cash', 'flow', 'cover', 'living', 'expenses', 'investment', 'investment', 'portfolio', '250', '000', 'valuable', 'asset', 'important', 'ensure', 'allocated', 'way', 'aligns', 'risk', 'tolerance', 'investment', 'goals', 'time', 'horizon', 'consider', 'seeking', 'help', 'financial', 'advisor', 'review', 'investment', 'strategy', 'make', 'necessary', 'adjustments', 'ira', 'important', 'part', 'retirement', 'plan', 'important', 'make', 'sure', 'invested', 'way', 'meets', 'risk', 'tolerance', 'investment', 'goals', 'consider', 'seeking', 'help', 'financial', 'advisor', 'review', 'ira', 'make', 'necessary', 'adjustments', 'legacy', 'mentioned', 'leaving', 'legacy', 'children', 'grandchildren', 'one', 'financial', 'goals', 'consider', 'including', 'overall', 'financial', 'plan', 'may', 'include', 'estate', 'planning', 'wealth', 'transfer', 'strategies', 'hope', 'summary', 'provides', 'better', 'understanding', 'financial', 'situation', 'helps', 'achieve', 'financial', 'goals', 'questions', 'would', 'like', 'discuss', 'please', 'hesitate', 'reach', 'best', 'regards'], ['sarah', 'johnson', 'financial', 'review', 'dear', 'sarah', 'pleased', 'present', 'results', 'financial', 'review', 'following', 'summary', 'current', 'financial', 'situation', 'help', 'achieve', 'financial', 'goals', 'positive', 'diversified', 'portfolio', 'assets', 'including', 'home', 'investment', 'portfolio', 'cash', 'savings', 'personal', 'investment', 'property', 'small', 'business', 'relatively', 'low', 'mortgage', 'balance', 'home', 'paid', 'within', 'years', 'proper', 'planning', 'budgeting', 'stable', 'source', 'income', 'pension', 'social', 'security', 'provide', 'comfortable', 'standard', 'living', 'retirement', 'negative', 'significant', 'business', 'loan', 'outstanding', 'additional', 'liability', 'risk', 'financial', 'security', 'pay', 'mortgage', 'paying', 'mortgage', 'years', 'achievable', 'goal', 'especially', 'given', 'stable', 'income', 'pension', 'social', 'security', 'achieve', 'goal', 'increase', 'monthly', 'mortgage', 'payments', 'consider', 'refinancing', 'mortgage', 'take', 'advantage', 'lower', 'interest', 'rates', 'review', 'investment', 'review', 'investment', 'portfolio', 'ensure', 'aligned', 'longterm', 'financial', 'goals', 'consider', 'seeking', 'professional', 'advice', 'make', 'sure', 'portfolio', 'appropriately', 'structured', 'managed', 'manage', 'business', 'important', 'manage', 'business', 'loan', 'carefully', 'ensure', 'impact', 'financial', 'goals', 'consider', 'paying', 'loan', 'quickly', 'possible', 'exploring', 'alternative', 'financing', 'options', 'reduce', 'risk', 'associated', 'loan', 'consider', 'longterm', 'care', 'approach', 'retirement', 'age', 'important', 'consider', 'potential', 'cost', 'longterm', 'care', 'future', 'longterm', 'care', 'insurance', 'help', 'cover', 'cost', 'longterm', 'care', 'inhome', 'care', 'assisted', 'living', 'help', 'preserve', 'assets', 'estate', 'consider', 'developing', 'estate', 'plan', 'ensure', 'assets', 'distributed', 'according', 'wishes', 'death', 'estate', 'plan', 'help', 'minimize', 'estate', 'taxes', 'protect', 'assets', 'creditors', 'ensure', 'loved', 'ones', 'provided', 'hope', 'review', 'provides', 'good', 'starting', 'point', 'financial', 'planning', 'questions', 'would', 'like', 'discuss', 'options', 'please', 'hesitate', 'reach', 'best', 'regards', 'name'], ['dear', 'susan', 'thank', 'taking', 'time', 'meet', 'reviewed', 'financial', 'information', 'would', 'like', 'share', 'insights', 'positive', 'strong', 'healthy', 'investment', 'portfolio', 'ira', 'account', 'cash', 'savings', 'provide', 'solid', 'financial', 'foundation', 'home', 'home', 'valued', '500', '000', 'mortgage', 'balance', '300', '000', '200', '000', 'equity', 'equity', 'used', 'help', 'meet', 'financial', 'goals', 'providing', 'financial', 'support', 'children', 'ensuring', 'comfortable', 'retirement', 'negative', 'high', 'mortgage', 'mortgage', 'balance', '300', '000', 'significant', 'liability', 'need', 'address', 'next', 'years', 'limited', 'income', '000', 'pension', 'social', 'security', 'may', 'enough', 'meet', 'financial', 'goals', 'especially', 'want', 'maintain', 'current', 'lifestyle', 'retirement', 'based', 'information', 'pay', 'paying', 'mortgage', 'priority', 'reduce', 'monthly', 'expenses', 'help', 'achieve', 'financial', 'independence', 'retirement', 'could', 'consider', 'using', 'cash', 'savings', 'taking', 'home', 'equity', 'loan', 'pay', 'mortgage', 'sooner', 'investment', 'recommend', 'reviewing', 'investment', 'portfolio', 'ensure', 'well', 'diversified', 'aligned', 'financial', 'goals', 'consider', 'speaking', 'financial', 'advisor', 'help', 'create', 'customized', 'investment', 'strategy', 'meets', 'specific', 'needs', 'tax', 'consider', 'speaking', 'tax', 'professional', 'ensure', 'taking', 'advantage', 'available', 'tax', 'deductions', 'credits', 'minimize', 'tax', 'liability', 'legacy', 'important', 'consider', 'legacy', 'want', 'provide', 'children', 'gone', 'may', 'involve', 'setting', 'trusts', 'estate', 'planning', 'vehicles', 'ensure', 'assets', 'distributed', 'according', 'wishes', 'hope', 'helpful', 'questions', 'would', 'like', 'discuss', 'options', 'detail', 'please', 'hesitate', 'reach', 'best', 'regards'], ['financial', 'factfind', 'summary', 'maria', 'smith', 'dear', 'maria', 'hope', 'email', 'finds', 'well', 'wanted', 'thank', 'opportunity', 'review', 'financial', 'situation', 'provide', 'expert', 'insights', 'summary', 'positive', 'diversified', 'investment', 'portfolio', 'includes', 'stocks', 'bonds', 'cash', 'savings', 'help', 'achieve', 'longterm', 'financial', 'goals', 'valuable', 'life', 'insurance', 'policy', 'cash', 'value', 'provide', 'additional', 'source', 'income', 'future', 'negative', 'high', 'mortgage', 'balance', 'relative', 'income', 'may', 'limit', 'ability', 'save', 'invest', 'future', 'cash', 'savings', 'balance', 'relatively', 'low', 'may', 'enough', 'cover', 'unexpected', 'expenses', 'emergencies', 'based', 'financial', 'goals', 'ensuring', 'adequate', 'income', 'retirement', 'maintaining', 'value', 'assets', 'leaving', 'legacy', 'children', 'recommend', 'following', 'review', 'budget', 'determine', 'areas', 'reduce', 'spending', 'increase', 'savings', 'consider', 'paying', 'refinancing', 'mortgage', 'reduce', 'monthly', 'expenses', 'increase', 'monthly', 'cash', 'flow', 'consider', 'increasing', 'contributions', 'investment', 'portfolio', 'take', 'advantage', 'compound', 'interest', 'increase', 'longterm', 'savings', 'consider', 'purchasing', 'additional', 'life', 'insurance', 'longterm', 'care', 'insurance', 'protect', 'assets', 'provide', 'additional', 'income', 'future', 'hope', 'information', 'helpful', 'provides', 'useful', 'insights', 'additional', 'questions', 'concerns', 'please', 'hesitate', 'reach', 'best', 'regards', 'name', 'meeting', 'notes', 'exposure', 'maria', 'main', 'source', 'income', 'pension', 'social', 'security', 'may', 'enough', 'cover', 'living', 'expenses', 'long', 'term', 'maria', 'mortgage', 'home', 'could', 'impact', 'ability', 'maintain', 'value', 'assets', 'action', 'review', 'maria', 'budget', 'determine', 'current', 'income', 'enough', 'cover', 'living', 'expenses', 'consider', 'options', 'increasing', 'income', 'parttime', 'work', 'taking', 'rental', 'property', 'evaluate', 'maria', 'investment', 'portfolio', 'ensure', 'properly', 'diversified', 'aligned', 'goals', 'discuss', 'possibility', 'paying', 'mortgage', 'home', 'reduce', 'monthly', 'expenses', 'free', 'cash', 'investment', 'questions', 'could', 'influence', 'advice', 'maria', 'monthly', 'budget', 'living', 'expenses', 'dependents', 'need', 'financial', 'support', 'future', 'risk', 'tolerance', 'investments', 'health', 'concerns', 'could', 'impact', 'ability', 'work', 'parttime', 'allowances', 'maria', 'may', 'eligible', 'various', 'tax', 'breaks', 'government', 'allowances', 'senior', 'citizen', 'property', 'tax', 'freeze', 'may', 'also', 'able', 'take', 'advantage', 'special', 'investment', 'vehicles', 'roth', 'ira', 'minimize', 'tax', 'liability', 'risk', 'prospect', 'needs', 'aware', 'maria', 'main', 'source', 'income', 'pension', 'social', 'security', 'may', 'adjusted', 'inflation', 'time', 'takes', 'rental', 'property', 'risk', 'vacancy', 'decrease', 'rental', 'income', 'investing', 'always', 'involves', 'level', 'risk', 'possibility', 'losing', 'money', 'investment', 'portfolio'], ['dear', 'sarah', 'johnson', 'thank', 'allowing', 'opportunity', 'review', 'financial', 'situation', 'provide', 'expert', 'insights', 'positive', 'solid', 'investment', 'portfolio', 'value', 'million', 'substantial', 'cash', 'savings', 'rental', 'properties', 'provide', 'passive', 'income', 'help', 'maintain', 'lifestyle', 'retirement', 'negative', 'monthly', 'pension', '000', 'may', 'enough', 'fully', 'support', 'desired', 'lifestyle', 'especially', 'significant', 'ongoing', 'expenses', 'mortgage', 'payments', 'taxes', 'insurance', 'review', 'budget', 'important', 'understand', 'exactly', 'much', 'money', 'spending', 'month', 'essential', 'expenses', 'help', 'determine', 'current', 'income', 'pension', 'sources', 'sufficient', 'support', 'lifestyle', 'consider', 'alternative', 'sources', 'passive', 'rental', 'properties', 'provide', 'additional', 'passive', 'income', 'important', 'mindful', 'associated', 'expenses', 'maintenance', 'costs', 'property', 'management', 'fees', 'may', 'also', 'consider', 'exploring', 'investment', 'options', 'annuities', 'dividendpaying', 'stocks', 'real', 'estate', 'investment', 'trusts', 'supplement', 'income', 'help', 'maintain', 'lifestyle', 'retirement', 'review', 'investment', 'approach', 'retirement', 'important', 'assess', 'risk', 'profile', 'investments', 'make', 'sure', 'align', 'financial', 'goals', 'may', 'consider', 'working', 'financial', 'advisor', 'help', 'make', 'informed', 'investment', 'decisions', 'ensure', 'portfolio', 'properly', 'diversified', 'plan', 'expressed', 'interest', 'leaving', 'inheritance', 'children', 'may', 'consider', 'creating', 'comprehensive', 'estate', 'plan', 'includes', 'trust', 'estateplanning', 'tools', 'hope', 'helpful', 'ensuring', 'resources', 'need', 'maintain', 'desired', 'lifestyle', 'achieve', 'financial', 'goals', 'questions', 'would', 'like', 'discuss', 'detail', 'please', 'hesitate', 'reach', 'best', 'regards', 'name']]\n"
          ]
        }
      ]
    },
    {
      "cell_type": "markdown",
      "source": [
        "Weighted word frequency"
      ],
      "metadata": {
        "id": "JdlPkaZ8cR8K"
      }
    },
    {
      "cell_type": "code",
      "source": [
        "maximum_frequncy = max(fdist_email.values())\n",
        "\n",
        "for word in fdist_email.keys():\n",
        "    fdist_email[word] = (fdist_email[word]/maximum_frequncy)"
      ],
      "metadata": {
        "id": "NHpK67UnLn1R"
      },
      "execution_count": null,
      "outputs": []
    },
    {
      "cell_type": "code",
      "source": [
        "maximum_frequncy"
      ],
      "metadata": {
        "colab": {
          "base_uri": "https://localhost:8080/"
        },
        "id": "R3yQO4QkdcrJ",
        "outputId": "ffc8a426-0a07-4b7c-a34f-bb7155beef9d"
      },
      "execution_count": null,
      "outputs": [
        {
          "output_type": "execute_result",
          "data": {
            "text/plain": [
              "5"
            ]
          },
          "metadata": {},
          "execution_count": 40
        }
      ]
    },
    {
      "cell_type": "code",
      "source": [
        "df['email_summary'][4]"
      ],
      "metadata": {
        "colab": {
          "base_uri": "https://localhost:8080/",
          "height": 139
        },
        "id": "LNH7nN3X7rVi",
        "outputId": "03a81cbb-8dc3-4639-ca76-3b14d6d659b4"
      },
      "execution_count": null,
      "outputs": [
        {
          "output_type": "execute_result",
          "data": {
            "text/plain": [
              "\"Dear [username], \\n\\nI am writing to summarise the financial fact-find that we recently conducted. Please find below the highlights of the positive and negative areas of the fact-find. \\n\\nPositive areas: \\n\\nJoe Young is 50 years old and is single with no dependants. \\n\\nHe owns a property worth £700,000, with a mortgage of £150,000. \\n\\nJoe has 3 personal pensions, with a total value of around £500,000. \\n\\nHe also has a final salary pension, which will provide him with an income of £5,000 per annum from age 65. \\n\\nJoe does not have any debts besides his mortgage. \\n\\nNegative areas: \\n\\nAt this time, there is no specific financial goal or objective mentioned. \\n\\nThe value of Joe's personal pensions is not broken down into the individual funds, so it is not possible to provide a full analysis of the investments. \\n\\nBased on the information provided, it appears that Joe has a strong financial foundation with significant assets in property and pensions. However, without a clear financial goal or objective, it is difficult to provide specific recommendations. \\n\\nIn order to provide a tailored financial plan, it would be helpful to learn more about Joe's financial goals, risk tolerance, and any other factors that may impact his financial situation. Additionally, a full analysis of the individual funds within his personal pensions would provide valuable insight into his investment strategy and help to ensure that his portfolio is aligned with his goals. \\n\\nPlease let me know if you have any further questions or if there is additional information you would like me to consider. \\n\\nBest regards, \\n\\n[Your Name]\""
            ],
            "application/vnd.google.colaboratory.intrinsic+json": {
              "type": "string"
            }
          },
          "metadata": {},
          "execution_count": 41
        }
      ]
    },
    {
      "cell_type": "code",
      "source": [
        "sent_score_list = []\n",
        "\n",
        "for each_sent in df['email_summary']:\n",
        "  sentence_scores = {}\n",
        "  for sentence in nltk.sent_tokenize(each_sent):\n",
        "    for word in nltk.word_tokenize(sentence):\n",
        "        if word in fdist_email and len(sentence.split(' ')) < 30:\n",
        "            if sentence not in sentence_scores:\n",
        "              sentence_scores[sentence] = fdist_email[word]\n",
        "            else:\n",
        "              sentence_scores[sentence] += fdist_email[word]\n",
        "\n",
        "  sent_score_list.append(sentence_scores)"
      ],
      "metadata": {
        "id": "Aer9sl9BhiVp"
      },
      "execution_count": null,
      "outputs": []
    },
    {
      "cell_type": "code",
      "source": [
        "len(sent_score_list)"
      ],
      "metadata": {
        "colab": {
          "base_uri": "https://localhost:8080/"
        },
        "id": "13brDHp-s0PP",
        "outputId": "bf1eecee-34cf-4161-9d8c-f6109c123e93"
      },
      "execution_count": null,
      "outputs": [
        {
          "output_type": "execute_result",
          "data": {
            "text/plain": [
              "25"
            ]
          },
          "metadata": {},
          "execution_count": 43
        }
      ]
    },
    {
      "cell_type": "code",
      "source": [
        "sent_score_list[4]"
      ],
      "metadata": {
        "colab": {
          "base_uri": "https://localhost:8080/"
        },
        "id": "lGPNz7xf5E5f",
        "outputId": "8d187c1c-7b8f-4396-8fd2-2bde15631e28"
      },
      "execution_count": null,
      "outputs": [
        {
          "output_type": "execute_result",
          "data": {
            "text/plain": [
              "{'Dear [username], \\n\\nI am writing to summarise the financial fact-find that we recently conducted.': 0.8,\n",
              " 'Please find below the highlights of the positive and negative areas of the fact-find.': 0.4,\n",
              " 'He owns a property worth £700,000, with a mortgage of £150,000.': 0.4,\n",
              " 'Joe has 3 personal pensions, with a total value of around £500,000.': 0.2,\n",
              " 'He also has a final salary pension, which will provide him with an income of £5,000 per annum from age 65.': 2.0,\n",
              " 'Joe does not have any debts besides his mortgage.': 0.2,\n",
              " 'Negative areas: \\n\\nAt this time, there is no specific financial goal or objective mentioned.': 0.8,\n",
              " \"The value of Joe's personal pensions is not broken down into the individual funds, so it is not possible to provide a full analysis of the investments.\": 1.0,\n",
              " 'Based on the information provided, it appears that Joe has a strong financial foundation with significant assets in property and pensions.': 1.2,\n",
              " 'However, without a clear financial goal or objective, it is difficult to provide specific recommendations.': 1.4,\n",
              " 'Please let me know if you have any further questions or if there is additional information you would like me to consider.': 1.6,\n",
              " 'Best regards, \\n\\n[Your Name]': 0.2}"
            ]
          },
          "metadata": {},
          "execution_count": 44
        }
      ]
    },
    {
      "cell_type": "code",
      "source": [
        "import heapq\n",
        "\n",
        "sentence_summary = []\n",
        "for sent_score in sent_score_list:\n",
        "  summary_sentences = heapq.nlargest(4, sent_score, key=sent_score.get)\n",
        "  summary = ' '.join(summary_sentences)\n",
        "  sentence_summary.append(summary)\n",
        "\n",
        "print(len(sentence_summary))"
      ],
      "metadata": {
        "colab": {
          "base_uri": "https://localhost:8080/"
        },
        "id": "34E3_-1CMAtS",
        "outputId": "f7ed27b1-7c74-4450-9d16-75f366003441"
      },
      "execution_count": null,
      "outputs": [
        {
          "output_type": "stream",
          "name": "stdout",
          "text": [
            "25\n"
          ]
        }
      ]
    },
    {
      "cell_type": "code",
      "source": [
        "!pip install rouge-score"
      ],
      "metadata": {
        "colab": {
          "base_uri": "https://localhost:8080/"
        },
        "id": "cLByeEq8wVDo",
        "outputId": "c0b0cd6a-a730-48b5-f671-e56472edb02e"
      },
      "execution_count": null,
      "outputs": [
        {
          "output_type": "stream",
          "name": "stdout",
          "text": [
            "Looking in indexes: https://pypi.org/simple, https://us-python.pkg.dev/colab-wheels/public/simple/\n",
            "Collecting rouge-score\n",
            "  Downloading rouge_score-0.1.2.tar.gz (17 kB)\n",
            "  Preparing metadata (setup.py) ... \u001b[?25l\u001b[?25hdone\n",
            "Requirement already satisfied: absl-py in /usr/local/lib/python3.8/dist-packages (from rouge-score) (1.3.0)\n",
            "Requirement already satisfied: nltk in /usr/local/lib/python3.8/dist-packages (from rouge-score) (3.7)\n",
            "Requirement already satisfied: numpy in /usr/local/lib/python3.8/dist-packages (from rouge-score) (1.21.6)\n",
            "Requirement already satisfied: six>=1.14.0 in /usr/local/lib/python3.8/dist-packages (from rouge-score) (1.15.0)\n",
            "Requirement already satisfied: tqdm in /usr/local/lib/python3.8/dist-packages (from nltk->rouge-score) (4.64.1)\n",
            "Requirement already satisfied: click in /usr/local/lib/python3.8/dist-packages (from nltk->rouge-score) (7.1.2)\n",
            "Requirement already satisfied: regex>=2021.8.3 in /usr/local/lib/python3.8/dist-packages (from nltk->rouge-score) (2022.6.2)\n",
            "Requirement already satisfied: joblib in /usr/local/lib/python3.8/dist-packages (from nltk->rouge-score) (1.2.0)\n",
            "Building wheels for collected packages: rouge-score\n",
            "  Building wheel for rouge-score (setup.py) ... \u001b[?25l\u001b[?25hdone\n",
            "  Created wheel for rouge-score: filename=rouge_score-0.1.2-py3-none-any.whl size=24955 sha256=4df2c7e73008ea9fe08c8b7f63d450e5086e1024e6d4a3442fc7a9daada5e9b9\n",
            "  Stored in directory: /root/.cache/pip/wheels/24/55/6f/ebfc4cb176d1c9665da4e306e1705496206d08215c1acd9dde\n",
            "Successfully built rouge-score\n",
            "Installing collected packages: rouge-score\n",
            "Successfully installed rouge-score-0.1.2\n"
          ]
        }
      ]
    },
    {
      "cell_type": "code",
      "source": [
        "from rouge_score import rouge_scorer\n",
        "scores = []\n",
        "for i in tqdm(range(df.shape[0])):\n",
        "  scorer = rouge_scorer.RougeScorer(['rouge1', 'rougeL'], use_stemmer=True)\n",
        "  scores.append(scorer.score(df['email_summary'].values[i],sentence_summary[i]))\n"
      ],
      "metadata": {
        "colab": {
          "base_uri": "https://localhost:8080/"
        },
        "id": "Xj6bH5nQiHKQ",
        "outputId": "8a1a7a45-a03f-4f15-cc8b-f02c6f747771"
      },
      "execution_count": null,
      "outputs": [
        {
          "output_type": "stream",
          "name": "stderr",
          "text": [
            "100%|██████████| 25/25 [00:00<00:00, 33.97it/s]\n"
          ]
        }
      ]
    },
    {
      "cell_type": "code",
      "source": [
        "scores"
      ],
      "metadata": {
        "colab": {
          "base_uri": "https://localhost:8080/"
        },
        "id": "GYnbf8nCiseB",
        "outputId": "87ac9978-e4b4-47b0-c72f-776e5ce0f160"
      },
      "execution_count": null,
      "outputs": [
        {
          "output_type": "execute_result",
          "data": {
            "text/plain": [
              "[{'rouge1': Score(precision=1.0, recall=0.24202127659574468, fmeasure=0.3897216274089935),\n",
              "  'rougeL': Score(precision=0.5494505494505495, recall=0.13297872340425532, fmeasure=0.21413276231263384)},\n",
              " {'rouge1': Score(precision=1.0, recall=0.3037249283667622, fmeasure=0.46593406593406594),\n",
              "  'rougeL': Score(precision=1.0, recall=0.3037249283667622, fmeasure=0.46593406593406594)},\n",
              " {'rouge1': Score(precision=1.0, recall=0.29874213836477986, fmeasure=0.46004842615012104),\n",
              "  'rougeL': Score(precision=0.6736842105263158, recall=0.20125786163522014, fmeasure=0.3099273607748184)},\n",
              " {'rouge1': Score(precision=1.0, recall=0.2138364779874214, fmeasure=0.3523316062176166),\n",
              "  'rougeL': Score(precision=0.5588235294117647, recall=0.11949685534591195, fmeasure=0.19689119170984457)},\n",
              " {'rouge1': Score(precision=1.0, recall=0.29739776951672864, fmeasure=0.4584527220630372),\n",
              "  'rougeL': Score(precision=0.6875, recall=0.20446096654275092, fmeasure=0.3151862464183381)},\n",
              " {'rouge1': Score(precision=1.0, recall=0.2719033232628399, fmeasure=0.4275534441805226),\n",
              "  'rougeL': Score(precision=0.7777777777777778, recall=0.21148036253776434, fmeasure=0.33254156769596194)},\n",
              " {'rouge1': Score(precision=1.0, recall=0.24378109452736318, fmeasure=0.392),\n",
              "  'rougeL': Score(precision=0.7448979591836735, recall=0.18159203980099503, fmeasure=0.29200000000000004)},\n",
              " {'rouge1': Score(precision=1.0, recall=0.23711340206185566, fmeasure=0.3833333333333333),\n",
              "  'rougeL': Score(precision=0.717391304347826, recall=0.17010309278350516, fmeasure=0.275)},\n",
              " {'rouge1': Score(precision=1.0, recall=0.2916666666666667, fmeasure=0.45161290322580644),\n",
              "  'rougeL': Score(precision=0.8163265306122449, recall=0.23809523809523808, fmeasure=0.36866359447004604)},\n",
              " {'rouge1': Score(precision=1.0, recall=0.24691358024691357, fmeasure=0.396039603960396),\n",
              "  'rougeL': Score(precision=1.0, recall=0.24691358024691357, fmeasure=0.396039603960396)},\n",
              " {'rouge1': Score(precision=1.0, recall=0.267515923566879, fmeasure=0.4221105527638191),\n",
              "  'rougeL': Score(precision=0.5595238095238095, recall=0.14968152866242038, fmeasure=0.2361809045226131)},\n",
              " {'rouge1': Score(precision=1.0, recall=0.26683291770573564, fmeasure=0.421259842519685),\n",
              "  'rougeL': Score(precision=0.5981308411214953, recall=0.1596009975062344, fmeasure=0.25196850393700787)},\n",
              " {'rouge1': Score(precision=1.0, recall=0.20977011494252873, fmeasure=0.3467933491686461),\n",
              "  'rougeL': Score(precision=0.5753424657534246, recall=0.1206896551724138, fmeasure=0.1995249406175772)},\n",
              " {'rouge1': Score(precision=1.0, recall=0.22033898305084745, fmeasure=0.3611111111111111),\n",
              "  'rougeL': Score(precision=0.6410256410256411, recall=0.14124293785310735, fmeasure=0.23148148148148148)},\n",
              " {'rouge1': Score(precision=1.0, recall=0.2204724409448819, fmeasure=0.36129032258064514),\n",
              "  'rougeL': Score(precision=0.8214285714285714, recall=0.18110236220472442, fmeasure=0.29677419354838713)},\n",
              " {'rouge1': Score(precision=1.0, recall=0.27485380116959063, fmeasure=0.4311926605504587),\n",
              "  'rougeL': Score(precision=0.5957446808510638, recall=0.16374269005847952, fmeasure=0.25688073394495414)},\n",
              " {'rouge1': Score(precision=1.0, recall=0.212, fmeasure=0.34983498349834985),\n",
              "  'rougeL': Score(precision=0.6981132075471698, recall=0.148, fmeasure=0.24422442244224418)},\n",
              " {'rouge1': Score(precision=1.0, recall=0.42386831275720166, fmeasure=0.5953757225433527),\n",
              "  'rougeL': Score(precision=0.8058252427184466, recall=0.34156378600823045, fmeasure=0.47976878612716767)},\n",
              " {'rouge1': Score(precision=1.0, recall=0.22935779816513763, fmeasure=0.373134328358209),\n",
              "  'rougeL': Score(precision=0.82, recall=0.18807339449541285, fmeasure=0.30597014925373134)},\n",
              " {'rouge1': Score(precision=1.0, recall=0.1848906560636183, fmeasure=0.31208053691275167),\n",
              "  'rougeL': Score(precision=0.7419354838709677, recall=0.13717693836978131, fmeasure=0.23154362416107385)},\n",
              " {'rouge1': Score(precision=1.0, recall=0.2103960396039604, fmeasure=0.3476482617586912),\n",
              "  'rougeL': Score(precision=1.0, recall=0.2103960396039604, fmeasure=0.3476482617586912)},\n",
              " {'rouge1': Score(precision=1.0, recall=0.22084367245657568, fmeasure=0.3617886178861789),\n",
              "  'rougeL': Score(precision=0.6404494382022472, recall=0.141439205955335, fmeasure=0.23170731707317074)},\n",
              " {'rouge1': Score(precision=1.0, recall=0.24585635359116023, fmeasure=0.3946784922394679),\n",
              "  'rougeL': Score(precision=0.8089887640449438, recall=0.19889502762430938, fmeasure=0.31929046563192903)},\n",
              " {'rouge1': Score(precision=1.0, recall=0.1413237924865832, fmeasure=0.24764890282131666),\n",
              "  'rougeL': Score(precision=0.8481012658227848, recall=0.11985688729874776, fmeasure=0.21003134796238243)},\n",
              " {'rouge1': Score(precision=1.0, recall=0.2777777777777778, fmeasure=0.4347826086956522),\n",
              "  'rougeL': Score(precision=0.6736842105263158, recall=0.1871345029239766, fmeasure=0.2929061784897025)}]"
            ]
          },
          "metadata": {},
          "execution_count": 48
        }
      ]
    },
    {
      "cell_type": "code",
      "source": [
        "df['ets_nltk_email_summary'] = sentence_summary\n",
        "\n",
        "df.head(2)"
      ],
      "metadata": {
        "colab": {
          "base_uri": "https://localhost:8080/",
          "height": 208
        },
        "id": "lL_sA0JBDdvM",
        "outputId": "2661c4f2-973e-4eee-928c-87f48537441a"
      },
      "execution_count": null,
      "outputs": [
        {
          "output_type": "execute_result",
          "data": {
            "text/plain": [
              "                                               notes  \\\n",
              "0  36-year-old engineer, been working there for 5...   \n",
              "1  I often tell clients that planning for their r...   \n",
              "\n",
              "                                       email_summary country  \\\n",
              "0  Dear [Name], \\n\\nThank you for providing me wi...      UK   \n",
              "1  Dear [Client], \\n\\nThank you for your recent c...      UK   \n",
              "\n",
              "                          preprocessed_email_summary  \\\n",
              "0  dear thank providing details financial situati...   \n",
              "1  dear thank recent conversation retirement plan...   \n",
              "\n",
              "                                  preprocessed_notes  \\\n",
              "0  36yearold engineer, working 5 years, move back...   \n",
              "1  often tell clients planning retirement like pu...   \n",
              "\n",
              "                              ets_nltk_email_summary  \n",
              "0  An advisor can help you identify opportunities...  \n",
              "1  Identifying goals/priorities: In this step, we...  "
            ],
            "text/html": [
              "\n",
              "  <div id=\"df-d36aa75e-4c86-433c-a5d5-c5a7f1875070\">\n",
              "    <div class=\"colab-df-container\">\n",
              "      <div>\n",
              "<style scoped>\n",
              "    .dataframe tbody tr th:only-of-type {\n",
              "        vertical-align: middle;\n",
              "    }\n",
              "\n",
              "    .dataframe tbody tr th {\n",
              "        vertical-align: top;\n",
              "    }\n",
              "\n",
              "    .dataframe thead th {\n",
              "        text-align: right;\n",
              "    }\n",
              "</style>\n",
              "<table border=\"1\" class=\"dataframe\">\n",
              "  <thead>\n",
              "    <tr style=\"text-align: right;\">\n",
              "      <th></th>\n",
              "      <th>notes</th>\n",
              "      <th>email_summary</th>\n",
              "      <th>country</th>\n",
              "      <th>preprocessed_email_summary</th>\n",
              "      <th>preprocessed_notes</th>\n",
              "      <th>ets_nltk_email_summary</th>\n",
              "    </tr>\n",
              "  </thead>\n",
              "  <tbody>\n",
              "    <tr>\n",
              "      <th>0</th>\n",
              "      <td>36-year-old engineer, been working there for 5...</td>\n",
              "      <td>Dear [Name], \\n\\nThank you for providing me wi...</td>\n",
              "      <td>UK</td>\n",
              "      <td>dear thank providing details financial situati...</td>\n",
              "      <td>36yearold engineer, working 5 years, move back...</td>\n",
              "      <td>An advisor can help you identify opportunities...</td>\n",
              "    </tr>\n",
              "    <tr>\n",
              "      <th>1</th>\n",
              "      <td>I often tell clients that planning for their r...</td>\n",
              "      <td>Dear [Client], \\n\\nThank you for your recent c...</td>\n",
              "      <td>UK</td>\n",
              "      <td>dear thank recent conversation retirement plan...</td>\n",
              "      <td>often tell clients planning retirement like pu...</td>\n",
              "      <td>Identifying goals/priorities: In this step, we...</td>\n",
              "    </tr>\n",
              "  </tbody>\n",
              "</table>\n",
              "</div>\n",
              "      <button class=\"colab-df-convert\" onclick=\"convertToInteractive('df-d36aa75e-4c86-433c-a5d5-c5a7f1875070')\"\n",
              "              title=\"Convert this dataframe to an interactive table.\"\n",
              "              style=\"display:none;\">\n",
              "        \n",
              "  <svg xmlns=\"http://www.w3.org/2000/svg\" height=\"24px\"viewBox=\"0 0 24 24\"\n",
              "       width=\"24px\">\n",
              "    <path d=\"M0 0h24v24H0V0z\" fill=\"none\"/>\n",
              "    <path d=\"M18.56 5.44l.94 2.06.94-2.06 2.06-.94-2.06-.94-.94-2.06-.94 2.06-2.06.94zm-11 1L8.5 8.5l.94-2.06 2.06-.94-2.06-.94L8.5 2.5l-.94 2.06-2.06.94zm10 10l.94 2.06.94-2.06 2.06-.94-2.06-.94-.94-2.06-.94 2.06-2.06.94z\"/><path d=\"M17.41 7.96l-1.37-1.37c-.4-.4-.92-.59-1.43-.59-.52 0-1.04.2-1.43.59L10.3 9.45l-7.72 7.72c-.78.78-.78 2.05 0 2.83L4 21.41c.39.39.9.59 1.41.59.51 0 1.02-.2 1.41-.59l7.78-7.78 2.81-2.81c.8-.78.8-2.07 0-2.86zM5.41 20L4 18.59l7.72-7.72 1.47 1.35L5.41 20z\"/>\n",
              "  </svg>\n",
              "      </button>\n",
              "      \n",
              "  <style>\n",
              "    .colab-df-container {\n",
              "      display:flex;\n",
              "      flex-wrap:wrap;\n",
              "      gap: 12px;\n",
              "    }\n",
              "\n",
              "    .colab-df-convert {\n",
              "      background-color: #E8F0FE;\n",
              "      border: none;\n",
              "      border-radius: 50%;\n",
              "      cursor: pointer;\n",
              "      display: none;\n",
              "      fill: #1967D2;\n",
              "      height: 32px;\n",
              "      padding: 0 0 0 0;\n",
              "      width: 32px;\n",
              "    }\n",
              "\n",
              "    .colab-df-convert:hover {\n",
              "      background-color: #E2EBFA;\n",
              "      box-shadow: 0px 1px 2px rgba(60, 64, 67, 0.3), 0px 1px 3px 1px rgba(60, 64, 67, 0.15);\n",
              "      fill: #174EA6;\n",
              "    }\n",
              "\n",
              "    [theme=dark] .colab-df-convert {\n",
              "      background-color: #3B4455;\n",
              "      fill: #D2E3FC;\n",
              "    }\n",
              "\n",
              "    [theme=dark] .colab-df-convert:hover {\n",
              "      background-color: #434B5C;\n",
              "      box-shadow: 0px 1px 3px 1px rgba(0, 0, 0, 0.15);\n",
              "      filter: drop-shadow(0px 1px 2px rgba(0, 0, 0, 0.3));\n",
              "      fill: #FFFFFF;\n",
              "    }\n",
              "  </style>\n",
              "\n",
              "      <script>\n",
              "        const buttonEl =\n",
              "          document.querySelector('#df-d36aa75e-4c86-433c-a5d5-c5a7f1875070 button.colab-df-convert');\n",
              "        buttonEl.style.display =\n",
              "          google.colab.kernel.accessAllowed ? 'block' : 'none';\n",
              "\n",
              "        async function convertToInteractive(key) {\n",
              "          const element = document.querySelector('#df-d36aa75e-4c86-433c-a5d5-c5a7f1875070');\n",
              "          const dataTable =\n",
              "            await google.colab.kernel.invokeFunction('convertToInteractive',\n",
              "                                                     [key], {});\n",
              "          if (!dataTable) return;\n",
              "\n",
              "          const docLinkHtml = 'Like what you see? Visit the ' +\n",
              "            '<a target=\"_blank\" href=https://colab.research.google.com/notebooks/data_table.ipynb>data table notebook</a>'\n",
              "            + ' to learn more about interactive tables.';\n",
              "          element.innerHTML = '';\n",
              "          dataTable['output_type'] = 'display_data';\n",
              "          await google.colab.output.renderOutput(dataTable, element);\n",
              "          const docLink = document.createElement('div');\n",
              "          docLink.innerHTML = docLinkHtml;\n",
              "          element.appendChild(docLink);\n",
              "        }\n",
              "      </script>\n",
              "    </div>\n",
              "  </div>\n",
              "  "
            ]
          },
          "metadata": {},
          "execution_count": 49
        }
      ]
    },
    {
      "cell_type": "markdown",
      "source": [
        "Gensim implementation of TextRank extractive summarization algorithm\n",
        "\n",
        "\n"
      ],
      "metadata": {
        "id": "GsjzGTc8kwu2"
      }
    },
    {
      "cell_type": "code",
      "source": [
        "import gensim\n",
        "from gensim.summarization import summarize\n",
        "\n",
        "def text_rank(text):\n",
        "  # Summarization when both ratio & word count is given\n",
        "  summary=summarize(text, ratio = 0.2)\n",
        "  return summary\n",
        "\n",
        "txtrank_email_summary=[]\n",
        "\n",
        "for i in tqdm(range(df.shape[0])):\n",
        "  txtrank_email_summary.append(text_rank(df['email_summary'].values[i]))\n",
        "  \n"
      ],
      "metadata": {
        "colab": {
          "base_uri": "https://localhost:8080/"
        },
        "id": "YBkrEId2kxr9",
        "outputId": "dac26599-ebf2-4836-8f1e-3241b9461cc2"
      },
      "execution_count": null,
      "outputs": [
        {
          "output_type": "stream",
          "name": "stderr",
          "text": [
            "100%|██████████| 25/25 [00:00<00:00, 32.33it/s]\n"
          ]
        }
      ]
    },
    {
      "cell_type": "code",
      "source": [
        "df['txtrank_email_summary'] = txtrank_email_summary"
      ],
      "metadata": {
        "id": "Ldfwy0S8mN8O"
      },
      "execution_count": null,
      "outputs": []
    },
    {
      "cell_type": "code",
      "source": [
        "df.head(2)"
      ],
      "metadata": {
        "colab": {
          "base_uri": "https://localhost:8080/",
          "height": 260
        },
        "id": "wR_PFoi4nfTh",
        "outputId": "8bdbde16-b547-48e5-8deb-d4bd8d3f2388"
      },
      "execution_count": null,
      "outputs": [
        {
          "output_type": "execute_result",
          "data": {
            "text/plain": [
              "                                               notes  \\\n",
              "0  36-year-old engineer, been working there for 5...   \n",
              "1  I often tell clients that planning for their r...   \n",
              "\n",
              "                                       email_summary country  \\\n",
              "0  Dear [Name], \\n\\nThank you for providing me wi...      UK   \n",
              "1  Dear [Client], \\n\\nThank you for your recent c...      UK   \n",
              "\n",
              "                          preprocessed_email_summary  \\\n",
              "0  dear thank providing details financial situati...   \n",
              "1  dear thank recent conversation retirement plan...   \n",
              "\n",
              "                                  preprocessed_notes  \\\n",
              "0  36yearold engineer, working 5 years, move back...   \n",
              "1  often tell clients planning retirement like pu...   \n",
              "\n",
              "                              ets_nltk_email_summary  \\\n",
              "0  An advisor can help you identify opportunities...   \n",
              "1  Identifying goals/priorities: In this step, we...   \n",
              "\n",
              "                               txtrank_email_summary  \n",
              "0  Given your situation, I would like to offer th...  \n",
              "1  Understanding the client: This step involves g...  "
            ],
            "text/html": [
              "\n",
              "  <div id=\"df-4d37f114-c7d1-44f6-83bb-3433642d8944\">\n",
              "    <div class=\"colab-df-container\">\n",
              "      <div>\n",
              "<style scoped>\n",
              "    .dataframe tbody tr th:only-of-type {\n",
              "        vertical-align: middle;\n",
              "    }\n",
              "\n",
              "    .dataframe tbody tr th {\n",
              "        vertical-align: top;\n",
              "    }\n",
              "\n",
              "    .dataframe thead th {\n",
              "        text-align: right;\n",
              "    }\n",
              "</style>\n",
              "<table border=\"1\" class=\"dataframe\">\n",
              "  <thead>\n",
              "    <tr style=\"text-align: right;\">\n",
              "      <th></th>\n",
              "      <th>notes</th>\n",
              "      <th>email_summary</th>\n",
              "      <th>country</th>\n",
              "      <th>preprocessed_email_summary</th>\n",
              "      <th>preprocessed_notes</th>\n",
              "      <th>ets_nltk_email_summary</th>\n",
              "      <th>txtrank_email_summary</th>\n",
              "    </tr>\n",
              "  </thead>\n",
              "  <tbody>\n",
              "    <tr>\n",
              "      <th>0</th>\n",
              "      <td>36-year-old engineer, been working there for 5...</td>\n",
              "      <td>Dear [Name], \\n\\nThank you for providing me wi...</td>\n",
              "      <td>UK</td>\n",
              "      <td>dear thank providing details financial situati...</td>\n",
              "      <td>36yearold engineer, working 5 years, move back...</td>\n",
              "      <td>An advisor can help you identify opportunities...</td>\n",
              "      <td>Given your situation, I would like to offer th...</td>\n",
              "    </tr>\n",
              "    <tr>\n",
              "      <th>1</th>\n",
              "      <td>I often tell clients that planning for their r...</td>\n",
              "      <td>Dear [Client], \\n\\nThank you for your recent c...</td>\n",
              "      <td>UK</td>\n",
              "      <td>dear thank recent conversation retirement plan...</td>\n",
              "      <td>often tell clients planning retirement like pu...</td>\n",
              "      <td>Identifying goals/priorities: In this step, we...</td>\n",
              "      <td>Understanding the client: This step involves g...</td>\n",
              "    </tr>\n",
              "  </tbody>\n",
              "</table>\n",
              "</div>\n",
              "      <button class=\"colab-df-convert\" onclick=\"convertToInteractive('df-4d37f114-c7d1-44f6-83bb-3433642d8944')\"\n",
              "              title=\"Convert this dataframe to an interactive table.\"\n",
              "              style=\"display:none;\">\n",
              "        \n",
              "  <svg xmlns=\"http://www.w3.org/2000/svg\" height=\"24px\"viewBox=\"0 0 24 24\"\n",
              "       width=\"24px\">\n",
              "    <path d=\"M0 0h24v24H0V0z\" fill=\"none\"/>\n",
              "    <path d=\"M18.56 5.44l.94 2.06.94-2.06 2.06-.94-2.06-.94-.94-2.06-.94 2.06-2.06.94zm-11 1L8.5 8.5l.94-2.06 2.06-.94-2.06-.94L8.5 2.5l-.94 2.06-2.06.94zm10 10l.94 2.06.94-2.06 2.06-.94-2.06-.94-.94-2.06-.94 2.06-2.06.94z\"/><path d=\"M17.41 7.96l-1.37-1.37c-.4-.4-.92-.59-1.43-.59-.52 0-1.04.2-1.43.59L10.3 9.45l-7.72 7.72c-.78.78-.78 2.05 0 2.83L4 21.41c.39.39.9.59 1.41.59.51 0 1.02-.2 1.41-.59l7.78-7.78 2.81-2.81c.8-.78.8-2.07 0-2.86zM5.41 20L4 18.59l7.72-7.72 1.47 1.35L5.41 20z\"/>\n",
              "  </svg>\n",
              "      </button>\n",
              "      \n",
              "  <style>\n",
              "    .colab-df-container {\n",
              "      display:flex;\n",
              "      flex-wrap:wrap;\n",
              "      gap: 12px;\n",
              "    }\n",
              "\n",
              "    .colab-df-convert {\n",
              "      background-color: #E8F0FE;\n",
              "      border: none;\n",
              "      border-radius: 50%;\n",
              "      cursor: pointer;\n",
              "      display: none;\n",
              "      fill: #1967D2;\n",
              "      height: 32px;\n",
              "      padding: 0 0 0 0;\n",
              "      width: 32px;\n",
              "    }\n",
              "\n",
              "    .colab-df-convert:hover {\n",
              "      background-color: #E2EBFA;\n",
              "      box-shadow: 0px 1px 2px rgba(60, 64, 67, 0.3), 0px 1px 3px 1px rgba(60, 64, 67, 0.15);\n",
              "      fill: #174EA6;\n",
              "    }\n",
              "\n",
              "    [theme=dark] .colab-df-convert {\n",
              "      background-color: #3B4455;\n",
              "      fill: #D2E3FC;\n",
              "    }\n",
              "\n",
              "    [theme=dark] .colab-df-convert:hover {\n",
              "      background-color: #434B5C;\n",
              "      box-shadow: 0px 1px 3px 1px rgba(0, 0, 0, 0.15);\n",
              "      filter: drop-shadow(0px 1px 2px rgba(0, 0, 0, 0.3));\n",
              "      fill: #FFFFFF;\n",
              "    }\n",
              "  </style>\n",
              "\n",
              "      <script>\n",
              "        const buttonEl =\n",
              "          document.querySelector('#df-4d37f114-c7d1-44f6-83bb-3433642d8944 button.colab-df-convert');\n",
              "        buttonEl.style.display =\n",
              "          google.colab.kernel.accessAllowed ? 'block' : 'none';\n",
              "\n",
              "        async function convertToInteractive(key) {\n",
              "          const element = document.querySelector('#df-4d37f114-c7d1-44f6-83bb-3433642d8944');\n",
              "          const dataTable =\n",
              "            await google.colab.kernel.invokeFunction('convertToInteractive',\n",
              "                                                     [key], {});\n",
              "          if (!dataTable) return;\n",
              "\n",
              "          const docLinkHtml = 'Like what you see? Visit the ' +\n",
              "            '<a target=\"_blank\" href=https://colab.research.google.com/notebooks/data_table.ipynb>data table notebook</a>'\n",
              "            + ' to learn more about interactive tables.';\n",
              "          element.innerHTML = '';\n",
              "          dataTable['output_type'] = 'display_data';\n",
              "          await google.colab.output.renderOutput(dataTable, element);\n",
              "          const docLink = document.createElement('div');\n",
              "          docLink.innerHTML = docLinkHtml;\n",
              "          element.appendChild(docLink);\n",
              "        }\n",
              "      </script>\n",
              "    </div>\n",
              "  </div>\n",
              "  "
            ]
          },
          "metadata": {},
          "execution_count": 52
        }
      ]
    },
    {
      "cell_type": "code",
      "source": [
        "from rouge_score import rouge_scorer\n",
        "scores = []\n",
        "for i in tqdm(range(df.shape[0])):\n",
        "  scorer = rouge_scorer.RougeScorer(['rouge1', 'rougeL'], use_stemmer=True)\n",
        "  scores.append(scorer.score(df['email_summary'].values[i], df['txtrank_email_summary'].values[i]))\n"
      ],
      "metadata": {
        "colab": {
          "base_uri": "https://localhost:8080/"
        },
        "id": "mpDHhsSltIep",
        "outputId": "deedc127-3ac2-4c6c-b7e1-cbea0572a96f"
      },
      "execution_count": null,
      "outputs": [
        {
          "output_type": "stream",
          "name": "stderr",
          "text": [
            "100%|██████████| 25/25 [00:01<00:00, 17.68it/s]\n"
          ]
        }
      ]
    },
    {
      "cell_type": "code",
      "source": [
        "scores"
      ],
      "metadata": {
        "colab": {
          "base_uri": "https://localhost:8080/"
        },
        "id": "3ZzI1h5xyKel",
        "outputId": "76103e65-3e33-4f0c-97bd-81492e78adb3"
      },
      "execution_count": null,
      "outputs": [
        {
          "output_type": "execute_result",
          "data": {
            "text/plain": [
              "[{'rouge1': Score(precision=1.0, recall=0.3191489361702128, fmeasure=0.48387096774193555),\n",
              "  'rougeL': Score(precision=1.0, recall=0.3191489361702128, fmeasure=0.48387096774193555)},\n",
              " {'rouge1': Score(precision=1.0, recall=0.2722063037249284, fmeasure=0.4279279279279279),\n",
              "  'rougeL': Score(precision=1.0, recall=0.2722063037249284, fmeasure=0.4279279279279279)},\n",
              " {'rouge1': Score(precision=1.0, recall=0.24213836477987422, fmeasure=0.38987341772151896),\n",
              "  'rougeL': Score(precision=1.0, recall=0.24213836477987422, fmeasure=0.38987341772151896)},\n",
              " {'rouge1': Score(precision=1.0, recall=0.28721174004192873, fmeasure=0.4462540716612378),\n",
              "  'rougeL': Score(precision=1.0, recall=0.28721174004192873, fmeasure=0.4462540716612378)},\n",
              " {'rouge1': Score(precision=1.0, recall=0.30111524163568776, fmeasure=0.4628571428571429),\n",
              "  'rougeL': Score(precision=1.0, recall=0.30111524163568776, fmeasure=0.4628571428571429)},\n",
              " {'rouge1': Score(precision=1.0, recall=0.2054380664652568, fmeasure=0.3408521303258145),\n",
              "  'rougeL': Score(precision=1.0, recall=0.2054380664652568, fmeasure=0.3408521303258145)},\n",
              " {'rouge1': Score(precision=1.0, recall=0.24875621890547264, fmeasure=0.39840637450199207),\n",
              "  'rougeL': Score(precision=1.0, recall=0.24875621890547264, fmeasure=0.39840637450199207)},\n",
              " {'rouge1': Score(precision=1.0, recall=0.25257731958762886, fmeasure=0.40329218106995884),\n",
              "  'rougeL': Score(precision=1.0, recall=0.25257731958762886, fmeasure=0.40329218106995884)},\n",
              " {'rouge1': Score(precision=1.0, recall=0.19642857142857142, fmeasure=0.3283582089552239),\n",
              "  'rougeL': Score(precision=1.0, recall=0.19642857142857142, fmeasure=0.3283582089552239)},\n",
              " {'rouge1': Score(precision=1.0, recall=0.20987654320987653, fmeasure=0.346938775510204),\n",
              "  'rougeL': Score(precision=1.0, recall=0.20987654320987653, fmeasure=0.346938775510204)},\n",
              " {'rouge1': Score(precision=1.0, recall=0.23885350318471338, fmeasure=0.3856041131105398),\n",
              "  'rougeL': Score(precision=1.0, recall=0.23885350318471338, fmeasure=0.3856041131105398)},\n",
              " {'rouge1': Score(precision=1.0, recall=0.26184538653366585, fmeasure=0.4150197628458498),\n",
              "  'rougeL': Score(precision=1.0, recall=0.26184538653366585, fmeasure=0.4150197628458498)},\n",
              " {'rouge1': Score(precision=1.0, recall=0.27011494252873564, fmeasure=0.4253393665158371),\n",
              "  'rougeL': Score(precision=1.0, recall=0.27011494252873564, fmeasure=0.4253393665158371)},\n",
              " {'rouge1': Score(precision=1.0, recall=0.3361581920903955, fmeasure=0.5031712473572939),\n",
              "  'rougeL': Score(precision=1.0, recall=0.3361581920903955, fmeasure=0.5031712473572939)},\n",
              " {'rouge1': Score(precision=1.0, recall=0.2782152230971129, fmeasure=0.4353182751540041),\n",
              "  'rougeL': Score(precision=1.0, recall=0.2782152230971129, fmeasure=0.4353182751540041)},\n",
              " {'rouge1': Score(precision=1.0, recall=0.23391812865497075, fmeasure=0.3791469194312796),\n",
              "  'rougeL': Score(precision=1.0, recall=0.23391812865497075, fmeasure=0.3791469194312796)},\n",
              " {'rouge1': Score(precision=1.0, recall=0.248, fmeasure=0.3974358974358974),\n",
              "  'rougeL': Score(precision=1.0, recall=0.248, fmeasure=0.3974358974358974)},\n",
              " {'rouge1': Score(precision=1.0, recall=0.35390946502057613, fmeasure=0.5227963525835867),\n",
              "  'rougeL': Score(precision=1.0, recall=0.35390946502057613, fmeasure=0.5227963525835867)},\n",
              " {'rouge1': Score(precision=1.0, recall=0.22706422018348624, fmeasure=0.37009345794392523),\n",
              "  'rougeL': Score(precision=1.0, recall=0.22706422018348624, fmeasure=0.37009345794392523)},\n",
              " {'rouge1': Score(precision=1.0, recall=0.19284294234592445, fmeasure=0.32333333333333336),\n",
              "  'rougeL': Score(precision=1.0, recall=0.19284294234592445, fmeasure=0.32333333333333336)},\n",
              " {'rouge1': Score(precision=1.0, recall=0.2995049504950495, fmeasure=0.4609523809523809),\n",
              "  'rougeL': Score(precision=1.0, recall=0.2995049504950495, fmeasure=0.4609523809523809)},\n",
              " {'rouge1': Score(precision=1.0, recall=0.2456575682382134, fmeasure=0.3944223107569721),\n",
              "  'rougeL': Score(precision=1.0, recall=0.2456575682382134, fmeasure=0.3944223107569721)},\n",
              " {'rouge1': Score(precision=1.0, recall=0.2569060773480663, fmeasure=0.40879120879120884),\n",
              "  'rougeL': Score(precision=1.0, recall=0.2569060773480663, fmeasure=0.40879120879120884)},\n",
              " {'rouge1': Score(precision=1.0, recall=0.3112701252236136, fmeasure=0.4747612551159618),\n",
              "  'rougeL': Score(precision=1.0, recall=0.3112701252236136, fmeasure=0.4747612551159618)},\n",
              " {'rouge1': Score(precision=1.0, recall=0.24561403508771928, fmeasure=0.3943661971830986),\n",
              "  'rougeL': Score(precision=1.0, recall=0.24561403508771928, fmeasure=0.3943661971830986)}]"
            ]
          },
          "metadata": {},
          "execution_count": 54
        }
      ]
    },
    {
      "cell_type": "markdown",
      "source": [
        "Understanding the distribution of the sequences\n",
        "Here, we will analyze the length of the reviews and the summary to get an overall idea about the distribution of length of the text. This will help us fix the maximum length of the sequence:"
      ],
      "metadata": {
        "id": "RHgqE6Wnhm32"
      }
    },
    {
      "cell_type": "code",
      "source": [
        "import matplotlib.pyplot as plt\n",
        "notes_word_count = []\n",
        "summary_word_count = []\n",
        "\n",
        "# populate the lists with sentence lengths\n",
        "for i in df['notes']:\n",
        "      notes_word_count.append(len(i.split()))\n",
        "\n",
        "for i in df['email_summary']:\n",
        "      summary_word_count.append(len(i.split()))\n",
        "\n",
        "length_df = pd.DataFrame({'notes':notes_word_count, 'email_summary':summary_word_count})\n",
        "length_df.hist(bins = 30)\n",
        "plt.show()"
      ],
      "metadata": {
        "colab": {
          "base_uri": "https://localhost:8080/",
          "height": 281
        },
        "id": "D9INBnqt_d9K",
        "outputId": "6b1c7f93-a1f3-492c-dfa7-0e819a12c1f8"
      },
      "execution_count": null,
      "outputs": [
        {
          "output_type": "display_data",
          "data": {
            "text/plain": [
              "<Figure size 432x288 with 2 Axes>"
            ],
            "image/png": "[encoded data removed]"
          },
          "metadata": {
            "needs_background": "light"
          }
        }
      ]
    },
    {
      "cell_type": "markdown",
      "source": [
        "**Sentiment** **Analysis**"
      ],
      "metadata": {
        "id": "XZAw2x88QN8Y"
      }
    },
    {
      "cell_type": "code",
      "source": [
        "df['total_len'] = df['preprocessed_notes'].map(lambda x: len(x))"
      ],
      "metadata": {
        "id": "ZXT9HHCSF6Qj"
      },
      "execution_count": null,
      "outputs": []
    },
    {
      "cell_type": "code",
      "source": [
        "from nltk.sentiment.vader import SentimentIntensityAnalyzer\n",
        "sentiment = SentimentIntensityAnalyzer()\n",
        "df['polarity'] = df['preprocessed_notes'].map(lambda x: sentiment.polarity_scores(x))"
      ],
      "metadata": {
        "id": "ezBV3Dgsa3NR"
      },
      "execution_count": null,
      "outputs": []
    },
    {
      "cell_type": "code",
      "source": [
        "df = pd.concat([df.drop(['polarity'], axis=1), df['polarity'].apply(pd.Series)], axis=1)\n",
        "df.head(1)"
      ],
      "metadata": {
        "colab": {
          "base_uri": "https://localhost:8080/",
          "height": 249
        },
        "id": "YWb30YMQjZX7",
        "outputId": "4bdedd46-e98d-43f5-84a8-37fce6297ea7"
      },
      "execution_count": null,
      "outputs": [
        {
          "output_type": "execute_result",
          "data": {
            "text/plain": [
              "                                               notes  \\\n",
              "0  36-year-old engineer, been working there for 5...   \n",
              "\n",
              "                                       email_summary country  \\\n",
              "0  Dear [Name], \\n\\nThank you for providing me wi...      UK   \n",
              "\n",
              "                          preprocessed_email_summary  \\\n",
              "0  dear thank providing details financial situati...   \n",
              "\n",
              "                                  preprocessed_notes  \\\n",
              "0  36yearold engineer, working 5 years, move back...   \n",
              "\n",
              "                              ets_nltk_email_summary  \\\n",
              "0  An advisor can help you identify opportunities...   \n",
              "\n",
              "                               txtrank_email_summary  total_len  neg    neu  \\\n",
              "0  Given your situation, I would like to offer th...        405  0.0  0.828   \n",
              "\n",
              "     pos  compound  \n",
              "0  0.172    0.8689  "
            ],
            "text/html": [
              "\n",
              "  <div id=\"df-5e9f7714-7360-4821-a20b-0f2fcb7a280f\">\n",
              "    <div class=\"colab-df-container\">\n",
              "      <div>\n",
              "<style scoped>\n",
              "    .dataframe tbody tr th:only-of-type {\n",
              "        vertical-align: middle;\n",
              "    }\n",
              "\n",
              "    .dataframe tbody tr th {\n",
              "        vertical-align: top;\n",
              "    }\n",
              "\n",
              "    .dataframe thead th {\n",
              "        text-align: right;\n",
              "    }\n",
              "</style>\n",
              "<table border=\"1\" class=\"dataframe\">\n",
              "  <thead>\n",
              "    <tr style=\"text-align: right;\">\n",
              "      <th></th>\n",
              "      <th>notes</th>\n",
              "      <th>email_summary</th>\n",
              "      <th>country</th>\n",
              "      <th>preprocessed_email_summary</th>\n",
              "      <th>preprocessed_notes</th>\n",
              "      <th>ets_nltk_email_summary</th>\n",
              "      <th>txtrank_email_summary</th>\n",
              "      <th>total_len</th>\n",
              "      <th>neg</th>\n",
              "      <th>neu</th>\n",
              "      <th>pos</th>\n",
              "      <th>compound</th>\n",
              "    </tr>\n",
              "  </thead>\n",
              "  <tbody>\n",
              "    <tr>\n",
              "      <th>0</th>\n",
              "      <td>36-year-old engineer, been working there for 5...</td>\n",
              "      <td>Dear [Name], \\n\\nThank you for providing me wi...</td>\n",
              "      <td>UK</td>\n",
              "      <td>dear thank providing details financial situati...</td>\n",
              "      <td>36yearold engineer, working 5 years, move back...</td>\n",
              "      <td>An advisor can help you identify opportunities...</td>\n",
              "      <td>Given your situation, I would like to offer th...</td>\n",
              "      <td>405</td>\n",
              "      <td>0.0</td>\n",
              "      <td>0.828</td>\n",
              "      <td>0.172</td>\n",
              "      <td>0.8689</td>\n",
              "    </tr>\n",
              "  </tbody>\n",
              "</table>\n",
              "</div>\n",
              "      <button class=\"colab-df-convert\" onclick=\"convertToInteractive('df-5e9f7714-7360-4821-a20b-0f2fcb7a280f')\"\n",
              "              title=\"Convert this dataframe to an interactive table.\"\n",
              "              style=\"display:none;\">\n",
              "        \n",
              "  <svg xmlns=\"http://www.w3.org/2000/svg\" height=\"24px\"viewBox=\"0 0 24 24\"\n",
              "       width=\"24px\">\n",
              "    <path d=\"M0 0h24v24H0V0z\" fill=\"none\"/>\n",
              "    <path d=\"M18.56 5.44l.94 2.06.94-2.06 2.06-.94-2.06-.94-.94-2.06-.94 2.06-2.06.94zm-11 1L8.5 8.5l.94-2.06 2.06-.94-2.06-.94L8.5 2.5l-.94 2.06-2.06.94zm10 10l.94 2.06.94-2.06 2.06-.94-2.06-.94-.94-2.06-.94 2.06-2.06.94z\"/><path d=\"M17.41 7.96l-1.37-1.37c-.4-.4-.92-.59-1.43-.59-.52 0-1.04.2-1.43.59L10.3 9.45l-7.72 7.72c-.78.78-.78 2.05 0 2.83L4 21.41c.39.39.9.59 1.41.59.51 0 1.02-.2 1.41-.59l7.78-7.78 2.81-2.81c.8-.78.8-2.07 0-2.86zM5.41 20L4 18.59l7.72-7.72 1.47 1.35L5.41 20z\"/>\n",
              "  </svg>\n",
              "      </button>\n",
              "      \n",
              "  <style>\n",
              "    .colab-df-container {\n",
              "      display:flex;\n",
              "      flex-wrap:wrap;\n",
              "      gap: 12px;\n",
              "    }\n",
              "\n",
              "    .colab-df-convert {\n",
              "      background-color: #E8F0FE;\n",
              "      border: none;\n",
              "      border-radius: 50%;\n",
              "      cursor: pointer;\n",
              "      display: none;\n",
              "      fill: #1967D2;\n",
              "      height: 32px;\n",
              "      padding: 0 0 0 0;\n",
              "      width: 32px;\n",
              "    }\n",
              "\n",
              "    .colab-df-convert:hover {\n",
              "      background-color: #E2EBFA;\n",
              "      box-shadow: 0px 1px 2px rgba(60, 64, 67, 0.3), 0px 1px 3px 1px rgba(60, 64, 67, 0.15);\n",
              "      fill: #174EA6;\n",
              "    }\n",
              "\n",
              "    [theme=dark] .colab-df-convert {\n",
              "      background-color: #3B4455;\n",
              "      fill: #D2E3FC;\n",
              "    }\n",
              "\n",
              "    [theme=dark] .colab-df-convert:hover {\n",
              "      background-color: #434B5C;\n",
              "      box-shadow: 0px 1px 3px 1px rgba(0, 0, 0, 0.15);\n",
              "      filter: drop-shadow(0px 1px 2px rgba(0, 0, 0, 0.3));\n",
              "      fill: #FFFFFF;\n",
              "    }\n",
              "  </style>\n",
              "\n",
              "      <script>\n",
              "        const buttonEl =\n",
              "          document.querySelector('#df-5e9f7714-7360-4821-a20b-0f2fcb7a280f button.colab-df-convert');\n",
              "        buttonEl.style.display =\n",
              "          google.colab.kernel.accessAllowed ? 'block' : 'none';\n",
              "\n",
              "        async function convertToInteractive(key) {\n",
              "          const element = document.querySelector('#df-5e9f7714-7360-4821-a20b-0f2fcb7a280f');\n",
              "          const dataTable =\n",
              "            await google.colab.kernel.invokeFunction('convertToInteractive',\n",
              "                                                     [key], {});\n",
              "          if (!dataTable) return;\n",
              "\n",
              "          const docLinkHtml = 'Like what you see? Visit the ' +\n",
              "            '<a target=\"_blank\" href=https://colab.research.google.com/notebooks/data_table.ipynb>data table notebook</a>'\n",
              "            + ' to learn more about interactive tables.';\n",
              "          element.innerHTML = '';\n",
              "          dataTable['output_type'] = 'display_data';\n",
              "          await google.colab.output.renderOutput(dataTable, element);\n",
              "          const docLink = document.createElement('div');\n",
              "          docLink.innerHTML = docLinkHtml;\n",
              "          element.appendChild(docLink);\n",
              "        }\n",
              "      </script>\n",
              "    </div>\n",
              "  </div>\n",
              "  "
            ]
          },
          "metadata": {},
          "execution_count": 59
        }
      ]
    },
    {
      "cell_type": "code",
      "source": [
        "df[[\"total_len\"]].describe()"
      ],
      "metadata": {
        "colab": {
          "base_uri": "https://localhost:8080/",
          "height": 300
        },
        "id": "q8WyOLPXmM6z",
        "outputId": "7a02e757-4404-4430-cdee-96ff1856fec3"
      },
      "execution_count": null,
      "outputs": [
        {
          "output_type": "execute_result",
          "data": {
            "text/plain": [
              "         total_len\n",
              "count    25.000000\n",
              "mean    438.960000\n",
              "std     379.077881\n",
              "min      43.000000\n",
              "25%     230.000000\n",
              "50%     268.000000\n",
              "75%     405.000000\n",
              "max    1438.000000"
            ],
            "text/html": [
              "\n",
              "  <div id=\"df-725a7670-85fb-4e00-94ba-a80f4c9b79f7\">\n",
              "    <div class=\"colab-df-container\">\n",
              "      <div>\n",
              "<style scoped>\n",
              "    .dataframe tbody tr th:only-of-type {\n",
              "        vertical-align: middle;\n",
              "    }\n",
              "\n",
              "    .dataframe tbody tr th {\n",
              "        vertical-align: top;\n",
              "    }\n",
              "\n",
              "    .dataframe thead th {\n",
              "        text-align: right;\n",
              "    }\n",
              "</style>\n",
              "<table border=\"1\" class=\"dataframe\">\n",
              "  <thead>\n",
              "    <tr style=\"text-align: right;\">\n",
              "      <th></th>\n",
              "      <th>total_len</th>\n",
              "    </tr>\n",
              "  </thead>\n",
              "  <tbody>\n",
              "    <tr>\n",
              "      <th>count</th>\n",
              "      <td>25.000000</td>\n",
              "    </tr>\n",
              "    <tr>\n",
              "      <th>mean</th>\n",
              "      <td>438.960000</td>\n",
              "    </tr>\n",
              "    <tr>\n",
              "      <th>std</th>\n",
              "      <td>379.077881</td>\n",
              "    </tr>\n",
              "    <tr>\n",
              "      <th>min</th>\n",
              "      <td>43.000000</td>\n",
              "    </tr>\n",
              "    <tr>\n",
              "      <th>25%</th>\n",
              "      <td>230.000000</td>\n",
              "    </tr>\n",
              "    <tr>\n",
              "      <th>50%</th>\n",
              "      <td>268.000000</td>\n",
              "    </tr>\n",
              "    <tr>\n",
              "      <th>75%</th>\n",
              "      <td>405.000000</td>\n",
              "    </tr>\n",
              "    <tr>\n",
              "      <th>max</th>\n",
              "      <td>1438.000000</td>\n",
              "    </tr>\n",
              "  </tbody>\n",
              "</table>\n",
              "</div>\n",
              "      <button class=\"colab-df-convert\" onclick=\"convertToInteractive('df-725a7670-85fb-4e00-94ba-a80f4c9b79f7')\"\n",
              "              title=\"Convert this dataframe to an interactive table.\"\n",
              "              style=\"display:none;\">\n",
              "        \n",
              "  <svg xmlns=\"http://www.w3.org/2000/svg\" height=\"24px\"viewBox=\"0 0 24 24\"\n",
              "       width=\"24px\">\n",
              "    <path d=\"M0 0h24v24H0V0z\" fill=\"none\"/>\n",
              "    <path d=\"M18.56 5.44l.94 2.06.94-2.06 2.06-.94-2.06-.94-.94-2.06-.94 2.06-2.06.94zm-11 1L8.5 8.5l.94-2.06 2.06-.94-2.06-.94L8.5 2.5l-.94 2.06-2.06.94zm10 10l.94 2.06.94-2.06 2.06-.94-2.06-.94-.94-2.06-.94 2.06-2.06.94z\"/><path d=\"M17.41 7.96l-1.37-1.37c-.4-.4-.92-.59-1.43-.59-.52 0-1.04.2-1.43.59L10.3 9.45l-7.72 7.72c-.78.78-.78 2.05 0 2.83L4 21.41c.39.39.9.59 1.41.59.51 0 1.02-.2 1.41-.59l7.78-7.78 2.81-2.81c.8-.78.8-2.07 0-2.86zM5.41 20L4 18.59l7.72-7.72 1.47 1.35L5.41 20z\"/>\n",
              "  </svg>\n",
              "      </button>\n",
              "      \n",
              "  <style>\n",
              "    .colab-df-container {\n",
              "      display:flex;\n",
              "      flex-wrap:wrap;\n",
              "      gap: 12px;\n",
              "    }\n",
              "\n",
              "    .colab-df-convert {\n",
              "      background-color: #E8F0FE;\n",
              "      border: none;\n",
              "      border-radius: 50%;\n",
              "      cursor: pointer;\n",
              "      display: none;\n",
              "      fill: #1967D2;\n",
              "      height: 32px;\n",
              "      padding: 0 0 0 0;\n",
              "      width: 32px;\n",
              "    }\n",
              "\n",
              "    .colab-df-convert:hover {\n",
              "      background-color: #E2EBFA;\n",
              "      box-shadow: 0px 1px 2px rgba(60, 64, 67, 0.3), 0px 1px 3px 1px rgba(60, 64, 67, 0.15);\n",
              "      fill: #174EA6;\n",
              "    }\n",
              "\n",
              "    [theme=dark] .colab-df-convert {\n",
              "      background-color: #3B4455;\n",
              "      fill: #D2E3FC;\n",
              "    }\n",
              "\n",
              "    [theme=dark] .colab-df-convert:hover {\n",
              "      background-color: #434B5C;\n",
              "      box-shadow: 0px 1px 3px 1px rgba(0, 0, 0, 0.15);\n",
              "      filter: drop-shadow(0px 1px 2px rgba(0, 0, 0, 0.3));\n",
              "      fill: #FFFFFF;\n",
              "    }\n",
              "  </style>\n",
              "\n",
              "      <script>\n",
              "        const buttonEl =\n",
              "          document.querySelector('#df-725a7670-85fb-4e00-94ba-a80f4c9b79f7 button.colab-df-convert');\n",
              "        buttonEl.style.display =\n",
              "          google.colab.kernel.accessAllowed ? 'block' : 'none';\n",
              "\n",
              "        async function convertToInteractive(key) {\n",
              "          const element = document.querySelector('#df-725a7670-85fb-4e00-94ba-a80f4c9b79f7');\n",
              "          const dataTable =\n",
              "            await google.colab.kernel.invokeFunction('convertToInteractive',\n",
              "                                                     [key], {});\n",
              "          if (!dataTable) return;\n",
              "\n",
              "          const docLinkHtml = 'Like what you see? Visit the ' +\n",
              "            '<a target=\"_blank\" href=https://colab.research.google.com/notebooks/data_table.ipynb>data table notebook</a>'\n",
              "            + ' to learn more about interactive tables.';\n",
              "          element.innerHTML = '';\n",
              "          dataTable['output_type'] = 'display_data';\n",
              "          await google.colab.output.renderOutput(dataTable, element);\n",
              "          const docLink = document.createElement('div');\n",
              "          docLink.innerHTML = docLinkHtml;\n",
              "          element.appendChild(docLink);\n",
              "        }\n",
              "      </script>\n",
              "    </div>\n",
              "  </div>\n",
              "  "
            ]
          },
          "metadata": {},
          "execution_count": 60
        }
      ]
    },
    {
      "cell_type": "markdown",
      "source": [
        "**Based on sentiment score make classification**"
      ],
      "metadata": {
        "id": "xHNwGtmZQSiR"
      }
    },
    {
      "cell_type": "code",
      "source": [
        "df['sentiment'] = df['compound'].apply(lambda x: 'positive' if x >0 else 'neutral' if x==0 else 'negative')\n",
        "df.head(1)"
      ],
      "metadata": {
        "colab": {
          "base_uri": "https://localhost:8080/",
          "height": 249
        },
        "id": "2WeQIPxYQzrM",
        "outputId": "5db01f3d-51b3-42fc-b21e-efa362a4b642"
      },
      "execution_count": null,
      "outputs": [
        {
          "output_type": "execute_result",
          "data": {
            "text/plain": [
              "                                               notes  \\\n",
              "0  36-year-old engineer, been working there for 5...   \n",
              "\n",
              "                                       email_summary country  \\\n",
              "0  Dear [Name], \\n\\nThank you for providing me wi...      UK   \n",
              "\n",
              "                          preprocessed_email_summary  \\\n",
              "0  dear thank providing details financial situati...   \n",
              "\n",
              "                                  preprocessed_notes  \\\n",
              "0  36yearold engineer, working 5 years, move back...   \n",
              "\n",
              "                              ets_nltk_email_summary  \\\n",
              "0  An advisor can help you identify opportunities...   \n",
              "\n",
              "                               txtrank_email_summary  total_len  neg    neu  \\\n",
              "0  Given your situation, I would like to offer th...        405  0.0  0.828   \n",
              "\n",
              "     pos  compound sentiment  \n",
              "0  0.172    0.8689  positive  "
            ],
            "text/html": [
              "\n",
              "  <div id=\"df-cb6cce2a-6cf4-4b7d-ba50-02fd9e2239bb\">\n",
              "    <div class=\"colab-df-container\">\n",
              "      <div>\n",
              "<style scoped>\n",
              "    .dataframe tbody tr th:only-of-type {\n",
              "        vertical-align: middle;\n",
              "    }\n",
              "\n",
              "    .dataframe tbody tr th {\n",
              "        vertical-align: top;\n",
              "    }\n",
              "\n",
              "    .dataframe thead th {\n",
              "        text-align: right;\n",
              "    }\n",
              "</style>\n",
              "<table border=\"1\" class=\"dataframe\">\n",
              "  <thead>\n",
              "    <tr style=\"text-align: right;\">\n",
              "      <th></th>\n",
              "      <th>notes</th>\n",
              "      <th>email_summary</th>\n",
              "      <th>country</th>\n",
              "      <th>preprocessed_email_summary</th>\n",
              "      <th>preprocessed_notes</th>\n",
              "      <th>ets_nltk_email_summary</th>\n",
              "      <th>txtrank_email_summary</th>\n",
              "      <th>total_len</th>\n",
              "      <th>neg</th>\n",
              "      <th>neu</th>\n",
              "      <th>pos</th>\n",
              "      <th>compound</th>\n",
              "      <th>sentiment</th>\n",
              "    </tr>\n",
              "  </thead>\n",
              "  <tbody>\n",
              "    <tr>\n",
              "      <th>0</th>\n",
              "      <td>36-year-old engineer, been working there for 5...</td>\n",
              "      <td>Dear [Name], \\n\\nThank you for providing me wi...</td>\n",
              "      <td>UK</td>\n",
              "      <td>dear thank providing details financial situati...</td>\n",
              "      <td>36yearold engineer, working 5 years, move back...</td>\n",
              "      <td>An advisor can help you identify opportunities...</td>\n",
              "      <td>Given your situation, I would like to offer th...</td>\n",
              "      <td>405</td>\n",
              "      <td>0.0</td>\n",
              "      <td>0.828</td>\n",
              "      <td>0.172</td>\n",
              "      <td>0.8689</td>\n",
              "      <td>positive</td>\n",
              "    </tr>\n",
              "  </tbody>\n",
              "</table>\n",
              "</div>\n",
              "      <button class=\"colab-df-convert\" onclick=\"convertToInteractive('df-cb6cce2a-6cf4-4b7d-ba50-02fd9e2239bb')\"\n",
              "              title=\"Convert this dataframe to an interactive table.\"\n",
              "              style=\"display:none;\">\n",
              "        \n",
              "  <svg xmlns=\"http://www.w3.org/2000/svg\" height=\"24px\"viewBox=\"0 0 24 24\"\n",
              "       width=\"24px\">\n",
              "    <path d=\"M0 0h24v24H0V0z\" fill=\"none\"/>\n",
              "    <path d=\"M18.56 5.44l.94 2.06.94-2.06 2.06-.94-2.06-.94-.94-2.06-.94 2.06-2.06.94zm-11 1L8.5 8.5l.94-2.06 2.06-.94-2.06-.94L8.5 2.5l-.94 2.06-2.06.94zm10 10l.94 2.06.94-2.06 2.06-.94-2.06-.94-.94-2.06-.94 2.06-2.06.94z\"/><path d=\"M17.41 7.96l-1.37-1.37c-.4-.4-.92-.59-1.43-.59-.52 0-1.04.2-1.43.59L10.3 9.45l-7.72 7.72c-.78.78-.78 2.05 0 2.83L4 21.41c.39.39.9.59 1.41.59.51 0 1.02-.2 1.41-.59l7.78-7.78 2.81-2.81c.8-.78.8-2.07 0-2.86zM5.41 20L4 18.59l7.72-7.72 1.47 1.35L5.41 20z\"/>\n",
              "  </svg>\n",
              "      </button>\n",
              "      \n",
              "  <style>\n",
              "    .colab-df-container {\n",
              "      display:flex;\n",
              "      flex-wrap:wrap;\n",
              "      gap: 12px;\n",
              "    }\n",
              "\n",
              "    .colab-df-convert {\n",
              "      background-color: #E8F0FE;\n",
              "      border: none;\n",
              "      border-radius: 50%;\n",
              "      cursor: pointer;\n",
              "      display: none;\n",
              "      fill: #1967D2;\n",
              "      height: 32px;\n",
              "      padding: 0 0 0 0;\n",
              "      width: 32px;\n",
              "    }\n",
              "\n",
              "    .colab-df-convert:hover {\n",
              "      background-color: #E2EBFA;\n",
              "      box-shadow: 0px 1px 2px rgba(60, 64, 67, 0.3), 0px 1px 3px 1px rgba(60, 64, 67, 0.15);\n",
              "      fill: #174EA6;\n",
              "    }\n",
              "\n",
              "    [theme=dark] .colab-df-convert {\n",
              "      background-color: #3B4455;\n",
              "      fill: #D2E3FC;\n",
              "    }\n",
              "\n",
              "    [theme=dark] .colab-df-convert:hover {\n",
              "      background-color: #434B5C;\n",
              "      box-shadow: 0px 1px 3px 1px rgba(0, 0, 0, 0.15);\n",
              "      filter: drop-shadow(0px 1px 2px rgba(0, 0, 0, 0.3));\n",
              "      fill: #FFFFFF;\n",
              "    }\n",
              "  </style>\n",
              "\n",
              "      <script>\n",
              "        const buttonEl =\n",
              "          document.querySelector('#df-cb6cce2a-6cf4-4b7d-ba50-02fd9e2239bb button.colab-df-convert');\n",
              "        buttonEl.style.display =\n",
              "          google.colab.kernel.accessAllowed ? 'block' : 'none';\n",
              "\n",
              "        async function convertToInteractive(key) {\n",
              "          const element = document.querySelector('#df-cb6cce2a-6cf4-4b7d-ba50-02fd9e2239bb');\n",
              "          const dataTable =\n",
              "            await google.colab.kernel.invokeFunction('convertToInteractive',\n",
              "                                                     [key], {});\n",
              "          if (!dataTable) return;\n",
              "\n",
              "          const docLinkHtml = 'Like what you see? Visit the ' +\n",
              "            '<a target=\"_blank\" href=https://colab.research.google.com/notebooks/data_table.ipynb>data table notebook</a>'\n",
              "            + ' to learn more about interactive tables.';\n",
              "          element.innerHTML = '';\n",
              "          dataTable['output_type'] = 'display_data';\n",
              "          await google.colab.output.renderOutput(dataTable, element);\n",
              "          const docLink = document.createElement('div');\n",
              "          docLink.innerHTML = docLinkHtml;\n",
              "          element.appendChild(docLink);\n",
              "        }\n",
              "      </script>\n",
              "    </div>\n",
              "  </div>\n",
              "  "
            ]
          },
          "metadata": {},
          "execution_count": 61
        }
      ]
    },
    {
      "cell_type": "code",
      "source": [
        "import seaborn as sns\n",
        "sns.countplot(y='sentiment', data=df, palette=['#b2d8d8',\"#008080\", '#db3d13']);"
      ],
      "metadata": {
        "colab": {
          "base_uri": "https://localhost:8080/",
          "height": 279
        },
        "id": "UnxpwwPap5mH",
        "outputId": "3d47460a-373e-48ee-d577-6f64b9b0c234"
      },
      "execution_count": null,
      "outputs": [
        {
          "output_type": "display_data",
          "data": {
            "text/plain": [
              "<Figure size 432x288 with 1 Axes>"
            ],
            "image/png": "[encoded data removed]"
          },
          "metadata": {
            "needs_background": "light"
          }
        }
      ]
    },
    {
      "cell_type": "code",
      "source": [
        "# Boxplot\n",
        "sns.boxplot(y='compound', \n",
        "            x='sentiment',\n",
        "            palette=['#b2d8d8',\"#008080\", '#db3d13'], \n",
        "            data=df);"
      ],
      "metadata": {
        "colab": {
          "base_uri": "https://localhost:8080/",
          "height": 279
        },
        "id": "5yv5pX3jqU_I",
        "outputId": "8545108a-fccd-4b16-af4e-d97f9256bb78"
      },
      "execution_count": null,
      "outputs": [
        {
          "output_type": "display_data",
          "data": {
            "text/plain": [
              "<Figure size 432x288 with 1 Axes>"
            ],
            "image/png": "[encoded data removed]"
          },
          "metadata": {
            "needs_background": "light"
          }
        }
      ]
    },
    {
      "cell_type": "code",
      "source": [
        "# Obtain top 10 words\n",
        "top_10 = fdist_email.most_common(10)\n",
        "\n",
        "# Create pandas series to make plotting easier\n",
        "fdist = pd.Series(dict(top_10))\n",
        "import seaborn as sns\n",
        "sns.set_theme(style=\"ticks\")\n",
        "\n",
        "sns.barplot(y=fdist.index, x=fdist.values, color='blue');   "
      ],
      "metadata": {
        "colab": {
          "base_uri": "https://localhost:8080/",
          "height": 268
        },
        "id": "sjUNPwaPqter",
        "outputId": "c607baa8-6248-4476-bd44-c46c1e3e9cd2"
      },
      "execution_count": null,
      "outputs": [
        {
          "output_type": "display_data",
          "data": {
            "text/plain": [
              "<Figure size 432x288 with 1 Axes>"
            ],
            "image/png": "[encoded data removed]"
          },
          "metadata": {}
        }
      ]
    },
    {
      "cell_type": "code",
      "source": [
        "# Obtain top 10 words\n",
        "top_10 = fdist_notes.most_common(10)\n",
        "\n",
        "# Create pandas series to make plotting easier\n",
        "fdist = pd.Series(dict(top_10))\n",
        "import seaborn as sns\n",
        "sns.set_theme(style=\"ticks\")\n",
        "\n",
        "sns.barplot(y=fdist.index, x=fdist.values, color='blue');  "
      ],
      "metadata": {
        "colab": {
          "base_uri": "https://localhost:8080/",
          "height": 268
        },
        "id": "AdJS0V8eq7Uk",
        "outputId": "f628136f-4911-42ea-d183-e6195815ea2a"
      },
      "execution_count": null,
      "outputs": [
        {
          "output_type": "display_data",
          "data": {
            "text/plain": [
              "<Figure size 432x288 with 1 Axes>"
            ],
            "image/png": "[encoded data removed]"
          },
          "metadata": {}
        }
      ]
    },
    {
      "cell_type": "markdown",
      "source": [
        "**Text** **analytics**\n"
      ],
      "metadata": {
        "id": "m_wJvDDSQH4-"
      }
    },
    {
      "cell_type": "code",
      "source": [
        "# Let's count the number of tweets by sentiments\n",
        "sentiment_counts = df.groupby(['sentiment']).size()\n",
        "print(sentiment_counts)\n",
        "\n",
        "# Let's visualize the sentiments\n",
        "fig = plt.figure(figsize=(6,6), dpi=100)\n",
        "ax = plt.subplot(111)\n",
        "sentiment_counts.plot.pie(ax=ax, autopct='%1.1f%%', startangle=270, fontsize=12, label=\"\")"
      ],
      "metadata": {
        "colab": {
          "base_uri": "https://localhost:8080/",
          "height": 593
        },
        "id": "bJt2OtRqr38f",
        "outputId": "1766f839-84da-4dfc-fd47-e94e9e1dd161"
      },
      "execution_count": null,
      "outputs": [
        {
          "output_type": "stream",
          "name": "stdout",
          "text": [
            "sentiment\n",
            "negative     4\n",
            "neutral      1\n",
            "positive    20\n",
            "dtype: int64\n"
          ]
        },
        {
          "output_type": "execute_result",
          "data": {
            "text/plain": [
              "<matplotlib.axes._subplots.AxesSubplot at 0x7f737218d8b0>"
            ]
          },
          "metadata": {},
          "execution_count": 77
        },
        {
          "output_type": "display_data",
          "data": {
            "text/plain": [
              "<Figure size 600x600 with 1 Axes>"
            ],
            "image/png": "[encoded data removed]"
          },
          "metadata": {}
        }
      ]
    },
    {
      "cell_type": "markdown",
      "source": [
        "Named Entity Recognition for both notes and email summary\n"
      ],
      "metadata": {
        "id": "WPngIT3UcW4H"
      }
    },
    {
      "cell_type": "code",
      "source": [
        "from nltk import ne_chunk\n",
        "\n",
        "for i in tqdm(range(df.shape[0])):\n",
        "  for chunk in ne_chunk(nltk.pos_tag(word_tokenize(df['notes'].values[i]))):\n",
        "        if hasattr(chunk, 'label'):\n",
        "            print(chunk.label(), ' '.join(c[0] for c in chunk))"
      ],
      "metadata": {
        "colab": {
          "base_uri": "https://localhost:8080/"
        },
        "id": "bcFngUlnauyQ",
        "outputId": "5d78add5-bf71-40bc-98ac-76634f6ef0b1"
      },
      "execution_count": null,
      "outputs": [
        {
          "output_type": "stream",
          "name": "stderr",
          "text": [
            "  4%|▍         | 1/25 [00:00<00:03,  7.55it/s]"
          ]
        },
        {
          "output_type": "stream",
          "name": "stdout",
          "text": [
            "ORGANIZATION UK\n",
            "ORGANIZATION EFA\n",
            "GPE French\n",
            "GPE French\n",
            "ORGANIZATION UK\n",
            "GPE French\n",
            "PERSON Analyze\n",
            "PERSON Monitor\n",
            "PERSON Analyze\n",
            "ORGANIZATION Create\n",
            "ORGANIZATION Investment\n",
            "GPE Name\n",
            "PERSON Scott Snedden\n"
          ]
        },
        {
          "output_type": "stream",
          "name": "stderr",
          "text": [
            " 24%|██▍       | 6/25 [00:00<00:01, 11.05it/s]"
          ]
        },
        {
          "output_type": "stream",
          "name": "stdout",
          "text": [
            "GPE Partner\n",
            "PERSON Oliver Rowland\n",
            "PERSON Will\n",
            "PERSON Value\n",
            "ORGANIZATION Rental Income\n",
            "ORGANIZATION GT\n",
            "ORGANIZATION Min\n",
            "ORGANIZATION Partners\n",
            "ORGANIZATION Partners\n",
            "ORGANIZATION EY\n",
            "PERSON Aviva\n",
            "GPE Stand\n",
            "PERSON Dafult\n",
            "PERSON Cash\n",
            "ORGANIZATION No Too\n",
            "GPE Virgin\n",
            "GPE Cash\n",
            "PERSON Income\n",
            "GPE Expenditure\n",
            "GPE Direct\n",
            "ORGANIZATION Credit\n",
            "PERSON Bonus Xmas How\n",
            "PERSON Cic\n",
            "GPE Dis\n",
            "PERSON Choice\n",
            "GPE Name\n",
            "PERSON Joe Young\n",
            "GPE Single\n",
            "GPE Note\n",
            "PERSON Helen\n",
            "PERSON Sharon Gordon\n",
            "GPE Urquharts\n",
            "PERSON Manor Care Home\n",
            "PERSON Queensferry Road\n",
            "PERSON Edinburgh\n",
            "ORGANIZATION EH4\n",
            "PERSON Tel\n",
            "PERSON Irene McGowan\n",
            "PERSON Collins Place\n",
            "PERSON Edin\n",
            "ORGANIZATION EH3\n",
            "ORGANIZATION HM324002B Helen\n",
            "PERSON Cost\n",
            "ORGANIZATION House\n",
            "ORGANIZATION Belmont Gardens\n",
            "PERSON Edinburgh\n",
            "PERSON Income\n",
            "PERSON Helen\n",
            "ORGANIZATION IHT\n",
            "ORGANIZATION NRB\n",
            "ORGANIZATION RNRB\n",
            "PERSON Subject\n",
            "ORGANIZATION NRB\n",
            "PERSON Helen\n",
            "ORGANIZATION RNRB\n",
            "ORGANIZATION IHT\n"
          ]
        },
        {
          "output_type": "stream",
          "name": "stderr",
          "text": [
            "\r 32%|███▏      | 8/25 [00:00<00:01, 10.61it/s]"
          ]
        },
        {
          "output_type": "stream",
          "name": "stdout",
          "text": [
            "PERSON Jackie\n",
            "PERSON Doug Wilson\n",
            "PERSON Alistair\n",
            "ORGANIZATION Houndog Home\n",
            "PERSON Heriot Row\n",
            "GPE Strathtay\n",
            "PERSON Aberfeldy Investment\n",
            "ORGANIZATION UBS\n",
            "PERSON Joint\n",
            "ORGANIZATION ISAs\n",
            "PERSON Income\n",
            "ORGANIZATION SJP\n",
            "ORGANIZATION CGT\n",
            "GPE Kids\n",
            "PERSON Mega\n",
            "PERSON Line\n",
            "ORGANIZATION Estate\n",
            "ORGANIZATION ADP\n",
            "GPE Maryland\n",
            "ORGANIZATION SBA\n",
            "GPE Maryland\n",
            "ORGANIZATION FBAR\n",
            "GPE Name\n",
            "PERSON Kyle Smith Age\n",
            "ORGANIZATION Marital\n",
            "GPE Children\n",
            "PERSON Ethan\n",
            "PERSON Addy\n",
            "ORGANIZATION Assets\n",
            "ORGANIZATION IRA\n",
            "GPE Brokerage\n",
            "PERSON Account\n",
            "GPE Checking\n",
            "PERSON Business\n",
            "GPE Liabilities\n",
            "PERSON Auto Loan\n",
            "ORGANIZATION Credit Cards\n",
            "GPE Goals\n",
            "GPE Maximize\n",
            "GPE Maximize\n",
            "PERSON Retire\n",
            "PERSON Travel\n"
          ]
        },
        {
          "output_type": "stream",
          "name": "stderr",
          "text": [
            " 56%|█████▌    | 14/25 [00:01<00:00, 16.38it/s]"
          ]
        },
        {
          "output_type": "stream",
          "name": "stdout",
          "text": [
            "PERSON Client\n",
            "ORGANIZATION Marital\n",
            "PERSON Herta Wright\n",
            "PERSON Retired Current Income\n",
            "PERSON Social Security Benefit\n",
            "PERSON Renter\n",
            "PERSON Monthly Rent\n",
            "PERSON Employer\n",
            "GPE Paychex\n",
            "PERSON Account Owner\n",
            "PERSON Brother\n",
            "PERSON Account Owner\n",
            "GPE Name\n",
            "PERSON Neill Gregson Age\n",
            "PERSON Planner Income\n",
            "ORGANIZATION Marital\n",
            "PERSON Married Children\n",
            "GPE Liabilities\n",
            "PERSON Goals\n",
            "GPE Name\n",
            "PERSON Sarah Johnson Age\n",
            "PERSON Manager Income\n",
            "PERSON Marital Status\n",
            "ORGANIZATION Liabilities\n",
            "PERSON Goals\n",
            "GPE Name\n",
            "PERSON Sarah Johnson Age\n",
            "PERSON Graphic Designer Income\n",
            "ORGANIZATION Marital\n",
            "PERSON Single Children\n",
            "GPE Name\n",
            "PERSON Jane Doe Age\n",
            "PERSON Manager Income\n",
            "ORGANIZATION Marital\n",
            "PERSON Single Children\n",
            "ORGANIZATION Liabilities\n",
            "PERSON Goals\n",
            "GPE Name\n",
            "PERSON Elizabeth Adams Age\n",
            "PERSON Marital Status\n",
            "GPE Children\n",
            "ORGANIZATION Liabilities\n",
            "PERSON Goals\n"
          ]
        },
        {
          "output_type": "stream",
          "name": "stderr",
          "text": [
            " 80%|████████  | 20/25 [00:01<00:00, 21.13it/s]"
          ]
        },
        {
          "output_type": "stream",
          "name": "stdout",
          "text": [
            "GPE Name\n",
            "PERSON Karen Wilson Age\n",
            "PERSON Retired Teacher Income\n",
            "PERSON Marital Status\n",
            "GPE Children\n",
            "ORGANIZATION Credit\n",
            "GPE Maintain\n",
            "GPE Name\n",
            "PERSON Michael Smith Age\n",
            "ORGANIZATION Marital\n",
            "PERSON Married Children\n",
            "GPE Name\n",
            "PERSON Maria Gonzalez Age\n",
            "PERSON School Teacher Income\n",
            "ORGANIZATION Marital\n",
            "PERSON Married Children\n",
            "ORGANIZATION Liabilities\n",
            "PERSON Goals\n",
            "GPE Name\n",
            "PERSON Sarah Johnson Age\n",
            "PERSON Manager Income\n",
            "ORGANIZATION Marital\n",
            "GPE Children\n",
            "GPE Name\n",
            "PERSON Karen Lee Age\n",
            "ORGANIZATION Marital\n",
            "PERSON Married Children\n",
            "PERSON College\n",
            "PERSON Retire\n",
            "GPE Maintain\n",
            "PERSON Travel\n",
            "GPE Name\n",
            "PERSON Karen Chen Age\n",
            "PERSON Retired Marital Status\n",
            "PERSON Married Children\n",
            "ORGANIZATION IRA\n"
          ]
        },
        {
          "output_type": "stream",
          "name": "stderr",
          "text": [
            "100%|██████████| 25/25 [00:01<00:00, 17.03it/s]"
          ]
        },
        {
          "output_type": "stream",
          "name": "stdout",
          "text": [
            "GPE Name\n",
            "PERSON Sarah Johnson Age\n",
            "PERSON Retired Teacher Income\n",
            "PERSON Marital Status\n",
            "GPE Children\n",
            "GPE Maintain\n",
            "GPE Name\n",
            "PERSON Susan Kim Age\n",
            "PERSON Retired Teacher Income\n",
            "ORGANIZATION Marital\n",
            "GPE Children\n",
            "ORGANIZATION IRA\n",
            "GPE Name\n",
            "PERSON Maria Smith Age\n",
            "PERSON Income\n",
            "PERSON Marital Status\n",
            "GPE Children\n",
            "GPE Name\n",
            "PERSON Sarah Johnson Age\n",
            "ORGANIZATION Marital\n",
            "GPE Children\n",
            "GPE Maintain\n"
          ]
        },
        {
          "output_type": "stream",
          "name": "stderr",
          "text": [
            "\n"
          ]
        }
      ]
    },
    {
      "cell_type": "code",
      "source": [
        "for i in tqdm(range(df.shape[0])):\n",
        "  for chunk in ne_chunk(nltk.pos_tag(word_tokenize(df['email_summary'].values[i]))):\n",
        "        if hasattr(chunk, 'label'):\n",
        "          print(chunk.label(), ' '.join(c[0] for c in chunk))"
      ],
      "metadata": {
        "colab": {
          "base_uri": "https://localhost:8080/"
        },
        "id": "mMoWshikcPEl",
        "outputId": "82fcefb2-4025-4968-d6e9-6b285a34b2fb"
      },
      "execution_count": null,
      "outputs": [
        {
          "output_type": "stream",
          "name": "stderr",
          "text": [
            "  8%|▊         | 2/25 [00:00<00:02,  7.77it/s]"
          ]
        },
        {
          "output_type": "stream",
          "name": "stdout",
          "text": [
            "PERSON Dear\n",
            "GPE Thank\n",
            "ORGANIZATION EFA\n",
            "GPE French\n",
            "GPE French\n",
            "ORGANIZATION UK\n",
            "GPE French\n",
            "ORGANIZATION UK\n",
            "ORGANIZATION UK\n",
            "ORGANIZATION UK\n",
            "GPE French\n",
            "GPE France\n",
            "ORGANIZATION UK\n",
            "ORGANIZATION UK\n",
            "PERSON Dear\n",
            "PERSON Client\n",
            "GPE Thank\n"
          ]
        },
        {
          "output_type": "stream",
          "name": "stderr",
          "text": [
            " 16%|█▌        | 4/25 [00:00<00:02,  7.43it/s]"
          ]
        },
        {
          "output_type": "stream",
          "name": "stdout",
          "text": [
            "PERSON Dear\n",
            "GPE Scott\n",
            "PERSON Invest\n",
            "PERSON Dear\n",
            "GPE Name\n",
            "ORGANIZATION KPMG\n",
            "PERSON Legal\n",
            "ORGANIZATION Virgin Cash\n",
            "PERSON Shares ISA\n"
          ]
        },
        {
          "output_type": "stream",
          "name": "stderr",
          "text": [
            " 24%|██▍       | 6/25 [00:00<00:02,  7.78it/s]"
          ]
        },
        {
          "output_type": "stream",
          "name": "stdout",
          "text": [
            "PERSON Dear\n",
            "PERSON Joe Young\n",
            "PERSON Joe\n",
            "PERSON Joe\n",
            "PERSON Joe\n",
            "PERSON Joe\n",
            "PERSON Joe\n",
            "GPE Subject\n",
            "PERSON Helen Sims Dear Sharon Gordon\n",
            "GPE Urquharts\n",
            "PERSON Helen Sims\n",
            "PERSON Irene McGowan\n",
            "ORGANIZATION UK\n",
            "PERSON Helen Sims\n",
            "PERSON Helen Sims\n",
            "PERSON Helen Sims\n",
            "PERSON Helen Sims\n",
            "PERSON Helen Sims\n",
            "GPE Inheritance\n",
            "ORGANIZATION IHT\n",
            "ORGANIZATION Nil Rate Band\n",
            "ORGANIZATION NRB\n",
            "ORGANIZATION Residential Nil Rate Band\n",
            "ORGANIZATION RNRB\n",
            "PERSON Helen Sims\n",
            "ORGANIZATION IHT\n",
            "PERSON Mr. Sims\n",
            "ORGANIZATION NRB\n",
            "PERSON Helen\n",
            "ORGANIZATION RNRB\n",
            "PERSON Helen Sims\n"
          ]
        },
        {
          "output_type": "stream",
          "name": "stderr",
          "text": [
            " 32%|███▏      | 8/25 [00:01<00:02,  7.06it/s]"
          ]
        },
        {
          "output_type": "stream",
          "name": "stdout",
          "text": [
            "GPE Subject\n",
            "PERSON Jackie Forbes Dear\n",
            "PERSON Jackie\n",
            "ORGANIZATION UBS\n",
            "ORGANIZATION ISAs\n",
            "PERSON Areas\n",
            "ORGANIZATION CGT\n",
            "GPE Voyant\n",
            "ORGANIZATION SJP\n",
            "ORGANIZATION SCDD\n",
            "ORGANIZATION UK\n",
            "ORGANIZATION UK\n",
            "PERSON Dear\n",
            "GPE Maryland\n",
            "GPE Columbia\n",
            "ORGANIZATION HOA\n",
            "GPE Citi\n",
            "PERSON Roth IRA\n",
            "ORGANIZATION HELOC\n",
            "ORGANIZATION SBA\n",
            "GPE Maryland\n",
            "ORGANIZATION FBAR\n",
            "GPE India\n"
          ]
        },
        {
          "output_type": "stream",
          "name": "stderr",
          "text": [
            " 40%|████      | 10/25 [00:01<00:02,  7.36it/s]"
          ]
        },
        {
          "output_type": "stream",
          "name": "stdout",
          "text": [
            "PERSON Dear\n",
            "GPE Kyle\n",
            "ORGANIZATION IRA\n",
            "ORGANIZATION IRA\n",
            "GPE Subject\n",
            "PERSON Client\n",
            "PERSON Paychex\n",
            "PERSON Obtain Medical\n",
            "ORGANIZATION Medicare\n",
            "PERSON Increase Retirement\n",
            "PERSON Paychex\n",
            "ORGANIZATION IRA\n"
          ]
        },
        {
          "output_type": "stream",
          "name": "stderr",
          "text": [
            " 48%|████▊     | 12/25 [00:01<00:01,  7.41it/s]"
          ]
        },
        {
          "output_type": "stream",
          "name": "stdout",
          "text": [
            "PERSON Dear\n",
            "PERSON Neill Gregson\n",
            "GPE Thank\n",
            "GPE Strong\n",
            "PERSON Hello\n",
            "GPE Sarah\n",
            "GPE Thank\n",
            "ORGANIZATION IRA\n"
          ]
        },
        {
          "output_type": "stream",
          "name": "stderr",
          "text": [
            " 56%|█████▌    | 14/25 [00:01<00:01,  7.22it/s]"
          ]
        },
        {
          "output_type": "stream",
          "name": "stdout",
          "text": [
            "GPE Subject\n",
            "PERSON Sarah Johnson Financial\n",
            "PERSON Sarah\n",
            "PERSON Increase\n",
            "PERSON Roth IRA\n",
            "PERSON Save\n",
            "GPE Subject\n",
            "PERSON Jane Doe Dear Jane\n",
            "PERSON Below\n",
            "ORGANIZATION IRA\n"
          ]
        },
        {
          "output_type": "stream",
          "name": "stderr",
          "text": [
            " 64%|██████▍   | 16/25 [00:02<00:01,  7.26it/s]"
          ]
        },
        {
          "output_type": "stream",
          "name": "stdout",
          "text": [
            "PERSON Dear\n",
            "PERSON Elizabeth Adams\n",
            "PERSON Dear\n",
            "GPE Karen\n"
          ]
        },
        {
          "output_type": "stream",
          "name": "stderr",
          "text": [
            "\r 72%|███████▏  | 18/25 [00:02<00:00,  8.57it/s]"
          ]
        },
        {
          "output_type": "stream",
          "name": "stdout",
          "text": [
            "GPE Subject\n",
            "PERSON Michael\n",
            "PERSON Negative Areas\n",
            "PERSON Dear\n",
            "GPE Maria\n",
            "ORGANIZATION IRA\n",
            "GPE Financial\n"
          ]
        },
        {
          "output_type": "stream",
          "name": "stderr",
          "text": [
            " 80%|████████  | 20/25 [00:02<00:00,  7.09it/s]"
          ]
        },
        {
          "output_type": "stream",
          "name": "stdout",
          "text": [
            "GPE Subject\n",
            "ORGANIZATION Financial\n",
            "PERSON Sarah Johnson Dear Sarah\n",
            "GPE Thank\n",
            "PERSON Below\n",
            "GPE Subject\n",
            "PERSON Karen Lee Financial\n",
            "GPE Thank\n",
            "ORGANIZATION Social\n",
            "PERSON Travel\n"
          ]
        },
        {
          "output_type": "stream",
          "name": "stderr",
          "text": [
            " 88%|████████▊ | 22/25 [00:03<00:00,  6.83it/s]"
          ]
        },
        {
          "output_type": "stream",
          "name": "stdout",
          "text": [
            "PERSON Dear\n",
            "GPE Karen\n",
            "ORGANIZATION IRA\n",
            "ORGANIZATION Investment Portfolio\n",
            "ORGANIZATION IRA\n",
            "ORGANIZATION IRA\n",
            "ORGANIZATION IRA\n",
            "PERSON Legacy Planning\n",
            "GPE Subject\n",
            "PERSON Sarah Johnson\n",
            "PERSON Sarah\n"
          ]
        },
        {
          "output_type": "stream",
          "name": "stderr",
          "text": [
            " 96%|█████████▌| 24/25 [00:03<00:00,  6.30it/s]"
          ]
        },
        {
          "output_type": "stream",
          "name": "stdout",
          "text": [
            "PERSON Dear\n",
            "GPE Susan\n",
            "GPE Thank\n",
            "ORGANIZATION IRA\n",
            "PERSON Negative Areas\n",
            "PERSON Legacy\n",
            "GPE Subject\n",
            "PERSON Maria Smith Dear Maria\n",
            "PERSON Maria\n",
            "PERSON Maria\n",
            "PERSON Review Maria\n",
            "PERSON Evaluate Maria\n",
            "PERSON Maria\n",
            "PERSON Maria\n",
            "ORGANIZATION IRA\n",
            "PERSON Maria\n"
          ]
        },
        {
          "output_type": "stream",
          "name": "stderr",
          "text": [
            "100%|██████████| 25/25 [00:03<00:00,  7.21it/s]"
          ]
        },
        {
          "output_type": "stream",
          "name": "stdout",
          "text": [
            "PERSON Dear\n",
            "PERSON Sarah Johnson\n",
            "GPE Thank\n",
            "ORGANIZATION REITs\n",
            "PERSON Plan\n"
          ]
        },
        {
          "output_type": "stream",
          "name": "stderr",
          "text": [
            "\n"
          ]
        }
      ]
    },
    {
      "cell_type": "code",
      "source": [
        "!pip install transformers"
      ],
      "metadata": {
        "colab": {
          "base_uri": "https://localhost:8080/"
        },
        "id": "Ze2cL7eUFNG4",
        "outputId": "e968f595-4d59-4f5b-dfe3-c9b278578845"
      },
      "execution_count": null,
      "outputs": [
        {
          "output_type": "stream",
          "name": "stdout",
          "text": [
            "Looking in indexes: https://pypi.org/simple, https://us-python.pkg.dev/colab-wheels/public/simple/\n",
            "Collecting transformers\n",
            "  Downloading transformers-4.26.0-py3-none-any.whl (6.3 MB)\n",
            "\u001b[2K     \u001b[90m━━━━━━━━━━━━━━━━━━━━━━━━━━━━━━━━━━━━━━━━\u001b[0m \u001b[32m6.3/6.3 MB\u001b[0m \u001b[31m30.5 MB/s\u001b[0m eta \u001b[36m0:00:00\u001b[0m\n",
            "\u001b[?25hRequirement already satisfied: regex!=2019.12.17 in /usr/local/lib/python3.8/dist-packages (from transformers) (2022.6.2)\n",
            "Requirement already satisfied: pyyaml>=5.1 in /usr/local/lib/python3.8/dist-packages (from transformers) (6.0)\n",
            "Requirement already satisfied: numpy>=1.17 in /usr/local/lib/python3.8/dist-packages (from transformers) (1.21.6)\n",
            "Collecting huggingface-hub<1.0,>=0.11.0\n",
            "  Downloading huggingface_hub-0.12.0-py3-none-any.whl (190 kB)\n",
            "\u001b[2K     \u001b[90m━━━━━━━━━━━━━━━━━━━━━━━━━━━━━━━━━━━━━━\u001b[0m \u001b[32m190.3/190.3 KB\u001b[0m \u001b[31m19.2 MB/s\u001b[0m eta \u001b[36m0:00:00\u001b[0m\n",
            "\u001b[?25hRequirement already satisfied: filelock in /usr/local/lib/python3.8/dist-packages (from transformers) (3.9.0)\n",
            "Requirement already satisfied: requests in /usr/local/lib/python3.8/dist-packages (from transformers) (2.25.1)\n",
            "Collecting tokenizers!=0.11.3,<0.14,>=0.11.1\n",
            "  Downloading tokenizers-0.13.2-cp38-cp38-manylinux_2_17_x86_64.manylinux2014_x86_64.whl (7.6 MB)\n",
            "\u001b[2K     \u001b[90m━━━━━━━━━━━━━━━━━━━━━━━━━━━━━━━━━━━━━━━━\u001b[0m \u001b[32m7.6/7.6 MB\u001b[0m \u001b[31m51.6 MB/s\u001b[0m eta \u001b[36m0:00:00\u001b[0m\n",
            "\u001b[?25hRequirement already satisfied: tqdm>=4.27 in /usr/local/lib/python3.8/dist-packages (from transformers) (4.64.1)\n",
            "Requirement already satisfied: packaging>=20.0 in /usr/local/lib/python3.8/dist-packages (from transformers) (21.3)\n",
            "Requirement already satisfied: typing-extensions>=3.7.4.3 in /usr/local/lib/python3.8/dist-packages (from huggingface-hub<1.0,>=0.11.0->transformers) (4.4.0)\n",
            "Requirement already satisfied: pyparsing!=3.0.5,>=2.0.2 in /usr/local/lib/python3.8/dist-packages (from packaging>=20.0->transformers) (3.0.9)\n",
            "Requirement already satisfied: urllib3<1.27,>=1.21.1 in /usr/local/lib/python3.8/dist-packages (from requests->transformers) (1.24.3)\n",
            "Requirement already satisfied: idna<3,>=2.5 in /usr/local/lib/python3.8/dist-packages (from requests->transformers) (2.10)\n",
            "Requirement already satisfied: chardet<5,>=3.0.2 in /usr/local/lib/python3.8/dist-packages (from requests->transformers) (4.0.0)\n",
            "Requirement already satisfied: certifi>=2017.4.17 in /usr/local/lib/python3.8/dist-packages (from requests->transformers) (2022.12.7)\n",
            "Installing collected packages: tokenizers, huggingface-hub, transformers\n",
            "Successfully installed huggingface-hub-0.12.0 tokenizers-0.13.2 transformers-4.26.0\n"
          ]
        }
      ]
    },
    {
      "cell_type": "code",
      "source": [
        "from transformers import AutoTokenizer, AutoModelForTokenClassification\n",
        "from transformers import pipeline\n",
        "\n",
        "tokenizer = AutoTokenizer.from_pretrained(\"dslim/bert-base-NER\")\n",
        "model = AutoModelForTokenClassification.from_pretrained(\"dslim/bert-base-NER\")"
      ],
      "metadata": {
        "colab": {
          "base_uri": "https://localhost:8080/",
          "height": 209,
          "referenced_widgets": [
            "c4463affc7044096a0a3ed603f29a071",
            "7e14ea1512224d4d975d5abf0f03a3fa",
            "3a230c3924df4e47a96a38bde0a3f0a4",
            "1d795c10fe6e4da58c215a5683cdfde4",
            "d7e7454919614e689170aa817672f799",
            "97e5bb472f274acabb015ad9fc6b4c73",
            "a106d3a3820d48feb11cbcd259f423d5",
            "452a2dbacb9541fb9ee0ef896e46a1b2",
            "ce0b3c36f81740cc993458760953ce82",
            "3067a391f69245afa43a1e32e1292f2e",
            "5814719b367f47e9a4730bbe17d251ba",
            "9bfaee8f3b8044e7b04f97124b555687",
            "0b4836428ed8405ab9d1d7ddb67ff76a",
            "477328fdd1d14f35895d41b02474880c",
            "2b31553993dd492481c9335adf7750e3",
            "14b7713ffd1a4ab58087158ad4c9ba49",
            "c114277a73904594a8706dd6f4f02410",
            "be4a9e6edd8a47bba5eea43e65815ade",
            "49621344385f4907867e5f6828f665cf",
            "bf970f39e76e48f5aa0d1d4a887fa5c0",
            "58e885cd26a943e0b1fa8add11579677",
            "2ff00850357343c2b23b193189e61619",
            "c7c21aaa00994b10805b922a609dc2d9",
            "2b54977328a846269cd0ea495f4f9b1c",
            "26a5a01cf70a4913b0dd9b1c5a068c6c",
            "854d70ed70c74c2b85e564a02b5ee310",
            "4c0ac5c9c95441a587c3dd5c871815e5",
            "6c651b70f3ce4332acaa732eee3cce42",
            "e95ef6e0e35749e687a92025f9601604",
            "74f50edd47f742e883e7cdb2525fec84",
            "811aa02687c841308e638e92f2cdd59c",
            "d07bb40db5f946019e40740673f864b2",
            "cddfaded9e304ee8b504bb15f860e657",
            "34609e5a7a4e4aa9a186aa8eef80ce60",
            "7801a5f5d6a74ecab70c7e7f4fc43d39",
            "a602cfdac6894d32a6e666ae11fac982",
            "2beed2be75a44f35bcc7642a6d406f2d",
            "38c233258c7846139821d3af0f1fbadf",
            "3b9dd85507294a82ac0384b4f18714ff",
            "bf28ed6f2e964ba29a78bdd7a5b02acf",
            "fff7e58d58c04d4685e5c2b56b6c78f1",
            "5868d202c1fc42e4ba0d230c35adb505",
            "33d1ec5c26474003ae22c2f1a4fe5c10",
            "8251d8212584461dbb893490db41a284",
            "5d8615e0107d40e1bff9541fb9661351",
            "a7fd162f99fb42a49bcf67bcfe80f572",
            "cf6e99cfc44b4f5b8e8c6ed123c3c1bf",
            "e2389e24c6b3470898698f8d44feb3aa",
            "f529557b15aa4e3ebae246ef4e1a010e",
            "1d43969c3a954368b910762ae3ab967a",
            "6e72a4dac6d84ae0b4add3283e9bb570",
            "e78acf1dde104ed59f17f01f8f5f6b45",
            "d62a4c4e12a34129aae96532b5a2d6fd",
            "2add7d087678400fa80cc12a255b0cb9",
            "541febc8bb104a21a40c8118f837c7db",
            "29f3f25bdd9f4950a18b7548634bdeee",
            "616778b3e53646adb0888ee097a7f35a",
            "ce682d415d2a4e3c8645129833628a05",
            "690991ee1bd14eb6b6f6a3253bd90b7f",
            "1de36f67109f4bcdac7c8ef871fc884e",
            "36b2319dfa6040be81876436a6b78d71",
            "113b4e1d3e984a7c8ee167376206d191",
            "6a4636c22c5d4bc198c740e92f0cb51b",
            "f5e29e80487647ec89dd6771b91bbf88",
            "353ffc5112d7493ebd2e759d3dd6ecc7",
            "b42b4ea975ac4eafad0b1078fd50eee3"
          ]
        },
        "id": "rEjja8X-FY-D",
        "outputId": "9e88c4a3-70e4-4068-8a5f-99f770053b4f"
      },
      "execution_count": null,
      "outputs": [
        {
          "output_type": "display_data",
          "data": {
            "text/plain": [
              "Downloading (…)okenizer_config.json:   0%|          | 0.00/59.0 [00:00<?, ?B/s]"
            ],
            "application/vnd.jupyter.widget-view+json": {
              "version_major": 2,
              "version_minor": 0,
              "model_id": "c4463affc7044096a0a3ed603f29a071"
            }
          },
          "metadata": {}
        },
        {
          "output_type": "display_data",
          "data": {
            "text/plain": [
              "Downloading (…)lve/main/config.json:   0%|          | 0.00/829 [00:00<?, ?B/s]"
            ],
            "application/vnd.jupyter.widget-view+json": {
              "version_major": 2,
              "version_minor": 0,
              "model_id": "9bfaee8f3b8044e7b04f97124b555687"
            }
          },
          "metadata": {}
        },
        {
          "output_type": "display_data",
          "data": {
            "text/plain": [
              "Downloading (…)solve/main/vocab.txt:   0%|          | 0.00/213k [00:00<?, ?B/s]"
            ],
            "application/vnd.jupyter.widget-view+json": {
              "version_major": 2,
              "version_minor": 0,
              "model_id": "c7c21aaa00994b10805b922a609dc2d9"
            }
          },
          "metadata": {}
        },
        {
          "output_type": "display_data",
          "data": {
            "text/plain": [
              "Downloading (…)in/added_tokens.json:   0%|          | 0.00/2.00 [00:00<?, ?B/s]"
            ],
            "application/vnd.jupyter.widget-view+json": {
              "version_major": 2,
              "version_minor": 0,
              "model_id": "34609e5a7a4e4aa9a186aa8eef80ce60"
            }
          },
          "metadata": {}
        },
        {
          "output_type": "display_data",
          "data": {
            "text/plain": [
              "Downloading (…)cial_tokens_map.json:   0%|          | 0.00/112 [00:00<?, ?B/s]"
            ],
            "application/vnd.jupyter.widget-view+json": {
              "version_major": 2,
              "version_minor": 0,
              "model_id": "5d8615e0107d40e1bff9541fb9661351"
            }
          },
          "metadata": {}
        },
        {
          "output_type": "display_data",
          "data": {
            "text/plain": [
              "Downloading (…)\"pytorch_model.bin\";:   0%|          | 0.00/433M [00:00<?, ?B/s]"
            ],
            "application/vnd.jupyter.widget-view+json": {
              "version_major": 2,
              "version_minor": 0,
              "model_id": "29f3f25bdd9f4950a18b7548634bdeee"
            }
          },
          "metadata": {}
        }
      ]
    },
    {
      "cell_type": "code",
      "source": [
        "\n",
        "example = \"My name is yugesh and I live in India\""
      ],
      "metadata": {
        "id": "qHOKAmTlGCPw"
      },
      "execution_count": null,
      "outputs": []
    },
    {
      "cell_type": "code",
      "source": [
        "NER = pipeline(\"ner\", model=model, tokenizer=tokenizer)\n",
        "results = NER(df['notes'][2])\n",
        "results "
      ],
      "metadata": {
        "colab": {
          "base_uri": "https://localhost:8080/"
        },
        "id": "MlDwRqzMFhXu",
        "outputId": "ca132092-8f07-4e13-dad2-314e9fd09554"
      },
      "execution_count": null,
      "outputs": [
        {
          "output_type": "execute_result",
          "data": {
            "text/plain": [
              "[{'entity': 'B-PER',\n",
              "  'score': 0.99932194,\n",
              "  'index': 3,\n",
              "  'word': 'Scott',\n",
              "  'start': 7,\n",
              "  'end': 12},\n",
              " {'entity': 'I-PER',\n",
              "  'score': 0.9991386,\n",
              "  'index': 4,\n",
              "  'word': 'S',\n",
              "  'start': 13,\n",
              "  'end': 14},\n",
              " {'entity': 'I-PER',\n",
              "  'score': 0.9973761,\n",
              "  'index': 5,\n",
              "  'word': '##ned',\n",
              "  'start': 14,\n",
              "  'end': 17},\n",
              " {'entity': 'I-PER',\n",
              "  'score': 0.79959637,\n",
              "  'index': 6,\n",
              "  'word': '##den',\n",
              "  'start': 17,\n",
              "  'end': 20}]"
            ]
          },
          "metadata": {},
          "execution_count": 105
        }
      ]
    },
    {
      "cell_type": "markdown",
      "source": [
        "Key Word Extraction"
      ],
      "metadata": {
        "id": "xnXW0DOpL5eh"
      }
    },
    {
      "cell_type": "code",
      "source": [
        "!pip3 install keybert"
      ],
      "metadata": {
        "colab": {
          "base_uri": "https://localhost:8080/"
        },
        "id": "DKFZRN6PLMha",
        "outputId": "13a8ee68-5da8-4e8d-93be-8781d77e8b89"
      },
      "execution_count": null,
      "outputs": [
        {
          "output_type": "stream",
          "name": "stdout",
          "text": [
            "Looking in indexes: https://pypi.org/simple, https://us-python.pkg.dev/colab-wheels/public/simple/\n",
            "Requirement already satisfied: keybert in /usr/local/lib/python3.8/dist-packages (0.7.0)\n",
            "Requirement already satisfied: rich>=10.4.0 in /usr/local/lib/python3.8/dist-packages (from keybert) (13.3.1)\n",
            "Requirement already satisfied: scikit-learn>=0.22.2 in /usr/local/lib/python3.8/dist-packages (from keybert) (1.0.2)\n",
            "Requirement already satisfied: sentence-transformers>=0.3.8 in /usr/local/lib/python3.8/dist-packages (from keybert) (2.2.2)\n",
            "Requirement already satisfied: numpy>=1.18.5 in /usr/local/lib/python3.8/dist-packages (from keybert) (1.21.6)\n",
            "Requirement already satisfied: pygments<3.0.0,>=2.14.0 in /usr/local/lib/python3.8/dist-packages (from rich>=10.4.0->keybert) (2.14.0)\n",
            "Requirement already satisfied: typing-extensions<5.0,>=4.0.0 in /usr/local/lib/python3.8/dist-packages (from rich>=10.4.0->keybert) (4.4.0)\n",
            "Requirement already satisfied: markdown-it-py<3.0.0,>=2.1.0 in /usr/local/lib/python3.8/dist-packages (from rich>=10.4.0->keybert) (2.1.0)\n",
            "Requirement already satisfied: joblib>=0.11 in /usr/local/lib/python3.8/dist-packages (from scikit-learn>=0.22.2->keybert) (1.2.0)\n",
            "Requirement already satisfied: threadpoolctl>=2.0.0 in /usr/local/lib/python3.8/dist-packages (from scikit-learn>=0.22.2->keybert) (3.1.0)\n",
            "Requirement already satisfied: scipy>=1.1.0 in /usr/local/lib/python3.8/dist-packages (from scikit-learn>=0.22.2->keybert) (1.7.3)\n",
            "Requirement already satisfied: torchvision in /usr/local/lib/python3.8/dist-packages (from sentence-transformers>=0.3.8->keybert) (0.14.1+cu116)\n",
            "Requirement already satisfied: torch>=1.6.0 in /usr/local/lib/python3.8/dist-packages (from sentence-transformers>=0.3.8->keybert) (1.13.1+cu116)\n",
            "Requirement already satisfied: transformers<5.0.0,>=4.6.0 in /usr/local/lib/python3.8/dist-packages (from sentence-transformers>=0.3.8->keybert) (4.26.0)\n",
            "Requirement already satisfied: sentencepiece in /usr/local/lib/python3.8/dist-packages (from sentence-transformers>=0.3.8->keybert) (0.1.97)\n",
            "Requirement already satisfied: huggingface-hub>=0.4.0 in /usr/local/lib/python3.8/dist-packages (from sentence-transformers>=0.3.8->keybert) (0.12.0)\n",
            "Requirement already satisfied: nltk in /usr/local/lib/python3.8/dist-packages (from sentence-transformers>=0.3.8->keybert) (3.7)\n",
            "Requirement already satisfied: tqdm in /usr/local/lib/python3.8/dist-packages (from sentence-transformers>=0.3.8->keybert) (4.64.1)\n",
            "Requirement already satisfied: requests in /usr/local/lib/python3.8/dist-packages (from huggingface-hub>=0.4.0->sentence-transformers>=0.3.8->keybert) (2.25.1)\n",
            "Requirement already satisfied: packaging>=20.9 in /usr/local/lib/python3.8/dist-packages (from huggingface-hub>=0.4.0->sentence-transformers>=0.3.8->keybert) (21.3)\n",
            "Requirement already satisfied: filelock in /usr/local/lib/python3.8/dist-packages (from huggingface-hub>=0.4.0->sentence-transformers>=0.3.8->keybert) (3.9.0)\n",
            "Requirement already satisfied: pyyaml>=5.1 in /usr/local/lib/python3.8/dist-packages (from huggingface-hub>=0.4.0->sentence-transformers>=0.3.8->keybert) (6.0)\n",
            "Requirement already satisfied: mdurl~=0.1 in /usr/local/lib/python3.8/dist-packages (from markdown-it-py<3.0.0,>=2.1.0->rich>=10.4.0->keybert) (0.1.2)\n",
            "Requirement already satisfied: tokenizers!=0.11.3,<0.14,>=0.11.1 in /usr/local/lib/python3.8/dist-packages (from transformers<5.0.0,>=4.6.0->sentence-transformers>=0.3.8->keybert) (0.13.2)\n",
            "Requirement already satisfied: regex!=2019.12.17 in /usr/local/lib/python3.8/dist-packages (from transformers<5.0.0,>=4.6.0->sentence-transformers>=0.3.8->keybert) (2022.6.2)\n",
            "Requirement already satisfied: click in /usr/local/lib/python3.8/dist-packages (from nltk->sentence-transformers>=0.3.8->keybert) (7.1.2)\n",
            "Requirement already satisfied: pillow!=8.3.*,>=5.3.0 in /usr/local/lib/python3.8/dist-packages (from torchvision->sentence-transformers>=0.3.8->keybert) (7.1.2)\n",
            "Requirement already satisfied: pyparsing!=3.0.5,>=2.0.2 in /usr/local/lib/python3.8/dist-packages (from packaging>=20.9->huggingface-hub>=0.4.0->sentence-transformers>=0.3.8->keybert) (3.0.9)\n",
            "Requirement already satisfied: certifi>=2017.4.17 in /usr/local/lib/python3.8/dist-packages (from requests->huggingface-hub>=0.4.0->sentence-transformers>=0.3.8->keybert) (2022.12.7)\n",
            "Requirement already satisfied: idna<3,>=2.5 in /usr/local/lib/python3.8/dist-packages (from requests->huggingface-hub>=0.4.0->sentence-transformers>=0.3.8->keybert) (2.10)\n",
            "Requirement already satisfied: urllib3<1.27,>=1.21.1 in /usr/local/lib/python3.8/dist-packages (from requests->huggingface-hub>=0.4.0->sentence-transformers>=0.3.8->keybert) (1.24.3)\n",
            "Requirement already satisfied: chardet<5,>=3.0.2 in /usr/local/lib/python3.8/dist-packages (from requests->huggingface-hub>=0.4.0->sentence-transformers>=0.3.8->keybert) (4.0.0)\n"
          ]
        }
      ]
    },
    {
      "cell_type": "code",
      "source": [
        "from keybert import KeyBERT\n",
        "kw_model = KeyBERT()\n",
        "keywords = kw_model.extract_keywords(df['notes'][10])\n",
        "print(keywords)"
      ],
      "metadata": {
        "colab": {
          "base_uri": "https://localhost:8080/"
        },
        "id": "NO7LI3n3Lenk",
        "outputId": "061cfeb1-284b-44b0-c270-350445a07f38"
      },
      "execution_count": null,
      "outputs": [
        {
          "output_type": "stream",
          "name": "stdout",
          "text": [
            "[('portfolio', 0.4048), ('isas', 0.3933), ('assets', 0.344), ('expenses', 0.3277), ('investments', 0.3168)]\n"
          ]
        }
      ]
    },
    {
      "cell_type": "markdown",
      "source": [
        "**Recommendation engine based on Named Entity Recognition**"
      ],
      "metadata": {
        "id": "kacgv79RQ2n3"
      }
    },
    {
      "cell_type": "code",
      "source": [],
      "metadata": {
        "id": "DXX7K18qLe2Y"
      },
      "execution_count": null,
      "outputs": []
    }
  ]
}